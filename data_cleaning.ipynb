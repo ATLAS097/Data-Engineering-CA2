{
 "cells": [
  {
   "cell_type": "markdown",
   "id": "249709ea",
   "metadata": {
    "colab_type": "text",
    "id": "view-in-github"
   },
   "source": [
    "<a href=\"https://colab.research.google.com/github/ATLAS097/Data-Engineering-CA2/blob/Ben/data_cleaning.ipynb\" target=\"_parent\"><img src=\"https://colab.research.google.com/assets/colab-badge.svg\" alt=\"Open In Colab\"/></a>"
   ]
  },
  {
   "cell_type": "markdown",
   "id": "a9589d3d",
   "metadata": {
    "id": "a9589d3d"
   },
   "source": [
    "# Data Cleaning\n",
    "---\n",
    "### Date: 21 July 2025\n",
    "### Class: DAAA/FT/2B/22\n",
    "### Group-5\n",
    "### Group Member: Kaung Myat San, Swam Htet Aung, Ethan Ng Wen Xian\n",
    "---"
   ]
  },
  {
   "cell_type": "markdown",
   "id": "4a868b9d",
   "metadata": {
    "id": "4a868b9d"
   },
   "source": [
    "## Loading Modules"
   ]
  },
  {
   "cell_type": "code",
   "execution_count": 1,
   "id": "f3338aec",
   "metadata": {
    "colab": {
     "base_uri": "https://localhost:8080/"
    },
    "id": "f3338aec",
    "outputId": "6b789a0b-d22f-4b7b-8297-6e08398fcedf"
   },
   "outputs": [
    {
     "name": "stdout",
     "output_type": "stream",
     "text": [
      "Defaulting to user installation because normal site-packages is not writeable\n",
      "Requirement already satisfied: python-docx in c:\\users\\kaung\\appdata\\local\\packages\\pythonsoftwarefoundation.python.3.12_qbz5n2kfra8p0\\localcache\\local-packages\\python312\\site-packages (1.2.0)\n",
      "Requirement already satisfied: lxml>=3.1.0 in c:\\users\\kaung\\appdata\\local\\packages\\pythonsoftwarefoundation.python.3.12_qbz5n2kfra8p0\\localcache\\local-packages\\python312\\site-packages (from python-docx) (6.0.0)\n",
      "Requirement already satisfied: typing_extensions>=4.9.0 in c:\\users\\kaung\\appdata\\local\\packages\\pythonsoftwarefoundation.python.3.12_qbz5n2kfra8p0\\localcache\\local-packages\\python312\\site-packages (from python-docx) (4.11.0)\n"
     ]
    }
   ],
   "source": [
    "!pip install python-docx\n",
    "\n",
    "import pandas as pd\n",
    "from docx import Document\n",
    "import warnings\n",
    "warnings.filterwarnings('ignore')"
   ]
  },
  {
   "cell_type": "markdown",
   "id": "ppprV_Z1u0ru",
   "metadata": {
    "id": "ppprV_Z1u0ru"
   },
   "source": [
    "## Loading Data\n",
    "---"
   ]
  },
  {
   "cell_type": "code",
   "execution_count": 2,
   "id": "e517f812",
   "metadata": {
    "id": "e517f812"
   },
   "outputs": [],
   "source": [
    "# read appointment.xlsx from a URL (must use the raw file link and specify engine)\n",
    "appointment = pd.read_excel(\n",
    "\t\"https://raw.githubusercontent.com/ATLAS097/Data-Engineering-CA2/main/data/appointment.xlsx\",\n",
    "\tengine=\"openpyxl\"\n",
    ")"
   ]
  },
  {
   "cell_type": "code",
   "execution_count": 3,
   "id": "f07eb0be",
   "metadata": {
    "colab": {
     "base_uri": "https://localhost:8080/",
     "height": 397
    },
    "id": "f07eb0be",
    "outputId": "4749a1f5-9f01-4182-d19a-ec58a3edcf18"
   },
   "outputs": [
    {
     "name": "stderr",
     "output_type": "stream",
     "text": [
      "'wget' is not recognized as an internal or external command,\n",
      "operable program or batch file.\n"
     ]
    },
    {
     "data": {
      "application/vnd.microsoft.datawrangler.viewer.v0+json": {
       "columns": [
        {
         "name": "index",
         "rawType": "int64",
         "type": "integer"
        },
        {
         "name": "Department",
         "rawType": "object",
         "type": "string"
        },
        {
         "name": "BuildingID",
         "rawType": "object",
         "type": "string"
        },
        {
         "name": "BuildingName",
         "rawType": "object",
         "type": "string"
        },
        {
         "name": "RoomID",
         "rawType": "object",
         "type": "string"
        },
        {
         "name": "Purpose",
         "rawType": "object",
         "type": "string"
        }
       ],
       "ref": "47a5ec96-de61-4928-9679-7b728e9228ce",
       "rows": [
        [
         "0",
         "Emergency",
         "B0001 ",
         "Emergency 1",
         " R0101",
         "Consultation Room"
        ],
        [
         "1",
         "Emergency",
         "B0001 ",
         "Emergency 1",
         " R0102",
         "Consultation Room"
        ],
        [
         "2",
         "Emergency",
         "B0001 ",
         "Emergency 1",
         " R0103",
         "Emergency Room"
        ],
        [
         "3",
         "Emergency",
         "B0001 ",
         "Emergency 1",
         " R0104",
         "Pharmacy"
        ],
        [
         "4",
         "Emergency",
         "B0001 ",
         "Emergency 1",
         " R0201",
         "Laboratory"
        ]
       ],
       "shape": {
        "columns": 5,
        "rows": 5
       }
      },
      "text/html": [
       "<div>\n",
       "<style scoped>\n",
       "    .dataframe tbody tr th:only-of-type {\n",
       "        vertical-align: middle;\n",
       "    }\n",
       "\n",
       "    .dataframe tbody tr th {\n",
       "        vertical-align: top;\n",
       "    }\n",
       "\n",
       "    .dataframe thead th {\n",
       "        text-align: right;\n",
       "    }\n",
       "</style>\n",
       "<table border=\"1\" class=\"dataframe\">\n",
       "  <thead>\n",
       "    <tr style=\"text-align: right;\">\n",
       "      <th></th>\n",
       "      <th>Department</th>\n",
       "      <th>BuildingID</th>\n",
       "      <th>BuildingName</th>\n",
       "      <th>RoomID</th>\n",
       "      <th>Purpose</th>\n",
       "    </tr>\n",
       "  </thead>\n",
       "  <tbody>\n",
       "    <tr>\n",
       "      <th>0</th>\n",
       "      <td>Emergency</td>\n",
       "      <td>B0001</td>\n",
       "      <td>Emergency 1</td>\n",
       "      <td>R0101</td>\n",
       "      <td>Consultation Room</td>\n",
       "    </tr>\n",
       "    <tr>\n",
       "      <th>1</th>\n",
       "      <td>Emergency</td>\n",
       "      <td>B0001</td>\n",
       "      <td>Emergency 1</td>\n",
       "      <td>R0102</td>\n",
       "      <td>Consultation Room</td>\n",
       "    </tr>\n",
       "    <tr>\n",
       "      <th>2</th>\n",
       "      <td>Emergency</td>\n",
       "      <td>B0001</td>\n",
       "      <td>Emergency 1</td>\n",
       "      <td>R0103</td>\n",
       "      <td>Emergency Room</td>\n",
       "    </tr>\n",
       "    <tr>\n",
       "      <th>3</th>\n",
       "      <td>Emergency</td>\n",
       "      <td>B0001</td>\n",
       "      <td>Emergency 1</td>\n",
       "      <td>R0104</td>\n",
       "      <td>Pharmacy</td>\n",
       "    </tr>\n",
       "    <tr>\n",
       "      <th>4</th>\n",
       "      <td>Emergency</td>\n",
       "      <td>B0001</td>\n",
       "      <td>Emergency 1</td>\n",
       "      <td>R0201</td>\n",
       "      <td>Laboratory</td>\n",
       "    </tr>\n",
       "  </tbody>\n",
       "</table>\n",
       "</div>"
      ],
      "text/plain": [
       "0 Department BuildingID BuildingName  RoomID            Purpose\n",
       "0  Emergency     B0001   Emergency 1   R0101  Consultation Room\n",
       "1  Emergency     B0001   Emergency 1   R0102  Consultation Room\n",
       "2  Emergency     B0001   Emergency 1   R0103     Emergency Room\n",
       "3  Emergency     B0001   Emergency 1   R0104           Pharmacy\n",
       "4  Emergency     B0001   Emergency 1   R0201         Laboratory"
      ]
     },
     "metadata": {},
     "output_type": "display_data"
    }
   ],
   "source": [
    "import os\n",
    "\n",
    "!wget https://raw.githubusercontent.com/ATLAS097/Data-Engineering-CA2/main/data/facility.docx -O facility.docx\n",
    "if os.path.exists(\"facility.docx\"):\n",
    "    document = Document(\"facility.docx\")\n",
    "elif os.path.exists(\"data/facility.docx\"):\n",
    "    document = Document(\"data/facility.docx\")\n",
    "else:\n",
    "    raise FileNotFoundError(\"facility.docx not found in current directory or data/\")\n",
    "\n",
    "table = document.tables[0]\n",
    "\n",
    "data = []\n",
    "for row in table.rows:\n",
    "    data.append([cell.text for cell in row.cells])\n",
    "\n",
    "# Convert to pandas DataFrame\n",
    "facility = pd.DataFrame(data)\n",
    "\n",
    "# Set the first row as header and remove it from data\n",
    "facility.columns = facility.iloc[0]\n",
    "facility = facility[1:].reset_index(drop=True)\n",
    "# rename BuldingID to BuildingID\n",
    "facility.rename(columns={'BuldingID': 'BuildingID'}, inplace=True)\n",
    "\n",
    "display(facility.head())"
   ]
  },
  {
   "cell_type": "code",
   "execution_count": 4,
   "id": "68c06bc6",
   "metadata": {
    "colab": {
     "base_uri": "https://localhost:8080/",
     "height": 206
    },
    "id": "68c06bc6",
    "outputId": "7469de9e-0282-44b0-8d60-f8cd071ba569"
   },
   "outputs": [
    {
     "data": {
      "application/vnd.microsoft.datawrangler.viewer.v0+json": {
       "columns": [
        {
         "name": "index",
         "rawType": "int64",
         "type": "integer"
        },
        {
         "name": "PatientID",
         "rawType": "object",
         "type": "string"
        },
        {
         "name": "Name",
         "rawType": "object",
         "type": "string"
        },
        {
         "name": "Sex",
         "rawType": "object",
         "type": "string"
        },
        {
         "name": "Contact",
         "rawType": "int64",
         "type": "integer"
        },
        {
         "name": "email",
         "rawType": "object",
         "type": "string"
        },
        {
         "name": "Address",
         "rawType": "object",
         "type": "string"
        },
        {
         "name": "DOB",
         "rawType": "datetime64[ns]",
         "type": "datetime"
        }
       ],
       "ref": "0610f8d3-4d21-47e7-aae4-cd1ca22b0e85",
       "rows": [
        [
         "0",
         "P0001",
         "Kelsey Moore",
         "female",
         "39472495",
         "kelsey.moore@gmail.com",
         "34892 Christopher Crossing, South Brooke, NH 16114",
         "1997-05-05 00:00:00"
        ],
        [
         "1",
         "P0002",
         "William Perry",
         "male",
         "15351117",
         "william.perry@hotmail.com",
         "94501 Bell Islands Suite 485, New Jessica, NJ 36060",
         "2007-06-06 00:00:00"
        ],
        [
         "2",
         "P0003",
         "Nicholas Jones",
         "male",
         "56648257",
         "nicholas.jones@yahoo.com",
         "8841 Lewis Parkways Apt. 040, South Kristen, ID 34440",
         "1975-12-04 00:00:00"
        ],
        [
         "3",
         "P0004",
         "Theresa Smith",
         "female",
         "45807263",
         "theresa.smith@outlook.com",
         "271 Jeffrey Freeway, Willisbury, ME 39487",
         "1997-09-14 00:00:00"
        ],
        [
         "4",
         "P0005",
         "Tara Kennedy",
         "female",
         "84234563",
         "tara.kennedy@protonmail.com",
         "64128 Rick Coves Apt. 284, Lake James, NJ 51964",
         "2011-02-22 00:00:00"
        ]
       ],
       "shape": {
        "columns": 7,
        "rows": 5
       }
      },
      "text/html": [
       "<div>\n",
       "<style scoped>\n",
       "    .dataframe tbody tr th:only-of-type {\n",
       "        vertical-align: middle;\n",
       "    }\n",
       "\n",
       "    .dataframe tbody tr th {\n",
       "        vertical-align: top;\n",
       "    }\n",
       "\n",
       "    .dataframe thead th {\n",
       "        text-align: right;\n",
       "    }\n",
       "</style>\n",
       "<table border=\"1\" class=\"dataframe\">\n",
       "  <thead>\n",
       "    <tr style=\"text-align: right;\">\n",
       "      <th></th>\n",
       "      <th>PatientID</th>\n",
       "      <th>Name</th>\n",
       "      <th>Sex</th>\n",
       "      <th>Contact</th>\n",
       "      <th>email</th>\n",
       "      <th>Address</th>\n",
       "      <th>DOB</th>\n",
       "    </tr>\n",
       "  </thead>\n",
       "  <tbody>\n",
       "    <tr>\n",
       "      <th>0</th>\n",
       "      <td>P0001</td>\n",
       "      <td>Kelsey Moore</td>\n",
       "      <td>female</td>\n",
       "      <td>39472495</td>\n",
       "      <td>kelsey.moore@gmail.com</td>\n",
       "      <td>34892 Christopher Crossing, South Brooke, NH 1...</td>\n",
       "      <td>1997-05-05</td>\n",
       "    </tr>\n",
       "    <tr>\n",
       "      <th>1</th>\n",
       "      <td>P0002</td>\n",
       "      <td>William Perry</td>\n",
       "      <td>male</td>\n",
       "      <td>15351117</td>\n",
       "      <td>william.perry@hotmail.com</td>\n",
       "      <td>94501 Bell Islands Suite 485, New Jessica, NJ ...</td>\n",
       "      <td>2007-06-06</td>\n",
       "    </tr>\n",
       "    <tr>\n",
       "      <th>2</th>\n",
       "      <td>P0003</td>\n",
       "      <td>Nicholas Jones</td>\n",
       "      <td>male</td>\n",
       "      <td>56648257</td>\n",
       "      <td>nicholas.jones@yahoo.com</td>\n",
       "      <td>8841 Lewis Parkways Apt. 040, South Kristen, I...</td>\n",
       "      <td>1975-12-04</td>\n",
       "    </tr>\n",
       "    <tr>\n",
       "      <th>3</th>\n",
       "      <td>P0004</td>\n",
       "      <td>Theresa Smith</td>\n",
       "      <td>female</td>\n",
       "      <td>45807263</td>\n",
       "      <td>theresa.smith@outlook.com</td>\n",
       "      <td>271 Jeffrey Freeway, Willisbury, ME 39487</td>\n",
       "      <td>1997-09-14</td>\n",
       "    </tr>\n",
       "    <tr>\n",
       "      <th>4</th>\n",
       "      <td>P0005</td>\n",
       "      <td>Tara Kennedy</td>\n",
       "      <td>female</td>\n",
       "      <td>84234563</td>\n",
       "      <td>tara.kennedy@protonmail.com</td>\n",
       "      <td>64128 Rick Coves Apt. 284, Lake James, NJ 51964</td>\n",
       "      <td>2011-02-22</td>\n",
       "    </tr>\n",
       "  </tbody>\n",
       "</table>\n",
       "</div>"
      ],
      "text/plain": [
       "  PatientID            Name     Sex   Contact                        email  \\\n",
       "0     P0001    Kelsey Moore  female  39472495       kelsey.moore@gmail.com   \n",
       "1     P0002   William Perry    male  15351117    william.perry@hotmail.com   \n",
       "2     P0003  Nicholas Jones    male  56648257     nicholas.jones@yahoo.com   \n",
       "3     P0004   Theresa Smith  female  45807263    theresa.smith@outlook.com   \n",
       "4     P0005    Tara Kennedy  female  84234563  tara.kennedy@protonmail.com   \n",
       "\n",
       "                                             Address        DOB  \n",
       "0  34892 Christopher Crossing, South Brooke, NH 1... 1997-05-05  \n",
       "1  94501 Bell Islands Suite 485, New Jessica, NJ ... 2007-06-06  \n",
       "2  8841 Lewis Parkways Apt. 040, South Kristen, I... 1975-12-04  \n",
       "3          271 Jeffrey Freeway, Willisbury, ME 39487 1997-09-14  \n",
       "4    64128 Rick Coves Apt. 284, Lake James, NJ 51964 2011-02-22  "
      ]
     },
     "execution_count": 4,
     "metadata": {},
     "output_type": "execute_result"
    }
   ],
   "source": [
    "patient = pd.read_excel(\"https://raw.githubusercontent.com/ATLAS097/Data-Engineering-CA2/main/data/patient.xlsx\", engine=\"openpyxl\")\n",
    "patient.head()"
   ]
  },
  {
   "cell_type": "code",
   "execution_count": 5,
   "id": "79e56b38",
   "metadata": {
    "colab": {
     "base_uri": "https://localhost:8080/",
     "height": 206
    },
    "id": "79e56b38",
    "outputId": "a91a434b-736b-4e07-8093-497d6d6ce308"
   },
   "outputs": [
    {
     "data": {
      "application/vnd.microsoft.datawrangler.viewer.v0+json": {
       "columns": [
        {
         "name": "index",
         "rawType": "int64",
         "type": "integer"
        },
        {
         "name": "DoctorID",
         "rawType": "object",
         "type": "string"
        },
        {
         "name": "Name",
         "rawType": "object",
         "type": "string"
        },
        {
         "name": "Contact",
         "rawType": "int64",
         "type": "integer"
        },
        {
         "name": "Email",
         "rawType": "object",
         "type": "string"
        },
        {
         "name": "DepartmentID",
         "rawType": "object",
         "type": "string"
        },
        {
         "name": "Department",
         "rawType": "object",
         "type": "string"
        }
       ],
       "ref": "198dd0e3-c7bd-4236-9b8a-ceba2a515042",
       "rows": [
        [
         "0",
         "E0001",
         "Grace Chen",
         "78901234",
         " grace.chen@abchospital.com",
         "D0005",
         "Pediatrics"
        ],
        [
         "1",
         "E0002",
         "Henry Adams",
         "75678901",
         " henry.adams@abchospital.com",
         "D0002",
         "Intensive Care Unit"
        ],
        [
         "2",
         "E0003",
         "Maya Patel",
         "44567890",
         " maya.patel@abchospital.com",
         "D0008",
         "Surgery"
        ],
        [
         "3",
         "E0004",
         "Sean Underwood",
         "84345678",
         " sean.underwood@abchospital.com",
         "D0001",
         "Emergency"
        ],
        [
         "4",
         "E0005",
         "Amy Bryant",
         "72123456",
         " amy.bryant@abchospital.com",
         "D0009",
         "Neurology"
        ]
       ],
       "shape": {
        "columns": 6,
        "rows": 5
       }
      },
      "text/html": [
       "<div>\n",
       "<style scoped>\n",
       "    .dataframe tbody tr th:only-of-type {\n",
       "        vertical-align: middle;\n",
       "    }\n",
       "\n",
       "    .dataframe tbody tr th {\n",
       "        vertical-align: top;\n",
       "    }\n",
       "\n",
       "    .dataframe thead th {\n",
       "        text-align: right;\n",
       "    }\n",
       "</style>\n",
       "<table border=\"1\" class=\"dataframe\">\n",
       "  <thead>\n",
       "    <tr style=\"text-align: right;\">\n",
       "      <th></th>\n",
       "      <th>DoctorID</th>\n",
       "      <th>Name</th>\n",
       "      <th>Contact</th>\n",
       "      <th>Email</th>\n",
       "      <th>DepartmentID</th>\n",
       "      <th>Department</th>\n",
       "    </tr>\n",
       "  </thead>\n",
       "  <tbody>\n",
       "    <tr>\n",
       "      <th>0</th>\n",
       "      <td>E0001</td>\n",
       "      <td>Grace Chen</td>\n",
       "      <td>78901234</td>\n",
       "      <td>grace.chen@abchospital.com</td>\n",
       "      <td>D0005</td>\n",
       "      <td>Pediatrics</td>\n",
       "    </tr>\n",
       "    <tr>\n",
       "      <th>1</th>\n",
       "      <td>E0002</td>\n",
       "      <td>Henry Adams</td>\n",
       "      <td>75678901</td>\n",
       "      <td>henry.adams@abchospital.com</td>\n",
       "      <td>D0002</td>\n",
       "      <td>Intensive Care Unit</td>\n",
       "    </tr>\n",
       "    <tr>\n",
       "      <th>2</th>\n",
       "      <td>E0003</td>\n",
       "      <td>Maya Patel</td>\n",
       "      <td>44567890</td>\n",
       "      <td>maya.patel@abchospital.com</td>\n",
       "      <td>D0008</td>\n",
       "      <td>Surgery</td>\n",
       "    </tr>\n",
       "    <tr>\n",
       "      <th>3</th>\n",
       "      <td>E0004</td>\n",
       "      <td>Sean Underwood</td>\n",
       "      <td>84345678</td>\n",
       "      <td>sean.underwood@abchospital.com</td>\n",
       "      <td>D0001</td>\n",
       "      <td>Emergency</td>\n",
       "    </tr>\n",
       "    <tr>\n",
       "      <th>4</th>\n",
       "      <td>E0005</td>\n",
       "      <td>Amy Bryant</td>\n",
       "      <td>72123456</td>\n",
       "      <td>amy.bryant@abchospital.com</td>\n",
       "      <td>D0009</td>\n",
       "      <td>Neurology</td>\n",
       "    </tr>\n",
       "  </tbody>\n",
       "</table>\n",
       "</div>"
      ],
      "text/plain": [
       "  DoctorID            Name   Contact                            Email  \\\n",
       "0    E0001      Grace Chen  78901234       grace.chen@abchospital.com   \n",
       "1    E0002     Henry Adams  75678901      henry.adams@abchospital.com   \n",
       "2    E0003      Maya Patel  44567890       maya.patel@abchospital.com   \n",
       "3    E0004  Sean Underwood  84345678   sean.underwood@abchospital.com   \n",
       "4    E0005      Amy Bryant  72123456       amy.bryant@abchospital.com   \n",
       "\n",
       "  DepartmentID           Department  \n",
       "0        D0005           Pediatrics  \n",
       "1        D0002  Intensive Care Unit  \n",
       "2        D0008              Surgery  \n",
       "3        D0001            Emergency  \n",
       "4        D0009            Neurology  "
      ]
     },
     "execution_count": 5,
     "metadata": {},
     "output_type": "execute_result"
    }
   ],
   "source": [
    "staff = pd.read_csv(\"https://raw.githubusercontent.com/ATLAS097/Data-Engineering-CA2/main/data/staff.csv\")\n",
    "staff.head()"
   ]
  },
  {
   "cell_type": "markdown",
   "id": "rA6CQ5nwP8Pl",
   "metadata": {
    "id": "rA6CQ5nwP8Pl"
   },
   "source": [
    "# Facility Data Analysis and Cleaning\n",
    "---"
   ]
  },
  {
   "cell_type": "code",
   "execution_count": 6,
   "id": "tNkBmjhzP8Pm",
   "metadata": {
    "colab": {
     "base_uri": "https://localhost:8080/",
     "height": 206
    },
    "id": "tNkBmjhzP8Pm",
    "outputId": "140a748a-d363-48e5-f6e5-99ebd5c503f3"
   },
   "outputs": [
    {
     "data": {
      "application/vnd.microsoft.datawrangler.viewer.v0+json": {
       "columns": [
        {
         "name": "index",
         "rawType": "int64",
         "type": "integer"
        },
        {
         "name": "Department",
         "rawType": "object",
         "type": "string"
        },
        {
         "name": "BuildingID",
         "rawType": "object",
         "type": "string"
        },
        {
         "name": "BuildingName",
         "rawType": "object",
         "type": "string"
        },
        {
         "name": "RoomID",
         "rawType": "object",
         "type": "string"
        },
        {
         "name": "Purpose",
         "rawType": "object",
         "type": "string"
        }
       ],
       "ref": "72e968c8-6414-4acc-b21a-df2a5986e5e0",
       "rows": [
        [
         "0",
         "Emergency",
         "B0001 ",
         "Emergency 1",
         " R0101",
         "Consultation Room"
        ],
        [
         "1",
         "Emergency",
         "B0001 ",
         "Emergency 1",
         " R0102",
         "Consultation Room"
        ],
        [
         "2",
         "Emergency",
         "B0001 ",
         "Emergency 1",
         " R0103",
         "Emergency Room"
        ],
        [
         "3",
         "Emergency",
         "B0001 ",
         "Emergency 1",
         " R0104",
         "Pharmacy"
        ],
        [
         "4",
         "Emergency",
         "B0001 ",
         "Emergency 1",
         " R0201",
         "Laboratory"
        ]
       ],
       "shape": {
        "columns": 5,
        "rows": 5
       }
      },
      "text/html": [
       "<div>\n",
       "<style scoped>\n",
       "    .dataframe tbody tr th:only-of-type {\n",
       "        vertical-align: middle;\n",
       "    }\n",
       "\n",
       "    .dataframe tbody tr th {\n",
       "        vertical-align: top;\n",
       "    }\n",
       "\n",
       "    .dataframe thead th {\n",
       "        text-align: right;\n",
       "    }\n",
       "</style>\n",
       "<table border=\"1\" class=\"dataframe\">\n",
       "  <thead>\n",
       "    <tr style=\"text-align: right;\">\n",
       "      <th></th>\n",
       "      <th>Department</th>\n",
       "      <th>BuildingID</th>\n",
       "      <th>BuildingName</th>\n",
       "      <th>RoomID</th>\n",
       "      <th>Purpose</th>\n",
       "    </tr>\n",
       "  </thead>\n",
       "  <tbody>\n",
       "    <tr>\n",
       "      <th>0</th>\n",
       "      <td>Emergency</td>\n",
       "      <td>B0001</td>\n",
       "      <td>Emergency 1</td>\n",
       "      <td>R0101</td>\n",
       "      <td>Consultation Room</td>\n",
       "    </tr>\n",
       "    <tr>\n",
       "      <th>1</th>\n",
       "      <td>Emergency</td>\n",
       "      <td>B0001</td>\n",
       "      <td>Emergency 1</td>\n",
       "      <td>R0102</td>\n",
       "      <td>Consultation Room</td>\n",
       "    </tr>\n",
       "    <tr>\n",
       "      <th>2</th>\n",
       "      <td>Emergency</td>\n",
       "      <td>B0001</td>\n",
       "      <td>Emergency 1</td>\n",
       "      <td>R0103</td>\n",
       "      <td>Emergency Room</td>\n",
       "    </tr>\n",
       "    <tr>\n",
       "      <th>3</th>\n",
       "      <td>Emergency</td>\n",
       "      <td>B0001</td>\n",
       "      <td>Emergency 1</td>\n",
       "      <td>R0104</td>\n",
       "      <td>Pharmacy</td>\n",
       "    </tr>\n",
       "    <tr>\n",
       "      <th>4</th>\n",
       "      <td>Emergency</td>\n",
       "      <td>B0001</td>\n",
       "      <td>Emergency 1</td>\n",
       "      <td>R0201</td>\n",
       "      <td>Laboratory</td>\n",
       "    </tr>\n",
       "  </tbody>\n",
       "</table>\n",
       "</div>"
      ],
      "text/plain": [
       "0 Department BuildingID BuildingName  RoomID            Purpose\n",
       "0  Emergency     B0001   Emergency 1   R0101  Consultation Room\n",
       "1  Emergency     B0001   Emergency 1   R0102  Consultation Room\n",
       "2  Emergency     B0001   Emergency 1   R0103     Emergency Room\n",
       "3  Emergency     B0001   Emergency 1   R0104           Pharmacy\n",
       "4  Emergency     B0001   Emergency 1   R0201         Laboratory"
      ]
     },
     "execution_count": 6,
     "metadata": {},
     "output_type": "execute_result"
    }
   ],
   "source": [
    "facility.head()"
   ]
  },
  {
   "cell_type": "code",
   "execution_count": 7,
   "id": "V65KAuIiP8Pm",
   "metadata": {
    "colab": {
     "base_uri": "https://localhost:8080/"
    },
    "id": "V65KAuIiP8Pm",
    "outputId": "7141b81c-b5bd-49a4-f8d8-3aa3d91c8af8"
   },
   "outputs": [
    {
     "name": "stdout",
     "output_type": "stream",
     "text": [
      "Rows with duplicate 'BuildingID', 'BuildingName', and 'RoomID' combinations:\n",
      "No duplicate combinations of 'BuildingID', 'BuildingName', and 'RoomID' found.\n"
     ]
    }
   ],
   "source": [
    "# Check for duplicate rows based on 'BuildingID', 'BuildingName', and 'RoomID'\n",
    "duplicate_facility_subset = facility.duplicated(subset=['BuildingID', 'BuildingName', 'RoomID'], keep=False)\n",
    "\n",
    "# Filter the DataFrame to show only the duplicate rows\n",
    "duplicate_facility_rows = facility[duplicate_facility_subset]\n",
    "\n",
    "print(\"Rows with duplicate 'BuildingID', 'BuildingName', and 'RoomID' combinations:\")\n",
    "if not duplicate_facility_rows.empty:\n",
    "    display(duplicate_facility_rows)\n",
    "else:\n",
    "    print(\"No duplicate combinations of 'BuildingID', 'BuildingName', and 'RoomID' found.\")\n",
    "\n",
    "# To check for duplicates in other columns for these rows, you would visually inspect the output above.\n",
    "# If you want to programmatically check for duplicates in a specific other column for these rows,\n",
    "# you could do something like this:\n",
    "# print(\"\\nChecking for duplicates in 'Purpose' for the identified duplicate rows:\")\n",
    "# display(duplicate_facility_rows[duplicate_facility_rows.duplicated(subset=['BuildingID', 'BuildingName', 'RoomID', 'Purpose'], keep=False)])"
   ]
  },
  {
   "cell_type": "code",
   "execution_count": 8,
   "id": "4fsJ2IyRP8Pn",
   "metadata": {
    "colab": {
     "base_uri": "https://localhost:8080/"
    },
    "id": "4fsJ2IyRP8Pn",
    "outputId": "52ed3e6e-2610-46bb-b5ba-6cdb88a964de"
   },
   "outputs": [
    {
     "name": "stdout",
     "output_type": "stream",
     "text": [
      "\n",
      "Number of duplicate rows found: 0\n",
      "✅ There are no duplicate rows in the dataset.\n"
     ]
    }
   ],
   "source": [
    "\n",
    "duplicate_rows = facility.duplicated()\n",
    "num_duplicates = duplicate_rows.sum()\n",
    "\n",
    "print(f\"\\nNumber of duplicate rows found: {num_duplicates}\")\n",
    "\n",
    "# If duplicates exist, display them\n",
    "if num_duplicates > 0:\n",
    "    print(\"\\nHere are the duplicate rows:\")\n",
    "    # The 'keep=False' argument shows all occurrences of duplicates\n",
    "    print(facility[facility.duplicated(keep=False)])\n",
    "else:\n",
    "    print(\"✅ There are no duplicate rows in the dataset.\")"
   ]
  },
  {
   "cell_type": "code",
   "execution_count": 9,
   "id": "refOE0qVP8Pn",
   "metadata": {
    "colab": {
     "base_uri": "https://localhost:8080/"
    },
    "id": "refOE0qVP8Pn",
    "outputId": "8e90ea07-66a3-4ba6-c019-ff633d6e9f7b"
   },
   "outputs": [
    {
     "name": "stdout",
     "output_type": "stream",
     "text": [
      "\n",
      "--- Unique Values in Each Column ---\n",
      "\n",
      "✅ Column: 'Department'\n",
      "['Emergency' 'Cardiology' 'Pediatrics' 'Orthopedics'\n",
      " 'Obstetrics and Gynecology' 'Surgery' 'Neurology' 'Oncology' 'Radiology'\n",
      " 'Intensive Care Unit' '']\n",
      "\n",
      "✅ Column: 'BuildingID'\n",
      "['B0001 ' 'B0002 ' 'B0003 ' 'B0004 ' '']\n",
      "\n",
      "✅ Column: 'BuildingName'\n",
      "['Emergency 1' 'Central Tower' 'ICU Tower' 'Emergency 2' '']\n",
      "\n",
      "✅ Column: 'RoomID'\n",
      "[' R0101' ' R0102' ' R0103' ' R0104' ' R0201' ' R0202' ' R0203' ' R0204'\n",
      " ' R0301' ' R0302' ' R0303' ' R0304' ' R0401' ' R0402' ' R0403' ' R0404'\n",
      " '']\n",
      "\n",
      "✅ Column: 'Purpose'\n",
      "['Consultation Room' 'Emergency Room' 'Pharmacy' 'Laboratory' 'X-ray Room'\n",
      " 'Operating Room' 'Treatment Room' 'Critical Care Room'\n",
      " 'Isolation ICU Room' 'MRI Room' '']\n"
     ]
    }
   ],
   "source": [
    "print(\"\\n--- Unique Values in Each Column ---\")\n",
    "\n",
    "for column in facility.columns:\n",
    "    print(f\"\\n✅ Column: '{column}'\")\n",
    "\n",
    "    # Get and print the unique values\n",
    "    unique_values = facility[column].unique()\n",
    "    print(unique_values)"
   ]
  },
  {
   "cell_type": "code",
   "execution_count": 10,
   "id": "UgrPjv4xP8Pn",
   "metadata": {
    "colab": {
     "base_uri": "https://localhost:8080/"
    },
    "id": "UgrPjv4xP8Pn",
    "outputId": "a95290b9-cddc-49e9-cf1b-6123a8131437"
   },
   "outputs": [
    {
     "name": "stdout",
     "output_type": "stream",
     "text": [
      "<class 'pandas.core.frame.DataFrame'>\n",
      "RangeIndex: 49 entries, 0 to 48\n",
      "Data columns (total 5 columns):\n",
      " #   Column        Non-Null Count  Dtype \n",
      "---  ------        --------------  ----- \n",
      " 0   Department    49 non-null     object\n",
      " 1   BuildingID    49 non-null     object\n",
      " 2   BuildingName  49 non-null     object\n",
      " 3   RoomID        49 non-null     object\n",
      " 4   Purpose       49 non-null     object\n",
      "dtypes: object(5)\n",
      "memory usage: 2.0+ KB\n"
     ]
    }
   ],
   "source": [
    "facility.info()"
   ]
  },
  {
   "cell_type": "markdown",
   "id": "-HmotOYRP8Pn",
   "metadata": {
    "id": "-HmotOYRP8Pn"
   },
   "source": [
    "There are no null values."
   ]
  },
  {
   "cell_type": "code",
   "execution_count": 11,
   "id": "F8BduQipP8Pn",
   "metadata": {
    "colab": {
     "base_uri": "https://localhost:8080/"
    },
    "id": "F8BduQipP8Pn",
    "outputId": "b8ac7642-c0a9-4f33-c31e-20464e7a04d8"
   },
   "outputs": [
    {
     "name": "stdout",
     "output_type": "stream",
     "text": [
      "0  Department BuildingID BuildingName RoomID Purpose\n",
      "48                                                  \n"
     ]
    }
   ],
   "source": [
    "print(facility.tail(1))\n"
   ]
  },
  {
   "cell_type": "markdown",
   "id": "KEeYWtk5BVAu",
   "metadata": {
    "id": "KEeYWtk5BVAu"
   },
   "source": [
    "I remove the last row since it's blank."
   ]
  },
  {
   "cell_type": "code",
   "execution_count": 12,
   "id": "ScjRq0OoP8Pn",
   "metadata": {
    "id": "ScjRq0OoP8Pn"
   },
   "outputs": [],
   "source": [
    "facility = facility.iloc[:-1]\n"
   ]
  },
  {
   "cell_type": "markdown",
   "id": "b59dd89e",
   "metadata": {
    "id": "b59dd89e"
   },
   "source": [
    "# Appointment Data Analysis and Cleaning\n",
    "---"
   ]
  },
  {
   "cell_type": "code",
   "execution_count": 13,
   "id": "2IR9I0Zi3vUV",
   "metadata": {
    "colab": {
     "base_uri": "https://localhost:8080/",
     "height": 424
    },
    "id": "2IR9I0Zi3vUV",
    "outputId": "a424d1ec-6ea0-43d4-c8f5-7e8a9d68f809"
   },
   "outputs": [
    {
     "data": {
      "application/vnd.microsoft.datawrangler.viewer.v0+json": {
       "columns": [
        {
         "name": "index",
         "rawType": "int64",
         "type": "integer"
        },
        {
         "name": "PatientID",
         "rawType": "object",
         "type": "unknown"
        },
        {
         "name": "DoctorID",
         "rawType": "object",
         "type": "unknown"
        },
        {
         "name": "BuildingID",
         "rawType": "object",
         "type": "unknown"
        },
        {
         "name": "RoomID",
         "rawType": "object",
         "type": "unknown"
        },
        {
         "name": "ScheduledStart",
         "rawType": "datetime64[ns]",
         "type": "datetime"
        },
        {
         "name": "ScheduledEnd",
         "rawType": "datetime64[ns]",
         "type": "datetime"
        },
        {
         "name": "Arrival",
         "rawType": "datetime64[ns]",
         "type": "datetime"
        },
        {
         "name": "ActualStart",
         "rawType": "datetime64[ns]",
         "type": "datetime"
        },
        {
         "name": "ActualEnd",
         "rawType": "object",
         "type": "unknown"
        },
        {
         "name": "Weight(kg)",
         "rawType": "float64",
         "type": "float"
        },
        {
         "name": "Temperature(celcius)",
         "rawType": "float64",
         "type": "float"
        },
        {
         "name": "Comment",
         "rawType": "object",
         "type": "unknown"
        }
       ],
       "ref": "06f7b976-a5dc-4dea-b9dd-c1e9839bb3d5",
       "rows": [
        [
         "0",
         "P0191",
         "E0066",
         "B0001",
         "R0402",
         "2024-01-05 14:00:00",
         "2024-01-05 15:00:00",
         "2024-01-05 14:35:00",
         "2024-01-05 14:35:00",
         "2024-01-05 15:11:00",
         "49.5",
         "37.2",
         "Orientation comfortably"
        ],
        [
         "1",
         "P0776",
         "E0065",
         "B0004",
         "R0104",
         "2024-02-27 14:00:00",
         "2024-02-27 15:00:00",
         "2024-02-27 14:59:00",
         "2024-02-27 14:59:00",
         "2024-02-27 16:03:00",
         "55.5",
         "37.1",
         "Imaging has improved slightly"
        ],
        [
         "2",
         "P0157",
         "E0051",
         "B0001",
         "R0301",
         "2022-12-28 09:00:00",
         "2022-12-28 10:00:00",
         null,
         null,
         null,
         null,
         null,
         null
        ],
        [
         "3",
         "P0593",
         "E0044",
         "B0004",
         "R0101",
         "2023-01-04 15:00:00",
         "2023-01-04 16:00:00",
         "2023-01-04 15:48:00",
         "2023-01-04 15:48:00",
         "2023-01-04 16:22:00",
         "50.5",
         "36.8",
         "Rash reported today"
        ],
        [
         "4",
         "P0434",
         "E0074",
         "B0002",
         "R0203",
         "2020-04-14 09:00:00",
         "2020-04-14 10:00:00",
         "2020-04-14 09:39:00",
         "2020-04-14 09:39:00",
         "2020-04-14 10:07:00",
         "49.5",
         "38.1",
         "Continue observed on forearm"
        ],
        [
         "5",
         "P0334",
         "E0016",
         "B0002",
         "R0202",
         "2020-11-25 11:00:00",
         "2020-11-25 12:00:00",
         "2020-11-25 12:00:00",
         "2020-11-25 12:00:00",
         "2020-11-25 12:12:00",
         "48.5",
         "38.9",
         "Blood pressure is within normal range"
        ],
        [
         "6",
         "P0444",
         "E0057",
         "B0004",
         "R0103",
         "2024-01-05 11:00:00",
         "2024-01-05 12:00:00",
         "2024-01-05 11:22:00",
         "2024-01-05 11:22:00",
         "2024-01-05 12:05:00",
         "48.5",
         "38.4",
         "Sugar levels appears dry but intact"
        ],
        [
         "7",
         "P0123",
         "E0076",
         "B0002",
         "R0202",
         "2020-04-28 16:00:00",
         "2020-04-28 17:00:00",
         "2020-04-28 16:20:00",
         "2020-04-28 16:20:00",
         "2020-04-28 16:48:00",
         "56.5",
         "36.7",
         "Heart rate have not worsened"
        ],
        [
         "8",
         "P0396",
         "E0054",
         "B0002",
         "R0102",
         "2021-02-17 16:00:00",
         "2021-02-17 17:00:00",
         "2021-02-17 16:38:00",
         "2021-02-17 16:38:00",
         "2021-02-17 17:03:00",
         "47.5",
         "36.9",
         "Sleep quality stable and improving"
        ],
        [
         "9",
         "P0721",
         "E0011",
         "B0002",
         "R0302",
         "2022-06-06 11:00:00",
         "2022-06-06 12:00:00",
         "2022-06-06 11:57:00",
         "2022-06-06 11:57:00",
         "2022-06-06 13:00:00",
         "54.5",
         "37.9",
         "Mild in one week"
        ],
        [
         "10",
         "P0095",
         "E0097",
         "B0002",
         "R0104",
         "2024-08-22 10:00:00",
         "2024-08-22 11:00:00",
         "2024-08-22 09:09:00",
         "2024-08-22 10:00:00",
         "2024-08-22 10:32:00",
         "55.5",
         "36.8",
         "Cough rest and hydration"
        ],
        [
         "11",
         "P0129",
         "E0040",
         "B0004",
         "R0201",
         "2023-01-25 16:00:00",
         "2023-01-25 17:00:00",
         "2023-01-25 15:44:00",
         "2023-01-25 16:00:00",
         "2023-01-25 17:06:00",
         "47.5",
         "36.9",
         "Resting steady and unlabored"
        ],
        [
         "12",
         "P0633",
         "E0005",
         "B0002",
         "R0402",
         "2024-08-22 11:00:00",
         "2024-08-22 12:00:00",
         "2024-08-22 10:23:00",
         "2024-08-22 11:00:00",
         "2024-08-22 12:08:00",
         "51.5",
         "38.2",
         "No adverse in one week"
        ],
        [
         "13",
         "P0276",
         "E0030",
         "B0004",
         "R0104",
         "2024-10-07 15:00:00",
         "2024-10-07 16:00:00",
         "2024-10-07 15:15:00",
         "2024-10-07 15:15:00",
         "2024-10-07 16:22:00",
         "54.5",
         "36.7",
         "Pain has appears dry but intact"
        ],
        [
         "14",
         "P0616",
         "E0031",
         "B0002",
         "R0402",
         "2022-02-06 10:00:00",
         "2022-02-06 11:00:00",
         "2022-02-06 09:42:00",
         "2022-02-06 10:00:00",
         "2022-02-06 10:51:00",
         "47.5",
         "37.2",
         "Patient is is normal"
        ],
        [
         "15",
         "P0860",
         "E0068",
         "B0004",
         "R0202",
         "2021-12-05 15:00:00",
         "2021-12-05 16:00:00",
         "2021-12-05 15:38:00",
         "2021-12-05 15:38:00",
         "2021-12-05 16:08:00",
         "54.5",
         "36.6",
         "Energy levels healing as expected"
        ],
        [
         "16",
         "P0841",
         "E0057",
         "B0001",
         "R0304",
         "2020-11-26 10:00:00",
         "2020-11-26 11:00:00",
         "2020-11-26 09:45:00",
         "2020-11-26 10:00:00",
         "2020-11-26 10:23:00",
         "55.5",
         "36.8",
         "Nausea clear on auscultation"
        ],
        [
         "17",
         "P0357",
         "E0012",
         "B0001",
         "R0301",
         "2024-08-19 15:00:00",
         "2024-08-19 16:00:00",
         "2024-08-19 15:06:00",
         "2024-08-19 15:06:00",
         "2024-08-19 15:40:00",
         "56.5",
         "36.8",
         "Energy levels rest and hydration"
        ],
        [
         "18",
         "P0863",
         "E0006",
         "B0001",
         "R0302",
         "2024-05-20 15:00:00",
         "2024-05-20 16:00:00",
         "2024-05-20 15:19:00",
         "2024-05-20 15:19:00",
         "2024-05-20 16:09:00",
         "55.5",
         "36.5",
         "Edema being monitored"
        ],
        [
         "19",
         "P0893",
         "E0092",
         "B0004",
         "R0104",
         "2020-12-30 16:00:00",
         "2020-12-30 17:00:00",
         "2020-12-30 15:47:00",
         "2020-12-30 16:00:00",
         "2020-12-30 16:47:00",
         "47.5",
         "37.0",
         "Orientation and cooperative"
        ],
        [
         "20",
         "P0002",
         "E0010",
         "B0002",
         "R0202",
         "2020-04-08 11:00:00",
         "2020-04-08 12:00:00",
         "2020-04-08 10:09:00",
         "2020-04-08 11:00:00",
         "2020-04-08 11:25:00",
         "53.5",
         "37.2",
         "Rash noted"
        ],
        [
         "21",
         "P0036",
         "E0081",
         "B0002",
         "R0203",
         "2022-08-09 11:00:00",
         "2022-08-09 12:00:00",
         "2022-08-09 11:27:00",
         "2022-08-09 11:27:00",
         "2022-08-09 12:05:00",
         "48.5",
         "36.6",
         "Skin within normal limits"
        ],
        [
         "22",
         "P0123",
         "E0016",
         "B0002",
         "R0302",
         "2023-06-15 11:00:00",
         "2023-06-15 12:00:00",
         "2023-06-15 11:24:00",
         "2023-06-15 11:24:00",
         "2023-06-15 12:32:00",
         "46.5",
         "38.5",
         "Cough being monitored"
        ],
        [
         "23",
         "P0769",
         "E0034",
         "B0004",
         "R0203",
         "2022-05-27 14:00:00",
         "2022-05-27 15:00:00",
         "2022-05-27 13:34:00",
         "2022-05-27 14:00:00",
         "2022-05-27 14:20:00",
         "51.5",
         "36.6",
         "Vitals are being monitored"
        ],
        [
         "24",
         "P0317",
         "E0089",
         "B0001",
         "R0304",
         "2021-09-23 14:00:00",
         "2021-09-23 15:00:00",
         "2021-09-23 13:15:00",
         "2021-09-23 14:00:00",
         "2021-09-23 14:35:00",
         "47.5",
         "36.8",
         "Respiratory rate and cooperative"
        ],
        [
         "25",
         "P0423",
         "E0038",
         "B0002",
         "R0104",
         "2023-04-11 10:00:00",
         "2023-04-11 11:00:00",
         "2023-04-11 10:35:00",
         "2023-04-11 10:35:00",
         "2023-04-11 11:00:00",
         "48.5",
         "36.8",
         "Mild remain low"
        ],
        [
         "26",
         "P0693",
         "E0072",
         "B0001",
         "R0403",
         "2021-01-08 15:00:00",
         "2021-01-08 16:00:00",
         "2021-01-08 15:22:00",
         "2021-01-08 15:22:00",
         "2021-01-08 15:37:00",
         "49.5",
         "37.1",
         "Energy levels healing as expected"
        ],
        [
         "27",
         "P0094",
         "E0087",
         "B0002",
         "R0402",
         "2023-09-19 14:00:00",
         "2023-09-19 15:00:00",
         "2023-09-19 14:23:00",
         "2023-09-19 14:23:00",
         "2023-09-19 15:32:00",
         "49.5",
         "36.7",
         "Mild cough but no fever"
        ],
        [
         "28",
         "P0449",
         "E0072",
         "B0004",
         "R0104",
         "2020-04-30 15:00:00",
         "2020-04-30 16:00:00",
         "2020-04-30 15:04:00",
         "2020-04-30 15:04:00",
         "2020-04-30 15:39:00",
         "47.5",
         "36.6",
         "Bowel movements are pending"
        ],
        [
         "29",
         "P0741",
         "E0068",
         "B0004",
         "R0104",
         "2023-03-03 10:00:00",
         "2023-03-03 11:00:00",
         "2023-03-03 09:20:00",
         "2023-03-03 10:00:00",
         "2023-03-03 10:55:00",
         "48.5",
         "36.9",
         "Mobility present"
        ],
        [
         "30",
         "P0446",
         "E0011",
         "B0002",
         "R0103",
         "2022-10-20 10:00:00",
         "2022-10-20 11:00:00",
         "2022-10-20 10:47:00",
         "2022-10-20 10:47:00",
         "2022-10-20 11:44:00",
         "46.5",
         "36.8",
         "Edema being monitored"
        ],
        [
         "31",
         "P0383",
         "E0010",
         "B0001",
         "R0101",
         "2023-09-10 15:00:00",
         "2023-09-10 16:00:00",
         "2023-09-10 14:47:00",
         "2023-09-10 15:00:00",
         "2023-09-10 15:25:00",
         "55.5",
         "36.6",
         "No adverse is tolerated well"
        ],
        [
         "32",
         "P0330",
         "E0100",
         "B0002",
         "R0401",
         "2021-12-07 10:00:00",
         "2021-12-07 11:00:00",
         "2021-12-07 09:04:00",
         "2021-12-07 10:00:00",
         "2021-12-07 10:30:00",
         "51.5",
         "36.6",
         "Wound reported today"
        ],
        [
         "33",
         "P0712",
         "E0089",
         "B0001",
         "R0103",
         "2023-11-14 09:00:00",
         "2023-11-14 10:00:00",
         "2023-11-14 08:54:00",
         "2023-11-14 09:00:00",
         "2023-11-14 10:15:00",
         "56.5",
         "36.8",
         "Allergic reaction within normal limits"
        ],
        [
         "34",
         "P0247",
         "E0072",
         "B0002",
         "R0201",
         "2021-11-26 15:00:00",
         "2021-11-26 16:00:00",
         "2021-11-26 15:36:00",
         "2021-11-26 15:36:00",
         "2021-11-26 16:09:00",
         "49.5",
         "38.8",
         "Symptoms remain low"
        ],
        [
         "35",
         "P0053",
         "E0065",
         "B0004",
         "R0102",
         "2022-09-22 15:00:00",
         "2022-09-22 16:00:00",
         "2022-09-22 14:02:00",
         "2022-09-22 15:00:00",
         "2022-09-22 15:35:00",
         "49.5",
         "36.8",
         "Breathing is has improved"
        ],
        [
         "36",
         "P0649",
         "E0012",
         "B0001",
         "R0403",
         "2023-12-07 15:00:00",
         "2023-12-07 16:00:00",
         "2023-12-07 15:43:00",
         "2023-12-07 15:43:00",
         "2023-12-07 16:11:00",
         "54.5",
         "36.6",
         "Skin rest and hydration"
        ],
        [
         "37",
         "P0109",
         "E0019",
         "B0001",
         "R0103",
         "2023-01-13 09:00:00",
         "2023-01-13 10:00:00",
         "2023-01-13 08:05:00",
         "2023-01-13 09:00:00",
         "2023-01-13 10:02:00",
         "53.5",
         "37.2",
         "Imaging is regular and strong"
        ],
        [
         "38",
         "P0002",
         "E0023",
         "B0004",
         "R0102",
         "2021-11-17 10:00:00",
         "2021-11-17 11:00:00",
         "2021-11-17 10:07:00",
         "2021-11-17 10:07:00",
         "2021-11-17 10:36:00",
         "49.5",
         "37.0",
         "Temperature is regular and strong"
        ],
        [
         "39",
         "P0143",
         "E0050",
         "B0002",
         "R0104",
         "2022-08-28 16:00:00",
         "2022-08-28 17:00:00",
         "2022-08-28 15:46:00",
         "2022-08-28 16:00:00",
         "2022-08-28 16:32:00",
         "51.5",
         "36.6",
         "No signs of have not worsened"
        ],
        [
         "40",
         "P0873",
         "E0066",
         "B0001",
         "R0102",
         "2024-09-29 11:00:00",
         "2024-09-29 12:00:00",
         "2024-09-29 11:58:00",
         "2024-09-29 11:58:00",
         "2024-09-29 12:35:00",
         "47.5",
         "36.5",
         "Progress remain low"
        ],
        [
         "41",
         "P0145",
         "E0050",
         "B0002",
         "R0104",
         "2022-11-13 09:00:00",
         "2022-11-13 10:00:00",
         "2022-11-13 08:43:00",
         "2022-11-13 09:00:00",
         "2022-11-13 09:33:00",
         "46.5",
         "36.7",
         "Temperature studies recommended"
        ],
        [
         "42",
         "P0778",
         "E0095",
         "B0004",
         "R0102",
         "2021-03-21 09:00:00",
         "2021-03-21 10:00:00",
         "2021-03-21 08:41:00",
         "2021-03-21 09:00:00",
         "2021-03-21 09:18:00",
         "54.5",
         "38.8",
         "Wound site appears dry but intact"
        ],
        [
         "43",
         "P0212",
         "E0046",
         "B0004",
         "R0201",
         "2023-06-21 15:00:00",
         "2023-06-21 16:00:00",
         "2023-06-21 15:30:00",
         "2023-06-21 15:30:00",
         "2023-06-21 16:32:00",
         "46.5",
         "36.9",
         "Heart rate in one week"
        ],
        [
         "44",
         "P0112",
         "E0100",
         "B0004",
         "R0102",
         "2020-07-16 10:00:00",
         "2020-07-16 11:00:00",
         "2020-07-16 10:53:00",
         "2020-07-16 10:53:00",
         "2020-07-16 11:08:00",
         "54.5",
         "36.6",
         "Respiratory rate under control"
        ],
        [
         "45",
         "P0214",
         "E0068",
         "B0002",
         "R0201",
         "2021-08-13 16:00:00",
         "2021-08-13 17:00:00",
         "2021-08-13 15:55:00",
         "2021-08-13 16:00:00",
         "2021-08-13 16:24:00",
         "55.5",
         "36.9",
         "Rash is adequate"
        ],
        [
         "46",
         "P0432",
         "E0015",
         "B0002",
         "R0302",
         "2024-06-19 16:00:00",
         "2024-06-19 17:00:00",
         "2024-06-19 16:43:00",
         "2024-06-19 16:43:00",
         "2024-06-19 17:59:00",
         "47.5",
         "37.0",
         "Pain has and cooperative"
        ],
        [
         "47",
         "P0133",
         "E0058",
         "B0004",
         "R0103",
         "2024-02-21 16:00:00",
         "2024-02-21 17:00:00",
         "2024-02-21 16:56:00",
         "2024-02-21 16:56:00",
         "2024-02-21 17:44:00",
         "52.5",
         "37.1",
         "Resting is regular and strong"
        ],
        [
         "48",
         "P0290",
         "E0021",
         "B0004",
         "R0104",
         "2021-09-01 10:00:00",
         "2021-09-01 11:00:00",
         "2021-09-01 10:17:00",
         "2021-09-01 10:17:00",
         "2021-09-01 11:08:00",
         "53.5",
         "36.7",
         "Symptoms is tolerated well"
        ],
        [
         "49",
         "P0431",
         "E0039",
         "B0002",
         "R0302",
         "2021-08-08 16:00:00",
         "2021-08-08 17:00:00",
         "2021-08-08 15:12:00",
         "2021-08-08 16:00:00",
         "2021-08-08 16:47:00",
         "48.5",
         "36.9",
         "Resting reaction to medication"
        ]
       ],
       "shape": {
        "columns": 12,
        "rows": 100001
       }
      },
      "text/html": [
       "<div>\n",
       "<style scoped>\n",
       "    .dataframe tbody tr th:only-of-type {\n",
       "        vertical-align: middle;\n",
       "    }\n",
       "\n",
       "    .dataframe tbody tr th {\n",
       "        vertical-align: top;\n",
       "    }\n",
       "\n",
       "    .dataframe thead th {\n",
       "        text-align: right;\n",
       "    }\n",
       "</style>\n",
       "<table border=\"1\" class=\"dataframe\">\n",
       "  <thead>\n",
       "    <tr style=\"text-align: right;\">\n",
       "      <th></th>\n",
       "      <th>PatientID</th>\n",
       "      <th>DoctorID</th>\n",
       "      <th>BuildingID</th>\n",
       "      <th>RoomID</th>\n",
       "      <th>ScheduledStart</th>\n",
       "      <th>ScheduledEnd</th>\n",
       "      <th>Arrival</th>\n",
       "      <th>ActualStart</th>\n",
       "      <th>ActualEnd</th>\n",
       "      <th>Weight(kg)</th>\n",
       "      <th>Temperature(celcius)</th>\n",
       "      <th>Comment</th>\n",
       "    </tr>\n",
       "  </thead>\n",
       "  <tbody>\n",
       "    <tr>\n",
       "      <th>0</th>\n",
       "      <td>P0191</td>\n",
       "      <td>E0066</td>\n",
       "      <td>B0001</td>\n",
       "      <td>R0402</td>\n",
       "      <td>2024-01-05 14:00:00</td>\n",
       "      <td>2024-01-05 15:00:00</td>\n",
       "      <td>2024-01-05 14:35:00</td>\n",
       "      <td>2024-01-05 14:35:00</td>\n",
       "      <td>2024-01-05 15:11:00</td>\n",
       "      <td>49.500000</td>\n",
       "      <td>37.200000</td>\n",
       "      <td>Orientation comfortably</td>\n",
       "    </tr>\n",
       "    <tr>\n",
       "      <th>1</th>\n",
       "      <td>P0776</td>\n",
       "      <td>E0065</td>\n",
       "      <td>B0004</td>\n",
       "      <td>R0104</td>\n",
       "      <td>2024-02-27 14:00:00</td>\n",
       "      <td>2024-02-27 15:00:00</td>\n",
       "      <td>2024-02-27 14:59:00</td>\n",
       "      <td>2024-02-27 14:59:00</td>\n",
       "      <td>2024-02-27 16:03:00</td>\n",
       "      <td>55.500000</td>\n",
       "      <td>37.100000</td>\n",
       "      <td>Imaging has improved slightly</td>\n",
       "    </tr>\n",
       "    <tr>\n",
       "      <th>2</th>\n",
       "      <td>P0157</td>\n",
       "      <td>E0051</td>\n",
       "      <td>B0001</td>\n",
       "      <td>R0301</td>\n",
       "      <td>2022-12-28 09:00:00</td>\n",
       "      <td>2022-12-28 10:00:00</td>\n",
       "      <td>NaT</td>\n",
       "      <td>NaT</td>\n",
       "      <td>NaN</td>\n",
       "      <td>NaN</td>\n",
       "      <td>NaN</td>\n",
       "      <td>NaN</td>\n",
       "    </tr>\n",
       "    <tr>\n",
       "      <th>3</th>\n",
       "      <td>P0593</td>\n",
       "      <td>E0044</td>\n",
       "      <td>B0004</td>\n",
       "      <td>R0101</td>\n",
       "      <td>2023-01-04 15:00:00</td>\n",
       "      <td>2023-01-04 16:00:00</td>\n",
       "      <td>2023-01-04 15:48:00</td>\n",
       "      <td>2023-01-04 15:48:00</td>\n",
       "      <td>2023-01-04 16:22:00</td>\n",
       "      <td>50.500000</td>\n",
       "      <td>36.800000</td>\n",
       "      <td>Rash reported today</td>\n",
       "    </tr>\n",
       "    <tr>\n",
       "      <th>4</th>\n",
       "      <td>P0434</td>\n",
       "      <td>E0074</td>\n",
       "      <td>B0002</td>\n",
       "      <td>R0203</td>\n",
       "      <td>2020-04-14 09:00:00</td>\n",
       "      <td>2020-04-14 10:00:00</td>\n",
       "      <td>2020-04-14 09:39:00</td>\n",
       "      <td>2020-04-14 09:39:00</td>\n",
       "      <td>2020-04-14 10:07:00</td>\n",
       "      <td>49.500000</td>\n",
       "      <td>38.100000</td>\n",
       "      <td>Continue observed on forearm</td>\n",
       "    </tr>\n",
       "    <tr>\n",
       "      <th>...</th>\n",
       "      <td>...</td>\n",
       "      <td>...</td>\n",
       "      <td>...</td>\n",
       "      <td>...</td>\n",
       "      <td>...</td>\n",
       "      <td>...</td>\n",
       "      <td>...</td>\n",
       "      <td>...</td>\n",
       "      <td>...</td>\n",
       "      <td>...</td>\n",
       "      <td>...</td>\n",
       "      <td>...</td>\n",
       "    </tr>\n",
       "    <tr>\n",
       "      <th>99996</th>\n",
       "      <td>P0025</td>\n",
       "      <td>E0050</td>\n",
       "      <td>B0002</td>\n",
       "      <td>R0102</td>\n",
       "      <td>2021-01-27 10:00:00</td>\n",
       "      <td>2021-01-27 11:00:00</td>\n",
       "      <td>2021-01-27 09:33:00</td>\n",
       "      <td>2021-01-27 10:00:00</td>\n",
       "      <td>2021-01-27 10:34:00</td>\n",
       "      <td>52.500000</td>\n",
       "      <td>37.100000</td>\n",
       "      <td>Imaging remains unchanged</td>\n",
       "    </tr>\n",
       "    <tr>\n",
       "      <th>99997</th>\n",
       "      <td>P0127</td>\n",
       "      <td>E0059</td>\n",
       "      <td>B0002</td>\n",
       "      <td>R0402</td>\n",
       "      <td>2023-12-04 14:00:00</td>\n",
       "      <td>2023-12-04 15:00:00</td>\n",
       "      <td>2023-12-04 14:09:00</td>\n",
       "      <td>2023-12-04 14:09:00</td>\n",
       "      <td>2023-12-04 15:23:00</td>\n",
       "      <td>51.500000</td>\n",
       "      <td>37.100000</td>\n",
       "      <td>Heart rate in one week</td>\n",
       "    </tr>\n",
       "    <tr>\n",
       "      <th>99998</th>\n",
       "      <td>P0565</td>\n",
       "      <td>E0066</td>\n",
       "      <td>B0004</td>\n",
       "      <td>R0201</td>\n",
       "      <td>2020-01-03 09:00:00</td>\n",
       "      <td>2020-01-03 10:00:00</td>\n",
       "      <td>2020-01-03 08:03:00</td>\n",
       "      <td>2020-01-03 09:00:00</td>\n",
       "      <td>2020-01-03 09:42:00</td>\n",
       "      <td>50.500000</td>\n",
       "      <td>38.900000</td>\n",
       "      <td>Resting steady and unlabored</td>\n",
       "    </tr>\n",
       "    <tr>\n",
       "      <th>99999</th>\n",
       "      <td>P0600</td>\n",
       "      <td>E0011</td>\n",
       "      <td>B0001</td>\n",
       "      <td>R0304</td>\n",
       "      <td>2022-07-26 09:00:00</td>\n",
       "      <td>2022-07-26 10:00:00</td>\n",
       "      <td>2022-07-26 09:20:00</td>\n",
       "      <td>2022-07-26 09:20:00</td>\n",
       "      <td>2022-07-26 09:41:00</td>\n",
       "      <td>51.500000</td>\n",
       "      <td>37.200000</td>\n",
       "      <td>Wound site in one week</td>\n",
       "    </tr>\n",
       "    <tr>\n",
       "      <th>100000</th>\n",
       "      <td>NaN</td>\n",
       "      <td>NaN</td>\n",
       "      <td>NaN</td>\n",
       "      <td>NaN</td>\n",
       "      <td>NaT</td>\n",
       "      <td>NaT</td>\n",
       "      <td>NaT</td>\n",
       "      <td>NaT</td>\n",
       "      <td>average</td>\n",
       "      <td>51.497356</td>\n",
       "      <td>37.140657</td>\n",
       "      <td>NaN</td>\n",
       "    </tr>\n",
       "  </tbody>\n",
       "</table>\n",
       "<p>100001 rows × 12 columns</p>\n",
       "</div>"
      ],
      "text/plain": [
       "       PatientID DoctorID BuildingID RoomID      ScheduledStart  \\\n",
       "0          P0191    E0066      B0001  R0402 2024-01-05 14:00:00   \n",
       "1          P0776    E0065      B0004  R0104 2024-02-27 14:00:00   \n",
       "2          P0157    E0051      B0001  R0301 2022-12-28 09:00:00   \n",
       "3          P0593    E0044      B0004  R0101 2023-01-04 15:00:00   \n",
       "4          P0434    E0074      B0002  R0203 2020-04-14 09:00:00   \n",
       "...          ...      ...        ...    ...                 ...   \n",
       "99996      P0025    E0050      B0002  R0102 2021-01-27 10:00:00   \n",
       "99997      P0127    E0059      B0002  R0402 2023-12-04 14:00:00   \n",
       "99998      P0565    E0066      B0004  R0201 2020-01-03 09:00:00   \n",
       "99999      P0600    E0011      B0001  R0304 2022-07-26 09:00:00   \n",
       "100000       NaN      NaN        NaN    NaN                 NaT   \n",
       "\n",
       "              ScheduledEnd             Arrival         ActualStart  \\\n",
       "0      2024-01-05 15:00:00 2024-01-05 14:35:00 2024-01-05 14:35:00   \n",
       "1      2024-02-27 15:00:00 2024-02-27 14:59:00 2024-02-27 14:59:00   \n",
       "2      2022-12-28 10:00:00                 NaT                 NaT   \n",
       "3      2023-01-04 16:00:00 2023-01-04 15:48:00 2023-01-04 15:48:00   \n",
       "4      2020-04-14 10:00:00 2020-04-14 09:39:00 2020-04-14 09:39:00   \n",
       "...                    ...                 ...                 ...   \n",
       "99996  2021-01-27 11:00:00 2021-01-27 09:33:00 2021-01-27 10:00:00   \n",
       "99997  2023-12-04 15:00:00 2023-12-04 14:09:00 2023-12-04 14:09:00   \n",
       "99998  2020-01-03 10:00:00 2020-01-03 08:03:00 2020-01-03 09:00:00   \n",
       "99999  2022-07-26 10:00:00 2022-07-26 09:20:00 2022-07-26 09:20:00   \n",
       "100000                 NaT                 NaT                 NaT   \n",
       "\n",
       "                  ActualEnd  Weight(kg)  Temperature(celcius)  \\\n",
       "0       2024-01-05 15:11:00   49.500000             37.200000   \n",
       "1       2024-02-27 16:03:00   55.500000             37.100000   \n",
       "2                       NaN         NaN                   NaN   \n",
       "3       2023-01-04 16:22:00   50.500000             36.800000   \n",
       "4       2020-04-14 10:07:00   49.500000             38.100000   \n",
       "...                     ...         ...                   ...   \n",
       "99996   2021-01-27 10:34:00   52.500000             37.100000   \n",
       "99997   2023-12-04 15:23:00   51.500000             37.100000   \n",
       "99998   2020-01-03 09:42:00   50.500000             38.900000   \n",
       "99999   2022-07-26 09:41:00   51.500000             37.200000   \n",
       "100000              average   51.497356             37.140657   \n",
       "\n",
       "                              Comment  \n",
       "0             Orientation comfortably  \n",
       "1       Imaging has improved slightly  \n",
       "2                                 NaN  \n",
       "3                 Rash reported today  \n",
       "4        Continue observed on forearm  \n",
       "...                               ...  \n",
       "99996       Imaging remains unchanged  \n",
       "99997          Heart rate in one week  \n",
       "99998    Resting steady and unlabored  \n",
       "99999          Wound site in one week  \n",
       "100000                            NaN  \n",
       "\n",
       "[100001 rows x 12 columns]"
      ]
     },
     "execution_count": 13,
     "metadata": {},
     "output_type": "execute_result"
    }
   ],
   "source": [
    "appointment"
   ]
  },
  {
   "cell_type": "code",
   "execution_count": 14,
   "id": "sxWtEggb4Nlk",
   "metadata": {
    "colab": {
     "base_uri": "https://localhost:8080/"
    },
    "id": "sxWtEggb4Nlk",
    "outputId": "40d77781-001f-468b-a7b6-d3a76d59dcf1"
   },
   "outputs": [
    {
     "name": "stdout",
     "output_type": "stream",
     "text": [
      "Number of rows in the appointment DataFrame: 100001\n"
     ]
    }
   ],
   "source": [
    "print(\"Number of rows in the appointment DataFrame:\", len(appointment))"
   ]
  },
  {
   "cell_type": "markdown",
   "id": "9F_piwXYtieX",
   "metadata": {
    "id": "9F_piwXYtieX"
   },
   "source": [
    "### Checking for nulls\n"
   ]
  },
  {
   "cell_type": "code",
   "execution_count": 15,
   "id": "EenC_0kNtkYi",
   "metadata": {
    "colab": {
     "base_uri": "https://localhost:8080/"
    },
    "id": "EenC_0kNtkYi",
    "outputId": "6890eaca-dcbd-4f61-ddd4-a4cc5a7ddb93"
   },
   "outputs": [
    {
     "name": "stdout",
     "output_type": "stream",
     "text": [
      "<class 'pandas.core.frame.DataFrame'>\n",
      "RangeIndex: 100001 entries, 0 to 100000\n",
      "Data columns (total 12 columns):\n",
      " #   Column                Non-Null Count   Dtype         \n",
      "---  ------                --------------   -----         \n",
      " 0   PatientID             100000 non-null  object        \n",
      " 1   DoctorID              100000 non-null  object        \n",
      " 2   BuildingID            100000 non-null  object        \n",
      " 3   RoomID                100000 non-null  object        \n",
      " 4   ScheduledStart        100000 non-null  datetime64[ns]\n",
      " 5   ScheduledEnd          100000 non-null  datetime64[ns]\n",
      " 6   Arrival               97952 non-null   datetime64[ns]\n",
      " 7   ActualStart           97952 non-null   datetime64[ns]\n",
      " 8   ActualEnd             97953 non-null   object        \n",
      " 9   Weight(kg)            97953 non-null   float64       \n",
      " 10  Temperature(celcius)  97953 non-null   float64       \n",
      " 11  Comment               97952 non-null   object        \n",
      "dtypes: datetime64[ns](4), float64(2), object(6)\n",
      "memory usage: 9.2+ MB\n"
     ]
    }
   ],
   "source": [
    "appointment.info()"
   ]
  },
  {
   "cell_type": "markdown",
   "id": "PDF51CcxtnRP",
   "metadata": {
    "id": "PDF51CcxtnRP"
   },
   "source": [
    "From looking at the non null count, it seems there is a row where it is null for Arrival, ActualStart, Comment but not for ActualEnd, Weight and Temperature. I will examine it further.\n"
   ]
  },
  {
   "cell_type": "code",
   "execution_count": 16,
   "id": "gtVNs4tgtqrw",
   "metadata": {
    "colab": {
     "base_uri": "https://localhost:8080/",
     "height": 133
    },
    "id": "gtVNs4tgtqrw",
    "outputId": "d65ae3ca-6ee8-4627-99f6-aadbb9829de4"
   },
   "outputs": [
    {
     "name": "stdout",
     "output_type": "stream",
     "text": [
      "Count of rows where all specified col is not null: 97952\n",
      "Count of rows where all specified col is null: 2048\n",
      "Count of rows where not all specified col is null but all other col is null(the ones not specified): 1\n"
     ]
    },
    {
     "data": {
      "application/vnd.microsoft.datawrangler.viewer.v0+json": {
       "columns": [
        {
         "name": "index",
         "rawType": "int64",
         "type": "integer"
        },
        {
         "name": "PatientID",
         "rawType": "object",
         "type": "unknown"
        },
        {
         "name": "DoctorID",
         "rawType": "object",
         "type": "unknown"
        },
        {
         "name": "BuildingID",
         "rawType": "object",
         "type": "unknown"
        },
        {
         "name": "RoomID",
         "rawType": "object",
         "type": "unknown"
        },
        {
         "name": "ScheduledStart",
         "rawType": "datetime64[ns]",
         "type": "datetime"
        },
        {
         "name": "ScheduledEnd",
         "rawType": "datetime64[ns]",
         "type": "datetime"
        },
        {
         "name": "Arrival",
         "rawType": "datetime64[ns]",
         "type": "datetime"
        },
        {
         "name": "ActualStart",
         "rawType": "datetime64[ns]",
         "type": "datetime"
        },
        {
         "name": "ActualEnd",
         "rawType": "object",
         "type": "string"
        },
        {
         "name": "Weight(kg)",
         "rawType": "float64",
         "type": "float"
        },
        {
         "name": "Temperature(celcius)",
         "rawType": "float64",
         "type": "float"
        },
        {
         "name": "Comment",
         "rawType": "object",
         "type": "unknown"
        }
       ],
       "ref": "29151b25-601e-4c12-ade7-65ec22e7beae",
       "rows": [
        [
         "100000",
         null,
         null,
         null,
         null,
         null,
         null,
         null,
         null,
         "average",
         "51.49735584776217",
         "37.140656648165255",
         null
        ]
       ],
       "shape": {
        "columns": 12,
        "rows": 1
       }
      },
      "text/html": [
       "<div>\n",
       "<style scoped>\n",
       "    .dataframe tbody tr th:only-of-type {\n",
       "        vertical-align: middle;\n",
       "    }\n",
       "\n",
       "    .dataframe tbody tr th {\n",
       "        vertical-align: top;\n",
       "    }\n",
       "\n",
       "    .dataframe thead th {\n",
       "        text-align: right;\n",
       "    }\n",
       "</style>\n",
       "<table border=\"1\" class=\"dataframe\">\n",
       "  <thead>\n",
       "    <tr style=\"text-align: right;\">\n",
       "      <th></th>\n",
       "      <th>PatientID</th>\n",
       "      <th>DoctorID</th>\n",
       "      <th>BuildingID</th>\n",
       "      <th>RoomID</th>\n",
       "      <th>ScheduledStart</th>\n",
       "      <th>ScheduledEnd</th>\n",
       "      <th>Arrival</th>\n",
       "      <th>ActualStart</th>\n",
       "      <th>ActualEnd</th>\n",
       "      <th>Weight(kg)</th>\n",
       "      <th>Temperature(celcius)</th>\n",
       "      <th>Comment</th>\n",
       "    </tr>\n",
       "  </thead>\n",
       "  <tbody>\n",
       "    <tr>\n",
       "      <th>100000</th>\n",
       "      <td>NaN</td>\n",
       "      <td>NaN</td>\n",
       "      <td>NaN</td>\n",
       "      <td>NaN</td>\n",
       "      <td>NaT</td>\n",
       "      <td>NaT</td>\n",
       "      <td>NaT</td>\n",
       "      <td>NaT</td>\n",
       "      <td>average</td>\n",
       "      <td>51.497356</td>\n",
       "      <td>37.140657</td>\n",
       "      <td>NaN</td>\n",
       "    </tr>\n",
       "  </tbody>\n",
       "</table>\n",
       "</div>"
      ],
      "text/plain": [
       "       PatientID DoctorID BuildingID RoomID ScheduledStart ScheduledEnd  \\\n",
       "100000       NaN      NaN        NaN    NaN            NaT          NaT   \n",
       "\n",
       "       Arrival ActualStart ActualEnd  Weight(kg)  Temperature(celcius) Comment  \n",
       "100000     NaT         NaT   average   51.497356             37.140657     NaN  "
      ]
     },
     "execution_count": 16,
     "metadata": {},
     "output_type": "execute_result"
    }
   ],
   "source": [
    "# Rows where not all arrival, actualstart, actual end, weight, temperature and comment is all null or not null\n",
    "cols = ['Arrival', 'ActualStart', 'ActualEnd', 'Weight(kg)', 'Temperature(celcius)', 'Comment']\n",
    "\n",
    "not_null_rows = appointment[appointment[cols].notnull().all(axis=1)]\n",
    "print(\"Count of rows where all specified col is not null:\", len(not_null_rows))\n",
    "selected_rows_null_rows = appointment[appointment[cols].isnull().all(axis=1)]\n",
    "print(\"Count of rows where all specified col is null:\", len(selected_rows_null_rows))\n",
    "# Rows where NOT all are null AND NOT all are not null\n",
    "mixed_rows = appointment[\n",
    "    ~(appointment[cols].isnull().all(axis=1)) &\n",
    "    ~(appointment[cols].notnull().all(axis=1))\n",
    "]\n",
    "print(\"Count of rows where not all specified col is null but all other col is null(the ones not specified):\", len(mixed_rows))\n",
    "appointment[appointment.index.isin(mixed_rows.index)]"
   ]
  },
  {
   "cell_type": "markdown",
   "id": "EL07H3jutt8-",
   "metadata": {
    "id": "EL07H3jutt8-"
   },
   "source": [
    "From looking above, we can see that there is a row where data is missing, therefore we will remove it.\n"
   ]
  },
  {
   "cell_type": "code",
   "execution_count": 17,
   "id": "xrGha_C4tvcS",
   "metadata": {
    "colab": {
     "base_uri": "https://localhost:8080/"
    },
    "id": "xrGha_C4tvcS",
    "outputId": "404adbb4-e22e-4689-d08f-e80835557525"
   },
   "outputs": [
    {
     "name": "stdout",
     "output_type": "stream",
     "text": [
      "<class 'pandas.core.frame.DataFrame'>\n",
      "Index: 100000 entries, 0 to 99999\n",
      "Data columns (total 12 columns):\n",
      " #   Column                Non-Null Count   Dtype         \n",
      "---  ------                --------------   -----         \n",
      " 0   PatientID             100000 non-null  object        \n",
      " 1   DoctorID              100000 non-null  object        \n",
      " 2   BuildingID            100000 non-null  object        \n",
      " 3   RoomID                100000 non-null  object        \n",
      " 4   ScheduledStart        100000 non-null  datetime64[ns]\n",
      " 5   ScheduledEnd          100000 non-null  datetime64[ns]\n",
      " 6   Arrival               97952 non-null   datetime64[ns]\n",
      " 7   ActualStart           97952 non-null   datetime64[ns]\n",
      " 8   ActualEnd             97952 non-null   object        \n",
      " 9   Weight(kg)            97952 non-null   float64       \n",
      " 10  Temperature(celcius)  97952 non-null   float64       \n",
      " 11  Comment               97952 non-null   object        \n",
      "dtypes: datetime64[ns](4), float64(2), object(6)\n",
      "memory usage: 9.9+ MB\n"
     ]
    }
   ],
   "source": [
    "# remove rows where index is in mixed_rows\n",
    "appointment = appointment[~appointment.index.isin(mixed_rows.index)]\n",
    "appointment.info()\n"
   ]
  },
  {
   "cell_type": "markdown",
   "id": "NWr4Sdygtwlw",
   "metadata": {
    "id": "NWr4Sdygtwlw"
   },
   "source": [
    "#### PatientID, DoctorID, BuildingID, RoomID\n",
    "---\n"
   ]
  },
  {
   "cell_type": "code",
   "execution_count": 18,
   "id": "IROKq-0PNEom",
   "metadata": {
    "colab": {
     "base_uri": "https://localhost:8080/"
    },
    "id": "IROKq-0PNEom",
    "outputId": "de958b59-1be9-40e7-cbaf-3346a49833fd"
   },
   "outputs": [
    {
     "name": "stdout",
     "output_type": "stream",
     "text": [
      "=== DATA TYPES BEFORE CLEANING ===\n",
      "Appointment dataset:\n",
      "  DoctorID: object\n",
      "  PatientID: object\n",
      "  BuildingID: object\n",
      "  RoomID: object\n",
      "\n",
      "Staff dataset:\n",
      "  DoctorID: object\n",
      "\n",
      "Patient dataset:\n",
      "  PatientID: object\n",
      "\n",
      "Facility dataset:\n",
      "  BuildingID: object\n",
      "  RoomID: object\n",
      "\n",
      "==================================================\n",
      "=== CLEANING WHITESPACES ===\n",
      "Whitespace cleaning completed!\n",
      "\n",
      "==================================================\n",
      "=== DATA TYPES AFTER CLEANING ===\n",
      "Appointment dataset:\n",
      "  DoctorID: object\n",
      "  PatientID: object\n",
      "  BuildingID: object\n",
      "  RoomID: object\n",
      "\n",
      "Staff dataset:\n",
      "  DoctorID: object\n",
      "\n",
      "Patient dataset:\n",
      "  PatientID: object\n",
      "\n",
      "Facility dataset:\n",
      "  BuildingID: object\n",
      "  RoomID: object\n"
     ]
    }
   ],
   "source": [
    "# Check data types before cleaning\n",
    "print(\"=== DATA TYPES BEFORE CLEANING ===\")\n",
    "print(\"Appointment dataset:\")\n",
    "print(f\"  DoctorID: {appointment['DoctorID'].dtype}\")\n",
    "print(f\"  PatientID: {appointment['PatientID'].dtype}\")\n",
    "print(f\"  BuildingID: {appointment['BuildingID'].dtype}\")\n",
    "print(f\"  RoomID: {appointment['RoomID'].dtype}\")\n",
    "\n",
    "print(\"\\nStaff dataset:\")\n",
    "print(f\"  DoctorID: {staff['DoctorID'].dtype}\")\n",
    "\n",
    "print(\"\\nPatient dataset:\")\n",
    "print(f\"  PatientID: {patient['PatientID'].dtype}\")\n",
    "\n",
    "print(\"\\nFacility dataset:\")\n",
    "print(f\"  BuildingID: {facility['BuildingID'].dtype}\")  # Note: facility uses 'BuildingID' (typo in original)\n",
    "print(f\"  RoomID: {facility['RoomID'].dtype}\")\n",
    "\n",
    "print(\"\\n\" + \"=\"*50)\n",
    "\n",
    "# Clean whitespaces\n",
    "print(\"=== CLEANING WHITESPACES ===\")\n",
    "\n",
    "# Appointment dataset\n",
    "appointment['DoctorID'] = appointment['DoctorID'].str.strip()\n",
    "appointment['PatientID'] = appointment['PatientID'].str.strip()\n",
    "appointment['BuildingID'] = appointment['BuildingID'].str.strip()\n",
    "appointment['RoomID'] = appointment['RoomID'].str.strip()\n",
    "\n",
    "# Staff dataset\n",
    "staff['DoctorID'] = staff['DoctorID'].str.strip()\n",
    "\n",
    "# Patient dataset\n",
    "patient['PatientID'] = patient['PatientID'].str.strip()\n",
    "\n",
    "# Facility dataset\n",
    "facility['BuildingID'] = facility['BuildingID'].str.strip()\n",
    "facility['RoomID'] = facility['RoomID'].str.strip()\n",
    "\n",
    "print(\"Whitespace cleaning completed!\")\n",
    "\n",
    "print(\"\\n\" + \"=\"*50)\n",
    "\n",
    "# Check data types after cleaning\n",
    "print(\"=== DATA TYPES AFTER CLEANING ===\")\n",
    "print(\"Appointment dataset:\")\n",
    "print(f\"  DoctorID: {appointment['DoctorID'].dtype}\")\n",
    "print(f\"  PatientID: {appointment['PatientID'].dtype}\")\n",
    "print(f\"  BuildingID: {appointment['BuildingID'].dtype}\")\n",
    "print(f\"  RoomID: {appointment['RoomID'].dtype}\")\n",
    "\n",
    "print(\"\\nStaff dataset:\")\n",
    "print(f\"  DoctorID: {staff['DoctorID'].dtype}\")\n",
    "\n",
    "print(\"\\nPatient dataset:\")\n",
    "print(f\"  PatientID: {patient['PatientID'].dtype}\")\n",
    "\n",
    "print(\"\\nFacility dataset:\")\n",
    "print(f\"  BuildingID: {facility['BuildingID'].dtype}\")\n",
    "print(f\"  RoomID: {facility['RoomID'].dtype}\")"
   ]
  },
  {
   "cell_type": "code",
   "execution_count": 19,
   "id": "PQAa9QEttxpV",
   "metadata": {
    "colab": {
     "base_uri": "https://localhost:8080/"
    },
    "id": "PQAa9QEttxpV",
    "outputId": "f05e6a56-7ebf-4e55-cb0b-5811d72c5fcf"
   },
   "outputs": [
    {
     "name": "stdout",
     "output_type": "stream",
     "text": [
      "=== Forward Checks (Appointment -> Supporting Datasets) ===\n",
      "All PatientIDs in appointment are in patient dataset: True\n",
      "All DoctorIDs in appointment are in staff dataset: True\n",
      "All BuildingIDs in appointment are in facility dataset: False\n",
      "All RoomIDs in appointment are in facility dataset: True\n"
     ]
    },
    {
     "name": "stdout",
     "output_type": "stream",
     "text": [
      "All BuildingID and RoomID combinations in appointment are in facility: False\n",
      "\n",
      "=== Reverse Checks (Supporting Datasets -> Appointment) ===\n",
      "All PatientIDs in patient dataset are used in appointment: True\n",
      "All DoctorIDs in staff dataset are used in appointment: False\n",
      "All BuildingIDs in facility are used in appointment: False\n",
      "All RoomIDs in facility are used in appointment: False\n",
      "All BuildingID and RoomID combinations in facility are used in appointment: False\n"
     ]
    }
   ],
   "source": [
    "# --- Forward Checks ---\n",
    "print(\"=== Forward Checks (Appointment -> Supporting Datasets) ===\")\n",
    "\n",
    "# Check if PatientID in appointment exists in patient\n",
    "patient_id_check = appointment['PatientID'].isin(patient['PatientID']).all()\n",
    "print(f\"All PatientIDs in appointment are in patient dataset: {patient_id_check}\")\n",
    "\n",
    "# Check if DoctorID in appointment exists in staff\n",
    "doctor_id_check = appointment['DoctorID'].isin(staff['DoctorID']).all()\n",
    "print(f\"All DoctorIDs in appointment are in staff dataset: {doctor_id_check}\")\n",
    "\n",
    "# Check if BuildingID in appointment exists in facility\n",
    "building_id_check = appointment['BuildingID'].isin(facility['BuildingID']).all()\n",
    "print(f\"All BuildingIDs in appointment are in facility dataset: {building_id_check}\")\n",
    "\n",
    "# Check if RoomID in appointment exists in facility\n",
    "room_id_check = appointment['RoomID'].isin(facility['RoomID']).all()\n",
    "print(f\"All RoomIDs in appointment are in facility dataset: {room_id_check}\")\n",
    "\n",
    "# Check if the combined BuildingID and RoomID from appointment exist in facility\n",
    "appointment['BuildingRoom'] = appointment['BuildingID'] + appointment['RoomID']\n",
    "facility['BuildingRoom'] = facility['BuildingID'] + facility['RoomID']\n",
    "building_room_check = appointment['BuildingRoom'].isin(facility['BuildingRoom']).all()\n",
    "print(f\"All BuildingID and RoomID combinations in appointment are in facility: {building_room_check}\")\n",
    "\n",
    "# --- Reverse Checks ---\n",
    "print(\"\\n=== Reverse Checks (Supporting Datasets -> Appointment) ===\")\n",
    "\n",
    "# Check if all PatientIDs in patient are used in appointment\n",
    "patient_id_reverse_check = patient['PatientID'].isin(appointment['PatientID']).all()\n",
    "print(f\"All PatientIDs in patient dataset are used in appointment: {patient_id_reverse_check}\")\n",
    "\n",
    "# Check if all DoctorIDs in staff are used in appointment\n",
    "doctor_id_reverse_check = staff['DoctorID'].isin(appointment['DoctorID']).all()\n",
    "print(f\"All DoctorIDs in staff dataset are used in appointment: {doctor_id_reverse_check}\")\n",
    "\n",
    "# Check if all BuildingIDs in facility are used in appointment\n",
    "building_id_reverse_check = facility['BuildingID'].isin(appointment['BuildingID']).all()\n",
    "print(f\"All BuildingIDs in facility are used in appointment: {building_id_reverse_check}\")\n",
    "\n",
    "# Check if all RoomIDs in facility are used in appointment\n",
    "room_id_reverse_check = facility['RoomID'].isin(appointment['RoomID']).all()\n",
    "print(f\"All RoomIDs in facility are used in appointment: {room_id_reverse_check}\")\n",
    "\n",
    "# Check if all BuildingRoom combinations in facility are used in appointment\n",
    "building_room_reverse_check = facility['BuildingRoom'].isin(appointment['BuildingRoom']).all()\n",
    "print(f\"All BuildingID and RoomID combinations in facility are used in appointment: {building_room_reverse_check}\")\n",
    "\n",
    "# Drop the temporary combined columns\n",
    "appointment.drop(columns=['BuildingRoom'], inplace=True)\n",
    "facility.drop(columns=['BuildingRoom'], inplace=True)\n"
   ]
  },
  {
   "cell_type": "markdown",
   "id": "gBUU70pkdtcC",
   "metadata": {
    "id": "gBUU70pkdtcC"
   },
   "source": [
    "Based on our referential integrity checks, we found mismatches between datasets — for example, some DoctorID, BuildingID, and RoomID values are not consistently present across all datasets.\n",
    "To retain as much data as possible, we might need to combine records from both sides rather than strictly filtering based on one primary dataset.\n",
    "\n",
    "While the appointment dataset has the largest number of rows (100,000), our goal is to maximize usable records by merging intelligently and keeping entries that have valid references in either direction wherever appropriate.\n",
    "\n",
    "\n",
    "* **DoctorID** → Use `staff` dataset\n",
    "* **PatientID** → Can use both `appointment` and `patient` datasets\n",
    "* **BuildingID** → Further examination needed\n",
    "* **RoomID** → Use `facility` dataset\n"
   ]
  },
  {
   "cell_type": "code",
   "execution_count": 20,
   "id": "zTRuNDhyNZyV",
   "metadata": {
    "colab": {
     "base_uri": "https://localhost:8080/"
    },
    "id": "zTRuNDhyNZyV",
    "outputId": "8a1aa3a1-348c-4df1-df38-5bbc0fb39c83"
   },
   "outputs": [
    {
     "name": "stdout",
     "output_type": "stream",
     "text": [
      "\n",
      "BuildingIDs found only in appointment, not in facility:\n",
      "      PatientID DoctorID BuildingID RoomID      ScheduledStart  \\\n",
      "44299     P0029    E0015      BB002  R0203 2020-09-13 09:00:00   \n",
      "\n",
      "             ScheduledEnd             Arrival         ActualStart  \\\n",
      "44299 2020-09-13 10:00:00 2020-09-13 09:16:00 2020-09-13 09:16:00   \n",
      "\n",
      "                 ActualEnd  Weight(kg)  Temperature(celcius)  \\\n",
      "44299  2020-09-13 09:38:00        50.5                  38.6   \n",
      "\n",
      "                           Comment  \n",
      "44299  Mobility shows no discharge  \n"
     ]
    }
   ],
   "source": [
    "# Filter rows where BuildingID in appointment is NOT in facility\n",
    "building_id_only_in_appointment = appointment[~appointment['BuildingID'].isin(facility['BuildingID'])]\n",
    "\n",
    "# Display full rows\n",
    "print(\"\\nBuildingIDs found only in appointment, not in facility:\")\n",
    "print(building_id_only_in_appointment)\n",
    "\n"
   ]
  },
  {
   "cell_type": "markdown",
   "id": "PwWUI64wOVdi",
   "metadata": {
    "id": "PwWUI64wOVdi"
   },
   "source": [
    "This is most likely be error, BB002 should B0002."
   ]
  },
  {
   "cell_type": "code",
   "execution_count": 21,
   "id": "7jErK60jNeKe",
   "metadata": {
    "colab": {
     "base_uri": "https://localhost:8080/"
    },
    "id": "7jErK60jNeKe",
    "outputId": "f3d303ea-ae1e-439b-aee7-ea1c40c4f935"
   },
   "outputs": [
    {
     "name": "stdout",
     "output_type": "stream",
     "text": [
      "\n",
      "BuildingIDs found only in facility, not in appointment:\n",
      "0  BuildingID RoomID\n",
      "32      B0003  R0101\n",
      "33      B0003  R0102\n",
      "34      B0003  R0103\n",
      "35      B0003  R0104\n",
      "36      B0003  R0201\n",
      "37      B0003  R0202\n",
      "38      B0003  R0203\n",
      "39      B0003  R0204\n"
     ]
    }
   ],
   "source": [
    "# Filter rows where BuildingID in facility is NOT in appointment\n",
    "building_id_only_in_facility = facility[~facility['BuildingID'].isin(appointment['BuildingID'])]\n",
    "\n",
    "# Display result\n",
    "print(\"\\nBuildingIDs found only in facility, not in appointment:\")\n",
    "print(building_id_only_in_facility[['BuildingID', 'RoomID']])\n"
   ]
  },
  {
   "cell_type": "markdown",
   "id": "yWkk_zyTOaSX",
   "metadata": {
    "id": "yWkk_zyTOaSX"
   },
   "source": [
    "From this observation, we will note facility dataset as a dataset that includes all buildingId, assuming BB002 is error."
   ]
  },
  {
   "cell_type": "code",
   "execution_count": 22,
   "id": "kDJ6S8T0PDp-",
   "metadata": {
    "colab": {
     "base_uri": "https://localhost:8080/"
    },
    "id": "kDJ6S8T0PDp-",
    "outputId": "f93f9d6d-45f3-4fcf-8b8e-f7662ae09575"
   },
   "outputs": [
    {
     "name": "stdout",
     "output_type": "stream",
     "text": [
      "\n",
      "Rows in appointment where BuildingID + RoomID not found in facility:\n",
      "      PatientID DoctorID BuildingID RoomID      ScheduledStart  \\\n",
      "44299     P0029    E0015      BB002  R0203 2020-09-13 09:00:00   \n",
      "\n",
      "             ScheduledEnd             Arrival         ActualStart  \\\n",
      "44299 2020-09-13 10:00:00 2020-09-13 09:16:00 2020-09-13 09:16:00   \n",
      "\n",
      "                 ActualEnd  Weight(kg)  Temperature(celcius)  \\\n",
      "44299  2020-09-13 09:38:00        50.5                  38.6   \n",
      "\n",
      "                           Comment BuildingRoom  \n",
      "44299  Mobility shows no discharge   BB002R0203  \n",
      "\n",
      "Rows in facility where BuildingID + RoomID not found in appointment:\n",
      "0            Department BuildingID   BuildingName RoomID             Purpose  \\\n",
      "3             Emergency      B0001    Emergency 1  R0104            Pharmacy   \n",
      "4             Emergency      B0001    Emergency 1  R0201          Laboratory   \n",
      "5             Emergency      B0001    Emergency 1  R0202          Laboratory   \n",
      "6             Emergency      B0001    Emergency 1  R0203          X-ray Room   \n",
      "7             Emergency      B0001    Emergency 1  R0204          X-ray Room   \n",
      "12              Surgery      B0001    Emergency 1  R0401      Operating Room   \n",
      "15            Radiology      B0001    Emergency 1  R0404          X-ray Room   \n",
      "23              Surgery      B0002  Central Tower  R0204      Operating Room   \n",
      "24              Surgery      B0002  Central Tower  R0301      Operating Room   \n",
      "26              Surgery      B0002  Central Tower  R0303      Operating Room   \n",
      "30              Surgery      B0002  Central Tower  R0403      Operating Room   \n",
      "31            Radiology      B0002  Central Tower  R0404          X-ray Room   \n",
      "32  Intensive Care Unit      B0003      ICU Tower  R0101  Critical Care Room   \n",
      "33  Intensive Care Unit      B0003      ICU Tower  R0102  Critical Care Room   \n",
      "34  Intensive Care Unit      B0003      ICU Tower  R0103  Critical Care Room   \n",
      "35  Intensive Care Unit      B0003      ICU Tower  R0104  Isolation ICU Room   \n",
      "36            Radiology      B0003      ICU Tower  R0201          X-ray Room   \n",
      "37            Radiology      B0003      ICU Tower  R0202            MRI Room   \n",
      "38              Surgery      B0003      ICU Tower  R0203      Operating Room   \n",
      "39              Surgery      B0003      ICU Tower  R0204      Operating Room   \n",
      "47            Radiology      B0004    Emergency 2  R0204          X-ray Room   \n",
      "\n",
      "0  BuildingRoom  \n",
      "3    B0001R0104  \n",
      "4    B0001R0201  \n",
      "5    B0001R0202  \n",
      "6    B0001R0203  \n",
      "7    B0001R0204  \n",
      "12   B0001R0401  \n",
      "15   B0001R0404  \n",
      "23   B0002R0204  \n",
      "24   B0002R0301  \n",
      "26   B0002R0303  \n",
      "30   B0002R0403  \n",
      "31   B0002R0404  \n",
      "32   B0003R0101  \n",
      "33   B0003R0102  \n",
      "34   B0003R0103  \n",
      "35   B0003R0104  \n",
      "36   B0003R0201  \n",
      "37   B0003R0202  \n",
      "38   B0003R0203  \n",
      "39   B0003R0204  \n",
      "47   B0004R0204  \n"
     ]
    }
   ],
   "source": [
    "# Create combined key in both DataFrames\n",
    "appointment['BuildingRoom'] = appointment['BuildingID'] + appointment['RoomID']\n",
    "facility['BuildingRoom'] = facility['BuildingID'] + facility['RoomID']\n",
    "\n",
    "# Forward check: appointment → facility\n",
    "missing_in_facility = appointment[~appointment['BuildingRoom'].isin(facility['BuildingRoom'])]\n",
    "print(\"\\nRows in appointment where BuildingID + RoomID not found in facility:\")\n",
    "print(missing_in_facility)\n",
    "\n",
    "# Reverse check: facility → appointment\n",
    "missing_in_appointment = facility[~facility['BuildingRoom'].isin(appointment['BuildingRoom'])]\n",
    "print(\"\\nRows in facility where BuildingID + RoomID not found in appointment:\")\n",
    "print(missing_in_appointment)\n",
    "\n",
    "# Optional: Clean up temporary column\n",
    "appointment.drop(columns=['BuildingRoom'], inplace=True)\n",
    "facility.drop(columns=['BuildingRoom'], inplace=True)\n"
   ]
  },
  {
   "cell_type": "markdown",
   "id": "ZXWuewktPgv8",
   "metadata": {
    "id": "ZXWuewktPgv8"
   },
   "source": [
    "From the row where the combination of BuildingID and RoomID wasn't found\n",
    "- it seems it is beacuse of spelling error where `BBOO2` was inserted instead of `B0002`.\n",
    "- Therefore, we will change it."
   ]
  },
  {
   "cell_type": "code",
   "execution_count": 23,
   "id": "6zUTpzl7B6dQ",
   "metadata": {
    "colab": {
     "base_uri": "https://localhost:8080/",
     "height": 460
    },
    "id": "6zUTpzl7B6dQ",
    "outputId": "beb59fd5-9d27-4a03-d42e-4c77e190e4f7"
   },
   "outputs": [
    {
     "data": {
      "application/vnd.microsoft.datawrangler.viewer.v0+json": {
       "columns": [
        {
         "name": "index",
         "rawType": "object",
         "type": "string"
        },
        {
         "name": "44299",
         "rawType": "object",
         "type": "unknown"
        }
       ],
       "ref": "0e207d35-2f22-4ba2-83f5-5782c52f3bcc",
       "rows": [
        [
         "PatientID",
         "P0029"
        ],
        [
         "DoctorID",
         "E0015"
        ],
        [
         "BuildingID",
         "B0002"
        ],
        [
         "RoomID",
         "R0203"
        ],
        [
         "ScheduledStart",
         "2020-09-13 09:00:00"
        ],
        [
         "ScheduledEnd",
         "2020-09-13 10:00:00"
        ],
        [
         "Arrival",
         "2020-09-13 09:16:00"
        ],
        [
         "ActualStart",
         "2020-09-13 09:16:00"
        ],
        [
         "ActualEnd",
         "2020-09-13 09:38:00"
        ],
        [
         "Weight(kg)",
         "50.5"
        ],
        [
         "Temperature(celcius)",
         "38.6"
        ],
        [
         "Comment",
         "Mobility shows no discharge"
        ]
       ],
       "shape": {
        "columns": 1,
        "rows": 12
       }
      },
      "text/plain": [
       "PatientID                                     P0029\n",
       "DoctorID                                      E0015\n",
       "BuildingID                                    B0002\n",
       "RoomID                                        R0203\n",
       "ScheduledStart                  2020-09-13 09:00:00\n",
       "ScheduledEnd                    2020-09-13 10:00:00\n",
       "Arrival                         2020-09-13 09:16:00\n",
       "ActualStart                     2020-09-13 09:16:00\n",
       "ActualEnd                       2020-09-13 09:38:00\n",
       "Weight(kg)                                     50.5\n",
       "Temperature(celcius)                           38.6\n",
       "Comment                 Mobility shows no discharge\n",
       "Name: 44299, dtype: object"
      ]
     },
     "metadata": {},
     "output_type": "display_data"
    }
   ],
   "source": [
    "# Correct the BuildingID for the specific row\n",
    "appointment.loc[44299, 'BuildingID'] = 'B0002'\n",
    "\n",
    "# Verify the change\n",
    "display(appointment.loc[44299])"
   ]
  },
  {
   "cell_type": "markdown",
   "id": "Yr3TVaX2pFd7",
   "metadata": {
    "id": "Yr3TVaX2pFd7"
   },
   "source": [
    "#### Scheduled_Start, Scheduled_End, Arrival, Actual_Start, Actual_End\n",
    "---"
   ]
  },
  {
   "cell_type": "code",
   "execution_count": 24,
   "id": "gFcJNyKIpNWE",
   "metadata": {
    "colab": {
     "base_uri": "https://localhost:8080/"
    },
    "id": "gFcJNyKIpNWE",
    "outputId": "e58155aa-0496-4af6-fde6-406e813c3ef6"
   },
   "outputs": [
    {
     "name": "stdout",
     "output_type": "stream",
     "text": [
      "Earliest Scheduled Start Date: 2020-01-01 09:00:00\n",
      "Latest Scheduled End Date: 2024-12-31 17:00:00\n",
      "\n",
      "Number of NaT values in Arrival: 2048\n",
      "\n",
      "Number of NaT values in ActualStart: 2048\n",
      "\n",
      "Number of NaT values in ActualEnd: 2048\n",
      "\n",
      "All ScheduledEnd dates are after ScheduledStart dates.\n",
      "\n",
      "All ActualStart dates are after Arrival dates.\n",
      "\n",
      "All ActualEnd dates are after ActualStart dates.\n"
     ]
    }
   ],
   "source": [
    "# Convert 'ActualEnd' to datetime, coercing errors\n",
    "appointment['ActualEnd'] = pd.to_datetime(appointment['ActualEnd'], errors='coerce')\n",
    "\n",
    "# Display info to confirm changes\n",
    "# appointment.info()\n",
    "\n",
    "# Check for dates outside a reasonable range\n",
    "# Determine a reasonable date range based on ScheduledStart and ScheduledEnd\n",
    "min_scheduled_date = appointment['ScheduledStart'].min()\n",
    "max_scheduled_date = appointment['ScheduledEnd'].max()\n",
    "\n",
    "print(f\"Earliest Scheduled Start Date: {min_scheduled_date}\")\n",
    "print(f\"Latest Scheduled End Date: {max_scheduled_date}\")\n",
    "\n",
    "# Define a buffer period (e.g., 1 year before the earliest scheduled start and 1 year after the latest scheduled end)\n",
    "date_buffer = pd.DateOffset(years=1)\n",
    "earliest_reasonable_date = min_scheduled_date - date_buffer\n",
    "latest_reasonable_date = max_scheduled_date + date_buffer\n",
    "\n",
    "date_columns = ['ScheduledStart', 'ScheduledEnd', 'Arrival', 'ActualStart', 'ActualEnd']\n",
    "\n",
    "for col in date_columns:\n",
    "    # Check for dates before the earliest reasonable date\n",
    "    invalid_earlier_dates = appointment[appointment[col] < earliest_reasonable_date]\n",
    "    if not invalid_earlier_dates.empty:\n",
    "        print(f\"\\nRows with {col} before {earliest_reasonable_date.date()}:\")\n",
    "        display(invalid_earlier_dates)\n",
    "\n",
    "    # Check for dates after the latest reasonable date\n",
    "    invalid_later_dates = appointment[appointment[col] > latest_reasonable_date]\n",
    "    if not invalid_later_dates.empty:\n",
    "        print(f\"\\nRows with {col} after {latest_reasonable_date.date()}:\")\n",
    "        display(invalid_later_dates)\n",
    "\n",
    "    # Check for NaT values (already done by .info(), but can explicitly check if needed)\n",
    "    nat_count = appointment[col].isnull().sum()\n",
    "    if nat_count > 0:\n",
    "        print(f\"\\nNumber of NaT values in {col}: {nat_count}\")\n",
    "\n",
    "# Check if ScheduledEnd is before ScheduledStart\n",
    "invalid_scheduled_times = appointment[appointment['ScheduledEnd'] < appointment['ScheduledStart']]\n",
    "if not invalid_scheduled_times.empty:\n",
    "    print(\"\\nRows where ScheduledEnd is before ScheduledStart:\")\n",
    "    display(invalid_scheduled_times)\n",
    "else:\n",
    "    print(\"\\nAll ScheduledEnd dates are after ScheduledStart dates.\")\n",
    "\n",
    "# Check if ActualStart is before Arrival\n",
    "invalid_arrival_times = appointment[appointment['ActualStart'] < appointment['Arrival']]\n",
    "if not invalid_arrival_times.empty:\n",
    "    print(\"\\nRows where ActualStart is before Arrival:\")\n",
    "    display(invalid_arrival_times)\n",
    "else:\n",
    "    print(\"\\nAll ActualStart dates are after Arrival dates.\")\n",
    "\n",
    "\n",
    "# Check if ActualEnd is before ActualStart (invalid)\n",
    "invalid_actual_times = appointment[appointment['ActualEnd'] < appointment['ActualStart']]\n",
    "if not invalid_actual_times.empty:\n",
    "    print(\"\\nRows where ActualEnd is before ActualStart:\")\n",
    "    display(invalid_actual_times)\n",
    "else:\n",
    "    print(\"\\nAll ActualEnd dates are after ActualStart dates.\")"
   ]
  },
  {
   "cell_type": "markdown",
   "id": "jdNweHnwXiO_",
   "metadata": {
    "id": "jdNweHnwXiO_"
   },
   "source": [
    "#### Weight and Temperature\n",
    "---"
   ]
  },
  {
   "cell_type": "code",
   "execution_count": 25,
   "id": "TYBllMSXXiv5",
   "metadata": {
    "colab": {
     "base_uri": "https://localhost:8080/"
    },
    "id": "TYBllMSXXiv5",
    "outputId": "48496f62-78f2-44ae-d274-b8941f78114f"
   },
   "outputs": [
    {
     "name": "stdout",
     "output_type": "stream",
     "text": [
      "Data types:\n",
      "Weight(kg)              float64\n",
      "Temperature(celcius)    float64\n",
      "dtype: object\n",
      "\n",
      "All Weight(kg) values are within the viable range (0kg - 500kg).\n",
      "\n",
      "All Temperature(celcius) values are within the viable range (30°C - 45°C).\n",
      "\n",
      "Null counts for Weight(kg) and Temperature(celcius):\n",
      "Weight(kg)              2048\n",
      "Temperature(celcius)    2048\n",
      "dtype: int64\n"
     ]
    }
   ],
   "source": [
    "# Check data types for Weight(kg) and Temperature(celcius)\n",
    "print(\"Data types:\")\n",
    "print(appointment[['Weight(kg)', 'Temperature(celcius)']].dtypes)\n",
    "\n",
    "# Check for non-numeric values if the dtype is 'object' (although it's currently float64)\n",
    "# If the dtype was object, we would try converting to numeric and identify errors:\n",
    "# non_numeric_weight = pd.to_numeric(appointment['Weight(kg)'], errors='coerce').isnull()\n",
    "# non_numeric_temp = pd.to_numeric(appointment['Temperature(celcius)'], errors='coerce').isnull()\n",
    "# print(\"\\nRows with non-numeric Weight(kg):\")\n",
    "# display(appointment[non_numeric_weight])\n",
    "# print(\"\\nRows with non-numeric Temperature(celcius):\")\n",
    "# display(appointment[non_numeric_temp])\n",
    "\n",
    "# Check for viable weight range (e.g., > 0 and within a reasonable upper limit)\n",
    "# Define a reasonable range (these are examples and might need adjustment based on context)\n",
    "min_weight = 0\n",
    "max_weight = 500 # Assuming weight is in kg, 500 kg is a generous upper limit\n",
    "\n",
    "invalid_weight = appointment[(appointment['Weight(kg)'] <= min_weight) | (appointment['Weight(kg)'] > max_weight)]\n",
    "if not invalid_weight.empty:\n",
    "    print(f\"\\nRows with Weight(kg) outside the range ({min_weight}kg - {max_weight}kg):\")\n",
    "    display(invalid_weight)\n",
    "else:\n",
    "    print(f\"\\nAll Weight(kg) values are within the viable range ({min_weight}kg - {max_weight}kg).\")\n",
    "\n",
    "# Check for viable temperature range (e.g., typically human body temperature range)\n",
    "# Define a reasonable range in Celsius\n",
    "min_temp = 30 # Assuming a very low body temperature\n",
    "max_temp = 45 # Assuming a very high fever\n",
    "\n",
    "invalid_temp = appointment[(appointment['Temperature(celcius)'] < min_temp) | (appointment['Temperature(celcius)'] > max_temp)]\n",
    "if not invalid_temp.empty:\n",
    "    print(f\"\\nRows with Temperature(celcius) outside the range ({min_temp}°C - {max_temp}°C):\")\n",
    "    display(invalid_temp)\n",
    "else:\n",
    "    print(f\"\\nAll Temperature(celcius) values are within the viable range ({min_temp}°C - {max_temp}°C).\")\n",
    "\n",
    "# Check for nulls in these columns (already done by .info(), but good to reiterate)\n",
    "print(\"\\nNull counts for Weight(kg) and Temperature(celcius):\")\n",
    "print(appointment[['Weight(kg)', 'Temperature(celcius)']].isnull().sum())"
   ]
  },
  {
   "cell_type": "markdown",
   "id": "C6jsDmdkXkEA",
   "metadata": {
    "id": "C6jsDmdkXkEA"
   },
   "source": [
    "#### Comments\n",
    "---"
   ]
  },
  {
   "cell_type": "code",
   "execution_count": 26,
   "id": "LG29bpqDXljp",
   "metadata": {
    "colab": {
     "base_uri": "https://localhost:8080/",
     "height": 121
    },
    "id": "LG29bpqDXljp",
    "outputId": "a79ac8a2-520b-44a8-b269-d50e0a4102b1"
   },
   "outputs": [
    {
     "name": "stdout",
     "output_type": "stream",
     "text": [
      "Data type of 'Comment' column:\n"
     ]
    },
    {
     "data": {
      "text/plain": [
       "dtype('O')"
      ]
     },
     "metadata": {},
     "output_type": "display_data"
    },
    {
     "name": "stdout",
     "output_type": "stream",
     "text": [
      "\n",
      "Number of null comments: 2048\n",
      "\n",
      "All non-null comments are strings.\n"
     ]
    }
   ],
   "source": [
    "# Check data type of the 'Comment' column\n",
    "print(\"Data type of 'Comment' column:\")\n",
    "display(appointment['Comment'].dtype)\n",
    "\n",
    "# Check for null values in 'Comment'\n",
    "null_comments_count = appointment['Comment'].isnull().sum()\n",
    "print(f\"\\nNumber of null comments: {null_comments_count}\")\n",
    "\n",
    "# Check for non-string data types in 'Comment' (if the dtype is object)\n",
    "if appointment['Comment'].dtype == 'object':\n",
    "    non_string_comments = appointment[appointment['Comment'].apply(lambda x: not isinstance(x, str) and pd.notna(x))]\n",
    "    if not non_string_comments.empty:\n",
    "        print(\"\\nRows with non-string comments:\")\n",
    "        display(non_string_comments)\n",
    "    else:\n",
    "        print(\"\\nAll non-null comments are strings.\")"
   ]
  },
  {
   "cell_type": "markdown",
   "id": "e75346dc",
   "metadata": {
    "id": "e75346dc"
   },
   "source": [
    "# Patient Data Analysis and Cleaning\n",
    "---"
   ]
  },
  {
   "cell_type": "code",
   "execution_count": 27,
   "id": "XNOyGXevT575",
   "metadata": {
    "colab": {
     "base_uri": "https://localhost:8080/",
     "height": 424
    },
    "id": "XNOyGXevT575",
    "outputId": "963bdb47-d7a2-48c4-b8c6-38fb1d7e65b5"
   },
   "outputs": [
    {
     "data": {
      "application/vnd.microsoft.datawrangler.viewer.v0+json": {
       "columns": [
        {
         "name": "index",
         "rawType": "int64",
         "type": "integer"
        },
        {
         "name": "PatientID",
         "rawType": "object",
         "type": "string"
        },
        {
         "name": "Name",
         "rawType": "object",
         "type": "string"
        },
        {
         "name": "Sex",
         "rawType": "object",
         "type": "string"
        },
        {
         "name": "Contact",
         "rawType": "int64",
         "type": "integer"
        },
        {
         "name": "email",
         "rawType": "object",
         "type": "string"
        },
        {
         "name": "Address",
         "rawType": "object",
         "type": "string"
        },
        {
         "name": "DOB",
         "rawType": "datetime64[ns]",
         "type": "datetime"
        }
       ],
       "ref": "88abdbe5-7ca6-404e-b6b6-325492f7c934",
       "rows": [
        [
         "0",
         "P0001",
         "Kelsey Moore",
         "female",
         "39472495",
         "kelsey.moore@gmail.com",
         "34892 Christopher Crossing, South Brooke, NH 16114",
         "1997-05-05 00:00:00"
        ],
        [
         "1",
         "P0002",
         "William Perry",
         "male",
         "15351117",
         "william.perry@hotmail.com",
         "94501 Bell Islands Suite 485, New Jessica, NJ 36060",
         "2007-06-06 00:00:00"
        ],
        [
         "2",
         "P0003",
         "Nicholas Jones",
         "male",
         "56648257",
         "nicholas.jones@yahoo.com",
         "8841 Lewis Parkways Apt. 040, South Kristen, ID 34440",
         "1975-12-04 00:00:00"
        ],
        [
         "3",
         "P0004",
         "Theresa Smith",
         "female",
         "45807263",
         "theresa.smith@outlook.com",
         "271 Jeffrey Freeway, Willisbury, ME 39487",
         "1997-09-14 00:00:00"
        ],
        [
         "4",
         "P0005",
         "Tara Kennedy",
         "female",
         "84234563",
         "tara.kennedy@protonmail.com",
         "64128 Rick Coves Apt. 284, Lake James, NJ 51964",
         "2011-02-22 00:00:00"
        ],
        [
         "5",
         "P0006",
         "Shelly Baird",
         "female",
         "52686904",
         "shelly.baird@protonmail.com",
         "940 Lisa Passage Suite 300, Michaelstad, NE 34591",
         "1954-09-23 00:00:00"
        ],
        [
         "6",
         "P0007",
         "Don King",
         "male",
         "19890570",
         "don.king@outlook.com",
         "4513 Sanchez Cape Suite 365, North Jacob, IN 57984",
         "1988-08-05 00:00:00"
        ],
        [
         "7",
         "P0008",
         "Lisa Ayala",
         "female",
         "10365873",
         "lisa.ayala@yahoo.com",
         "11611 Kenneth Lane Apt. 069, Henryland, HI 42232",
         "1968-04-19 00:00:00"
        ],
        [
         "8",
         "P0009",
         "Ashley Greene",
         "female",
         "38620529",
         "ashley.greene@outlook.com",
         "6760 Sean Hollow Suite 770, Port Catherine, KS 84250",
         "2014-01-16 00:00:00"
        ],
        [
         "9",
         "P0010",
         "Sarah Jones",
         "female",
         "71259736",
         "sarah.jones@gmail.com",
         "70689 Huffman Lane Suite 541, New Bridgetbury, IL 82773",
         "1962-11-26 00:00:00"
        ],
        [
         "10",
         "P0011",
         "Sarah Shields",
         "female",
         "67016113",
         "sarah.shields@hotmail.com",
         "78924 Moyer Path Apt. 703, Wilkinsborough, KY 13579",
         "1947-02-01 00:00:00"
        ],
        [
         "11",
         "P0012",
         "Raymond Ball",
         "male",
         "89226175",
         "raymond.ball@protonmail.com",
         "08083 Amy Turnpike, Dawsonmouth, IA 54328",
         "1994-02-25 00:00:00"
        ],
        [
         "12",
         "P0013",
         "Jennifer Miller",
         "female",
         "42932400",
         "jennifer.miller@gmail.com",
         "6535 Mark Greens Apt. 424, South Kimberlyview, NM 66352",
         "2004-06-27 00:00:00"
        ],
        [
         "13",
         "P0014",
         "Jordan Patterson",
         "male",
         "45168454",
         "jordan.patterson@yahoo.com",
         "1258 Reese Falls, Kaylafurt, RI 45347",
         "2011-04-21 00:00:00"
        ],
        [
         "14",
         "P0015",
         "Joshua Briggs",
         "male",
         "86704292",
         "joshua.briggs@protonmail.com",
         "2174 Jesse Mews, Mirandaville, NC 26939",
         "1988-01-08 00:00:00"
        ],
        [
         "15",
         "P0016",
         "Rachel Golden",
         "female",
         "13781589",
         "rachel.golden@yahoo.com",
         "6885 Herrera Bridge Apt. 327, Rebeccaside, PA 23358",
         "1976-12-28 00:00:00"
        ],
        [
         "16",
         "P0017",
         "Savannah Jimenez",
         "female",
         "42633648",
         "savannah.jimenez@outlook.com",
         "0228 Stephen Villages Apt. 864, Adamsside, SD 99429",
         "1986-09-21 00:00:00"
        ],
        [
         "17",
         "P0018",
         "George Diaz",
         "male",
         "82649230",
         "george.diaz@gmail.com",
         "1977 Andrew Pine, Wagnerstad, HI 12842",
         "1951-07-20 00:00:00"
        ],
        [
         "18",
         "P0019",
         "Lauren Huang",
         "female",
         "26945982",
         "lauren.huang@hotmail.com",
         "712 Cantrell Passage Suite 732, Amberside, MA 72743",
         "1999-10-06 00:00:00"
        ],
        [
         "19",
         "P0020",
         "Christopher Johnson",
         "male",
         "21332416",
         "christopher.johnson@protonmail.com",
         "3690 Brittney Park Suite 618, West Mitchellchester, OK 74547",
         "1994-03-12 00:00:00"
        ],
        [
         "20",
         "P0021",
         "Michelle Morgan",
         "female",
         "39078693",
         "michelle.morgan@yahoo.com",
         "00619 Woodward Way Suite 329, Lopezborough, FL 40981",
         "1995-12-05 00:00:00"
        ],
        [
         "21",
         "P0022",
         "Mrs. Madison Williams DDS",
         "female",
         "24092600",
         "mrs..madison.williams.dds@protonmail.com",
         "31199 Susan Highway, Meganfort, SC 92787",
         "2015-05-28 00:00:00"
        ],
        [
         "22",
         "P0023",
         "Thomas Fox",
         "male",
         "91020003",
         "thomas.fox@gmail.com",
         "19619 Foster Mount, Ericside, WY 12747",
         "1954-03-13 00:00:00"
        ],
        [
         "23",
         "P0024",
         "Elizabeth Rogers",
         "female",
         "71855767",
         "elizabeth.rogers@yahoo.com",
         "9119 Shawn Grove Apt. 855, Lindafort, CT 25624",
         "1959-10-24 00:00:00"
        ],
        [
         "24",
         "P0025",
         "Julie Lewis",
         "female",
         "69022370",
         "julie.lewis@protonmail.com",
         "06917 David Squares Apt. 608, Wademouth, AL 97563",
         "1999-12-18 00:00:00"
        ],
        [
         "25",
         "P0026",
         "Christopher Miller",
         "male",
         "83268338",
         "christopher.miller@outlook.com",
         "04553 Melissa Mount Apt. 008, Katherinefurt, CO 66697",
         "1948-09-23 00:00:00"
        ],
        [
         "26",
         "P0027",
         "Ryan Moreno",
         "male",
         "92063408",
         "ryan.moreno@protonmail.com",
         "15040 Samantha Parkways, Angelaside, OH 10668",
         "1983-05-29 00:00:00"
        ],
        [
         "27",
         "P0028",
         "Monica Stuart",
         "female",
         "19622279",
         "monica.stuart@protonmail.com",
         "128 Lopez Mountains Suite 553, Meredithland, NE 86266",
         "1959-05-18 00:00:00"
        ],
        [
         "28",
         "P0029",
         "Patricia Byrd",
         "female",
         "96434864",
         "patricia.byrd@outlook.com",
         "2974 Anderson Terrace Suite 460, Steeleville, MD 53895",
         "1964-01-25 00:00:00"
        ],
        [
         "29",
         "P0030",
         "Thomas Reed",
         "male",
         "49626139",
         "thomas.reed@outlook.com",
         "0364 Deanna Centers Apt. 490, South Larrystad, CO 52816",
         "1964-07-06 00:00:00"
        ],
        [
         "30",
         "P0031",
         "Kristen Murray",
         "female",
         "59328074",
         "kristen.murray@hotmail.com",
         "Unit 1583 Box 1523, DPO AP 12805",
         "1969-05-21 00:00:00"
        ],
        [
         "31",
         "P0032",
         "David Castillo",
         "male",
         "33299325",
         "david.castillo@hotmail.com",
         "261 Gomez Roads Suite 878, Port Joannside, AZ 25113",
         "1958-12-12 00:00:00"
        ],
        [
         "32",
         "P0033",
         "Kathryn Sampson",
         "female",
         "50011935",
         "kathryn.sampson@protonmail.com",
         "USNS Martin, FPO AA 90393",
         "1992-04-19 00:00:00"
        ],
        [
         "33",
         "P0034",
         "Brandon Pittman",
         "male",
         "11541220",
         "brandon.pittman@yahoo.com",
         "511 Jimmy Mills Suite 093, Port Stephaniemouth, VA 25311",
         "1987-02-25 00:00:00"
        ],
        [
         "34",
         "P0035",
         "Cynthia Hunt",
         "female",
         "50881748",
         "cynthia.hunt@hotmail.com",
         "983 Baker Spurs, Diazton, WV 65433",
         "1990-03-24 00:00:00"
        ],
        [
         "35",
         "P0036",
         "Rachel Cohen PhD",
         "female",
         "64685043",
         "rachel.cohen.phd@gmail.com",
         "219 Khan Forest Apt. 459, Matthewsside, NJ 48497",
         "2006-03-03 00:00:00"
        ],
        [
         "36",
         "P0037",
         "Natasha Medina",
         "female",
         "20663742",
         "natasha.medina@hotmail.com",
         "831 Lisa Shore, South Christina, WY 49706",
         "1961-07-30 00:00:00"
        ],
        [
         "37",
         "P0038",
         "Ryan Farmer",
         "male",
         "64972008",
         "ryan.farmer@gmail.com",
         "539 Scott Locks, North Bethland, OK 35768",
         "1946-09-21 00:00:00"
        ],
        [
         "38",
         "P0039",
         "Marilyn Moore",
         "female",
         "54454537",
         "marilyn.moore@yahoo.com",
         "6937 David Parks Apt. 434, North Walter, VT 27265",
         "2004-01-07 00:00:00"
        ],
        [
         "39",
         "P0040",
         "Stephanie Rowe",
         "female",
         "95880164",
         "stephanie.rowe@gmail.com",
         "22918 Matthew Common, Justinburgh, AK 47059",
         "1991-03-26 00:00:00"
        ],
        [
         "40",
         "P0041",
         "Karen Green",
         "female",
         "87426013",
         "karen.green@outlook.com",
         "30473 Rodriguez Trail, Combsberg, MN 12237",
         "1956-11-01 00:00:00"
        ],
        [
         "41",
         "P0042",
         "Edward Ferguson",
         "male",
         "71817307",
         "edward.ferguson@yahoo.com",
         "77717 Morgan Passage Apt. 834, Masseytown, NH 89181",
         "1995-03-01 00:00:00"
        ],
        [
         "42",
         "P0043",
         "Jacob Washington",
         "male",
         "31411815",
         "jacob.washington@gmail.com",
         "9526 Bennett Tunnel, Port Kimberly, SD 65024",
         "1949-06-23 00:00:00"
        ],
        [
         "43",
         "P0044",
         "Nathaniel Buck",
         "male",
         "12488018",
         "nathaniel.buck@outlook.com",
         "87946 Nicholas Park, Donnatown, FL 13004",
         "1989-11-11 00:00:00"
        ],
        [
         "44",
         "P0045",
         "Brandon Harris",
         "male",
         "57402492",
         "brandon.harris@protonmail.com",
         "03787 Stafford Tunnel Apt. 506, East Amanda, MS 70983",
         "1981-01-20 00:00:00"
        ],
        [
         "45",
         "P0046",
         "Michael Nunez",
         "male",
         "61559065",
         "michael.nunez@outlook.com",
         "USS Terry, FPO AE 01473",
         "1978-02-12 00:00:00"
        ],
        [
         "46",
         "P0047",
         "Patricia Lowery",
         "female",
         "65120229",
         "patricia.lowery@gmail.com",
         "Unit 6624 Box 6652, DPO AA 38650",
         "1948-09-26 00:00:00"
        ],
        [
         "47",
         "P0048",
         "Amy Cobb",
         "female",
         "45204137",
         "amy.cobb@hotmail.com",
         "8123 Karen Trail, Port Joseph, AL 68421",
         "1982-12-27 00:00:00"
        ],
        [
         "48",
         "P0049",
         "Virginia Cochran",
         "female",
         "46271270",
         "virginia.cochran@gmail.com",
         "401 Cortez Walks Suite 923, Lake Jessica, ME 77310",
         "2006-01-18 00:00:00"
        ],
        [
         "49",
         "P0050",
         "Brianna Clark",
         "female",
         "56691098",
         "brianna.clark@outlook.com",
         "94973 Rice Course Apt. 171, New Shannonville, KS 97792",
         "1986-02-08 00:00:00"
        ]
       ],
       "shape": {
        "columns": 7,
        "rows": 1000
       }
      },
      "text/html": [
       "<div>\n",
       "<style scoped>\n",
       "    .dataframe tbody tr th:only-of-type {\n",
       "        vertical-align: middle;\n",
       "    }\n",
       "\n",
       "    .dataframe tbody tr th {\n",
       "        vertical-align: top;\n",
       "    }\n",
       "\n",
       "    .dataframe thead th {\n",
       "        text-align: right;\n",
       "    }\n",
       "</style>\n",
       "<table border=\"1\" class=\"dataframe\">\n",
       "  <thead>\n",
       "    <tr style=\"text-align: right;\">\n",
       "      <th></th>\n",
       "      <th>PatientID</th>\n",
       "      <th>Name</th>\n",
       "      <th>Sex</th>\n",
       "      <th>Contact</th>\n",
       "      <th>email</th>\n",
       "      <th>Address</th>\n",
       "      <th>DOB</th>\n",
       "    </tr>\n",
       "  </thead>\n",
       "  <tbody>\n",
       "    <tr>\n",
       "      <th>0</th>\n",
       "      <td>P0001</td>\n",
       "      <td>Kelsey Moore</td>\n",
       "      <td>female</td>\n",
       "      <td>39472495</td>\n",
       "      <td>kelsey.moore@gmail.com</td>\n",
       "      <td>34892 Christopher Crossing, South Brooke, NH 1...</td>\n",
       "      <td>1997-05-05</td>\n",
       "    </tr>\n",
       "    <tr>\n",
       "      <th>1</th>\n",
       "      <td>P0002</td>\n",
       "      <td>William Perry</td>\n",
       "      <td>male</td>\n",
       "      <td>15351117</td>\n",
       "      <td>william.perry@hotmail.com</td>\n",
       "      <td>94501 Bell Islands Suite 485, New Jessica, NJ ...</td>\n",
       "      <td>2007-06-06</td>\n",
       "    </tr>\n",
       "    <tr>\n",
       "      <th>2</th>\n",
       "      <td>P0003</td>\n",
       "      <td>Nicholas Jones</td>\n",
       "      <td>male</td>\n",
       "      <td>56648257</td>\n",
       "      <td>nicholas.jones@yahoo.com</td>\n",
       "      <td>8841 Lewis Parkways Apt. 040, South Kristen, I...</td>\n",
       "      <td>1975-12-04</td>\n",
       "    </tr>\n",
       "    <tr>\n",
       "      <th>3</th>\n",
       "      <td>P0004</td>\n",
       "      <td>Theresa Smith</td>\n",
       "      <td>female</td>\n",
       "      <td>45807263</td>\n",
       "      <td>theresa.smith@outlook.com</td>\n",
       "      <td>271 Jeffrey Freeway, Willisbury, ME 39487</td>\n",
       "      <td>1997-09-14</td>\n",
       "    </tr>\n",
       "    <tr>\n",
       "      <th>4</th>\n",
       "      <td>P0005</td>\n",
       "      <td>Tara Kennedy</td>\n",
       "      <td>female</td>\n",
       "      <td>84234563</td>\n",
       "      <td>tara.kennedy@protonmail.com</td>\n",
       "      <td>64128 Rick Coves Apt. 284, Lake James, NJ 51964</td>\n",
       "      <td>2011-02-22</td>\n",
       "    </tr>\n",
       "    <tr>\n",
       "      <th>...</th>\n",
       "      <td>...</td>\n",
       "      <td>...</td>\n",
       "      <td>...</td>\n",
       "      <td>...</td>\n",
       "      <td>...</td>\n",
       "      <td>...</td>\n",
       "      <td>...</td>\n",
       "    </tr>\n",
       "    <tr>\n",
       "      <th>995</th>\n",
       "      <td>P0996</td>\n",
       "      <td>Tina Murphy</td>\n",
       "      <td>female</td>\n",
       "      <td>81426708</td>\n",
       "      <td>tina.murphy@hotmail.com</td>\n",
       "      <td>3606 Davidson Plaza Apt. 750, Lake Devinmouth,...</td>\n",
       "      <td>2019-02-17</td>\n",
       "    </tr>\n",
       "    <tr>\n",
       "      <th>996</th>\n",
       "      <td>P0997</td>\n",
       "      <td>Raymond Reed</td>\n",
       "      <td>male</td>\n",
       "      <td>95263259</td>\n",
       "      <td>raymond.reed@gmail.com</td>\n",
       "      <td>5765 Lee Lodge, Cynthiahaven, AZ 26552</td>\n",
       "      <td>2006-11-25</td>\n",
       "    </tr>\n",
       "    <tr>\n",
       "      <th>997</th>\n",
       "      <td>P0998</td>\n",
       "      <td>Jose Torres</td>\n",
       "      <td>male</td>\n",
       "      <td>15324888</td>\n",
       "      <td>jose.torres@gmail.com</td>\n",
       "      <td>55770 Jill Islands, Mccoyberg, SD 44091</td>\n",
       "      <td>2018-05-20</td>\n",
       "    </tr>\n",
       "    <tr>\n",
       "      <th>998</th>\n",
       "      <td>P0999</td>\n",
       "      <td>Marvin Perry</td>\n",
       "      <td>male</td>\n",
       "      <td>16959015</td>\n",
       "      <td>marvin.perry@outlook.com</td>\n",
       "      <td>6824 Eric Village Apt. 042, Austinville, MN 33803</td>\n",
       "      <td>2004-07-03</td>\n",
       "    </tr>\n",
       "    <tr>\n",
       "      <th>999</th>\n",
       "      <td>P1000</td>\n",
       "      <td>Elaine Golden</td>\n",
       "      <td>female</td>\n",
       "      <td>88498272</td>\n",
       "      <td>elaine.golden@hotmail.com</td>\n",
       "      <td>575 Evan Flats Suite 283, Lake Craigchester, V...</td>\n",
       "      <td>1993-05-14</td>\n",
       "    </tr>\n",
       "  </tbody>\n",
       "</table>\n",
       "<p>1000 rows × 7 columns</p>\n",
       "</div>"
      ],
      "text/plain": [
       "    PatientID            Name     Sex   Contact                        email  \\\n",
       "0       P0001    Kelsey Moore  female  39472495       kelsey.moore@gmail.com   \n",
       "1       P0002   William Perry    male  15351117    william.perry@hotmail.com   \n",
       "2       P0003  Nicholas Jones    male  56648257     nicholas.jones@yahoo.com   \n",
       "3       P0004   Theresa Smith  female  45807263    theresa.smith@outlook.com   \n",
       "4       P0005    Tara Kennedy  female  84234563  tara.kennedy@protonmail.com   \n",
       "..        ...             ...     ...       ...                          ...   \n",
       "995     P0996     Tina Murphy  female  81426708      tina.murphy@hotmail.com   \n",
       "996     P0997    Raymond Reed    male  95263259       raymond.reed@gmail.com   \n",
       "997     P0998     Jose Torres    male  15324888        jose.torres@gmail.com   \n",
       "998     P0999    Marvin Perry    male  16959015     marvin.perry@outlook.com   \n",
       "999     P1000   Elaine Golden  female  88498272    elaine.golden@hotmail.com   \n",
       "\n",
       "                                               Address        DOB  \n",
       "0    34892 Christopher Crossing, South Brooke, NH 1... 1997-05-05  \n",
       "1    94501 Bell Islands Suite 485, New Jessica, NJ ... 2007-06-06  \n",
       "2    8841 Lewis Parkways Apt. 040, South Kristen, I... 1975-12-04  \n",
       "3            271 Jeffrey Freeway, Willisbury, ME 39487 1997-09-14  \n",
       "4      64128 Rick Coves Apt. 284, Lake James, NJ 51964 2011-02-22  \n",
       "..                                                 ...        ...  \n",
       "995  3606 Davidson Plaza Apt. 750, Lake Devinmouth,... 2019-02-17  \n",
       "996             5765 Lee Lodge, Cynthiahaven, AZ 26552 2006-11-25  \n",
       "997            55770 Jill Islands, Mccoyberg, SD 44091 2018-05-20  \n",
       "998  6824 Eric Village Apt. 042, Austinville, MN 33803 2004-07-03  \n",
       "999  575 Evan Flats Suite 283, Lake Craigchester, V... 1993-05-14  \n",
       "\n",
       "[1000 rows x 7 columns]"
      ]
     },
     "execution_count": 27,
     "metadata": {},
     "output_type": "execute_result"
    }
   ],
   "source": [
    "patient"
   ]
  },
  {
   "cell_type": "code",
   "execution_count": 28,
   "id": "q8NwPIrKT-2Q",
   "metadata": {
    "colab": {
     "base_uri": "https://localhost:8080/"
    },
    "id": "q8NwPIrKT-2Q",
    "outputId": "348b9412-bd5b-4cb1-9c24-cefdeb1d72e7"
   },
   "outputs": [
    {
     "name": "stdout",
     "output_type": "stream",
     "text": [
      "--- Checking for Duplicate Values in Each Column ---\n",
      "Column 'PatientID' has no duplicate values.\n",
      "Column 'Name' has 10 duplicate value(s).\n",
      "Column 'Sex' has 998 duplicate value(s).\n",
      "Column 'Contact' has no duplicate values.\n",
      "Column 'email' has no duplicate values.\n",
      "Column 'Address' has no duplicate values.\n",
      "Column 'DOB' has 29 duplicate value(s).\n"
     ]
    }
   ],
   "source": [
    "\n",
    "print(\"--- Checking for Duplicate Values in Each Column ---\")\n",
    "\n",
    "# Iterate over each column name\n",
    "for column in patient.columns:\n",
    "    # The .duplicated() method finds duplicate values.\n",
    "    # .sum() counts how many there are.\n",
    "    num_duplicates_in_col = patient[column].duplicated().sum()\n",
    "\n",
    "    if num_duplicates_in_col > 0:\n",
    "        print(f\"Column '{column}' has {num_duplicates_in_col} duplicate value(s).\")\n",
    "    else:\n",
    "        print(f\"Column '{column}' has no duplicate values.\")"
   ]
  },
  {
   "cell_type": "markdown",
   "id": "y2w5OQs1UNjK",
   "metadata": {
    "id": "y2w5OQs1UNjK"
   },
   "source": [
    "The result makes sense."
   ]
  },
  {
   "cell_type": "code",
   "execution_count": 29,
   "id": "566v64EuUXH8",
   "metadata": {
    "colab": {
     "base_uri": "https://localhost:8080/"
    },
    "id": "566v64EuUXH8",
    "outputId": "a572f67b-3586-4a07-ac98-7bcf3f9878ba"
   },
   "outputs": [
    {
     "name": "stdout",
     "output_type": "stream",
     "text": [
      "Unique values in the 'Sex' column of the patient DataFrame:\n",
      "['female' 'male']\n"
     ]
    }
   ],
   "source": [
    "# Check unique values in the 'Sex' column of the patient DataFrame\n",
    "unique_sex_values = patient['Sex'].unique()\n",
    "\n",
    "print(\"Unique values in the 'Sex' column of the patient DataFrame:\")\n",
    "print(unique_sex_values)"
   ]
  },
  {
   "cell_type": "code",
   "execution_count": 30,
   "id": "AZgKo1cNV2R3",
   "metadata": {
    "colab": {
     "base_uri": "https://localhost:8080/"
    },
    "id": "AZgKo1cNV2R3",
    "outputId": "f879d455-ab33-4727-99d6-96b52c62e81f"
   },
   "outputs": [
    {
     "name": "stdout",
     "output_type": "stream",
     "text": [
      "\n",
      "'Contact' column does not contain hyphens or dashes.\n"
     ]
    }
   ],
   "source": [
    "import re\n",
    "\n",
    "# Check for hyphens or dashes in the 'Contact' column\n",
    "contact_contains_punctuation = patient['Contact'].astype(str).str.contains(r'[-–—]', regex=True)\n",
    "\n",
    "if contact_contains_punctuation.any():\n",
    "    print(\"\\nRows in 'Contact' column containing hyphens or dashes:\")\n",
    "    # Display rows where punctuation is found\n",
    "    display(patient[contact_contains_punctuation])\n",
    "else:\n",
    "    print(\"\\n'Contact' column does not contain hyphens or dashes.\")"
   ]
  },
  {
   "cell_type": "code",
   "execution_count": 31,
   "id": "j4HGptoQV5hZ",
   "metadata": {
    "colab": {
     "base_uri": "https://localhost:8080/"
    },
    "id": "j4HGptoQV5hZ",
    "outputId": "75dc8a82-c16e-4c1e-f267-443912fe6389"
   },
   "outputs": [
    {
     "name": "stdout",
     "output_type": "stream",
     "text": [
      "All email addresses in the 'email' column contain '@'.\n"
     ]
    }
   ],
   "source": [
    "# Check if the 'email' column contains '@'\n",
    "email_contains_at = patient['email'].str.contains('@', na=False)\n",
    "\n",
    "if email_contains_at.all():\n",
    "    print(\"All email addresses in the 'email' column contain '@'.\")\n",
    "else:\n",
    "    print(\"Some email addresses in the 'email' column do not contain '@'.\")\n",
    "    # Optionally, display rows with invalid email formats\n",
    "    # display(patient[~email_contains_at])"
   ]
  },
  {
   "cell_type": "code",
   "execution_count": 32,
   "id": "RBvF0K3KWK0t",
   "metadata": {
    "colab": {
     "base_uri": "https://localhost:8080/"
    },
    "id": "RBvF0K3KWK0t",
    "outputId": "58a49af8-7fb1-4105-98ef-c6ecbc9de517"
   },
   "outputs": [
    {
     "name": "stdout",
     "output_type": "stream",
     "text": [
      "<class 'pandas.core.frame.DataFrame'>\n",
      "RangeIndex: 1000 entries, 0 to 999\n",
      "Data columns (total 7 columns):\n",
      " #   Column     Non-Null Count  Dtype         \n",
      "---  ------     --------------  -----         \n",
      " 0   PatientID  1000 non-null   object        \n",
      " 1   Name       1000 non-null   object        \n",
      " 2   Sex        1000 non-null   object        \n",
      " 3   Contact    1000 non-null   int64         \n",
      " 4   email      1000 non-null   object        \n",
      " 5   Address    1000 non-null   object        \n",
      " 6   DOB        1000 non-null   datetime64[ns]\n",
      "dtypes: datetime64[ns](1), int64(1), object(5)\n",
      "memory usage: 54.8+ KB\n"
     ]
    }
   ],
   "source": [
    "patient.info()"
   ]
  },
  {
   "cell_type": "markdown",
   "id": "V2hJ1VrzWMtQ",
   "metadata": {
    "id": "V2hJ1VrzWMtQ"
   },
   "source": [
    "There are no null values."
   ]
  },
  {
   "cell_type": "markdown",
   "id": "0efb746f",
   "metadata": {
    "id": "0efb746f"
   },
   "source": [
    "# Staff Data Analysis and Cleaning\n",
    "---"
   ]
  },
  {
   "cell_type": "code",
   "execution_count": 33,
   "id": "5cbbf673",
   "metadata": {
    "colab": {
     "base_uri": "https://localhost:8080/",
     "height": 424
    },
    "id": "5cbbf673",
    "outputId": "18a79fb5-ca53-4851-def1-f37378cbd056"
   },
   "outputs": [
    {
     "data": {
      "application/vnd.microsoft.datawrangler.viewer.v0+json": {
       "columns": [
        {
         "name": "index",
         "rawType": "int64",
         "type": "integer"
        },
        {
         "name": "DoctorID",
         "rawType": "object",
         "type": "string"
        },
        {
         "name": "Name",
         "rawType": "object",
         "type": "string"
        },
        {
         "name": "Contact",
         "rawType": "int64",
         "type": "integer"
        },
        {
         "name": "Email",
         "rawType": "object",
         "type": "string"
        },
        {
         "name": "DepartmentID",
         "rawType": "object",
         "type": "string"
        },
        {
         "name": "Department",
         "rawType": "object",
         "type": "string"
        }
       ],
       "ref": "1288614e-b037-4a43-8846-4d11cd039625",
       "rows": [
        [
         "0",
         "E0001",
         "Grace Chen",
         "78901234",
         " grace.chen@abchospital.com",
         "D0005",
         "Pediatrics"
        ],
        [
         "1",
         "E0002",
         "Henry Adams",
         "75678901",
         " henry.adams@abchospital.com",
         "D0002",
         "Intensive Care Unit"
        ],
        [
         "2",
         "E0003",
         "Maya Patel",
         "44567890",
         " maya.patel@abchospital.com",
         "D0008",
         "Surgery"
        ],
        [
         "3",
         "E0004",
         "Sean Underwood",
         "84345678",
         " sean.underwood@abchospital.com",
         "D0001",
         "Emergency"
        ],
        [
         "4",
         "E0005",
         "Amy Bryant",
         "72123456",
         " amy.bryant@abchospital.com",
         "D0009",
         "Neurology"
        ],
        [
         "5",
         "E0006",
         "Xena Zane",
         "49890123",
         " xena.zane@abchospital.com",
         "D0004",
         "Cardiology"
        ],
        [
         "6",
         "E0007",
         "Jack Turner",
         "11234567",
         " jack.turner@abchospital.com",
         "D0004",
         "Cardiology"
        ],
        [
         "7",
         "E0008",
         "Derek Hall",
         "31234567",
         " derek.hall@abchospital.com",
         "D0007",
         "Obstetrics and Gynecology"
        ],
        [
         "8",
         "E0009",
         "Isla White",
         "86789012",
         " isla.white@abchospital.com",
         "D0010",
         "Oncology"
        ],
        [
         "9",
         "E0010",
         "Noah Brooks",
         "55678901",
         " noah.brooks@abchospital.com",
         "D0006",
         "Orthopedics"
        ],
        [
         "10",
         "E0011",
         "Kelly Watson",
         "10901234",
         " kelly.watson@abchospital.com",
         "D0001",
         "Emergency"
        ],
        [
         "11",
         "E0012",
         "Ryan Scott",
         "69890123",
         " ryan.scott@abchospital.com",
         "D0009",
         "Neurology"
        ],
        [
         "12",
         "E0013",
         "Paula White",
         "65456789",
         " paula.white@abchospital.com",
         "D0003",
         "Radiology"
        ],
        [
         "13",
         "E0014",
         "Yusuf Khan",
         "64345678",
         " yusuf.khan@abchospital.com",
         "D0006",
         "Orthopedics"
        ],
        [
         "14",
         "E0015",
         "Tina Bell",
         "19890123",
         " tina.bell@abchospital.com",
         "D0004",
         "Cardiology"
        ],
        [
         "15",
         "E0016",
         "Omar Karim",
         "54345678",
         " omar.karim@abchospital.com",
         "D0009",
         "Neurology"
        ],
        [
         "16",
         "E0017",
         "Chloe King",
         "20123456",
         " chloe.king@abchospital.com",
         "D0009",
         "Neurology"
        ],
        [
         "17",
         "E0018",
         "Mason Ortiz",
         "28789012",
         " mason.ortiz@abchospital.com",
         "D0007",
         "Obstetrics and Gynecology"
        ],
        [
         "18",
         "E0019",
         "Olivia Green",
         "66789012",
         " olivia.green@abchospital.com",
         "D0005",
         "Pediatrics"
        ],
        [
         "19",
         "E0020",
         "Faisal Malik",
         "67890123",
         " faisal.malik@abchospital.com",
         "D0010",
         "Oncology"
        ],
        [
         "20",
         "E0021",
         "Betty Brooks",
         "97678901",
         " betty.brooks@abchospital.com",
         "D0009",
         "Neurology"
        ],
        [
         "21",
         "E0022",
         "Liam O'Connor",
         "33456789",
         " liam.oconnor@abchospital.com",
         "D0005",
         "Pediatrics"
        ],
        [
         "22",
         "E0023",
         "Dana Fisher",
         "29890123",
         " dana.fisher@abchospital.com",
         "D0007",
         "Obstetrics and Gynecology"
        ],
        [
         "23",
         "E0024",
         "Jason Kelly",
         "71012345",
         " jason.kelly@abchospital.com",
         "D0002",
         "Intensive Care Unit"
        ],
        [
         "24",
         "E0025",
         "Ella Brown",
         "42345678",
         " ella.brown@abchospital.com",
         "D0003",
         "Radiology"
        ],
        [
         "25",
         "E0026",
         "Tara Morgan",
         "21234567",
         " tara.morgan@abchospital.com",
         "D0008",
         "Surgery"
        ],
        [
         "26",
         "E0027",
         "Victor Wells",
         "13234567",
         " victor.wells@abchospital.com",
         "D0004",
         "Cardiology"
        ],
        [
         "27",
         "E0028",
         "Ximena Ruiz",
         "53234567",
         " ximena.ruiz@abchospital.com",
         "D0001",
         "Emergency"
        ],
        [
         "28",
         "E0029",
         "George Ingram",
         "52123456",
         " george.ingram@abchospital.com",
         "D0010",
         "Oncology"
        ],
        [
         "29",
         "E0030",
         "Nora Parker",
         "39890123",
         " nora.parker@abchospital.com",
         "D0006",
         "Orthopedics"
        ],
        [
         "30",
         "E0031",
         "Quincy Jones",
         "76567890",
         " quincy.jones@abchospital.com",
         "D0006",
         "Orthopedics"
        ],
        [
         "31",
         "E0032",
         "Dylan Edwards",
         "15456789",
         " dylan.edwards@abchospital.com",
         "D0004",
         "Cardiology"
        ],
        [
         "32",
         "E0033",
         "Alan Baker",
         "86567890",
         " alan.baker@abchospital.com",
         "D0001",
         "Emergency"
        ],
        [
         "33",
         "E0034",
         "Rita Singh",
         "87678901",
         " rita.singh@abchospital.com",
         "D0007",
         "Obstetrics and Gynecology"
        ],
        [
         "34",
         "E0035",
         "Peter Zhao",
         "77890123",
         " peter.zhao@abchospital.com",
         "D0003",
         "Radiology"
        ],
        [
         "35",
         "E0036",
         "Wanda Xu",
         "24345678",
         " wanda.xu@abchospital.com",
         "D0009",
         "Neurology"
        ],
        [
         "36",
         "E0037",
         "Ben Carlson",
         "83234567",
         " ben.carlson@abchospital.com",
         "D0007",
         "Obstetrics and Gynecology"
        ],
        [
         "37",
         "E0038",
         "Megan Norris",
         "14345678",
         " megan.norris@abchospital.com",
         "D0004",
         "Cardiology"
        ],
        [
         "38",
         "E0039",
         "Hassan Ali",
         "89012345",
         " hassan.ali@abchospital.com",
         "D0005",
         "Pediatrics"
        ],
        [
         "39",
         "E0040",
         "Jill Larson",
         "85456789",
         " jill.larson@abchospital.com",
         "D0010",
         "Oncology"
        ],
        [
         "40",
         "E0041",
         "William Scott",
         "54567890",
         " william.scott@abchospital.com",
         "D0001",
         "Emergency"
        ],
        [
         "41",
         "E0042",
         "Quinn Foster",
         "88901234",
         " quinn.foster@abchospital.com",
         "D0002",
         "Intensive Care Unit"
        ],
        [
         "42",
         "E0043",
         "Lila Nelson",
         "17678901",
         " lila.nelson@abchospital.com",
         "D0008",
         "Surgery"
        ],
        [
         "43",
         "E0044",
         "Holly James",
         "63234567",
         " holly.james@abchospital.com",
         "D0004",
         "Cardiology"
        ],
        [
         "44",
         "E0045",
         "Usha Verma",
         "92123456",
         " usha.verma@abchospital.com",
         "D0009",
         "Neurology"
        ],
        [
         "45",
         "E0046",
         "Zara Ahmed",
         "75456789",
         " zara.ahmed@abchospital.com",
         "D0005",
         "Pediatrics"
        ],
        [
         "46",
         "E0047",
         "Mark Evans",
         "32123456",
         " mark.evans@abchospital.com",
         "D0003",
         "Radiology"
        ],
        [
         "47",
         "E0048",
         "Tara Vaughn",
         "95456789",
         " tara.vaughn@abchospital.com",
         "D0007",
         "Obstetrics and Gynecology"
        ],
        [
         "48",
         "E0049",
         "Owen Quinn",
         "40901234",
         " owen.quinn@abchospital.com",
         "D0010",
         "Oncology"
        ],
        [
         "49",
         "E0050",
         "Lana Perez",
         "21012345",
         " lana.perez@abchospital.com",
         "D0006",
         "Orthopedics"
        ]
       ],
       "shape": {
        "columns": 6,
        "rows": 100
       }
      },
      "text/html": [
       "<div>\n",
       "<style scoped>\n",
       "    .dataframe tbody tr th:only-of-type {\n",
       "        vertical-align: middle;\n",
       "    }\n",
       "\n",
       "    .dataframe tbody tr th {\n",
       "        vertical-align: top;\n",
       "    }\n",
       "\n",
       "    .dataframe thead th {\n",
       "        text-align: right;\n",
       "    }\n",
       "</style>\n",
       "<table border=\"1\" class=\"dataframe\">\n",
       "  <thead>\n",
       "    <tr style=\"text-align: right;\">\n",
       "      <th></th>\n",
       "      <th>DoctorID</th>\n",
       "      <th>Name</th>\n",
       "      <th>Contact</th>\n",
       "      <th>Email</th>\n",
       "      <th>DepartmentID</th>\n",
       "      <th>Department</th>\n",
       "    </tr>\n",
       "  </thead>\n",
       "  <tbody>\n",
       "    <tr>\n",
       "      <th>0</th>\n",
       "      <td>E0001</td>\n",
       "      <td>Grace Chen</td>\n",
       "      <td>78901234</td>\n",
       "      <td>grace.chen@abchospital.com</td>\n",
       "      <td>D0005</td>\n",
       "      <td>Pediatrics</td>\n",
       "    </tr>\n",
       "    <tr>\n",
       "      <th>1</th>\n",
       "      <td>E0002</td>\n",
       "      <td>Henry Adams</td>\n",
       "      <td>75678901</td>\n",
       "      <td>henry.adams@abchospital.com</td>\n",
       "      <td>D0002</td>\n",
       "      <td>Intensive Care Unit</td>\n",
       "    </tr>\n",
       "    <tr>\n",
       "      <th>2</th>\n",
       "      <td>E0003</td>\n",
       "      <td>Maya Patel</td>\n",
       "      <td>44567890</td>\n",
       "      <td>maya.patel@abchospital.com</td>\n",
       "      <td>D0008</td>\n",
       "      <td>Surgery</td>\n",
       "    </tr>\n",
       "    <tr>\n",
       "      <th>3</th>\n",
       "      <td>E0004</td>\n",
       "      <td>Sean Underwood</td>\n",
       "      <td>84345678</td>\n",
       "      <td>sean.underwood@abchospital.com</td>\n",
       "      <td>D0001</td>\n",
       "      <td>Emergency</td>\n",
       "    </tr>\n",
       "    <tr>\n",
       "      <th>4</th>\n",
       "      <td>E0005</td>\n",
       "      <td>Amy Bryant</td>\n",
       "      <td>72123456</td>\n",
       "      <td>amy.bryant@abchospital.com</td>\n",
       "      <td>D0009</td>\n",
       "      <td>Neurology</td>\n",
       "    </tr>\n",
       "    <tr>\n",
       "      <th>...</th>\n",
       "      <td>...</td>\n",
       "      <td>...</td>\n",
       "      <td>...</td>\n",
       "      <td>...</td>\n",
       "      <td>...</td>\n",
       "      <td>...</td>\n",
       "    </tr>\n",
       "    <tr>\n",
       "      <th>95</th>\n",
       "      <td>E0096</td>\n",
       "      <td>Nina Turner</td>\n",
       "      <td>58273769</td>\n",
       "      <td>nina.turner@abchospital.com</td>\n",
       "      <td>D0004</td>\n",
       "      <td>Cardiology</td>\n",
       "    </tr>\n",
       "    <tr>\n",
       "      <th>96</th>\n",
       "      <td>E0097</td>\n",
       "      <td>Eric Hughes</td>\n",
       "      <td>12358576</td>\n",
       "      <td>eric.hughes@abchospital.com</td>\n",
       "      <td>D0009</td>\n",
       "      <td>Neurology</td>\n",
       "    </tr>\n",
       "    <tr>\n",
       "      <th>97</th>\n",
       "      <td>E0098</td>\n",
       "      <td>Lily Adams</td>\n",
       "      <td>29576793</td>\n",
       "      <td>lily.adams@abchospital.com</td>\n",
       "      <td>D0005</td>\n",
       "      <td>Pediatrics</td>\n",
       "    </tr>\n",
       "    <tr>\n",
       "      <th>98</th>\n",
       "      <td>E0099</td>\n",
       "      <td>Christopher Reed</td>\n",
       "      <td>31956390</td>\n",
       "      <td>christopher.reed@abchospital.com</td>\n",
       "      <td>D0010</td>\n",
       "      <td>Oncology</td>\n",
       "    </tr>\n",
       "    <tr>\n",
       "      <th>99</th>\n",
       "      <td>E0100</td>\n",
       "      <td>Daniel Jenson</td>\n",
       "      <td>23375141</td>\n",
       "      <td>daniel.jenson@abchospital.com</td>\n",
       "      <td>D0004</td>\n",
       "      <td>Cardiology</td>\n",
       "    </tr>\n",
       "  </tbody>\n",
       "</table>\n",
       "<p>100 rows × 6 columns</p>\n",
       "</div>"
      ],
      "text/plain": [
       "   DoctorID              Name   Contact                              Email  \\\n",
       "0     E0001        Grace Chen  78901234         grace.chen@abchospital.com   \n",
       "1     E0002       Henry Adams  75678901        henry.adams@abchospital.com   \n",
       "2     E0003        Maya Patel  44567890         maya.patel@abchospital.com   \n",
       "3     E0004    Sean Underwood  84345678     sean.underwood@abchospital.com   \n",
       "4     E0005        Amy Bryant  72123456         amy.bryant@abchospital.com   \n",
       "..      ...               ...       ...                                ...   \n",
       "95    E0096       Nina Turner  58273769        nina.turner@abchospital.com   \n",
       "96    E0097       Eric Hughes  12358576        eric.hughes@abchospital.com   \n",
       "97    E0098        Lily Adams  29576793         lily.adams@abchospital.com   \n",
       "98    E0099  Christopher Reed  31956390   christopher.reed@abchospital.com   \n",
       "99    E0100     Daniel Jenson  23375141      daniel.jenson@abchospital.com   \n",
       "\n",
       "   DepartmentID           Department  \n",
       "0         D0005           Pediatrics  \n",
       "1         D0002  Intensive Care Unit  \n",
       "2         D0008              Surgery  \n",
       "3         D0001            Emergency  \n",
       "4         D0009            Neurology  \n",
       "..          ...                  ...  \n",
       "95        D0004           Cardiology  \n",
       "96        D0009            Neurology  \n",
       "97        D0005           Pediatrics  \n",
       "98        D0010             Oncology  \n",
       "99        D0004           Cardiology  \n",
       "\n",
       "[100 rows x 6 columns]"
      ]
     },
     "execution_count": 33,
     "metadata": {},
     "output_type": "execute_result"
    }
   ],
   "source": [
    "staff"
   ]
  },
  {
   "cell_type": "markdown",
   "id": "UaZeq2JfSOUm",
   "metadata": {
    "id": "UaZeq2JfSOUm"
   },
   "source": [
    "I will check for any duplicates based on each column."
   ]
  },
  {
   "cell_type": "code",
   "execution_count": 34,
   "id": "Or2kVNzCS3OM",
   "metadata": {
    "colab": {
     "base_uri": "https://localhost:8080/"
    },
    "id": "Or2kVNzCS3OM",
    "outputId": "3df4f6f1-622e-448e-9aa9-8eba8480e687"
   },
   "outputs": [
    {
     "name": "stdout",
     "output_type": "stream",
     "text": [
      "--- Checking for Duplicate Values in Each Column ---\n",
      "Column 'DoctorID' has no duplicate values.\n",
      "Column 'Name' has no duplicate values.\n",
      "Column 'Contact' has no duplicate values.\n",
      "Column 'Email' has no duplicate values.\n",
      "Column 'DepartmentID' has 90 duplicate value(s).\n",
      "Column 'Department' has 89 duplicate value(s).\n"
     ]
    }
   ],
   "source": [
    "\n",
    "print(\"--- Checking for Duplicate Values in Each Column ---\")\n",
    "\n",
    "# Iterate over each column name\n",
    "for column in staff.columns:\n",
    "    # The .duplicated() method finds duplicate values.\n",
    "    # .sum() counts how many there are.\n",
    "    num_duplicates_in_col = staff[column].duplicated().sum()\n",
    "\n",
    "    if num_duplicates_in_col > 0:\n",
    "        print(f\"Column '{column}' has {num_duplicates_in_col} duplicate value(s).\")\n",
    "    else:\n",
    "        print(f\"Column '{column}' has no duplicate values.\")"
   ]
  },
  {
   "cell_type": "markdown",
   "id": "QSO4lM0NTLHC",
   "metadata": {
    "id": "QSO4lM0NTLHC"
   },
   "source": [
    "We can say this dataset is free from duplicates, it makes sense that department are duplicated across doctors. I will examine more on these two columns having duplicates."
   ]
  },
  {
   "cell_type": "code",
   "execution_count": 35,
   "id": "ei3pgYbtTGpq",
   "metadata": {
    "colab": {
     "base_uri": "https://localhost:8080/"
    },
    "id": "ei3pgYbtTGpq",
    "outputId": "8395596c-4f6a-49e9-8bad-908c72ad67e6"
   },
   "outputs": [
    {
     "name": "stdout",
     "output_type": "stream",
     "text": [
      "\n",
      "Column 'DoctorID' has no duplicate values.\n",
      "\n",
      "Column 'Name' has no duplicate values.\n",
      "\n",
      "Column 'Contact' has no duplicate values.\n",
      "\n",
      "Column 'Email' has no duplicate values.\n",
      "\n",
      "Column 'DepartmentID' has duplicates.\n",
      "   The following values are repeated:\n",
      "D0004    15\n",
      "   D0009    12\n",
      "   D0007    12\n",
      "   D0005    11\n",
      "   D0001    10\n",
      "   D0010    10\n",
      "   D0006     9\n",
      "   D0002     8\n",
      "   D0003     7\n",
      "   D0008     6\n",
      "\n",
      "Column 'Department' has duplicates.\n",
      "   The following values are repeated:\n",
      "Cardiology                   15\n",
      "   Neurology                    12\n",
      "   Obstetrics and Gynecology    12\n",
      "   Pediatrics                   11\n",
      "   Oncology                     10\n",
      "   Emergency                     9\n",
      "   Orthopedics                   9\n",
      "   Intensive Care Unit           8\n",
      "   Radiology                     7\n",
      "   Surgery                       6\n"
     ]
    }
   ],
   "source": [
    "\n",
    "\n",
    "# Iterate over each column name\n",
    "for column in staff.columns:\n",
    "    # Check if any duplicates exist in the column\n",
    "    if staff[column].duplicated().any():\n",
    "        # Get the counts of each value in the column\n",
    "        value_counts = staff[column].value_counts()\n",
    "\n",
    "        # Filter to find only the values that appear more than once\n",
    "        duplicated_values = value_counts[value_counts > 1]\n",
    "\n",
    "        print(f\"\\nColumn '{column}' has duplicates.\")\n",
    "        print(\"   The following values are repeated:\")\n",
    "        # Print the series of duplicated values and their counts, indented for clarity\n",
    "        print(duplicated_values.to_string(header=False).replace('\\n', '\\n   '))\n",
    "\n",
    "    else:\n",
    "        print(f\"\\nColumn '{column}' has no duplicate values.\")\n",
    "\n"
   ]
  },
  {
   "cell_type": "markdown",
   "id": "m6r64NtzTt5J",
   "metadata": {
    "id": "m6r64NtzTt5J"
   },
   "source": [
    "In fact, the counts must match across these two columns."
   ]
  },
  {
   "cell_type": "code",
   "execution_count": 36,
   "id": "zjD_LDIwTkxU",
   "metadata": {
    "colab": {
     "base_uri": "https://localhost:8080/"
    },
    "id": "zjD_LDIwTkxU",
    "outputId": "f06edd8a-a577-4c36-b15c-f5d9d3a30ccc"
   },
   "outputs": [
    {
     "name": "stdout",
     "output_type": "stream",
     "text": [
      "<class 'pandas.core.frame.DataFrame'>\n",
      "RangeIndex: 100 entries, 0 to 99\n",
      "Data columns (total 6 columns):\n",
      " #   Column        Non-Null Count  Dtype \n",
      "---  ------        --------------  ----- \n",
      " 0   DoctorID      100 non-null    object\n",
      " 1   Name          100 non-null    object\n",
      " 2   Contact       100 non-null    int64 \n",
      " 3   Email         100 non-null    object\n",
      " 4   DepartmentID  100 non-null    object\n",
      " 5   Department    100 non-null    object\n",
      "dtypes: int64(1), object(5)\n",
      "memory usage: 4.8+ KB\n"
     ]
    }
   ],
   "source": [
    "staff.info()"
   ]
  },
  {
   "cell_type": "markdown",
   "id": "_DNlzUmJTgGH",
   "metadata": {
    "id": "_DNlzUmJTgGH"
   },
   "source": [
    "### Checking matches against facility dataset"
   ]
  },
  {
   "cell_type": "code",
   "execution_count": 37,
   "id": "kg1BBwQrTfp_",
   "metadata": {
    "colab": {
     "base_uri": "https://localhost:8080/"
    },
    "id": "kg1BBwQrTfp_",
    "outputId": "33224d2b-4879-4720-986d-a75523f8fb59"
   },
   "outputs": [
    {
     "name": "stdout",
     "output_type": "stream",
     "text": [
      "=== DATA TYPES BEFORE CLEANING ===\n",
      "Facility dataset:\n",
      "  Department: object\n",
      "\n",
      "Staff dataset:\n",
      "  DepartmentID: object\n",
      "  Department: object\n",
      "\n",
      "==================================================\n",
      "=== CLEANING WHITESPACES ===\n",
      "Whitespace cleaning completed!\n",
      "\n",
      "==================================================\n",
      "=== DATA TYPES AFTER CLEANING ===\n",
      "Facility dataset:\n",
      "  Department: object\n",
      "\n",
      "Staff dataset:\n",
      "  DepartmentID: object\n",
      "  Department: object\n"
     ]
    }
   ],
   "source": [
    "# Check data types before cleaning\n",
    "print(\"=== DATA TYPES BEFORE CLEANING ===\")\n",
    "print(\"Facility dataset:\")\n",
    "print(f\"  Department: {facility['Department'].dtype}\")\n",
    "\n",
    "print(\"\\nStaff dataset:\")\n",
    "print(f\"  DepartmentID: {staff['DepartmentID'].dtype}\")\n",
    "print(f\"  Department: {staff['Department'].dtype}\")\n",
    "\n",
    "print(\"\\n\" + \"=\"*50)\n",
    "\n",
    "# Clean whitespaces\n",
    "print(\"=== CLEANING WHITESPACES ===\")\n",
    "\n",
    "# Facility dataset\n",
    "facility['Department'] = facility['Department'].str.strip()\n",
    "\n",
    "# Staff dataset\n",
    "staff['DepartmentID'] = staff['DepartmentID'].str.strip()\n",
    "staff['Department'] = staff['Department'].str.strip()\n",
    "\n",
    "print(\"Whitespace cleaning completed!\")\n",
    "\n",
    "print(\"\\n\" + \"=\"*50)\n",
    "\n",
    "# Check data types after cleaning\n",
    "print(\"=== DATA TYPES AFTER CLEANING ===\")\n",
    "print(\"Facility dataset:\")\n",
    "print(f\"  Department: {facility['Department'].dtype}\")\n",
    "\n",
    "print(\"\\nStaff dataset:\")\n",
    "print(f\"  DepartmentID: {staff['DepartmentID'].dtype}\")\n",
    "print(f\"  Department: {staff['Department'].dtype}\")"
   ]
  },
  {
   "cell_type": "code",
   "execution_count": 38,
   "id": "QAJO5THDUTse",
   "metadata": {
    "colab": {
     "base_uri": "https://localhost:8080/"
    },
    "id": "QAJO5THDUTse",
    "outputId": "8e548363-c9b9-4d17-8c53-67d7ec071015"
   },
   "outputs": [
    {
     "name": "stdout",
     "output_type": "stream",
     "text": [
      "\n",
      "=== Department Consistency Check (Facility vs Staff) ===\n",
      "Do the unique department names in facility and staff match? False\n",
      "\n",
      "Departments found only in staff:\n",
      "{'Emmergency'}\n"
     ]
    }
   ],
   "source": [
    "# --- Department Consistency Check ---\n",
    "print(\"\\n=== Department Consistency Check (Facility vs Staff) ===\")\n",
    "\n",
    "# Get unique department names from both dataframes\n",
    "unique_departments_facility = facility['Department'].unique()\n",
    "unique_departments_staff = staff['Department'].unique()\n",
    "\n",
    "# Check if the sets of unique department names are the same\n",
    "departments_match = set(unique_departments_facility) == set(unique_departments_staff)\n",
    "\n",
    "print(f\"Do the unique department names in facility and staff match? {departments_match}\")\n",
    "\n",
    "if not departments_match:\n",
    "    # Find departments only in facility\n",
    "    departments_only_in_facility = set(unique_departments_facility) - set(unique_departments_staff)\n",
    "    if departments_only_in_facility:\n",
    "        print(\"\\nDepartments found only in facility:\")\n",
    "        print(departments_only_in_facility)\n",
    "\n",
    "    # Find departments only in staff\n",
    "    departments_only_in_staff = set(unique_departments_staff) - set(unique_departments_facility)\n",
    "    if departments_only_in_staff:\n",
    "        print(\"\\nDepartments found only in staff:\")\n",
    "        print(departments_only_in_staff)"
   ]
  },
  {
   "cell_type": "code",
   "execution_count": 39,
   "id": "qIm7mP9dUyTV",
   "metadata": {
    "colab": {
     "base_uri": "https://localhost:8080/",
     "height": 173
    },
    "id": "qIm7mP9dUyTV",
    "outputId": "db3727c9-45fd-4b83-9606-4de026eef430"
   },
   "outputs": [
    {
     "name": "stdout",
     "output_type": "stream",
     "text": [
      "Unique Department entries in Facility dataset:\n"
     ]
    },
    {
     "data": {
      "text/plain": [
       "array(['Emergency', 'Cardiology', 'Pediatrics', 'Orthopedics',\n",
       "       'Obstetrics and Gynecology', 'Surgery', 'Neurology', 'Oncology',\n",
       "       'Radiology', 'Intensive Care Unit'], dtype=object)"
      ]
     },
     "metadata": {},
     "output_type": "display_data"
    },
    {
     "name": "stdout",
     "output_type": "stream",
     "text": [
      "\n",
      "Unique Department entries in Staff dataset:\n"
     ]
    },
    {
     "data": {
      "text/plain": [
       "array(['Pediatrics', 'Intensive Care Unit', 'Surgery', 'Emergency',\n",
       "       'Neurology', 'Cardiology', 'Obstetrics and Gynecology', 'Oncology',\n",
       "       'Orthopedics', 'Radiology', 'Emmergency'], dtype=object)"
      ]
     },
     "metadata": {},
     "output_type": "display_data"
    }
   ],
   "source": [
    "print(\"Unique Department entries in Facility dataset:\")\n",
    "display(facility['Department'].unique())\n",
    "\n",
    "print(\"\\nUnique Department entries in Staff dataset:\")\n",
    "display(staff['Department'].unique())"
   ]
  },
  {
   "cell_type": "code",
   "execution_count": 40,
   "id": "fTrs4g7QVTPK",
   "metadata": {
    "colab": {
     "base_uri": "https://localhost:8080/",
     "height": 380
    },
    "id": "fTrs4g7QVTPK",
    "outputId": "cbfbfd5f-be4f-4cb5-db4c-60bd8e316456"
   },
   "outputs": [
    {
     "name": "stdout",
     "output_type": "stream",
     "text": [
      "Department and DepartmentID for 'Emergency' and 'Emmergency' in Staff dataset:\n"
     ]
    },
    {
     "data": {
      "application/vnd.microsoft.datawrangler.viewer.v0+json": {
       "columns": [
        {
         "name": "index",
         "rawType": "int64",
         "type": "integer"
        },
        {
         "name": "Department",
         "rawType": "object",
         "type": "string"
        },
        {
         "name": "DepartmentID",
         "rawType": "object",
         "type": "string"
        }
       ],
       "ref": "42d92f58-e96d-4702-8953-1dd0e5dcd331",
       "rows": [
        [
         "3",
         "Emergency",
         "D0001"
        ],
        [
         "10",
         "Emergency",
         "D0001"
        ],
        [
         "27",
         "Emergency",
         "D0001"
        ],
        [
         "32",
         "Emergency",
         "D0001"
        ],
        [
         "40",
         "Emergency",
         "D0001"
        ],
        [
         "52",
         "Emergency",
         "D0001"
        ],
        [
         "63",
         "Emergency",
         "D0001"
        ],
        [
         "73",
         "Emergency",
         "D0001"
        ],
        [
         "83",
         "Emmergency",
         "D0001"
        ],
        [
         "91",
         "Emergency",
         "D0001"
        ]
       ],
       "shape": {
        "columns": 2,
        "rows": 10
       }
      },
      "text/html": [
       "<div>\n",
       "<style scoped>\n",
       "    .dataframe tbody tr th:only-of-type {\n",
       "        vertical-align: middle;\n",
       "    }\n",
       "\n",
       "    .dataframe tbody tr th {\n",
       "        vertical-align: top;\n",
       "    }\n",
       "\n",
       "    .dataframe thead th {\n",
       "        text-align: right;\n",
       "    }\n",
       "</style>\n",
       "<table border=\"1\" class=\"dataframe\">\n",
       "  <thead>\n",
       "    <tr style=\"text-align: right;\">\n",
       "      <th></th>\n",
       "      <th>Department</th>\n",
       "      <th>DepartmentID</th>\n",
       "    </tr>\n",
       "  </thead>\n",
       "  <tbody>\n",
       "    <tr>\n",
       "      <th>3</th>\n",
       "      <td>Emergency</td>\n",
       "      <td>D0001</td>\n",
       "    </tr>\n",
       "    <tr>\n",
       "      <th>10</th>\n",
       "      <td>Emergency</td>\n",
       "      <td>D0001</td>\n",
       "    </tr>\n",
       "    <tr>\n",
       "      <th>27</th>\n",
       "      <td>Emergency</td>\n",
       "      <td>D0001</td>\n",
       "    </tr>\n",
       "    <tr>\n",
       "      <th>32</th>\n",
       "      <td>Emergency</td>\n",
       "      <td>D0001</td>\n",
       "    </tr>\n",
       "    <tr>\n",
       "      <th>40</th>\n",
       "      <td>Emergency</td>\n",
       "      <td>D0001</td>\n",
       "    </tr>\n",
       "    <tr>\n",
       "      <th>52</th>\n",
       "      <td>Emergency</td>\n",
       "      <td>D0001</td>\n",
       "    </tr>\n",
       "    <tr>\n",
       "      <th>63</th>\n",
       "      <td>Emergency</td>\n",
       "      <td>D0001</td>\n",
       "    </tr>\n",
       "    <tr>\n",
       "      <th>73</th>\n",
       "      <td>Emergency</td>\n",
       "      <td>D0001</td>\n",
       "    </tr>\n",
       "    <tr>\n",
       "      <th>83</th>\n",
       "      <td>Emmergency</td>\n",
       "      <td>D0001</td>\n",
       "    </tr>\n",
       "    <tr>\n",
       "      <th>91</th>\n",
       "      <td>Emergency</td>\n",
       "      <td>D0001</td>\n",
       "    </tr>\n",
       "  </tbody>\n",
       "</table>\n",
       "</div>"
      ],
      "text/plain": [
       "    Department DepartmentID\n",
       "3    Emergency        D0001\n",
       "10   Emergency        D0001\n",
       "27   Emergency        D0001\n",
       "32   Emergency        D0001\n",
       "40   Emergency        D0001\n",
       "52   Emergency        D0001\n",
       "63   Emergency        D0001\n",
       "73   Emergency        D0001\n",
       "83  Emmergency        D0001\n",
       "91   Emergency        D0001"
      ]
     },
     "metadata": {},
     "output_type": "display_data"
    }
   ],
   "source": [
    "# Filter staff dataframe for 'Emergency' and 'Emmergency' departments\n",
    "emergency_departments = staff[staff['Department'].isin(['Emergency', 'Emmergency'])]\n",
    "\n",
    "# Display the Department and DepartmentID for these rows\n",
    "print(\"Department and DepartmentID for 'Emergency' and 'Emmergency' in Staff dataset:\")\n",
    "display(emergency_departments[['Department', 'DepartmentID']])"
   ]
  },
  {
   "cell_type": "markdown",
   "id": "GJXjcBpGVKvI",
   "metadata": {
    "id": "GJXjcBpGVKvI"
   },
   "source": [
    "As we observe, the reason behind mismatch is because of spelling mistakes,"
   ]
  },
  {
   "cell_type": "code",
   "execution_count": 41,
   "id": "mxMA548iVKed",
   "metadata": {
    "colab": {
     "base_uri": "https://localhost:8080/",
     "height": 446
    },
    "id": "mxMA548iVKed",
    "outputId": "8212447c-cac2-4e51-d591-7841515e1bb9"
   },
   "outputs": [
    {
     "name": "stdout",
     "output_type": "stream",
     "text": [
      "Unique values and their counts in the 'Department' column after correction:\n"
     ]
    },
    {
     "data": {
      "application/vnd.microsoft.datawrangler.viewer.v0+json": {
       "columns": [
        {
         "name": "Department",
         "rawType": "object",
         "type": "string"
        },
        {
         "name": "count",
         "rawType": "int64",
         "type": "integer"
        }
       ],
       "ref": "b3844a9e-3277-4ccb-9840-c95f7f5c67f7",
       "rows": [
        [
         "Cardiology",
         "15"
        ],
        [
         "Neurology",
         "12"
        ],
        [
         "Obstetrics and Gynecology",
         "12"
        ],
        [
         "Pediatrics",
         "11"
        ],
        [
         "Emergency",
         "10"
        ],
        [
         "Oncology",
         "10"
        ],
        [
         "Orthopedics",
         "9"
        ],
        [
         "Intensive Care Unit",
         "8"
        ],
        [
         "Radiology",
         "7"
        ],
        [
         "Surgery",
         "6"
        ]
       ],
       "shape": {
        "columns": 1,
        "rows": 10
       }
      },
      "text/plain": [
       "Department\n",
       "Cardiology                   15\n",
       "Neurology                    12\n",
       "Obstetrics and Gynecology    12\n",
       "Pediatrics                   11\n",
       "Emergency                    10\n",
       "Oncology                     10\n",
       "Orthopedics                   9\n",
       "Intensive Care Unit           8\n",
       "Radiology                     7\n",
       "Surgery                       6\n",
       "Name: count, dtype: int64"
      ]
     },
     "metadata": {},
     "output_type": "display_data"
    }
   ],
   "source": [
    "# Replace 'Emmergency' with 'Emergency' in the 'Department' column of the staff DataFrame\n",
    "staff['Department'] = staff['Department'].replace('Emmergency', 'Emergency')\n",
    "\n",
    "# Count unique values in the 'Department' column to verify the change\n",
    "print(\"Unique values and their counts in the 'Department' column after correction:\")\n",
    "display(staff['Department'].value_counts())"
   ]
  },
  {
   "cell_type": "code",
   "execution_count": 42,
   "id": "eMh8XCYEV4RN",
   "metadata": {
    "colab": {
     "base_uri": "https://localhost:8080/",
     "height": 481
    },
    "id": "eMh8XCYEV4RN",
    "outputId": "afe060fc-15ff-4a70-f1a9-fcc07706c7aa"
   },
   "outputs": [
    {
     "name": "stdout",
     "output_type": "stream",
     "text": [
      "Number of unique DepartmentIDs per Department:\n"
     ]
    },
    {
     "data": {
      "application/vnd.microsoft.datawrangler.viewer.v0+json": {
       "columns": [
        {
         "name": "Department",
         "rawType": "object",
         "type": "string"
        },
        {
         "name": "DepartmentID",
         "rawType": "int64",
         "type": "integer"
        }
       ],
       "ref": "8742db34-3872-4aab-bfcb-e73ca88b7d8f",
       "rows": [
        [
         "Cardiology",
         "1"
        ],
        [
         "Emergency",
         "1"
        ],
        [
         "Intensive Care Unit",
         "1"
        ],
        [
         "Neurology",
         "1"
        ],
        [
         "Obstetrics and Gynecology",
         "1"
        ],
        [
         "Oncology",
         "1"
        ],
        [
         "Orthopedics",
         "1"
        ],
        [
         "Pediatrics",
         "1"
        ],
        [
         "Radiology",
         "1"
        ],
        [
         "Surgery",
         "1"
        ]
       ],
       "shape": {
        "columns": 1,
        "rows": 10
       }
      },
      "text/plain": [
       "Department\n",
       "Cardiology                   1\n",
       "Emergency                    1\n",
       "Intensive Care Unit          1\n",
       "Neurology                    1\n",
       "Obstetrics and Gynecology    1\n",
       "Oncology                     1\n",
       "Orthopedics                  1\n",
       "Pediatrics                   1\n",
       "Radiology                    1\n",
       "Surgery                      1\n",
       "Name: DepartmentID, dtype: int64"
      ]
     },
     "metadata": {},
     "output_type": "display_data"
    },
    {
     "name": "stdout",
     "output_type": "stream",
     "text": [
      "\n",
      "DepartmentIDs are consistent for each Department name.\n"
     ]
    }
   ],
   "source": [
    "# Group by Department and check if the number of unique DepartmentIDs is 1 for each group\n",
    "department_id_consistency = staff.groupby('Department')['DepartmentID'].nunique()\n",
    "\n",
    "print(\"Number of unique DepartmentIDs per Department:\")\n",
    "display(department_id_consistency)\n",
    "\n",
    "# Check if all departments have only one unique DepartmentID\n",
    "all_consistent = (department_id_consistency == 1).all()\n",
    "\n",
    "if all_consistent:\n",
    "    print(\"\\nDepartmentIDs are consistent for each Department name.\")\n",
    "else:\n",
    "    print(\"\\nInconsistency found: Some Departments have multiple DepartmentIDs.\")\n",
    "    # Optionally, display the departments with inconsistencies\n",
    "    inconsistent_departments = department_id_consistency[department_id_consistency > 1]\n",
    "    print(\"\\nDepartments with inconsistent DepartmentIDs:\")\n",
    "    display(inconsistent_departments)"
   ]
  },
  {
   "cell_type": "code",
   "execution_count": 43,
   "id": "kmsgryEmWHsi",
   "metadata": {
    "colab": {
     "base_uri": "https://localhost:8080/"
    },
    "id": "kmsgryEmWHsi",
    "outputId": "6bcab73f-5c70-4701-f401-f7b7ec5f174b"
   },
   "outputs": [
    {
     "name": "stdout",
     "output_type": "stream",
     "text": [
      "<class 'pandas.core.frame.DataFrame'>\n",
      "RangeIndex: 100 entries, 0 to 99\n",
      "Data columns (total 6 columns):\n",
      " #   Column        Non-Null Count  Dtype \n",
      "---  ------        --------------  ----- \n",
      " 0   DoctorID      100 non-null    object\n",
      " 1   Name          100 non-null    object\n",
      " 2   Contact       100 non-null    int64 \n",
      " 3   Email         100 non-null    object\n",
      " 4   DepartmentID  100 non-null    object\n",
      " 5   Department    100 non-null    object\n",
      "dtypes: int64(1), object(5)\n",
      "memory usage: 4.8+ KB\n"
     ]
    }
   ],
   "source": [
    "staff.info()"
   ]
  },
  {
   "cell_type": "markdown",
   "id": "4zs7CCDvQjgi",
   "metadata": {
    "id": "4zs7CCDvQjgi"
   },
   "source": [
    "# Importing cleaned csv\n"
   ]
  },
  {
   "cell_type": "markdown",
   "id": "cgcbCj18DFjV",
   "metadata": {
    "id": "cgcbCj18DFjV"
   },
   "source": [
    "checking before merging staff and facility for room dataset"
   ]
  },
  {
   "cell_type": "code",
   "execution_count": 44,
   "id": "SR15yq_dYW76",
   "metadata": {
    "colab": {
     "base_uri": "https://localhost:8080/"
    },
    "id": "SR15yq_dYW76",
    "outputId": "28361293-01c9-427a-a8af-78d2633567fb"
   },
   "outputs": [
    {
     "name": "stdout",
     "output_type": "stream",
     "text": [
      "Are the unique values the same? True\n"
     ]
    }
   ],
   "source": [
    "# Get unique values from both columns\n",
    "facility_departments = set(facility['Department'].unique())\n",
    "staff_departments = set(staff['Department'].unique())\n",
    "\n",
    "# Check if they're the same\n",
    "are_same = facility_departments == staff_departments\n",
    "print(f\"Are the unique values the same? {are_same}\")"
   ]
  },
  {
   "cell_type": "code",
   "execution_count": 45,
   "id": "KGJ6h4GODEXa",
   "metadata": {
    "id": "KGJ6h4GODEXa"
   },
   "outputs": [],
   "source": [
    "# Create department mapping from staff dataset\n",
    "dept_mapping = staff[['Department', 'DepartmentID']].drop_duplicates()\n",
    "dept_mapping = dict(zip(dept_mapping['Department'], dept_mapping['DepartmentID']))\n",
    "\n",
    "# Add DepartmentID to facility dataset\n",
    "facility['DepartmentID'] = facility['Department'].map(dept_mapping)\n",
    "\n",
    "# Create room_cleaned dataset\n",
    "room_cleaned = facility[['BuildingID', 'RoomID', 'Purpose', 'DepartmentID']].copy()\n"
   ]
  },
  {
   "cell_type": "code",
   "execution_count": 46,
   "id": "aqJTnWGXD2Es",
   "metadata": {
    "colab": {
     "base_uri": "https://localhost:8080/"
    },
    "id": "aqJTnWGXD2Es",
    "outputId": "e2e706df-7cfb-4225-936f-37ca5a561570"
   },
   "outputs": [
    {
     "name": "stdout",
     "output_type": "stream",
     "text": [
      "Appointment dataset cleaned and ready\n"
     ]
    }
   ],
   "source": [
    "# Rename columns to match SQL table structure\n",
    "appointment_cleaned = appointment.rename(columns={\n",
    "   'ScheduledEnd': 'ScheduledEND',\n",
    "   'Arrival': 'ArrivalTime',\n",
    "   'ActualStart': 'StartTime',\n",
    "   'ActualEnd': 'FinishTime',\n",
    "   'Weight(kg)': 'Weight',\n",
    "   'Temperature(celcius)': 'Temperature',\n",
    "   'Comment': 'DoctorComment'\n",
    "}).copy()\n",
    "\n",
    "# Select columns in the correct order for the SQL table\n",
    "appointment_cleaned = appointment_cleaned[['PatientID', 'DoctorID', 'BuildingID', 'RoomID', 'ScheduledStart', 'ScheduledEND', 'ArrivalTime', 'StartTime', 'FinishTime', 'Weight', 'Temperature', 'DoctorComment']]\n",
    "\n",
    "print(\"Appointment dataset cleaned and ready\")"
   ]
  },
  {
   "cell_type": "code",
   "execution_count": 47,
   "id": "5MdD3x0qTzn2",
   "metadata": {
    "id": "5MdD3x0qTzn2"
   },
   "outputs": [],
   "source": [
    "# Patient Table\n",
    "patient.rename(columns={\n",
    "    'Name': 'PatientName',\n",
    "    'email': 'Email'\n",
    "}, inplace=True)\n",
    "\n",
    "# Convert Contact to string to match VARCHAR(10) in SQL\n",
    "patient['Contact'] = patient['Contact'].astype(str)\n",
    "\n",
    "# Doctor Table\n",
    "# Rename Name to DoctorName\n",
    "doctor = staff.copy()\n",
    "doctor.rename(columns={'Name': 'DoctorName'}, inplace=True)\n",
    "\n",
    "# Convert Contact to string to match VARCHAR(10)\n",
    "doctor['Contact'] = doctor['Contact'].astype(str)\n",
    "\n",
    "# Drop the extra Department column since it's not in the SQL table\n",
    "if 'Department' in doctor.columns:\n",
    "  doctor.drop(columns=['Department'], inplace=True)\n",
    "\n",
    "if 'DepartmentName' in doctor.columns:\n",
    "  doctor.drop(columns=['DepartmentName'], inplace=True)\n",
    "\n",
    "\n",
    "# Building Table\n",
    "# Assuming your DataFrame is named `building`\n",
    "\n",
    "# Rename typo column 'BuldingID' to 'BuildingID'\n",
    "facility.rename(columns={'BuldingID': 'BuildingID'}, inplace=True)\n",
    "\n",
    "# Keep only required columns for SQL table\n",
    "building = facility[['BuildingID', 'BuildingName']]\n",
    "building = building.drop_duplicates()\n",
    "\n",
    "# Department Table\n",
    "# Rename 'Department' column to 'DepartmentName'\n",
    "staff.rename(columns={'Department': 'DepartmentName'}, inplace=True)\n",
    "\n",
    "# Keep only DepartmentID and DepartmentName\n",
    "department = staff[['DepartmentID', 'DepartmentName']]\n",
    "department = department.drop_duplicates()"
   ]
  },
  {
   "cell_type": "markdown",
   "id": "SE8IizFPYZel",
   "metadata": {
    "id": "SE8IizFPYZel"
   },
   "source": [
    "Downloading files all dataset is cleaned"
   ]
  },
  {
   "cell_type": "code",
   "execution_count": 48,
   "id": "TqtLMWmXYnt4",
   "metadata": {
    "colab": {
     "base_uri": "https://localhost:8080/",
     "height": 191
    },
    "id": "TqtLMWmXYnt4",
    "outputId": "21be9e29-bed4-4402-8036-58bdf1c2eb3d"
   },
   "outputs": [
    {
     "name": "stdout",
     "output_type": "stream",
     "text": [
      "Modified patient.csv saved to: \n",
      "-cleaned_patient.csv \n",
      "-cleaned_doctor.csv \n",
      "-cleaned_building.csv \n",
      "-cleaned_department.csv \n",
      "-cleaned_room.csv \n",
      "-cleaned_appointment.csv\n",
      "\n",
      "Running in a local environment (likely VS Code). Files saved to the current directory.\n",
      "You can find the files in your file explorer.\n"
     ]
    }
   ],
   "source": [
    "# Define path to save the new CSV (Downloads folder)\n",
    "# download_path = os.path.expanduser('~/Downloads/patient.csv')\n",
    "\n",
    "# file path\n",
    "patient_file = \"cleaned_patient.csv\"\n",
    "doctor_file = \"cleaned_doctor.csv\"\n",
    "building_file = \"cleaned_building.csv\"\n",
    "department_file = \"cleaned_department.csv\"\n",
    "room_file = \"cleaned_room.csv\"\n",
    "appointment_file = \"cleaned_appointment.csv\"\n",
    "\n",
    "# Save the updated DataFrame to CSV without the index column\n",
    "patient.to_csv(patient_file, index=False)\n",
    "doctor.to_csv(doctor_file, index=False)\n",
    "building.to_csv(building_file, index=False)\n",
    "department.to_csv(department_file, index=False)\n",
    "room_cleaned.to_csv(room_file, index=False)\n",
    "appointment_cleaned.to_csv(appointment_file, index=False)\n",
    "\n",
    "print(f\"Modified patient.csv saved to: \\n-{patient_file} \\n-{doctor_file} \\n-{building_file} \\n-{department_file} \\n-{room_file} \\n-{appointment_file}\")\n",
    "try:\n",
    "    from google.colab import files\n",
    "    print(\"\\nClick the links below to download the files (Google Colab):\")\n",
    "    # These might not work if the files are very large or in a complex directory structure\n",
    "    # You might need to manually download from the file explorer in Colab\n",
    "    files.download(patient_file)\n",
    "    files.download(doctor_file)\n",
    "    files.download(building_file)\n",
    "    files.download(department_file)\n",
    "    files.download(room_file)\n",
    "    files.download(appointment_file)\n",
    "except ImportError:\n",
    "    print(\"\\nRunning in a local environment (likely VS Code). Files saved to the current directory.\")\n",
    "    print(\"You can find the files in your file explorer.\")"
   ]
  },
  {
   "cell_type": "code",
   "execution_count": 49,
   "id": "Myk9HqxBSHUL",
   "metadata": {
    "id": "Myk9HqxBSHUL"
   },
   "outputs": [],
   "source": [
    "# import os\n",
    "\n",
    "# # Assuming your DataFrame is named `doctor`\n",
    "\n",
    "# # Rename Name to DoctorName\n",
    "# staff.rename(columns={'Name': 'DoctorName'}, inplace=True)\n",
    "\n",
    "# # Convert Contact to string to match VARCHAR(10)\n",
    "# staff['Contact'] = staff['Contact'].astype(str)\n",
    "\n",
    "# # Drop the extra Department column since it's not in the SQL table\n",
    "# staff.drop(columns=['Department'], inplace=True)\n",
    "\n",
    "# # Define path to save to Downloads folder\n",
    "# download_path = os.path.expanduser('~/Downloads/doctor.csv')\n",
    "\n",
    "# # Save modified DataFrame to CSV\n",
    "# staff.to_csv(download_path, index=False)\n",
    "\n",
    "# print(f\"Modified doctor.csv saved to {download_path}\")\n",
    "\n",
    "#--------------------------\n",
    "\n",
    "# import os\n",
    "\n",
    "# # Assuming your DataFrame is named `building`\n",
    "\n",
    "# # Rename typo column 'BuldingID' to 'BuildingID'\n",
    "# facility.rename(columns={'BuldingID': 'BuildingID'}, inplace=True)\n",
    "\n",
    "# # Keep only required columns for SQL table\n",
    "# building = facility[['BuildingID', 'BuildingName']]\n",
    "\n",
    "# # Define path to save to Downloads folder\n",
    "# download_path = os.path.expanduser('~/Downloads/building.csv')\n",
    "\n",
    "# # Save to CSV\n",
    "# building.to_csv(download_path, index=False)\n",
    "\n",
    "# print(f\"Modified building.csv saved to {download_path}\")\n",
    "\n",
    "#-------\n",
    "# import os\n",
    "\n",
    "\n",
    "\n",
    "# # Rename 'Department' column to 'DepartmentName'\n",
    "# staff.rename(columns={'Department': 'DepartmentName'}, inplace=True)\n",
    "\n",
    "# # Keep only DepartmentID and DepartmentName\n",
    "# department = staff[['DepartmentID', 'DepartmentName']]\n",
    "\n",
    "# # Define path to save to Downloads folder\n",
    "# download_path = os.path.expanduser('~/Downloads/department.csv')\n",
    "\n",
    "# # Save to CSV\n",
    "# department.to_csv(download_path, index=False)\n",
    "\n",
    "# print(f\"Modified department.csv saved to {download_path}\")\n"
   ]
  }
 ],
 "metadata": {
  "colab": {
   "include_colab_link": true,
   "provenance": []
  },
  "kernelspec": {
   "display_name": "Python 3",
   "language": "python",
   "name": "python3"
  },
  "language_info": {
   "codemirror_mode": {
    "name": "ipython",
    "version": 3
   },
   "file_extension": ".py",
   "mimetype": "text/x-python",
   "name": "python",
   "nbconvert_exporter": "python",
   "pygments_lexer": "ipython3",
   "version": "3.12.10"
  }
 },
 "nbformat": 4,
 "nbformat_minor": 5
}
