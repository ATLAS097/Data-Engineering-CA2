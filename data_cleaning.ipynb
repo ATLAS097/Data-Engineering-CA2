{
 "cells": [
  {
   "cell_type": "markdown",
   "id": "a9589d3d",
   "metadata": {},
   "source": [
    "# Data Cleaning\n",
    "---\n",
    "### Date: 21 July 2025\n",
    "### Class: DAAA/FT/2B/22\n",
    "### Group-5\n",
    "### Group Member: Kaung Myat San, Swam Htet Aung, Ethan Ng Wen Xian\n",
    "---"
   ]
  },
  {
   "cell_type": "markdown",
   "id": "4a868b9d",
   "metadata": {},
   "source": [
    "## Loading Modules"
   ]
  },
  {
   "cell_type": "code",
   "execution_count": 4,
   "id": "f3338aec",
   "metadata": {},
   "outputs": [],
   "source": [
    "import pandas as pd \n",
    "from docx import Document"
   ]
  },
  {
   "cell_type": "markdown",
   "id": "b59dd89e",
   "metadata": {},
   "source": [
    "# Appointment Data Analysis and Cleaning\n",
    "---"
   ]
  },
  {
   "cell_type": "code",
   "execution_count": 8,
   "id": "e517f812",
   "metadata": {},
   "outputs": [],
   "source": [
    "# read appointment.xlsx from a URL (must use the raw file link and specify engine)\n",
    "appointment = pd.read_excel(\n",
    "\t\"https://raw.githubusercontent.com/ATLAS097/Data-Engineering-CA2/main/data/appointment.xlsx\",\n",
    "\tengine=\"openpyxl\"\n",
    ")"
   ]
  },
  {
   "cell_type": "code",
   "execution_count": 9,
   "id": "8c78457e",
   "metadata": {},
   "outputs": [
    {
     "data": {
      "application/vnd.microsoft.datawrangler.viewer.v0+json": {
       "columns": [
        {
         "name": "index",
         "rawType": "int64",
         "type": "integer"
        },
        {
         "name": "PatientID",
         "rawType": "object",
         "type": "string"
        },
        {
         "name": "DoctorID",
         "rawType": "object",
         "type": "string"
        },
        {
         "name": "BuildingID",
         "rawType": "object",
         "type": "string"
        },
        {
         "name": "RoomID",
         "rawType": "object",
         "type": "string"
        },
        {
         "name": "ScheduledStart",
         "rawType": "datetime64[ns]",
         "type": "datetime"
        },
        {
         "name": "ScheduledEnd",
         "rawType": "datetime64[ns]",
         "type": "datetime"
        },
        {
         "name": "Arrival",
         "rawType": "datetime64[ns]",
         "type": "datetime"
        },
        {
         "name": "ActualStart",
         "rawType": "datetime64[ns]",
         "type": "datetime"
        },
        {
         "name": "ActualEnd",
         "rawType": "object",
         "type": "unknown"
        },
        {
         "name": "Weight(kg)",
         "rawType": "float64",
         "type": "float"
        },
        {
         "name": "Temperature(celcius)",
         "rawType": "float64",
         "type": "float"
        },
        {
         "name": "Comment",
         "rawType": "object",
         "type": "unknown"
        }
       ],
       "ref": "d73dd8fc-20aa-443d-9afa-80cdefad11a9",
       "rows": [
        [
         "0",
         "P0191",
         "E0066",
         "B0001",
         "R0402",
         "2024-01-05 14:00:00",
         "2024-01-05 15:00:00",
         "2024-01-05 14:35:00",
         "2024-01-05 14:35:00",
         "2024-01-05 15:11:00",
         "49.5",
         "37.2",
         "Orientation comfortably"
        ],
        [
         "1",
         "P0776",
         "E0065",
         "B0004",
         "R0104",
         "2024-02-27 14:00:00",
         "2024-02-27 15:00:00",
         "2024-02-27 14:59:00",
         "2024-02-27 14:59:00",
         "2024-02-27 16:03:00",
         "55.5",
         "37.1",
         "Imaging has improved slightly"
        ],
        [
         "2",
         "P0157",
         "E0051",
         "B0001",
         "R0301",
         "2022-12-28 09:00:00",
         "2022-12-28 10:00:00",
         null,
         null,
         null,
         null,
         null,
         null
        ],
        [
         "3",
         "P0593",
         "E0044",
         "B0004",
         "R0101",
         "2023-01-04 15:00:00",
         "2023-01-04 16:00:00",
         "2023-01-04 15:48:00",
         "2023-01-04 15:48:00",
         "2023-01-04 16:22:00",
         "50.5",
         "36.8",
         "Rash reported today"
        ],
        [
         "4",
         "P0434",
         "E0074",
         "B0002",
         "R0203",
         "2020-04-14 09:00:00",
         "2020-04-14 10:00:00",
         "2020-04-14 09:39:00",
         "2020-04-14 09:39:00",
         "2020-04-14 10:07:00",
         "49.5",
         "38.1",
         "Continue observed on forearm"
        ]
       ],
       "shape": {
        "columns": 12,
        "rows": 5
       }
      },
      "text/html": [
       "<div>\n",
       "<style scoped>\n",
       "    .dataframe tbody tr th:only-of-type {\n",
       "        vertical-align: middle;\n",
       "    }\n",
       "\n",
       "    .dataframe tbody tr th {\n",
       "        vertical-align: top;\n",
       "    }\n",
       "\n",
       "    .dataframe thead th {\n",
       "        text-align: right;\n",
       "    }\n",
       "</style>\n",
       "<table border=\"1\" class=\"dataframe\">\n",
       "  <thead>\n",
       "    <tr style=\"text-align: right;\">\n",
       "      <th></th>\n",
       "      <th>PatientID</th>\n",
       "      <th>DoctorID</th>\n",
       "      <th>BuildingID</th>\n",
       "      <th>RoomID</th>\n",
       "      <th>ScheduledStart</th>\n",
       "      <th>ScheduledEnd</th>\n",
       "      <th>Arrival</th>\n",
       "      <th>ActualStart</th>\n",
       "      <th>ActualEnd</th>\n",
       "      <th>Weight(kg)</th>\n",
       "      <th>Temperature(celcius)</th>\n",
       "      <th>Comment</th>\n",
       "    </tr>\n",
       "  </thead>\n",
       "  <tbody>\n",
       "    <tr>\n",
       "      <th>0</th>\n",
       "      <td>P0191</td>\n",
       "      <td>E0066</td>\n",
       "      <td>B0001</td>\n",
       "      <td>R0402</td>\n",
       "      <td>2024-01-05 14:00:00</td>\n",
       "      <td>2024-01-05 15:00:00</td>\n",
       "      <td>2024-01-05 14:35:00</td>\n",
       "      <td>2024-01-05 14:35:00</td>\n",
       "      <td>2024-01-05 15:11:00</td>\n",
       "      <td>49.5</td>\n",
       "      <td>37.2</td>\n",
       "      <td>Orientation comfortably</td>\n",
       "    </tr>\n",
       "    <tr>\n",
       "      <th>1</th>\n",
       "      <td>P0776</td>\n",
       "      <td>E0065</td>\n",
       "      <td>B0004</td>\n",
       "      <td>R0104</td>\n",
       "      <td>2024-02-27 14:00:00</td>\n",
       "      <td>2024-02-27 15:00:00</td>\n",
       "      <td>2024-02-27 14:59:00</td>\n",
       "      <td>2024-02-27 14:59:00</td>\n",
       "      <td>2024-02-27 16:03:00</td>\n",
       "      <td>55.5</td>\n",
       "      <td>37.1</td>\n",
       "      <td>Imaging has improved slightly</td>\n",
       "    </tr>\n",
       "    <tr>\n",
       "      <th>2</th>\n",
       "      <td>P0157</td>\n",
       "      <td>E0051</td>\n",
       "      <td>B0001</td>\n",
       "      <td>R0301</td>\n",
       "      <td>2022-12-28 09:00:00</td>\n",
       "      <td>2022-12-28 10:00:00</td>\n",
       "      <td>NaT</td>\n",
       "      <td>NaT</td>\n",
       "      <td>NaN</td>\n",
       "      <td>NaN</td>\n",
       "      <td>NaN</td>\n",
       "      <td>NaN</td>\n",
       "    </tr>\n",
       "    <tr>\n",
       "      <th>3</th>\n",
       "      <td>P0593</td>\n",
       "      <td>E0044</td>\n",
       "      <td>B0004</td>\n",
       "      <td>R0101</td>\n",
       "      <td>2023-01-04 15:00:00</td>\n",
       "      <td>2023-01-04 16:00:00</td>\n",
       "      <td>2023-01-04 15:48:00</td>\n",
       "      <td>2023-01-04 15:48:00</td>\n",
       "      <td>2023-01-04 16:22:00</td>\n",
       "      <td>50.5</td>\n",
       "      <td>36.8</td>\n",
       "      <td>Rash reported today</td>\n",
       "    </tr>\n",
       "    <tr>\n",
       "      <th>4</th>\n",
       "      <td>P0434</td>\n",
       "      <td>E0074</td>\n",
       "      <td>B0002</td>\n",
       "      <td>R0203</td>\n",
       "      <td>2020-04-14 09:00:00</td>\n",
       "      <td>2020-04-14 10:00:00</td>\n",
       "      <td>2020-04-14 09:39:00</td>\n",
       "      <td>2020-04-14 09:39:00</td>\n",
       "      <td>2020-04-14 10:07:00</td>\n",
       "      <td>49.5</td>\n",
       "      <td>38.1</td>\n",
       "      <td>Continue observed on forearm</td>\n",
       "    </tr>\n",
       "  </tbody>\n",
       "</table>\n",
       "</div>"
      ],
      "text/plain": [
       "  PatientID DoctorID BuildingID RoomID      ScheduledStart  \\\n",
       "0     P0191    E0066      B0001  R0402 2024-01-05 14:00:00   \n",
       "1     P0776    E0065      B0004  R0104 2024-02-27 14:00:00   \n",
       "2     P0157    E0051      B0001  R0301 2022-12-28 09:00:00   \n",
       "3     P0593    E0044      B0004  R0101 2023-01-04 15:00:00   \n",
       "4     P0434    E0074      B0002  R0203 2020-04-14 09:00:00   \n",
       "\n",
       "         ScheduledEnd             Arrival         ActualStart  \\\n",
       "0 2024-01-05 15:00:00 2024-01-05 14:35:00 2024-01-05 14:35:00   \n",
       "1 2024-02-27 15:00:00 2024-02-27 14:59:00 2024-02-27 14:59:00   \n",
       "2 2022-12-28 10:00:00                 NaT                 NaT   \n",
       "3 2023-01-04 16:00:00 2023-01-04 15:48:00 2023-01-04 15:48:00   \n",
       "4 2020-04-14 10:00:00 2020-04-14 09:39:00 2020-04-14 09:39:00   \n",
       "\n",
       "             ActualEnd  Weight(kg)  Temperature(celcius)  \\\n",
       "0  2024-01-05 15:11:00        49.5                  37.2   \n",
       "1  2024-02-27 16:03:00        55.5                  37.1   \n",
       "2                  NaN         NaN                   NaN   \n",
       "3  2023-01-04 16:22:00        50.5                  36.8   \n",
       "4  2020-04-14 10:07:00        49.5                  38.1   \n",
       "\n",
       "                         Comment  \n",
       "0        Orientation comfortably  \n",
       "1  Imaging has improved slightly  \n",
       "2                            NaN  \n",
       "3            Rash reported today  \n",
       "4   Continue observed on forearm  "
      ]
     },
     "execution_count": 9,
     "metadata": {},
     "output_type": "execute_result"
    }
   ],
   "source": [
    "appointment.head()"
   ]
  },
  {
   "cell_type": "markdown",
   "id": "7e9827fd",
   "metadata": {},
   "source": [
    "# Facility Data Analysis and Cleaning\n",
    "---"
   ]
  },
  {
   "cell_type": "code",
   "execution_count": null,
   "id": "f07eb0be",
   "metadata": {},
   "outputs": [],
   "source": [
    "document = Document(\"https://github.com/ATLAS097/Data-Engineering-CA2/blob/main/data/facility.docx\")\n",
    "tables = []\n",
    "for index,table in enumerate(document.tables):\n",
    "    df = [['' for i in range(len(table.columns))] for j in range(len(table.rows))]\n",
    "    for i, row in enumerate(table.rows):\n",
    "        for j, cell in enumerate(row.cells):\n",
    "            df[i][j] = cell.text\n",
    "        pd.DataFrame(df).to_excel(\"Tabela__ \"+str(index)+\".xlsx\")\n",
    "print(\"Done\")"
   ]
  },
  {
   "cell_type": "markdown",
   "id": "e75346dc",
   "metadata": {},
   "source": [
    "# Patient Data Analysis and Cleaning\n",
    "---"
   ]
  },
  {
   "cell_type": "code",
   "execution_count": 11,
   "id": "68c06bc6",
   "metadata": {},
   "outputs": [
    {
     "data": {
      "application/vnd.microsoft.datawrangler.viewer.v0+json": {
       "columns": [
        {
         "name": "index",
         "rawType": "int64",
         "type": "integer"
        },
        {
         "name": "PatientID",
         "rawType": "object",
         "type": "string"
        },
        {
         "name": "Name",
         "rawType": "object",
         "type": "string"
        },
        {
         "name": "Sex",
         "rawType": "object",
         "type": "string"
        },
        {
         "name": "Contact",
         "rawType": "int64",
         "type": "integer"
        },
        {
         "name": "email",
         "rawType": "object",
         "type": "string"
        },
        {
         "name": "Address",
         "rawType": "object",
         "type": "string"
        },
        {
         "name": "DOB",
         "rawType": "datetime64[ns]",
         "type": "datetime"
        }
       ],
       "ref": "044bad13-57cd-449c-9469-a82de51c706a",
       "rows": [
        [
         "0",
         "P0001",
         "Kelsey Moore",
         "female",
         "39472495",
         "kelsey.moore@gmail.com",
         "34892 Christopher Crossing, South Brooke, NH 16114",
         "1997-05-05 00:00:00"
        ],
        [
         "1",
         "P0002",
         "William Perry",
         "male",
         "15351117",
         "william.perry@hotmail.com",
         "94501 Bell Islands Suite 485, New Jessica, NJ 36060",
         "2007-06-06 00:00:00"
        ],
        [
         "2",
         "P0003",
         "Nicholas Jones",
         "male",
         "56648257",
         "nicholas.jones@yahoo.com",
         "8841 Lewis Parkways Apt. 040, South Kristen, ID 34440",
         "1975-12-04 00:00:00"
        ],
        [
         "3",
         "P0004",
         "Theresa Smith",
         "female",
         "45807263",
         "theresa.smith@outlook.com",
         "271 Jeffrey Freeway, Willisbury, ME 39487",
         "1997-09-14 00:00:00"
        ],
        [
         "4",
         "P0005",
         "Tara Kennedy",
         "female",
         "84234563",
         "tara.kennedy@protonmail.com",
         "64128 Rick Coves Apt. 284, Lake James, NJ 51964",
         "2011-02-22 00:00:00"
        ]
       ],
       "shape": {
        "columns": 7,
        "rows": 5
       }
      },
      "text/html": [
       "<div>\n",
       "<style scoped>\n",
       "    .dataframe tbody tr th:only-of-type {\n",
       "        vertical-align: middle;\n",
       "    }\n",
       "\n",
       "    .dataframe tbody tr th {\n",
       "        vertical-align: top;\n",
       "    }\n",
       "\n",
       "    .dataframe thead th {\n",
       "        text-align: right;\n",
       "    }\n",
       "</style>\n",
       "<table border=\"1\" class=\"dataframe\">\n",
       "  <thead>\n",
       "    <tr style=\"text-align: right;\">\n",
       "      <th></th>\n",
       "      <th>PatientID</th>\n",
       "      <th>Name</th>\n",
       "      <th>Sex</th>\n",
       "      <th>Contact</th>\n",
       "      <th>email</th>\n",
       "      <th>Address</th>\n",
       "      <th>DOB</th>\n",
       "    </tr>\n",
       "  </thead>\n",
       "  <tbody>\n",
       "    <tr>\n",
       "      <th>0</th>\n",
       "      <td>P0001</td>\n",
       "      <td>Kelsey Moore</td>\n",
       "      <td>female</td>\n",
       "      <td>39472495</td>\n",
       "      <td>kelsey.moore@gmail.com</td>\n",
       "      <td>34892 Christopher Crossing, South Brooke, NH 1...</td>\n",
       "      <td>1997-05-05</td>\n",
       "    </tr>\n",
       "    <tr>\n",
       "      <th>1</th>\n",
       "      <td>P0002</td>\n",
       "      <td>William Perry</td>\n",
       "      <td>male</td>\n",
       "      <td>15351117</td>\n",
       "      <td>william.perry@hotmail.com</td>\n",
       "      <td>94501 Bell Islands Suite 485, New Jessica, NJ ...</td>\n",
       "      <td>2007-06-06</td>\n",
       "    </tr>\n",
       "    <tr>\n",
       "      <th>2</th>\n",
       "      <td>P0003</td>\n",
       "      <td>Nicholas Jones</td>\n",
       "      <td>male</td>\n",
       "      <td>56648257</td>\n",
       "      <td>nicholas.jones@yahoo.com</td>\n",
       "      <td>8841 Lewis Parkways Apt. 040, South Kristen, I...</td>\n",
       "      <td>1975-12-04</td>\n",
       "    </tr>\n",
       "    <tr>\n",
       "      <th>3</th>\n",
       "      <td>P0004</td>\n",
       "      <td>Theresa Smith</td>\n",
       "      <td>female</td>\n",
       "      <td>45807263</td>\n",
       "      <td>theresa.smith@outlook.com</td>\n",
       "      <td>271 Jeffrey Freeway, Willisbury, ME 39487</td>\n",
       "      <td>1997-09-14</td>\n",
       "    </tr>\n",
       "    <tr>\n",
       "      <th>4</th>\n",
       "      <td>P0005</td>\n",
       "      <td>Tara Kennedy</td>\n",
       "      <td>female</td>\n",
       "      <td>84234563</td>\n",
       "      <td>tara.kennedy@protonmail.com</td>\n",
       "      <td>64128 Rick Coves Apt. 284, Lake James, NJ 51964</td>\n",
       "      <td>2011-02-22</td>\n",
       "    </tr>\n",
       "  </tbody>\n",
       "</table>\n",
       "</div>"
      ],
      "text/plain": [
       "  PatientID            Name     Sex   Contact                        email  \\\n",
       "0     P0001    Kelsey Moore  female  39472495       kelsey.moore@gmail.com   \n",
       "1     P0002   William Perry    male  15351117    william.perry@hotmail.com   \n",
       "2     P0003  Nicholas Jones    male  56648257     nicholas.jones@yahoo.com   \n",
       "3     P0004   Theresa Smith  female  45807263    theresa.smith@outlook.com   \n",
       "4     P0005    Tara Kennedy  female  84234563  tara.kennedy@protonmail.com   \n",
       "\n",
       "                                             Address        DOB  \n",
       "0  34892 Christopher Crossing, South Brooke, NH 1... 1997-05-05  \n",
       "1  94501 Bell Islands Suite 485, New Jessica, NJ ... 2007-06-06  \n",
       "2  8841 Lewis Parkways Apt. 040, South Kristen, I... 1975-12-04  \n",
       "3          271 Jeffrey Freeway, Willisbury, ME 39487 1997-09-14  \n",
       "4    64128 Rick Coves Apt. 284, Lake James, NJ 51964 2011-02-22  "
      ]
     },
     "execution_count": 11,
     "metadata": {},
     "output_type": "execute_result"
    }
   ],
   "source": [
    "patient = pd.read_excel(\"https://raw.githubusercontent.com/ATLAS097/Data-Engineering-CA2/main/data/patient.xlsx\", engine=\"openpyxl\")\n",
    "patient.head()"
   ]
  },
  {
   "cell_type": "markdown",
   "id": "0efb746f",
   "metadata": {},
   "source": [
    "# Staff Data Analysis and Cleaning\n",
    "---"
   ]
  },
  {
   "cell_type": "code",
   "execution_count": 19,
   "id": "79e56b38",
   "metadata": {},
   "outputs": [
    {
     "data": {
      "application/vnd.microsoft.datawrangler.viewer.v0+json": {
       "columns": [
        {
         "name": "index",
         "rawType": "int64",
         "type": "integer"
        },
        {
         "name": "DoctorID",
         "rawType": "object",
         "type": "string"
        },
        {
         "name": "Name",
         "rawType": "object",
         "type": "string"
        },
        {
         "name": "Contact",
         "rawType": "int64",
         "type": "integer"
        },
        {
         "name": "Email",
         "rawType": "object",
         "type": "string"
        },
        {
         "name": "DepartmentID",
         "rawType": "object",
         "type": "string"
        },
        {
         "name": "Department",
         "rawType": "object",
         "type": "string"
        }
       ],
       "ref": "232f9723-0c1c-4634-8948-17b800402980",
       "rows": [
        [
         "0",
         "E0001",
         "Grace Chen",
         "78901234",
         " grace.chen@abchospital.com",
         "D0005",
         "Pediatrics"
        ],
        [
         "1",
         "E0002",
         "Henry Adams",
         "75678901",
         " henry.adams@abchospital.com",
         "D0002",
         "Intensive Care Unit"
        ],
        [
         "2",
         "E0003",
         "Maya Patel",
         "44567890",
         " maya.patel@abchospital.com",
         "D0008",
         "Surgery"
        ],
        [
         "3",
         "E0004",
         "Sean Underwood",
         "84345678",
         " sean.underwood@abchospital.com",
         "D0001",
         "Emergency"
        ],
        [
         "4",
         "E0005",
         "Amy Bryant",
         "72123456",
         " amy.bryant@abchospital.com",
         "D0009",
         "Neurology"
        ]
       ],
       "shape": {
        "columns": 6,
        "rows": 5
       }
      },
      "text/html": [
       "<div>\n",
       "<style scoped>\n",
       "    .dataframe tbody tr th:only-of-type {\n",
       "        vertical-align: middle;\n",
       "    }\n",
       "\n",
       "    .dataframe tbody tr th {\n",
       "        vertical-align: top;\n",
       "    }\n",
       "\n",
       "    .dataframe thead th {\n",
       "        text-align: right;\n",
       "    }\n",
       "</style>\n",
       "<table border=\"1\" class=\"dataframe\">\n",
       "  <thead>\n",
       "    <tr style=\"text-align: right;\">\n",
       "      <th></th>\n",
       "      <th>DoctorID</th>\n",
       "      <th>Name</th>\n",
       "      <th>Contact</th>\n",
       "      <th>Email</th>\n",
       "      <th>DepartmentID</th>\n",
       "      <th>Department</th>\n",
       "    </tr>\n",
       "  </thead>\n",
       "  <tbody>\n",
       "    <tr>\n",
       "      <th>0</th>\n",
       "      <td>E0001</td>\n",
       "      <td>Grace Chen</td>\n",
       "      <td>78901234</td>\n",
       "      <td>grace.chen@abchospital.com</td>\n",
       "      <td>D0005</td>\n",
       "      <td>Pediatrics</td>\n",
       "    </tr>\n",
       "    <tr>\n",
       "      <th>1</th>\n",
       "      <td>E0002</td>\n",
       "      <td>Henry Adams</td>\n",
       "      <td>75678901</td>\n",
       "      <td>henry.adams@abchospital.com</td>\n",
       "      <td>D0002</td>\n",
       "      <td>Intensive Care Unit</td>\n",
       "    </tr>\n",
       "    <tr>\n",
       "      <th>2</th>\n",
       "      <td>E0003</td>\n",
       "      <td>Maya Patel</td>\n",
       "      <td>44567890</td>\n",
       "      <td>maya.patel@abchospital.com</td>\n",
       "      <td>D0008</td>\n",
       "      <td>Surgery</td>\n",
       "    </tr>\n",
       "    <tr>\n",
       "      <th>3</th>\n",
       "      <td>E0004</td>\n",
       "      <td>Sean Underwood</td>\n",
       "      <td>84345678</td>\n",
       "      <td>sean.underwood@abchospital.com</td>\n",
       "      <td>D0001</td>\n",
       "      <td>Emergency</td>\n",
       "    </tr>\n",
       "    <tr>\n",
       "      <th>4</th>\n",
       "      <td>E0005</td>\n",
       "      <td>Amy Bryant</td>\n",
       "      <td>72123456</td>\n",
       "      <td>amy.bryant@abchospital.com</td>\n",
       "      <td>D0009</td>\n",
       "      <td>Neurology</td>\n",
       "    </tr>\n",
       "  </tbody>\n",
       "</table>\n",
       "</div>"
      ],
      "text/plain": [
       "  DoctorID            Name   Contact                            Email  \\\n",
       "0    E0001      Grace Chen  78901234       grace.chen@abchospital.com   \n",
       "1    E0002     Henry Adams  75678901      henry.adams@abchospital.com   \n",
       "2    E0003      Maya Patel  44567890       maya.patel@abchospital.com   \n",
       "3    E0004  Sean Underwood  84345678   sean.underwood@abchospital.com   \n",
       "4    E0005      Amy Bryant  72123456       amy.bryant@abchospital.com   \n",
       "\n",
       "  DepartmentID           Department  \n",
       "0        D0005           Pediatrics  \n",
       "1        D0002  Intensive Care Unit  \n",
       "2        D0008              Surgery  \n",
       "3        D0001            Emergency  \n",
       "4        D0009            Neurology  "
      ]
     },
     "execution_count": 19,
     "metadata": {},
     "output_type": "execute_result"
    }
   ],
   "source": [
    "staff = pd.read_csv(\"https://raw.githubusercontent.com/ATLAS097/Data-Engineering-CA2/main/data/staff.csv\")\n",
    "staff.head()"
   ]
  },
  {
   "cell_type": "code",
   "execution_count": null,
   "id": "5cbbf673",
   "metadata": {},
   "outputs": [],
   "source": []
  }
 ],
 "metadata": {
  "kernelspec": {
   "display_name": "Python 3",
   "language": "python",
   "name": "python3"
  },
  "language_info": {
   "codemirror_mode": {
    "name": "ipython",
    "version": 3
   },
   "file_extension": ".py",
   "mimetype": "text/x-python",
   "name": "python",
   "nbconvert_exporter": "python",
   "pygments_lexer": "ipython3",
   "version": "3.12.10"
  }
 },
 "nbformat": 4,
 "nbformat_minor": 5
}
