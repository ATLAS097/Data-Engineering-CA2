{
  "cells": [
    {
      "cell_type": "markdown",
      "metadata": {
        "id": "view-in-github",
        "colab_type": "text"
      },
      "source": [
        "<a href=\"https://colab.research.google.com/github/ATLAS097/Data-Engineering-CA2/blob/Swam/data_cleaning.ipynb\" target=\"_parent\"><img src=\"https://colab.research.google.com/assets/colab-badge.svg\" alt=\"Open In Colab\"/></a>"
      ]
    },
    {
      "cell_type": "markdown",
      "id": "a9589d3d",
      "metadata": {
        "id": "a9589d3d"
      },
      "source": [
        "# Data Cleaning\n",
        "---\n",
        "### Date: 21 July 2025\n",
        "### Class: DAAA/FT/2B/22\n",
        "### Group-5\n",
        "### Group Member: Kaung Myat San, Swam Htet Aung, Ethan Ng Wen Xian\n",
        "---"
      ]
    },
    {
      "cell_type": "markdown",
      "id": "4a868b9d",
      "metadata": {
        "id": "4a868b9d"
      },
      "source": [
        "## Loading Modules"
      ]
    },
    {
      "cell_type": "code",
      "execution_count": 2,
      "id": "f3338aec",
      "metadata": {
        "colab": {
          "base_uri": "https://localhost:8080/"
        },
        "id": "f3338aec",
        "outputId": "1e91b059-3ef4-4d6c-cf86-2c398de0c28c"
      },
      "outputs": [
        {
          "output_type": "stream",
          "name": "stdout",
          "text": [
            "Collecting python-docx\n",
            "  Downloading python_docx-1.2.0-py3-none-any.whl.metadata (2.0 kB)\n",
            "Requirement already satisfied: lxml>=3.1.0 in /usr/local/lib/python3.11/dist-packages (from python-docx) (5.4.0)\n",
            "Requirement already satisfied: typing_extensions>=4.9.0 in /usr/local/lib/python3.11/dist-packages (from python-docx) (4.14.1)\n",
            "Downloading python_docx-1.2.0-py3-none-any.whl (252 kB)\n",
            "\u001b[?25l   \u001b[90m━━━━━━━━━━━━━━━━━━━━━━━━━━━━━━━━━━━━━━━━\u001b[0m \u001b[32m0.0/253.0 kB\u001b[0m \u001b[31m?\u001b[0m eta \u001b[36m-:--:--\u001b[0m\r\u001b[2K   \u001b[91m━━━━━━━━━━━━━━━━\u001b[0m\u001b[90m╺\u001b[0m\u001b[90m━━━━━━━━━━━━━━━━━━━━━━━\u001b[0m \u001b[32m102.4/253.0 kB\u001b[0m \u001b[31m2.8 MB/s\u001b[0m eta \u001b[36m0:00:01\u001b[0m\r\u001b[2K   \u001b[90m━━━━━━━━━━━━━━━━━━━━━━━━━━━━━━━━━━━━━━━━\u001b[0m \u001b[32m253.0/253.0 kB\u001b[0m \u001b[31m4.0 MB/s\u001b[0m eta \u001b[36m0:00:00\u001b[0m\n",
            "\u001b[?25hInstalling collected packages: python-docx\n",
            "Successfully installed python-docx-1.2.0\n"
          ]
        }
      ],
      "source": [
        "!pip install python-docx\n",
        "import re\n",
        "import pandas as pd\n",
        "from docx import Document\n",
        "import warnings\n",
        "warnings.filterwarnings('ignore')"
      ]
    },
    {
      "cell_type": "markdown",
      "source": [
        "## Loading Data\n",
        "---"
      ],
      "metadata": {
        "id": "ppprV_Z1u0ru"
      },
      "id": "ppprV_Z1u0ru"
    },
    {
      "cell_type": "code",
      "execution_count": 62,
      "id": "e517f812",
      "metadata": {
        "id": "e517f812"
      },
      "outputs": [],
      "source": [
        "# read appointment.xlsx from a URL (must use the raw file link and specify engine)\n",
        "appointment = pd.read_excel(\n",
        "\t\"https://raw.githubusercontent.com/ATLAS097/Data-Engineering-CA2/main/data/appointment.xlsx\",\n",
        "\tengine=\"openpyxl\"\n",
        ")"
      ]
    },
    {
      "cell_type": "code",
      "execution_count": 9,
      "id": "f07eb0be",
      "metadata": {
        "colab": {
          "base_uri": "https://localhost:8080/",
          "height": 423
        },
        "id": "f07eb0be",
        "outputId": "aa7fadbc-933c-4d91-ff3a-f0236a6c2e72"
      },
      "outputs": [
        {
          "output_type": "stream",
          "name": "stdout",
          "text": [
            "--2025-08-08 05:28:35--  https://raw.githubusercontent.com/ATLAS097/Data-Engineering-CA2/main/data/facility.docx\n",
            "Resolving raw.githubusercontent.com (raw.githubusercontent.com)... 185.199.110.133, 185.199.109.133, 185.199.108.133, ...\n",
            "Connecting to raw.githubusercontent.com (raw.githubusercontent.com)|185.199.110.133|:443... connected.\n",
            "HTTP request sent, awaiting response... 200 OK\n",
            "Length: 34082 (33K) [application/octet-stream]\n",
            "Saving to: ‘facility.docx’\n",
            "\n",
            "\rfacility.docx         0%[                    ]       0  --.-KB/s               \rfacility.docx       100%[===================>]  33.28K  --.-KB/s    in 0.01s   \n",
            "\n",
            "2025-08-08 05:28:35 (3.27 MB/s) - ‘facility.docx’ saved [34082/34082]\n",
            "\n"
          ]
        },
        {
          "output_type": "display_data",
          "data": {
            "text/plain": [
              "0 Department BuildingID BuildingName  RoomID            Purpose\n",
              "0  Emergency     B0001   Emergency 1   R0101  Consultation Room\n",
              "1  Emergency     B0001   Emergency 1   R0102  Consultation Room\n",
              "2  Emergency     B0001   Emergency 1   R0103     Emergency Room\n",
              "3  Emergency     B0001   Emergency 1   R0104           Pharmacy\n",
              "4  Emergency     B0001   Emergency 1   R0201         Laboratory"
            ],
            "text/html": [
              "\n",
              "  <div id=\"df-9e96267f-37a4-4042-9b2e-8963fb69f289\" class=\"colab-df-container\">\n",
              "    <div>\n",
              "<style scoped>\n",
              "    .dataframe tbody tr th:only-of-type {\n",
              "        vertical-align: middle;\n",
              "    }\n",
              "\n",
              "    .dataframe tbody tr th {\n",
              "        vertical-align: top;\n",
              "    }\n",
              "\n",
              "    .dataframe thead th {\n",
              "        text-align: right;\n",
              "    }\n",
              "</style>\n",
              "<table border=\"1\" class=\"dataframe\">\n",
              "  <thead>\n",
              "    <tr style=\"text-align: right;\">\n",
              "      <th></th>\n",
              "      <th>Department</th>\n",
              "      <th>BuildingID</th>\n",
              "      <th>BuildingName</th>\n",
              "      <th>RoomID</th>\n",
              "      <th>Purpose</th>\n",
              "    </tr>\n",
              "  </thead>\n",
              "  <tbody>\n",
              "    <tr>\n",
              "      <th>0</th>\n",
              "      <td>Emergency</td>\n",
              "      <td>B0001</td>\n",
              "      <td>Emergency 1</td>\n",
              "      <td>R0101</td>\n",
              "      <td>Consultation Room</td>\n",
              "    </tr>\n",
              "    <tr>\n",
              "      <th>1</th>\n",
              "      <td>Emergency</td>\n",
              "      <td>B0001</td>\n",
              "      <td>Emergency 1</td>\n",
              "      <td>R0102</td>\n",
              "      <td>Consultation Room</td>\n",
              "    </tr>\n",
              "    <tr>\n",
              "      <th>2</th>\n",
              "      <td>Emergency</td>\n",
              "      <td>B0001</td>\n",
              "      <td>Emergency 1</td>\n",
              "      <td>R0103</td>\n",
              "      <td>Emergency Room</td>\n",
              "    </tr>\n",
              "    <tr>\n",
              "      <th>3</th>\n",
              "      <td>Emergency</td>\n",
              "      <td>B0001</td>\n",
              "      <td>Emergency 1</td>\n",
              "      <td>R0104</td>\n",
              "      <td>Pharmacy</td>\n",
              "    </tr>\n",
              "    <tr>\n",
              "      <th>4</th>\n",
              "      <td>Emergency</td>\n",
              "      <td>B0001</td>\n",
              "      <td>Emergency 1</td>\n",
              "      <td>R0201</td>\n",
              "      <td>Laboratory</td>\n",
              "    </tr>\n",
              "  </tbody>\n",
              "</table>\n",
              "</div>\n",
              "    <div class=\"colab-df-buttons\">\n",
              "\n",
              "  <div class=\"colab-df-container\">\n",
              "    <button class=\"colab-df-convert\" onclick=\"convertToInteractive('df-9e96267f-37a4-4042-9b2e-8963fb69f289')\"\n",
              "            title=\"Convert this dataframe to an interactive table.\"\n",
              "            style=\"display:none;\">\n",
              "\n",
              "  <svg xmlns=\"http://www.w3.org/2000/svg\" height=\"24px\" viewBox=\"0 -960 960 960\">\n",
              "    <path d=\"M120-120v-720h720v720H120Zm60-500h600v-160H180v160Zm220 220h160v-160H400v160Zm0 220h160v-160H400v160ZM180-400h160v-160H180v160Zm440 0h160v-160H620v160ZM180-180h160v-160H180v160Zm440 0h160v-160H620v160Z\"/>\n",
              "  </svg>\n",
              "    </button>\n",
              "\n",
              "  <style>\n",
              "    .colab-df-container {\n",
              "      display:flex;\n",
              "      gap: 12px;\n",
              "    }\n",
              "\n",
              "    .colab-df-convert {\n",
              "      background-color: #E8F0FE;\n",
              "      border: none;\n",
              "      border-radius: 50%;\n",
              "      cursor: pointer;\n",
              "      display: none;\n",
              "      fill: #1967D2;\n",
              "      height: 32px;\n",
              "      padding: 0 0 0 0;\n",
              "      width: 32px;\n",
              "    }\n",
              "\n",
              "    .colab-df-convert:hover {\n",
              "      background-color: #E2EBFA;\n",
              "      box-shadow: 0px 1px 2px rgba(60, 64, 67, 0.3), 0px 1px 3px 1px rgba(60, 64, 67, 0.15);\n",
              "      fill: #174EA6;\n",
              "    }\n",
              "\n",
              "    .colab-df-buttons div {\n",
              "      margin-bottom: 4px;\n",
              "    }\n",
              "\n",
              "    [theme=dark] .colab-df-convert {\n",
              "      background-color: #3B4455;\n",
              "      fill: #D2E3FC;\n",
              "    }\n",
              "\n",
              "    [theme=dark] .colab-df-convert:hover {\n",
              "      background-color: #434B5C;\n",
              "      box-shadow: 0px 1px 3px 1px rgba(0, 0, 0, 0.15);\n",
              "      filter: drop-shadow(0px 1px 2px rgba(0, 0, 0, 0.3));\n",
              "      fill: #FFFFFF;\n",
              "    }\n",
              "  </style>\n",
              "\n",
              "    <script>\n",
              "      const buttonEl =\n",
              "        document.querySelector('#df-9e96267f-37a4-4042-9b2e-8963fb69f289 button.colab-df-convert');\n",
              "      buttonEl.style.display =\n",
              "        google.colab.kernel.accessAllowed ? 'block' : 'none';\n",
              "\n",
              "      async function convertToInteractive(key) {\n",
              "        const element = document.querySelector('#df-9e96267f-37a4-4042-9b2e-8963fb69f289');\n",
              "        const dataTable =\n",
              "          await google.colab.kernel.invokeFunction('convertToInteractive',\n",
              "                                                    [key], {});\n",
              "        if (!dataTable) return;\n",
              "\n",
              "        const docLinkHtml = 'Like what you see? Visit the ' +\n",
              "          '<a target=\"_blank\" href=https://colab.research.google.com/notebooks/data_table.ipynb>data table notebook</a>'\n",
              "          + ' to learn more about interactive tables.';\n",
              "        element.innerHTML = '';\n",
              "        dataTable['output_type'] = 'display_data';\n",
              "        await google.colab.output.renderOutput(dataTable, element);\n",
              "        const docLink = document.createElement('div');\n",
              "        docLink.innerHTML = docLinkHtml;\n",
              "        element.appendChild(docLink);\n",
              "      }\n",
              "    </script>\n",
              "  </div>\n",
              "\n",
              "\n",
              "    <div id=\"df-6a3b1579-86cc-476f-beae-f1d2c6b95004\">\n",
              "      <button class=\"colab-df-quickchart\" onclick=\"quickchart('df-6a3b1579-86cc-476f-beae-f1d2c6b95004')\"\n",
              "                title=\"Suggest charts\"\n",
              "                style=\"display:none;\">\n",
              "\n",
              "<svg xmlns=\"http://www.w3.org/2000/svg\" height=\"24px\"viewBox=\"0 0 24 24\"\n",
              "     width=\"24px\">\n",
              "    <g>\n",
              "        <path d=\"M19 3H5c-1.1 0-2 .9-2 2v14c0 1.1.9 2 2 2h14c1.1 0 2-.9 2-2V5c0-1.1-.9-2-2-2zM9 17H7v-7h2v7zm4 0h-2V7h2v10zm4 0h-2v-4h2v4z\"/>\n",
              "    </g>\n",
              "</svg>\n",
              "      </button>\n",
              "\n",
              "<style>\n",
              "  .colab-df-quickchart {\n",
              "      --bg-color: #E8F0FE;\n",
              "      --fill-color: #1967D2;\n",
              "      --hover-bg-color: #E2EBFA;\n",
              "      --hover-fill-color: #174EA6;\n",
              "      --disabled-fill-color: #AAA;\n",
              "      --disabled-bg-color: #DDD;\n",
              "  }\n",
              "\n",
              "  [theme=dark] .colab-df-quickchart {\n",
              "      --bg-color: #3B4455;\n",
              "      --fill-color: #D2E3FC;\n",
              "      --hover-bg-color: #434B5C;\n",
              "      --hover-fill-color: #FFFFFF;\n",
              "      --disabled-bg-color: #3B4455;\n",
              "      --disabled-fill-color: #666;\n",
              "  }\n",
              "\n",
              "  .colab-df-quickchart {\n",
              "    background-color: var(--bg-color);\n",
              "    border: none;\n",
              "    border-radius: 50%;\n",
              "    cursor: pointer;\n",
              "    display: none;\n",
              "    fill: var(--fill-color);\n",
              "    height: 32px;\n",
              "    padding: 0;\n",
              "    width: 32px;\n",
              "  }\n",
              "\n",
              "  .colab-df-quickchart:hover {\n",
              "    background-color: var(--hover-bg-color);\n",
              "    box-shadow: 0 1px 2px rgba(60, 64, 67, 0.3), 0 1px 3px 1px rgba(60, 64, 67, 0.15);\n",
              "    fill: var(--button-hover-fill-color);\n",
              "  }\n",
              "\n",
              "  .colab-df-quickchart-complete:disabled,\n",
              "  .colab-df-quickchart-complete:disabled:hover {\n",
              "    background-color: var(--disabled-bg-color);\n",
              "    fill: var(--disabled-fill-color);\n",
              "    box-shadow: none;\n",
              "  }\n",
              "\n",
              "  .colab-df-spinner {\n",
              "    border: 2px solid var(--fill-color);\n",
              "    border-color: transparent;\n",
              "    border-bottom-color: var(--fill-color);\n",
              "    animation:\n",
              "      spin 1s steps(1) infinite;\n",
              "  }\n",
              "\n",
              "  @keyframes spin {\n",
              "    0% {\n",
              "      border-color: transparent;\n",
              "      border-bottom-color: var(--fill-color);\n",
              "      border-left-color: var(--fill-color);\n",
              "    }\n",
              "    20% {\n",
              "      border-color: transparent;\n",
              "      border-left-color: var(--fill-color);\n",
              "      border-top-color: var(--fill-color);\n",
              "    }\n",
              "    30% {\n",
              "      border-color: transparent;\n",
              "      border-left-color: var(--fill-color);\n",
              "      border-top-color: var(--fill-color);\n",
              "      border-right-color: var(--fill-color);\n",
              "    }\n",
              "    40% {\n",
              "      border-color: transparent;\n",
              "      border-right-color: var(--fill-color);\n",
              "      border-top-color: var(--fill-color);\n",
              "    }\n",
              "    60% {\n",
              "      border-color: transparent;\n",
              "      border-right-color: var(--fill-color);\n",
              "    }\n",
              "    80% {\n",
              "      border-color: transparent;\n",
              "      border-right-color: var(--fill-color);\n",
              "      border-bottom-color: var(--fill-color);\n",
              "    }\n",
              "    90% {\n",
              "      border-color: transparent;\n",
              "      border-bottom-color: var(--fill-color);\n",
              "    }\n",
              "  }\n",
              "</style>\n",
              "\n",
              "      <script>\n",
              "        async function quickchart(key) {\n",
              "          const quickchartButtonEl =\n",
              "            document.querySelector('#' + key + ' button');\n",
              "          quickchartButtonEl.disabled = true;  // To prevent multiple clicks.\n",
              "          quickchartButtonEl.classList.add('colab-df-spinner');\n",
              "          try {\n",
              "            const charts = await google.colab.kernel.invokeFunction(\n",
              "                'suggestCharts', [key], {});\n",
              "          } catch (error) {\n",
              "            console.error('Error during call to suggestCharts:', error);\n",
              "          }\n",
              "          quickchartButtonEl.classList.remove('colab-df-spinner');\n",
              "          quickchartButtonEl.classList.add('colab-df-quickchart-complete');\n",
              "        }\n",
              "        (() => {\n",
              "          let quickchartButtonEl =\n",
              "            document.querySelector('#df-6a3b1579-86cc-476f-beae-f1d2c6b95004 button');\n",
              "          quickchartButtonEl.style.display =\n",
              "            google.colab.kernel.accessAllowed ? 'block' : 'none';\n",
              "        })();\n",
              "      </script>\n",
              "    </div>\n",
              "\n",
              "    </div>\n",
              "  </div>\n"
            ],
            "application/vnd.google.colaboratory.intrinsic+json": {
              "type": "dataframe",
              "summary": "{\n  \"name\": \"display(facility\",\n  \"rows\": 5,\n  \"fields\": [\n    {\n      \"column\": \"Department\",\n      \"properties\": {\n        \"dtype\": \"category\",\n        \"num_unique_values\": 1,\n        \"samples\": [\n          \"Emergency\"\n        ],\n        \"semantic_type\": \"\",\n        \"description\": \"\"\n      }\n    },\n    {\n      \"column\": \"BuildingID\",\n      \"properties\": {\n        \"dtype\": \"category\",\n        \"num_unique_values\": 1,\n        \"samples\": [\n          \"B0001 \"\n        ],\n        \"semantic_type\": \"\",\n        \"description\": \"\"\n      }\n    },\n    {\n      \"column\": \"BuildingName\",\n      \"properties\": {\n        \"dtype\": \"category\",\n        \"num_unique_values\": 1,\n        \"samples\": [\n          \"Emergency 1\"\n        ],\n        \"semantic_type\": \"\",\n        \"description\": \"\"\n      }\n    },\n    {\n      \"column\": \"RoomID\",\n      \"properties\": {\n        \"dtype\": \"string\",\n        \"num_unique_values\": 5,\n        \"samples\": [\n          \" R0102\"\n        ],\n        \"semantic_type\": \"\",\n        \"description\": \"\"\n      }\n    },\n    {\n      \"column\": \"Purpose\",\n      \"properties\": {\n        \"dtype\": \"string\",\n        \"num_unique_values\": 4,\n        \"samples\": [\n          \"Emergency Room\"\n        ],\n        \"semantic_type\": \"\",\n        \"description\": \"\"\n      }\n    }\n  ]\n}"
            }
          },
          "metadata": {}
        }
      ],
      "source": [
        "!wget https://raw.githubusercontent.com/ATLAS097/Data-Engineering-CA2/main/data/facility.docx -O facility.docx\n",
        "document = Document(\"facility.docx\")\n",
        "\n",
        "table = document.tables[0]\n",
        "\n",
        "data = []\n",
        "for row in table.rows:\n",
        "    data.append([cell.text for cell in row.cells])\n",
        "\n",
        "# Convert to pandas DataFrame\n",
        "facility = pd.DataFrame(data)\n",
        "\n",
        "# Set the first row as header and remove it from data\n",
        "facility.columns = facility.iloc[0]\n",
        "facility = facility[1:].reset_index(drop=True)\n",
        "# rename BuldingID to BuildingID\n",
        "facility.rename(columns={'BuldingID': 'BuildingID'}, inplace=True)\n",
        "\n",
        "display(facility.head())"
      ]
    },
    {
      "cell_type": "code",
      "execution_count": 10,
      "id": "68c06bc6",
      "metadata": {
        "colab": {
          "base_uri": "https://localhost:8080/",
          "height": 293
        },
        "id": "68c06bc6",
        "outputId": "603e816b-cb46-4466-ca22-b5b0ce51a58b"
      },
      "outputs": [
        {
          "output_type": "execute_result",
          "data": {
            "text/plain": [
              "  PatientID            Name     Sex   Contact                        email  \\\n",
              "0     P0001    Kelsey Moore  female  39472495       kelsey.moore@gmail.com   \n",
              "1     P0002   William Perry    male  15351117    william.perry@hotmail.com   \n",
              "2     P0003  Nicholas Jones    male  56648257     nicholas.jones@yahoo.com   \n",
              "3     P0004   Theresa Smith  female  45807263    theresa.smith@outlook.com   \n",
              "4     P0005    Tara Kennedy  female  84234563  tara.kennedy@protonmail.com   \n",
              "\n",
              "                                             Address        DOB  \n",
              "0  34892 Christopher Crossing, South Brooke, NH 1... 1997-05-05  \n",
              "1  94501 Bell Islands Suite 485, New Jessica, NJ ... 2007-06-06  \n",
              "2  8841 Lewis Parkways Apt. 040, South Kristen, I... 1975-12-04  \n",
              "3          271 Jeffrey Freeway, Willisbury, ME 39487 1997-09-14  \n",
              "4    64128 Rick Coves Apt. 284, Lake James, NJ 51964 2011-02-22  "
            ],
            "text/html": [
              "\n",
              "  <div id=\"df-6e11c8b3-a279-4201-8cb9-0a63c31361fa\" class=\"colab-df-container\">\n",
              "    <div>\n",
              "<style scoped>\n",
              "    .dataframe tbody tr th:only-of-type {\n",
              "        vertical-align: middle;\n",
              "    }\n",
              "\n",
              "    .dataframe tbody tr th {\n",
              "        vertical-align: top;\n",
              "    }\n",
              "\n",
              "    .dataframe thead th {\n",
              "        text-align: right;\n",
              "    }\n",
              "</style>\n",
              "<table border=\"1\" class=\"dataframe\">\n",
              "  <thead>\n",
              "    <tr style=\"text-align: right;\">\n",
              "      <th></th>\n",
              "      <th>PatientID</th>\n",
              "      <th>Name</th>\n",
              "      <th>Sex</th>\n",
              "      <th>Contact</th>\n",
              "      <th>email</th>\n",
              "      <th>Address</th>\n",
              "      <th>DOB</th>\n",
              "    </tr>\n",
              "  </thead>\n",
              "  <tbody>\n",
              "    <tr>\n",
              "      <th>0</th>\n",
              "      <td>P0001</td>\n",
              "      <td>Kelsey Moore</td>\n",
              "      <td>female</td>\n",
              "      <td>39472495</td>\n",
              "      <td>kelsey.moore@gmail.com</td>\n",
              "      <td>34892 Christopher Crossing, South Brooke, NH 1...</td>\n",
              "      <td>1997-05-05</td>\n",
              "    </tr>\n",
              "    <tr>\n",
              "      <th>1</th>\n",
              "      <td>P0002</td>\n",
              "      <td>William Perry</td>\n",
              "      <td>male</td>\n",
              "      <td>15351117</td>\n",
              "      <td>william.perry@hotmail.com</td>\n",
              "      <td>94501 Bell Islands Suite 485, New Jessica, NJ ...</td>\n",
              "      <td>2007-06-06</td>\n",
              "    </tr>\n",
              "    <tr>\n",
              "      <th>2</th>\n",
              "      <td>P0003</td>\n",
              "      <td>Nicholas Jones</td>\n",
              "      <td>male</td>\n",
              "      <td>56648257</td>\n",
              "      <td>nicholas.jones@yahoo.com</td>\n",
              "      <td>8841 Lewis Parkways Apt. 040, South Kristen, I...</td>\n",
              "      <td>1975-12-04</td>\n",
              "    </tr>\n",
              "    <tr>\n",
              "      <th>3</th>\n",
              "      <td>P0004</td>\n",
              "      <td>Theresa Smith</td>\n",
              "      <td>female</td>\n",
              "      <td>45807263</td>\n",
              "      <td>theresa.smith@outlook.com</td>\n",
              "      <td>271 Jeffrey Freeway, Willisbury, ME 39487</td>\n",
              "      <td>1997-09-14</td>\n",
              "    </tr>\n",
              "    <tr>\n",
              "      <th>4</th>\n",
              "      <td>P0005</td>\n",
              "      <td>Tara Kennedy</td>\n",
              "      <td>female</td>\n",
              "      <td>84234563</td>\n",
              "      <td>tara.kennedy@protonmail.com</td>\n",
              "      <td>64128 Rick Coves Apt. 284, Lake James, NJ 51964</td>\n",
              "      <td>2011-02-22</td>\n",
              "    </tr>\n",
              "  </tbody>\n",
              "</table>\n",
              "</div>\n",
              "    <div class=\"colab-df-buttons\">\n",
              "\n",
              "  <div class=\"colab-df-container\">\n",
              "    <button class=\"colab-df-convert\" onclick=\"convertToInteractive('df-6e11c8b3-a279-4201-8cb9-0a63c31361fa')\"\n",
              "            title=\"Convert this dataframe to an interactive table.\"\n",
              "            style=\"display:none;\">\n",
              "\n",
              "  <svg xmlns=\"http://www.w3.org/2000/svg\" height=\"24px\" viewBox=\"0 -960 960 960\">\n",
              "    <path d=\"M120-120v-720h720v720H120Zm60-500h600v-160H180v160Zm220 220h160v-160H400v160Zm0 220h160v-160H400v160ZM180-400h160v-160H180v160Zm440 0h160v-160H620v160ZM180-180h160v-160H180v160Zm440 0h160v-160H620v160Z\"/>\n",
              "  </svg>\n",
              "    </button>\n",
              "\n",
              "  <style>\n",
              "    .colab-df-container {\n",
              "      display:flex;\n",
              "      gap: 12px;\n",
              "    }\n",
              "\n",
              "    .colab-df-convert {\n",
              "      background-color: #E8F0FE;\n",
              "      border: none;\n",
              "      border-radius: 50%;\n",
              "      cursor: pointer;\n",
              "      display: none;\n",
              "      fill: #1967D2;\n",
              "      height: 32px;\n",
              "      padding: 0 0 0 0;\n",
              "      width: 32px;\n",
              "    }\n",
              "\n",
              "    .colab-df-convert:hover {\n",
              "      background-color: #E2EBFA;\n",
              "      box-shadow: 0px 1px 2px rgba(60, 64, 67, 0.3), 0px 1px 3px 1px rgba(60, 64, 67, 0.15);\n",
              "      fill: #174EA6;\n",
              "    }\n",
              "\n",
              "    .colab-df-buttons div {\n",
              "      margin-bottom: 4px;\n",
              "    }\n",
              "\n",
              "    [theme=dark] .colab-df-convert {\n",
              "      background-color: #3B4455;\n",
              "      fill: #D2E3FC;\n",
              "    }\n",
              "\n",
              "    [theme=dark] .colab-df-convert:hover {\n",
              "      background-color: #434B5C;\n",
              "      box-shadow: 0px 1px 3px 1px rgba(0, 0, 0, 0.15);\n",
              "      filter: drop-shadow(0px 1px 2px rgba(0, 0, 0, 0.3));\n",
              "      fill: #FFFFFF;\n",
              "    }\n",
              "  </style>\n",
              "\n",
              "    <script>\n",
              "      const buttonEl =\n",
              "        document.querySelector('#df-6e11c8b3-a279-4201-8cb9-0a63c31361fa button.colab-df-convert');\n",
              "      buttonEl.style.display =\n",
              "        google.colab.kernel.accessAllowed ? 'block' : 'none';\n",
              "\n",
              "      async function convertToInteractive(key) {\n",
              "        const element = document.querySelector('#df-6e11c8b3-a279-4201-8cb9-0a63c31361fa');\n",
              "        const dataTable =\n",
              "          await google.colab.kernel.invokeFunction('convertToInteractive',\n",
              "                                                    [key], {});\n",
              "        if (!dataTable) return;\n",
              "\n",
              "        const docLinkHtml = 'Like what you see? Visit the ' +\n",
              "          '<a target=\"_blank\" href=https://colab.research.google.com/notebooks/data_table.ipynb>data table notebook</a>'\n",
              "          + ' to learn more about interactive tables.';\n",
              "        element.innerHTML = '';\n",
              "        dataTable['output_type'] = 'display_data';\n",
              "        await google.colab.output.renderOutput(dataTable, element);\n",
              "        const docLink = document.createElement('div');\n",
              "        docLink.innerHTML = docLinkHtml;\n",
              "        element.appendChild(docLink);\n",
              "      }\n",
              "    </script>\n",
              "  </div>\n",
              "\n",
              "\n",
              "    <div id=\"df-79f9bfd0-6281-46a2-ab2b-57fcb1ee7db5\">\n",
              "      <button class=\"colab-df-quickchart\" onclick=\"quickchart('df-79f9bfd0-6281-46a2-ab2b-57fcb1ee7db5')\"\n",
              "                title=\"Suggest charts\"\n",
              "                style=\"display:none;\">\n",
              "\n",
              "<svg xmlns=\"http://www.w3.org/2000/svg\" height=\"24px\"viewBox=\"0 0 24 24\"\n",
              "     width=\"24px\">\n",
              "    <g>\n",
              "        <path d=\"M19 3H5c-1.1 0-2 .9-2 2v14c0 1.1.9 2 2 2h14c1.1 0 2-.9 2-2V5c0-1.1-.9-2-2-2zM9 17H7v-7h2v7zm4 0h-2V7h2v10zm4 0h-2v-4h2v4z\"/>\n",
              "    </g>\n",
              "</svg>\n",
              "      </button>\n",
              "\n",
              "<style>\n",
              "  .colab-df-quickchart {\n",
              "      --bg-color: #E8F0FE;\n",
              "      --fill-color: #1967D2;\n",
              "      --hover-bg-color: #E2EBFA;\n",
              "      --hover-fill-color: #174EA6;\n",
              "      --disabled-fill-color: #AAA;\n",
              "      --disabled-bg-color: #DDD;\n",
              "  }\n",
              "\n",
              "  [theme=dark] .colab-df-quickchart {\n",
              "      --bg-color: #3B4455;\n",
              "      --fill-color: #D2E3FC;\n",
              "      --hover-bg-color: #434B5C;\n",
              "      --hover-fill-color: #FFFFFF;\n",
              "      --disabled-bg-color: #3B4455;\n",
              "      --disabled-fill-color: #666;\n",
              "  }\n",
              "\n",
              "  .colab-df-quickchart {\n",
              "    background-color: var(--bg-color);\n",
              "    border: none;\n",
              "    border-radius: 50%;\n",
              "    cursor: pointer;\n",
              "    display: none;\n",
              "    fill: var(--fill-color);\n",
              "    height: 32px;\n",
              "    padding: 0;\n",
              "    width: 32px;\n",
              "  }\n",
              "\n",
              "  .colab-df-quickchart:hover {\n",
              "    background-color: var(--hover-bg-color);\n",
              "    box-shadow: 0 1px 2px rgba(60, 64, 67, 0.3), 0 1px 3px 1px rgba(60, 64, 67, 0.15);\n",
              "    fill: var(--button-hover-fill-color);\n",
              "  }\n",
              "\n",
              "  .colab-df-quickchart-complete:disabled,\n",
              "  .colab-df-quickchart-complete:disabled:hover {\n",
              "    background-color: var(--disabled-bg-color);\n",
              "    fill: var(--disabled-fill-color);\n",
              "    box-shadow: none;\n",
              "  }\n",
              "\n",
              "  .colab-df-spinner {\n",
              "    border: 2px solid var(--fill-color);\n",
              "    border-color: transparent;\n",
              "    border-bottom-color: var(--fill-color);\n",
              "    animation:\n",
              "      spin 1s steps(1) infinite;\n",
              "  }\n",
              "\n",
              "  @keyframes spin {\n",
              "    0% {\n",
              "      border-color: transparent;\n",
              "      border-bottom-color: var(--fill-color);\n",
              "      border-left-color: var(--fill-color);\n",
              "    }\n",
              "    20% {\n",
              "      border-color: transparent;\n",
              "      border-left-color: var(--fill-color);\n",
              "      border-top-color: var(--fill-color);\n",
              "    }\n",
              "    30% {\n",
              "      border-color: transparent;\n",
              "      border-left-color: var(--fill-color);\n",
              "      border-top-color: var(--fill-color);\n",
              "      border-right-color: var(--fill-color);\n",
              "    }\n",
              "    40% {\n",
              "      border-color: transparent;\n",
              "      border-right-color: var(--fill-color);\n",
              "      border-top-color: var(--fill-color);\n",
              "    }\n",
              "    60% {\n",
              "      border-color: transparent;\n",
              "      border-right-color: var(--fill-color);\n",
              "    }\n",
              "    80% {\n",
              "      border-color: transparent;\n",
              "      border-right-color: var(--fill-color);\n",
              "      border-bottom-color: var(--fill-color);\n",
              "    }\n",
              "    90% {\n",
              "      border-color: transparent;\n",
              "      border-bottom-color: var(--fill-color);\n",
              "    }\n",
              "  }\n",
              "</style>\n",
              "\n",
              "      <script>\n",
              "        async function quickchart(key) {\n",
              "          const quickchartButtonEl =\n",
              "            document.querySelector('#' + key + ' button');\n",
              "          quickchartButtonEl.disabled = true;  // To prevent multiple clicks.\n",
              "          quickchartButtonEl.classList.add('colab-df-spinner');\n",
              "          try {\n",
              "            const charts = await google.colab.kernel.invokeFunction(\n",
              "                'suggestCharts', [key], {});\n",
              "          } catch (error) {\n",
              "            console.error('Error during call to suggestCharts:', error);\n",
              "          }\n",
              "          quickchartButtonEl.classList.remove('colab-df-spinner');\n",
              "          quickchartButtonEl.classList.add('colab-df-quickchart-complete');\n",
              "        }\n",
              "        (() => {\n",
              "          let quickchartButtonEl =\n",
              "            document.querySelector('#df-79f9bfd0-6281-46a2-ab2b-57fcb1ee7db5 button');\n",
              "          quickchartButtonEl.style.display =\n",
              "            google.colab.kernel.accessAllowed ? 'block' : 'none';\n",
              "        })();\n",
              "      </script>\n",
              "    </div>\n",
              "\n",
              "    </div>\n",
              "  </div>\n"
            ],
            "application/vnd.google.colaboratory.intrinsic+json": {
              "type": "dataframe",
              "variable_name": "patient",
              "summary": "{\n  \"name\": \"patient\",\n  \"rows\": 1000,\n  \"fields\": [\n    {\n      \"column\": \"PatientID\",\n      \"properties\": {\n        \"dtype\": \"string\",\n        \"num_unique_values\": 1000,\n        \"samples\": [\n          \"P0522\",\n          \"P0738\",\n          \"P0741\"\n        ],\n        \"semantic_type\": \"\",\n        \"description\": \"\"\n      }\n    },\n    {\n      \"column\": \"Name\",\n      \"properties\": {\n        \"dtype\": \"string\",\n        \"num_unique_values\": 990,\n        \"samples\": [\n          \"Laura Chambers\",\n          \"Timothy Wilkerson\",\n          \"Lynn Garza\"\n        ],\n        \"semantic_type\": \"\",\n        \"description\": \"\"\n      }\n    },\n    {\n      \"column\": \"Sex\",\n      \"properties\": {\n        \"dtype\": \"category\",\n        \"num_unique_values\": 2,\n        \"samples\": [\n          \"male\",\n          \"female\"\n        ],\n        \"semantic_type\": \"\",\n        \"description\": \"\"\n      }\n    },\n    {\n      \"column\": \"Contact\",\n      \"properties\": {\n        \"dtype\": \"number\",\n        \"std\": 25671336,\n        \"min\": 10035298,\n        \"max\": 99993941,\n        \"num_unique_values\": 1000,\n        \"samples\": [\n          22317387,\n          38839992\n        ],\n        \"semantic_type\": \"\",\n        \"description\": \"\"\n      }\n    },\n    {\n      \"column\": \"email\",\n      \"properties\": {\n        \"dtype\": \"string\",\n        \"num_unique_values\": 1000,\n        \"samples\": [\n          \"john.white@hotmail.com\",\n          \"wendy.jennings@outlook.com\"\n        ],\n        \"semantic_type\": \"\",\n        \"description\": \"\"\n      }\n    },\n    {\n      \"column\": \"Address\",\n      \"properties\": {\n        \"dtype\": \"string\",\n        \"num_unique_values\": 1000,\n        \"samples\": [\n          \"7735 Smith Cliffs Suite 247, New Stephanieview, PA 03542\",\n          \"64064 Gregory Extension Suite 041, Lake Christopher, LA 61604\"\n        ],\n        \"semantic_type\": \"\",\n        \"description\": \"\"\n      }\n    },\n    {\n      \"column\": \"DOB\",\n      \"properties\": {\n        \"dtype\": \"date\",\n        \"min\": \"1944-06-01 00:00:00\",\n        \"max\": \"2019-03-30 00:00:00\",\n        \"num_unique_values\": 971,\n        \"samples\": [\n          \"1960-04-29 00:00:00\",\n          \"2007-12-25 00:00:00\"\n        ],\n        \"semantic_type\": \"\",\n        \"description\": \"\"\n      }\n    }\n  ]\n}"
            }
          },
          "metadata": {},
          "execution_count": 10
        }
      ],
      "source": [
        "patient = pd.read_excel(\"https://raw.githubusercontent.com/ATLAS097/Data-Engineering-CA2/main/data/patient.xlsx\", engine=\"openpyxl\")\n",
        "patient.head()"
      ]
    },
    {
      "cell_type": "code",
      "execution_count": 61,
      "id": "79e56b38",
      "metadata": {
        "colab": {
          "base_uri": "https://localhost:8080/",
          "height": 206
        },
        "id": "79e56b38",
        "outputId": "1b07793a-4369-4e95-b401-05597ba3e904"
      },
      "outputs": [
        {
          "output_type": "execute_result",
          "data": {
            "text/plain": [
              "  DoctorID            Name   Contact                            Email  \\\n",
              "0    E0001      Grace Chen  78901234       grace.chen@abchospital.com   \n",
              "1    E0002     Henry Adams  75678901      henry.adams@abchospital.com   \n",
              "2    E0003      Maya Patel  44567890       maya.patel@abchospital.com   \n",
              "3    E0004  Sean Underwood  84345678   sean.underwood@abchospital.com   \n",
              "4    E0005      Amy Bryant  72123456       amy.bryant@abchospital.com   \n",
              "\n",
              "  DepartmentID           Department  \n",
              "0        D0005           Pediatrics  \n",
              "1        D0002  Intensive Care Unit  \n",
              "2        D0008              Surgery  \n",
              "3        D0001            Emergency  \n",
              "4        D0009            Neurology  "
            ],
            "text/html": [
              "\n",
              "  <div id=\"df-977315aa-33a0-4a4d-9827-8837d6100e5a\" class=\"colab-df-container\">\n",
              "    <div>\n",
              "<style scoped>\n",
              "    .dataframe tbody tr th:only-of-type {\n",
              "        vertical-align: middle;\n",
              "    }\n",
              "\n",
              "    .dataframe tbody tr th {\n",
              "        vertical-align: top;\n",
              "    }\n",
              "\n",
              "    .dataframe thead th {\n",
              "        text-align: right;\n",
              "    }\n",
              "</style>\n",
              "<table border=\"1\" class=\"dataframe\">\n",
              "  <thead>\n",
              "    <tr style=\"text-align: right;\">\n",
              "      <th></th>\n",
              "      <th>DoctorID</th>\n",
              "      <th>Name</th>\n",
              "      <th>Contact</th>\n",
              "      <th>Email</th>\n",
              "      <th>DepartmentID</th>\n",
              "      <th>Department</th>\n",
              "    </tr>\n",
              "  </thead>\n",
              "  <tbody>\n",
              "    <tr>\n",
              "      <th>0</th>\n",
              "      <td>E0001</td>\n",
              "      <td>Grace Chen</td>\n",
              "      <td>78901234</td>\n",
              "      <td>grace.chen@abchospital.com</td>\n",
              "      <td>D0005</td>\n",
              "      <td>Pediatrics</td>\n",
              "    </tr>\n",
              "    <tr>\n",
              "      <th>1</th>\n",
              "      <td>E0002</td>\n",
              "      <td>Henry Adams</td>\n",
              "      <td>75678901</td>\n",
              "      <td>henry.adams@abchospital.com</td>\n",
              "      <td>D0002</td>\n",
              "      <td>Intensive Care Unit</td>\n",
              "    </tr>\n",
              "    <tr>\n",
              "      <th>2</th>\n",
              "      <td>E0003</td>\n",
              "      <td>Maya Patel</td>\n",
              "      <td>44567890</td>\n",
              "      <td>maya.patel@abchospital.com</td>\n",
              "      <td>D0008</td>\n",
              "      <td>Surgery</td>\n",
              "    </tr>\n",
              "    <tr>\n",
              "      <th>3</th>\n",
              "      <td>E0004</td>\n",
              "      <td>Sean Underwood</td>\n",
              "      <td>84345678</td>\n",
              "      <td>sean.underwood@abchospital.com</td>\n",
              "      <td>D0001</td>\n",
              "      <td>Emergency</td>\n",
              "    </tr>\n",
              "    <tr>\n",
              "      <th>4</th>\n",
              "      <td>E0005</td>\n",
              "      <td>Amy Bryant</td>\n",
              "      <td>72123456</td>\n",
              "      <td>amy.bryant@abchospital.com</td>\n",
              "      <td>D0009</td>\n",
              "      <td>Neurology</td>\n",
              "    </tr>\n",
              "  </tbody>\n",
              "</table>\n",
              "</div>\n",
              "    <div class=\"colab-df-buttons\">\n",
              "\n",
              "  <div class=\"colab-df-container\">\n",
              "    <button class=\"colab-df-convert\" onclick=\"convertToInteractive('df-977315aa-33a0-4a4d-9827-8837d6100e5a')\"\n",
              "            title=\"Convert this dataframe to an interactive table.\"\n",
              "            style=\"display:none;\">\n",
              "\n",
              "  <svg xmlns=\"http://www.w3.org/2000/svg\" height=\"24px\" viewBox=\"0 -960 960 960\">\n",
              "    <path d=\"M120-120v-720h720v720H120Zm60-500h600v-160H180v160Zm220 220h160v-160H400v160Zm0 220h160v-160H400v160ZM180-400h160v-160H180v160Zm440 0h160v-160H620v160ZM180-180h160v-160H180v160Zm440 0h160v-160H620v160Z\"/>\n",
              "  </svg>\n",
              "    </button>\n",
              "\n",
              "  <style>\n",
              "    .colab-df-container {\n",
              "      display:flex;\n",
              "      gap: 12px;\n",
              "    }\n",
              "\n",
              "    .colab-df-convert {\n",
              "      background-color: #E8F0FE;\n",
              "      border: none;\n",
              "      border-radius: 50%;\n",
              "      cursor: pointer;\n",
              "      display: none;\n",
              "      fill: #1967D2;\n",
              "      height: 32px;\n",
              "      padding: 0 0 0 0;\n",
              "      width: 32px;\n",
              "    }\n",
              "\n",
              "    .colab-df-convert:hover {\n",
              "      background-color: #E2EBFA;\n",
              "      box-shadow: 0px 1px 2px rgba(60, 64, 67, 0.3), 0px 1px 3px 1px rgba(60, 64, 67, 0.15);\n",
              "      fill: #174EA6;\n",
              "    }\n",
              "\n",
              "    .colab-df-buttons div {\n",
              "      margin-bottom: 4px;\n",
              "    }\n",
              "\n",
              "    [theme=dark] .colab-df-convert {\n",
              "      background-color: #3B4455;\n",
              "      fill: #D2E3FC;\n",
              "    }\n",
              "\n",
              "    [theme=dark] .colab-df-convert:hover {\n",
              "      background-color: #434B5C;\n",
              "      box-shadow: 0px 1px 3px 1px rgba(0, 0, 0, 0.15);\n",
              "      filter: drop-shadow(0px 1px 2px rgba(0, 0, 0, 0.3));\n",
              "      fill: #FFFFFF;\n",
              "    }\n",
              "  </style>\n",
              "\n",
              "    <script>\n",
              "      const buttonEl =\n",
              "        document.querySelector('#df-977315aa-33a0-4a4d-9827-8837d6100e5a button.colab-df-convert');\n",
              "      buttonEl.style.display =\n",
              "        google.colab.kernel.accessAllowed ? 'block' : 'none';\n",
              "\n",
              "      async function convertToInteractive(key) {\n",
              "        const element = document.querySelector('#df-977315aa-33a0-4a4d-9827-8837d6100e5a');\n",
              "        const dataTable =\n",
              "          await google.colab.kernel.invokeFunction('convertToInteractive',\n",
              "                                                    [key], {});\n",
              "        if (!dataTable) return;\n",
              "\n",
              "        const docLinkHtml = 'Like what you see? Visit the ' +\n",
              "          '<a target=\"_blank\" href=https://colab.research.google.com/notebooks/data_table.ipynb>data table notebook</a>'\n",
              "          + ' to learn more about interactive tables.';\n",
              "        element.innerHTML = '';\n",
              "        dataTable['output_type'] = 'display_data';\n",
              "        await google.colab.output.renderOutput(dataTable, element);\n",
              "        const docLink = document.createElement('div');\n",
              "        docLink.innerHTML = docLinkHtml;\n",
              "        element.appendChild(docLink);\n",
              "      }\n",
              "    </script>\n",
              "  </div>\n",
              "\n",
              "\n",
              "    <div id=\"df-559498ec-49c3-4d91-ae60-b1d8a705dde5\">\n",
              "      <button class=\"colab-df-quickchart\" onclick=\"quickchart('df-559498ec-49c3-4d91-ae60-b1d8a705dde5')\"\n",
              "                title=\"Suggest charts\"\n",
              "                style=\"display:none;\">\n",
              "\n",
              "<svg xmlns=\"http://www.w3.org/2000/svg\" height=\"24px\"viewBox=\"0 0 24 24\"\n",
              "     width=\"24px\">\n",
              "    <g>\n",
              "        <path d=\"M19 3H5c-1.1 0-2 .9-2 2v14c0 1.1.9 2 2 2h14c1.1 0 2-.9 2-2V5c0-1.1-.9-2-2-2zM9 17H7v-7h2v7zm4 0h-2V7h2v10zm4 0h-2v-4h2v4z\"/>\n",
              "    </g>\n",
              "</svg>\n",
              "      </button>\n",
              "\n",
              "<style>\n",
              "  .colab-df-quickchart {\n",
              "      --bg-color: #E8F0FE;\n",
              "      --fill-color: #1967D2;\n",
              "      --hover-bg-color: #E2EBFA;\n",
              "      --hover-fill-color: #174EA6;\n",
              "      --disabled-fill-color: #AAA;\n",
              "      --disabled-bg-color: #DDD;\n",
              "  }\n",
              "\n",
              "  [theme=dark] .colab-df-quickchart {\n",
              "      --bg-color: #3B4455;\n",
              "      --fill-color: #D2E3FC;\n",
              "      --hover-bg-color: #434B5C;\n",
              "      --hover-fill-color: #FFFFFF;\n",
              "      --disabled-bg-color: #3B4455;\n",
              "      --disabled-fill-color: #666;\n",
              "  }\n",
              "\n",
              "  .colab-df-quickchart {\n",
              "    background-color: var(--bg-color);\n",
              "    border: none;\n",
              "    border-radius: 50%;\n",
              "    cursor: pointer;\n",
              "    display: none;\n",
              "    fill: var(--fill-color);\n",
              "    height: 32px;\n",
              "    padding: 0;\n",
              "    width: 32px;\n",
              "  }\n",
              "\n",
              "  .colab-df-quickchart:hover {\n",
              "    background-color: var(--hover-bg-color);\n",
              "    box-shadow: 0 1px 2px rgba(60, 64, 67, 0.3), 0 1px 3px 1px rgba(60, 64, 67, 0.15);\n",
              "    fill: var(--button-hover-fill-color);\n",
              "  }\n",
              "\n",
              "  .colab-df-quickchart-complete:disabled,\n",
              "  .colab-df-quickchart-complete:disabled:hover {\n",
              "    background-color: var(--disabled-bg-color);\n",
              "    fill: var(--disabled-fill-color);\n",
              "    box-shadow: none;\n",
              "  }\n",
              "\n",
              "  .colab-df-spinner {\n",
              "    border: 2px solid var(--fill-color);\n",
              "    border-color: transparent;\n",
              "    border-bottom-color: var(--fill-color);\n",
              "    animation:\n",
              "      spin 1s steps(1) infinite;\n",
              "  }\n",
              "\n",
              "  @keyframes spin {\n",
              "    0% {\n",
              "      border-color: transparent;\n",
              "      border-bottom-color: var(--fill-color);\n",
              "      border-left-color: var(--fill-color);\n",
              "    }\n",
              "    20% {\n",
              "      border-color: transparent;\n",
              "      border-left-color: var(--fill-color);\n",
              "      border-top-color: var(--fill-color);\n",
              "    }\n",
              "    30% {\n",
              "      border-color: transparent;\n",
              "      border-left-color: var(--fill-color);\n",
              "      border-top-color: var(--fill-color);\n",
              "      border-right-color: var(--fill-color);\n",
              "    }\n",
              "    40% {\n",
              "      border-color: transparent;\n",
              "      border-right-color: var(--fill-color);\n",
              "      border-top-color: var(--fill-color);\n",
              "    }\n",
              "    60% {\n",
              "      border-color: transparent;\n",
              "      border-right-color: var(--fill-color);\n",
              "    }\n",
              "    80% {\n",
              "      border-color: transparent;\n",
              "      border-right-color: var(--fill-color);\n",
              "      border-bottom-color: var(--fill-color);\n",
              "    }\n",
              "    90% {\n",
              "      border-color: transparent;\n",
              "      border-bottom-color: var(--fill-color);\n",
              "    }\n",
              "  }\n",
              "</style>\n",
              "\n",
              "      <script>\n",
              "        async function quickchart(key) {\n",
              "          const quickchartButtonEl =\n",
              "            document.querySelector('#' + key + ' button');\n",
              "          quickchartButtonEl.disabled = true;  // To prevent multiple clicks.\n",
              "          quickchartButtonEl.classList.add('colab-df-spinner');\n",
              "          try {\n",
              "            const charts = await google.colab.kernel.invokeFunction(\n",
              "                'suggestCharts', [key], {});\n",
              "          } catch (error) {\n",
              "            console.error('Error during call to suggestCharts:', error);\n",
              "          }\n",
              "          quickchartButtonEl.classList.remove('colab-df-spinner');\n",
              "          quickchartButtonEl.classList.add('colab-df-quickchart-complete');\n",
              "        }\n",
              "        (() => {\n",
              "          let quickchartButtonEl =\n",
              "            document.querySelector('#df-559498ec-49c3-4d91-ae60-b1d8a705dde5 button');\n",
              "          quickchartButtonEl.style.display =\n",
              "            google.colab.kernel.accessAllowed ? 'block' : 'none';\n",
              "        })();\n",
              "      </script>\n",
              "    </div>\n",
              "\n",
              "    </div>\n",
              "  </div>\n"
            ],
            "application/vnd.google.colaboratory.intrinsic+json": {
              "type": "dataframe",
              "variable_name": "staff",
              "summary": "{\n  \"name\": \"staff\",\n  \"rows\": 100,\n  \"fields\": [\n    {\n      \"column\": \"DoctorID\",\n      \"properties\": {\n        \"dtype\": \"string\",\n        \"num_unique_values\": 100,\n        \"samples\": [\n          \"E0084\",\n          \"E0054\",\n          \"E0071\"\n        ],\n        \"semantic_type\": \"\",\n        \"description\": \"\"\n      }\n    },\n    {\n      \"column\": \"Name\",\n      \"properties\": {\n        \"dtype\": \"string\",\n        \"num_unique_values\": 100,\n        \"samples\": [\n          \"Victoria Lee\",\n          \"Cheryl Fields\",\n          \"Benjamin Clark\"\n        ],\n        \"semantic_type\": \"\",\n        \"description\": \"\"\n      }\n    },\n    {\n      \"column\": \"Contact\",\n      \"properties\": {\n        \"dtype\": \"number\",\n        \"std\": 27932934,\n        \"min\": 10901234,\n        \"max\": 98572415,\n        \"num_unique_values\": 100,\n        \"samples\": [\n          24666442,\n          23456789,\n          29384756\n        ],\n        \"semantic_type\": \"\",\n        \"description\": \"\"\n      }\n    },\n    {\n      \"column\": \"Email\",\n      \"properties\": {\n        \"dtype\": \"string\",\n        \"num_unique_values\": 100,\n        \"samples\": [\n          \" victoria.lee@abchospital.com\",\n          \" cheryl.fields@abchospital.com\",\n          \" benjamin.clark@abchospital.com\"\n        ],\n        \"semantic_type\": \"\",\n        \"description\": \"\"\n      }\n    },\n    {\n      \"column\": \"DepartmentID\",\n      \"properties\": {\n        \"dtype\": \"category\",\n        \"num_unique_values\": 10,\n        \"samples\": [\n          \"D0006\",\n          \"D0002\",\n          \"D0004\"\n        ],\n        \"semantic_type\": \"\",\n        \"description\": \"\"\n      }\n    },\n    {\n      \"column\": \"Department\",\n      \"properties\": {\n        \"dtype\": \"category\",\n        \"num_unique_values\": 11,\n        \"samples\": [\n          \"Cardiology\",\n          \"Pediatrics\",\n          \"Radiology\"\n        ],\n        \"semantic_type\": \"\",\n        \"description\": \"\"\n      }\n    }\n  ]\n}"
            }
          },
          "metadata": {},
          "execution_count": 61
        }
      ],
      "source": [
        "staff = pd.read_csv(\"https://raw.githubusercontent.com/ATLAS097/Data-Engineering-CA2/main/data/staff.csv\")\n",
        "staff.head()"
      ]
    },
    {
      "cell_type": "markdown",
      "source": [
        "Let us first examine the count of rows for each dataset."
      ],
      "metadata": {
        "id": "Yr5PN_ZPOJz7"
      },
      "id": "Yr5PN_ZPOJz7"
    },
    {
      "cell_type": "code",
      "source": [
        "print(\"Number of rows in the appointment DataFrame:\", len(appointment))\n",
        "print(\"Number of rows in the facility DataFrame:\", len(facility))\n",
        "print(\"Number of rows in the patient DataFrame:\", len(patient))\n",
        "print(\"Number of rows in the staff DataFrame:\", len(staff))"
      ],
      "metadata": {
        "colab": {
          "base_uri": "https://localhost:8080/"
        },
        "id": "glxXVvteFoDW",
        "outputId": "a17f4e9c-4d9f-4ebe-932a-67c7c3f4730f"
      },
      "id": "glxXVvteFoDW",
      "execution_count": 7,
      "outputs": [
        {
          "output_type": "stream",
          "name": "stdout",
          "text": [
            "Number of rows in the appointment DataFrame: 100001\n",
            "Number of rows in the facility DataFrame: 49\n",
            "Number of rows in the patient DataFrame: 1000\n",
            "Number of rows in the staff DataFrame: 100\n"
          ]
        }
      ]
    },
    {
      "cell_type": "markdown",
      "metadata": {
        "id": "rA6CQ5nwP8Pl"
      },
      "source": [
        "# Facility Data Analysis and Cleaning\n",
        "---"
      ],
      "id": "rA6CQ5nwP8Pl"
    },
    {
      "cell_type": "code",
      "source": [
        "facility.head()"
      ],
      "metadata": {
        "colab": {
          "base_uri": "https://localhost:8080/",
          "height": 206
        },
        "outputId": "de3ca371-2a94-4290-d158-432c8f501da4",
        "id": "tNkBmjhzP8Pm"
      },
      "execution_count": 13,
      "outputs": [
        {
          "output_type": "execute_result",
          "data": {
            "text/plain": [
              "0 Department BuildingID BuildingName  RoomID            Purpose\n",
              "0  Emergency     B0001   Emergency 1   R0101  Consultation Room\n",
              "1  Emergency     B0001   Emergency 1   R0102  Consultation Room\n",
              "2  Emergency     B0001   Emergency 1   R0103     Emergency Room\n",
              "3  Emergency     B0001   Emergency 1   R0104           Pharmacy\n",
              "4  Emergency     B0001   Emergency 1   R0201         Laboratory"
            ],
            "text/html": [
              "\n",
              "  <div id=\"df-39808911-a205-45b9-983f-7478028bc500\" class=\"colab-df-container\">\n",
              "    <div>\n",
              "<style scoped>\n",
              "    .dataframe tbody tr th:only-of-type {\n",
              "        vertical-align: middle;\n",
              "    }\n",
              "\n",
              "    .dataframe tbody tr th {\n",
              "        vertical-align: top;\n",
              "    }\n",
              "\n",
              "    .dataframe thead th {\n",
              "        text-align: right;\n",
              "    }\n",
              "</style>\n",
              "<table border=\"1\" class=\"dataframe\">\n",
              "  <thead>\n",
              "    <tr style=\"text-align: right;\">\n",
              "      <th></th>\n",
              "      <th>Department</th>\n",
              "      <th>BuildingID</th>\n",
              "      <th>BuildingName</th>\n",
              "      <th>RoomID</th>\n",
              "      <th>Purpose</th>\n",
              "    </tr>\n",
              "  </thead>\n",
              "  <tbody>\n",
              "    <tr>\n",
              "      <th>0</th>\n",
              "      <td>Emergency</td>\n",
              "      <td>B0001</td>\n",
              "      <td>Emergency 1</td>\n",
              "      <td>R0101</td>\n",
              "      <td>Consultation Room</td>\n",
              "    </tr>\n",
              "    <tr>\n",
              "      <th>1</th>\n",
              "      <td>Emergency</td>\n",
              "      <td>B0001</td>\n",
              "      <td>Emergency 1</td>\n",
              "      <td>R0102</td>\n",
              "      <td>Consultation Room</td>\n",
              "    </tr>\n",
              "    <tr>\n",
              "      <th>2</th>\n",
              "      <td>Emergency</td>\n",
              "      <td>B0001</td>\n",
              "      <td>Emergency 1</td>\n",
              "      <td>R0103</td>\n",
              "      <td>Emergency Room</td>\n",
              "    </tr>\n",
              "    <tr>\n",
              "      <th>3</th>\n",
              "      <td>Emergency</td>\n",
              "      <td>B0001</td>\n",
              "      <td>Emergency 1</td>\n",
              "      <td>R0104</td>\n",
              "      <td>Pharmacy</td>\n",
              "    </tr>\n",
              "    <tr>\n",
              "      <th>4</th>\n",
              "      <td>Emergency</td>\n",
              "      <td>B0001</td>\n",
              "      <td>Emergency 1</td>\n",
              "      <td>R0201</td>\n",
              "      <td>Laboratory</td>\n",
              "    </tr>\n",
              "  </tbody>\n",
              "</table>\n",
              "</div>\n",
              "    <div class=\"colab-df-buttons\">\n",
              "\n",
              "  <div class=\"colab-df-container\">\n",
              "    <button class=\"colab-df-convert\" onclick=\"convertToInteractive('df-39808911-a205-45b9-983f-7478028bc500')\"\n",
              "            title=\"Convert this dataframe to an interactive table.\"\n",
              "            style=\"display:none;\">\n",
              "\n",
              "  <svg xmlns=\"http://www.w3.org/2000/svg\" height=\"24px\" viewBox=\"0 -960 960 960\">\n",
              "    <path d=\"M120-120v-720h720v720H120Zm60-500h600v-160H180v160Zm220 220h160v-160H400v160Zm0 220h160v-160H400v160ZM180-400h160v-160H180v160Zm440 0h160v-160H620v160ZM180-180h160v-160H180v160Zm440 0h160v-160H620v160Z\"/>\n",
              "  </svg>\n",
              "    </button>\n",
              "\n",
              "  <style>\n",
              "    .colab-df-container {\n",
              "      display:flex;\n",
              "      gap: 12px;\n",
              "    }\n",
              "\n",
              "    .colab-df-convert {\n",
              "      background-color: #E8F0FE;\n",
              "      border: none;\n",
              "      border-radius: 50%;\n",
              "      cursor: pointer;\n",
              "      display: none;\n",
              "      fill: #1967D2;\n",
              "      height: 32px;\n",
              "      padding: 0 0 0 0;\n",
              "      width: 32px;\n",
              "    }\n",
              "\n",
              "    .colab-df-convert:hover {\n",
              "      background-color: #E2EBFA;\n",
              "      box-shadow: 0px 1px 2px rgba(60, 64, 67, 0.3), 0px 1px 3px 1px rgba(60, 64, 67, 0.15);\n",
              "      fill: #174EA6;\n",
              "    }\n",
              "\n",
              "    .colab-df-buttons div {\n",
              "      margin-bottom: 4px;\n",
              "    }\n",
              "\n",
              "    [theme=dark] .colab-df-convert {\n",
              "      background-color: #3B4455;\n",
              "      fill: #D2E3FC;\n",
              "    }\n",
              "\n",
              "    [theme=dark] .colab-df-convert:hover {\n",
              "      background-color: #434B5C;\n",
              "      box-shadow: 0px 1px 3px 1px rgba(0, 0, 0, 0.15);\n",
              "      filter: drop-shadow(0px 1px 2px rgba(0, 0, 0, 0.3));\n",
              "      fill: #FFFFFF;\n",
              "    }\n",
              "  </style>\n",
              "\n",
              "    <script>\n",
              "      const buttonEl =\n",
              "        document.querySelector('#df-39808911-a205-45b9-983f-7478028bc500 button.colab-df-convert');\n",
              "      buttonEl.style.display =\n",
              "        google.colab.kernel.accessAllowed ? 'block' : 'none';\n",
              "\n",
              "      async function convertToInteractive(key) {\n",
              "        const element = document.querySelector('#df-39808911-a205-45b9-983f-7478028bc500');\n",
              "        const dataTable =\n",
              "          await google.colab.kernel.invokeFunction('convertToInteractive',\n",
              "                                                    [key], {});\n",
              "        if (!dataTable) return;\n",
              "\n",
              "        const docLinkHtml = 'Like what you see? Visit the ' +\n",
              "          '<a target=\"_blank\" href=https://colab.research.google.com/notebooks/data_table.ipynb>data table notebook</a>'\n",
              "          + ' to learn more about interactive tables.';\n",
              "        element.innerHTML = '';\n",
              "        dataTable['output_type'] = 'display_data';\n",
              "        await google.colab.output.renderOutput(dataTable, element);\n",
              "        const docLink = document.createElement('div');\n",
              "        docLink.innerHTML = docLinkHtml;\n",
              "        element.appendChild(docLink);\n",
              "      }\n",
              "    </script>\n",
              "  </div>\n",
              "\n",
              "\n",
              "    <div id=\"df-9f7cefa8-f2b2-496b-b318-d7787d06336c\">\n",
              "      <button class=\"colab-df-quickchart\" onclick=\"quickchart('df-9f7cefa8-f2b2-496b-b318-d7787d06336c')\"\n",
              "                title=\"Suggest charts\"\n",
              "                style=\"display:none;\">\n",
              "\n",
              "<svg xmlns=\"http://www.w3.org/2000/svg\" height=\"24px\"viewBox=\"0 0 24 24\"\n",
              "     width=\"24px\">\n",
              "    <g>\n",
              "        <path d=\"M19 3H5c-1.1 0-2 .9-2 2v14c0 1.1.9 2 2 2h14c1.1 0 2-.9 2-2V5c0-1.1-.9-2-2-2zM9 17H7v-7h2v7zm4 0h-2V7h2v10zm4 0h-2v-4h2v4z\"/>\n",
              "    </g>\n",
              "</svg>\n",
              "      </button>\n",
              "\n",
              "<style>\n",
              "  .colab-df-quickchart {\n",
              "      --bg-color: #E8F0FE;\n",
              "      --fill-color: #1967D2;\n",
              "      --hover-bg-color: #E2EBFA;\n",
              "      --hover-fill-color: #174EA6;\n",
              "      --disabled-fill-color: #AAA;\n",
              "      --disabled-bg-color: #DDD;\n",
              "  }\n",
              "\n",
              "  [theme=dark] .colab-df-quickchart {\n",
              "      --bg-color: #3B4455;\n",
              "      --fill-color: #D2E3FC;\n",
              "      --hover-bg-color: #434B5C;\n",
              "      --hover-fill-color: #FFFFFF;\n",
              "      --disabled-bg-color: #3B4455;\n",
              "      --disabled-fill-color: #666;\n",
              "  }\n",
              "\n",
              "  .colab-df-quickchart {\n",
              "    background-color: var(--bg-color);\n",
              "    border: none;\n",
              "    border-radius: 50%;\n",
              "    cursor: pointer;\n",
              "    display: none;\n",
              "    fill: var(--fill-color);\n",
              "    height: 32px;\n",
              "    padding: 0;\n",
              "    width: 32px;\n",
              "  }\n",
              "\n",
              "  .colab-df-quickchart:hover {\n",
              "    background-color: var(--hover-bg-color);\n",
              "    box-shadow: 0 1px 2px rgba(60, 64, 67, 0.3), 0 1px 3px 1px rgba(60, 64, 67, 0.15);\n",
              "    fill: var(--button-hover-fill-color);\n",
              "  }\n",
              "\n",
              "  .colab-df-quickchart-complete:disabled,\n",
              "  .colab-df-quickchart-complete:disabled:hover {\n",
              "    background-color: var(--disabled-bg-color);\n",
              "    fill: var(--disabled-fill-color);\n",
              "    box-shadow: none;\n",
              "  }\n",
              "\n",
              "  .colab-df-spinner {\n",
              "    border: 2px solid var(--fill-color);\n",
              "    border-color: transparent;\n",
              "    border-bottom-color: var(--fill-color);\n",
              "    animation:\n",
              "      spin 1s steps(1) infinite;\n",
              "  }\n",
              "\n",
              "  @keyframes spin {\n",
              "    0% {\n",
              "      border-color: transparent;\n",
              "      border-bottom-color: var(--fill-color);\n",
              "      border-left-color: var(--fill-color);\n",
              "    }\n",
              "    20% {\n",
              "      border-color: transparent;\n",
              "      border-left-color: var(--fill-color);\n",
              "      border-top-color: var(--fill-color);\n",
              "    }\n",
              "    30% {\n",
              "      border-color: transparent;\n",
              "      border-left-color: var(--fill-color);\n",
              "      border-top-color: var(--fill-color);\n",
              "      border-right-color: var(--fill-color);\n",
              "    }\n",
              "    40% {\n",
              "      border-color: transparent;\n",
              "      border-right-color: var(--fill-color);\n",
              "      border-top-color: var(--fill-color);\n",
              "    }\n",
              "    60% {\n",
              "      border-color: transparent;\n",
              "      border-right-color: var(--fill-color);\n",
              "    }\n",
              "    80% {\n",
              "      border-color: transparent;\n",
              "      border-right-color: var(--fill-color);\n",
              "      border-bottom-color: var(--fill-color);\n",
              "    }\n",
              "    90% {\n",
              "      border-color: transparent;\n",
              "      border-bottom-color: var(--fill-color);\n",
              "    }\n",
              "  }\n",
              "</style>\n",
              "\n",
              "      <script>\n",
              "        async function quickchart(key) {\n",
              "          const quickchartButtonEl =\n",
              "            document.querySelector('#' + key + ' button');\n",
              "          quickchartButtonEl.disabled = true;  // To prevent multiple clicks.\n",
              "          quickchartButtonEl.classList.add('colab-df-spinner');\n",
              "          try {\n",
              "            const charts = await google.colab.kernel.invokeFunction(\n",
              "                'suggestCharts', [key], {});\n",
              "          } catch (error) {\n",
              "            console.error('Error during call to suggestCharts:', error);\n",
              "          }\n",
              "          quickchartButtonEl.classList.remove('colab-df-spinner');\n",
              "          quickchartButtonEl.classList.add('colab-df-quickchart-complete');\n",
              "        }\n",
              "        (() => {\n",
              "          let quickchartButtonEl =\n",
              "            document.querySelector('#df-9f7cefa8-f2b2-496b-b318-d7787d06336c button');\n",
              "          quickchartButtonEl.style.display =\n",
              "            google.colab.kernel.accessAllowed ? 'block' : 'none';\n",
              "        })();\n",
              "      </script>\n",
              "    </div>\n",
              "\n",
              "    </div>\n",
              "  </div>\n"
            ],
            "application/vnd.google.colaboratory.intrinsic+json": {
              "type": "dataframe",
              "variable_name": "facility",
              "summary": "{\n  \"name\": \"facility\",\n  \"rows\": 49,\n  \"fields\": [\n    {\n      \"column\": \"Department\",\n      \"properties\": {\n        \"dtype\": \"category\",\n        \"num_unique_values\": 11,\n        \"samples\": [\n          \"Surgery\",\n          \"Emergency\",\n          \"Intensive Care Unit\"\n        ],\n        \"semantic_type\": \"\",\n        \"description\": \"\"\n      }\n    },\n    {\n      \"column\": \"BuildingID\",\n      \"properties\": {\n        \"dtype\": \"category\",\n        \"num_unique_values\": 5,\n        \"samples\": [\n          \"B0002 \",\n          \"\",\n          \"B0003 \"\n        ],\n        \"semantic_type\": \"\",\n        \"description\": \"\"\n      }\n    },\n    {\n      \"column\": \"BuildingName\",\n      \"properties\": {\n        \"dtype\": \"category\",\n        \"num_unique_values\": 5,\n        \"samples\": [\n          \"Central Tower\",\n          \"\",\n          \"ICU Tower\"\n        ],\n        \"semantic_type\": \"\",\n        \"description\": \"\"\n      }\n    },\n    {\n      \"column\": \"RoomID\",\n      \"properties\": {\n        \"dtype\": \"category\",\n        \"num_unique_values\": 17,\n        \"samples\": [\n          \" R0101\",\n          \" R0102\",\n          \" R0202\"\n        ],\n        \"semantic_type\": \"\",\n        \"description\": \"\"\n      }\n    },\n    {\n      \"column\": \"Purpose\",\n      \"properties\": {\n        \"dtype\": \"category\",\n        \"num_unique_values\": 11,\n        \"samples\": [\n          \"Operating Room\",\n          \"Consultation Room\",\n          \"MRI Room\"\n        ],\n        \"semantic_type\": \"\",\n        \"description\": \"\"\n      }\n    }\n  ]\n}"
            }
          },
          "metadata": {},
          "execution_count": 13
        }
      ],
      "id": "tNkBmjhzP8Pm"
    },
    {
      "cell_type": "code",
      "source": [
        "facility.info()"
      ],
      "metadata": {
        "colab": {
          "base_uri": "https://localhost:8080/"
        },
        "id": "JmgUjnyaUyQI",
        "outputId": "424fcd06-dc02-4c63-c0a3-fa4259e312a2"
      },
      "id": "JmgUjnyaUyQI",
      "execution_count": 17,
      "outputs": [
        {
          "output_type": "stream",
          "name": "stdout",
          "text": [
            "<class 'pandas.core.frame.DataFrame'>\n",
            "RangeIndex: 49 entries, 0 to 48\n",
            "Data columns (total 5 columns):\n",
            " #   Column        Non-Null Count  Dtype \n",
            "---  ------        --------------  ----- \n",
            " 0   Department    49 non-null     object\n",
            " 1   BuildingID    49 non-null     object\n",
            " 2   BuildingName  49 non-null     object\n",
            " 3   RoomID        49 non-null     object\n",
            " 4   Purpose       49 non-null     object\n",
            "dtypes: object(5)\n",
            "memory usage: 2.0+ KB\n"
          ]
        }
      ]
    },
    {
      "cell_type": "markdown",
      "source": [
        "It seems all the columns are of correct data types and free of null values."
      ],
      "metadata": {
        "id": "JBa7O9CUU7dO"
      },
      "id": "JBa7O9CUU7dO"
    },
    {
      "cell_type": "markdown",
      "source": [
        "## Check for Duplicate Rows"
      ],
      "metadata": {
        "id": "SMdGLHNvSJDK"
      },
      "id": "SMdGLHNvSJDK"
    },
    {
      "cell_type": "markdown",
      "source": [
        "We will search for the duplicated rows, first."
      ],
      "metadata": {
        "id": "-pC4Vbl7SPbx"
      },
      "id": "-pC4Vbl7SPbx"
    },
    {
      "cell_type": "code",
      "source": [
        "duplicate_rows = facility.duplicated()\n",
        "num_duplicates = duplicate_rows.sum()\n",
        "\n",
        "print(f\"\\nNumber of duplicate rows found: {num_duplicates}\")\n",
        "\n",
        "# If duplicates exist, display them\n",
        "if num_duplicates > 0:\n",
        "    print(\"\\nHere are the duplicate rows:\")\n",
        "    # The 'keep=False' argument shows all occurrences of duplicates\n",
        "    print(facility[facility.duplicated(keep=False)])\n",
        "else:\n",
        "    print(\"There are no duplicate rows in the dataset.\")"
      ],
      "metadata": {
        "colab": {
          "base_uri": "https://localhost:8080/"
        },
        "id": "gm_9YZXLSItg",
        "outputId": "907cb8b1-daa7-40a6-d358-26f214d4cb08"
      },
      "id": "gm_9YZXLSItg",
      "execution_count": 15,
      "outputs": [
        {
          "output_type": "stream",
          "name": "stdout",
          "text": [
            "\n",
            "Number of duplicate rows found: 0\n",
            "There are no duplicate rows in the dataset.\n"
          ]
        }
      ]
    },
    {
      "cell_type": "markdown",
      "source": [
        "There are no completely duplicate rows in the dataset. However, since the combination of `BuildingID`, `BuildingName`, and `RoomID` serves as the primary key, we should check for duplicate records based on these columns to ensure data integrity."
      ],
      "metadata": {
        "id": "fgS8s56TSYJU"
      },
      "id": "fgS8s56TSYJU"
    },
    {
      "cell_type": "code",
      "source": [
        "# Check for duplicate rows based on 'BuildingID', 'BuildingName', and 'RoomID'\n",
        "duplicate_facility_subset = facility.duplicated(subset=['BuildingID', 'BuildingName', 'RoomID'], keep=False)\n",
        "\n",
        "# Filter the DataFrame to show only the duplicate rows\n",
        "duplicate_facility_rows = facility[duplicate_facility_subset]\n",
        "\n",
        "print(\"Rows with duplicate 'BuildingID', 'BuildingName', and 'RoomID' combinations:\")\n",
        "if not duplicate_facility_rows.empty:\n",
        "    display(duplicate_facility_rows)\n",
        "else:\n",
        "    print(\"No duplicate combinations of 'BuildingID', 'BuildingName', and 'RoomID' found.\")\n",
        "\n"
      ],
      "metadata": {
        "colab": {
          "base_uri": "https://localhost:8080/"
        },
        "outputId": "60f75bf8-a36b-4c88-c76e-c0903a59b5d3",
        "id": "V65KAuIiP8Pm"
      },
      "execution_count": null,
      "outputs": [
        {
          "output_type": "stream",
          "name": "stdout",
          "text": [
            "Rows with duplicate 'BuildingID', 'BuildingName', and 'RoomID' combinations:\n",
            "No duplicate combinations of 'BuildingID', 'BuildingName', and 'RoomID' found.\n"
          ]
        }
      ],
      "id": "V65KAuIiP8Pm"
    },
    {
      "cell_type": "markdown",
      "source": [
        "There are no duplicate rows in the dataset, even when considering the combination of `BuildingID`, `BuildingName`, and `RoomID` as the primary key.\n",
        "\n",
        "\n",
        "\n"
      ],
      "metadata": {
        "id": "Ot-SYXlfTQ7Z"
      },
      "id": "Ot-SYXlfTQ7Z"
    },
    {
      "cell_type": "markdown",
      "source": [
        "## Checking for Nulls"
      ],
      "metadata": {
        "id": "9ht70jfQTnVf"
      },
      "id": "9ht70jfQTnVf"
    },
    {
      "cell_type": "code",
      "source": [
        "# Check for null values in each column\n",
        "null_counts = facility.isnull().sum()\n",
        "\n",
        "# Display columns with at least one null value\n",
        "null_counts = null_counts[null_counts > 0]\n",
        "\n",
        "print(\"Columns with null values:\")\n",
        "if not null_counts.empty:\n",
        "    print(null_counts)\n",
        "else:\n",
        "    print(\"No null values found.\")\n"
      ],
      "metadata": {
        "colab": {
          "base_uri": "https://localhost:8080/"
        },
        "id": "aX2c0n-IU_Od",
        "outputId": "fb534f77-1353-4623-fac6-751e7fc75dd5"
      },
      "id": "aX2c0n-IU_Od",
      "execution_count": 18,
      "outputs": [
        {
          "output_type": "stream",
          "name": "stdout",
          "text": [
            "Columns with null values:\n",
            "No null values found.\n"
          ]
        }
      ]
    },
    {
      "cell_type": "markdown",
      "source": [
        "There are no null values."
      ],
      "metadata": {
        "id": "d80bnt8VVChH"
      },
      "id": "d80bnt8VVChH"
    },
    {
      "cell_type": "markdown",
      "source": [
        "## Checking for Categorial columns"
      ],
      "metadata": {
        "id": "q8ZXvjjvVHPO"
      },
      "id": "q8ZXvjjvVHPO"
    },
    {
      "cell_type": "code",
      "source": [
        "print(\"Unique Values in Each Column\")\n",
        "\n",
        "for column in facility.columns:\n",
        "    print(f\"\\n Column: '{column}'\")\n",
        "\n",
        "    # Get and print the unique values\n",
        "    unique_values = facility[column].unique()\n",
        "    print(unique_values)"
      ],
      "metadata": {
        "colab": {
          "base_uri": "https://localhost:8080/"
        },
        "outputId": "d33fd62e-2965-4741-d91a-46e165da0dfb",
        "id": "refOE0qVP8Pn"
      },
      "execution_count": 21,
      "outputs": [
        {
          "output_type": "stream",
          "name": "stdout",
          "text": [
            "Unique Values in Each Column\n",
            "\n",
            " Column: 'Department'\n",
            "['Emergency' 'Cardiology' 'Pediatrics' 'Orthopedics'\n",
            " 'Obstetrics and Gynecology' 'Surgery' 'Neurology' 'Oncology' 'Radiology'\n",
            " 'Intensive Care Unit' '']\n",
            "\n",
            " Column: 'BuildingID'\n",
            "['B0001 ' 'B0002 ' 'B0003 ' 'B0004 ' '']\n",
            "\n",
            " Column: 'BuildingName'\n",
            "['Emergency 1' 'Central Tower' 'ICU Tower' 'Emergency 2' '']\n",
            "\n",
            " Column: 'RoomID'\n",
            "[' R0101' ' R0102' ' R0103' ' R0104' ' R0201' ' R0202' ' R0203' ' R0204'\n",
            " ' R0301' ' R0302' ' R0303' ' R0304' ' R0401' ' R0402' ' R0403' ' R0404'\n",
            " '']\n",
            "\n",
            " Column: 'Purpose'\n",
            "['Consultation Room' 'Emergency Room' 'Pharmacy' 'Laboratory' 'X-ray Room'\n",
            " 'Operating Room' 'Treatment Room' 'Critical Care Room'\n",
            " 'Isolation ICU Room' 'MRI Room' '']\n"
          ]
        }
      ],
      "id": "refOE0qVP8Pn"
    },
    {
      "cell_type": "markdown",
      "source": [
        "We observe that the empty string `''` appears as last entry  in every column. We will investigate this further to understand its implications in the dataset. We will check last few columns."
      ],
      "metadata": {
        "id": "w-isLDqGO3us"
      },
      "id": "w-isLDqGO3us"
    },
    {
      "cell_type": "code",
      "source": [
        "facility.tail()"
      ],
      "metadata": {
        "colab": {
          "base_uri": "https://localhost:8080/",
          "height": 206
        },
        "id": "rAFswexAO9hB",
        "outputId": "b47984d3-eac6-4943-921f-2fc4fe8adae3"
      },
      "id": "rAFswexAO9hB",
      "execution_count": 22,
      "outputs": [
        {
          "output_type": "execute_result",
          "data": {
            "text/plain": [
              "0                  Department BuildingID BuildingName  RoomID  \\\n",
              "44                 Pediatrics     B0004   Emergency 2   R0201   \n",
              "45  Obstetrics and Gynecology     B0004   Emergency 2   R0202   \n",
              "46  Obstetrics and Gynecology     B0004   Emergency 2   R0203   \n",
              "47                  Radiology     B0004   Emergency 2   R0204   \n",
              "48                                                              \n",
              "\n",
              "0             Purpose  \n",
              "44     Treatment Room  \n",
              "45  Consultation Room  \n",
              "46  Consultation Room  \n",
              "47         X-ray Room  \n",
              "48                     "
            ],
            "text/html": [
              "\n",
              "  <div id=\"df-4e7e5381-d8ee-4bc8-ab4f-45f166f01584\" class=\"colab-df-container\">\n",
              "    <div>\n",
              "<style scoped>\n",
              "    .dataframe tbody tr th:only-of-type {\n",
              "        vertical-align: middle;\n",
              "    }\n",
              "\n",
              "    .dataframe tbody tr th {\n",
              "        vertical-align: top;\n",
              "    }\n",
              "\n",
              "    .dataframe thead th {\n",
              "        text-align: right;\n",
              "    }\n",
              "</style>\n",
              "<table border=\"1\" class=\"dataframe\">\n",
              "  <thead>\n",
              "    <tr style=\"text-align: right;\">\n",
              "      <th></th>\n",
              "      <th>Department</th>\n",
              "      <th>BuildingID</th>\n",
              "      <th>BuildingName</th>\n",
              "      <th>RoomID</th>\n",
              "      <th>Purpose</th>\n",
              "    </tr>\n",
              "  </thead>\n",
              "  <tbody>\n",
              "    <tr>\n",
              "      <th>44</th>\n",
              "      <td>Pediatrics</td>\n",
              "      <td>B0004</td>\n",
              "      <td>Emergency 2</td>\n",
              "      <td>R0201</td>\n",
              "      <td>Treatment Room</td>\n",
              "    </tr>\n",
              "    <tr>\n",
              "      <th>45</th>\n",
              "      <td>Obstetrics and Gynecology</td>\n",
              "      <td>B0004</td>\n",
              "      <td>Emergency 2</td>\n",
              "      <td>R0202</td>\n",
              "      <td>Consultation Room</td>\n",
              "    </tr>\n",
              "    <tr>\n",
              "      <th>46</th>\n",
              "      <td>Obstetrics and Gynecology</td>\n",
              "      <td>B0004</td>\n",
              "      <td>Emergency 2</td>\n",
              "      <td>R0203</td>\n",
              "      <td>Consultation Room</td>\n",
              "    </tr>\n",
              "    <tr>\n",
              "      <th>47</th>\n",
              "      <td>Radiology</td>\n",
              "      <td>B0004</td>\n",
              "      <td>Emergency 2</td>\n",
              "      <td>R0204</td>\n",
              "      <td>X-ray Room</td>\n",
              "    </tr>\n",
              "    <tr>\n",
              "      <th>48</th>\n",
              "      <td></td>\n",
              "      <td></td>\n",
              "      <td></td>\n",
              "      <td></td>\n",
              "      <td></td>\n",
              "    </tr>\n",
              "  </tbody>\n",
              "</table>\n",
              "</div>\n",
              "    <div class=\"colab-df-buttons\">\n",
              "\n",
              "  <div class=\"colab-df-container\">\n",
              "    <button class=\"colab-df-convert\" onclick=\"convertToInteractive('df-4e7e5381-d8ee-4bc8-ab4f-45f166f01584')\"\n",
              "            title=\"Convert this dataframe to an interactive table.\"\n",
              "            style=\"display:none;\">\n",
              "\n",
              "  <svg xmlns=\"http://www.w3.org/2000/svg\" height=\"24px\" viewBox=\"0 -960 960 960\">\n",
              "    <path d=\"M120-120v-720h720v720H120Zm60-500h600v-160H180v160Zm220 220h160v-160H400v160Zm0 220h160v-160H400v160ZM180-400h160v-160H180v160Zm440 0h160v-160H620v160ZM180-180h160v-160H180v160Zm440 0h160v-160H620v160Z\"/>\n",
              "  </svg>\n",
              "    </button>\n",
              "\n",
              "  <style>\n",
              "    .colab-df-container {\n",
              "      display:flex;\n",
              "      gap: 12px;\n",
              "    }\n",
              "\n",
              "    .colab-df-convert {\n",
              "      background-color: #E8F0FE;\n",
              "      border: none;\n",
              "      border-radius: 50%;\n",
              "      cursor: pointer;\n",
              "      display: none;\n",
              "      fill: #1967D2;\n",
              "      height: 32px;\n",
              "      padding: 0 0 0 0;\n",
              "      width: 32px;\n",
              "    }\n",
              "\n",
              "    .colab-df-convert:hover {\n",
              "      background-color: #E2EBFA;\n",
              "      box-shadow: 0px 1px 2px rgba(60, 64, 67, 0.3), 0px 1px 3px 1px rgba(60, 64, 67, 0.15);\n",
              "      fill: #174EA6;\n",
              "    }\n",
              "\n",
              "    .colab-df-buttons div {\n",
              "      margin-bottom: 4px;\n",
              "    }\n",
              "\n",
              "    [theme=dark] .colab-df-convert {\n",
              "      background-color: #3B4455;\n",
              "      fill: #D2E3FC;\n",
              "    }\n",
              "\n",
              "    [theme=dark] .colab-df-convert:hover {\n",
              "      background-color: #434B5C;\n",
              "      box-shadow: 0px 1px 3px 1px rgba(0, 0, 0, 0.15);\n",
              "      filter: drop-shadow(0px 1px 2px rgba(0, 0, 0, 0.3));\n",
              "      fill: #FFFFFF;\n",
              "    }\n",
              "  </style>\n",
              "\n",
              "    <script>\n",
              "      const buttonEl =\n",
              "        document.querySelector('#df-4e7e5381-d8ee-4bc8-ab4f-45f166f01584 button.colab-df-convert');\n",
              "      buttonEl.style.display =\n",
              "        google.colab.kernel.accessAllowed ? 'block' : 'none';\n",
              "\n",
              "      async function convertToInteractive(key) {\n",
              "        const element = document.querySelector('#df-4e7e5381-d8ee-4bc8-ab4f-45f166f01584');\n",
              "        const dataTable =\n",
              "          await google.colab.kernel.invokeFunction('convertToInteractive',\n",
              "                                                    [key], {});\n",
              "        if (!dataTable) return;\n",
              "\n",
              "        const docLinkHtml = 'Like what you see? Visit the ' +\n",
              "          '<a target=\"_blank\" href=https://colab.research.google.com/notebooks/data_table.ipynb>data table notebook</a>'\n",
              "          + ' to learn more about interactive tables.';\n",
              "        element.innerHTML = '';\n",
              "        dataTable['output_type'] = 'display_data';\n",
              "        await google.colab.output.renderOutput(dataTable, element);\n",
              "        const docLink = document.createElement('div');\n",
              "        docLink.innerHTML = docLinkHtml;\n",
              "        element.appendChild(docLink);\n",
              "      }\n",
              "    </script>\n",
              "  </div>\n",
              "\n",
              "\n",
              "    <div id=\"df-fe85ca83-bd49-4cf0-bed6-401026df4c6b\">\n",
              "      <button class=\"colab-df-quickchart\" onclick=\"quickchart('df-fe85ca83-bd49-4cf0-bed6-401026df4c6b')\"\n",
              "                title=\"Suggest charts\"\n",
              "                style=\"display:none;\">\n",
              "\n",
              "<svg xmlns=\"http://www.w3.org/2000/svg\" height=\"24px\"viewBox=\"0 0 24 24\"\n",
              "     width=\"24px\">\n",
              "    <g>\n",
              "        <path d=\"M19 3H5c-1.1 0-2 .9-2 2v14c0 1.1.9 2 2 2h14c1.1 0 2-.9 2-2V5c0-1.1-.9-2-2-2zM9 17H7v-7h2v7zm4 0h-2V7h2v10zm4 0h-2v-4h2v4z\"/>\n",
              "    </g>\n",
              "</svg>\n",
              "      </button>\n",
              "\n",
              "<style>\n",
              "  .colab-df-quickchart {\n",
              "      --bg-color: #E8F0FE;\n",
              "      --fill-color: #1967D2;\n",
              "      --hover-bg-color: #E2EBFA;\n",
              "      --hover-fill-color: #174EA6;\n",
              "      --disabled-fill-color: #AAA;\n",
              "      --disabled-bg-color: #DDD;\n",
              "  }\n",
              "\n",
              "  [theme=dark] .colab-df-quickchart {\n",
              "      --bg-color: #3B4455;\n",
              "      --fill-color: #D2E3FC;\n",
              "      --hover-bg-color: #434B5C;\n",
              "      --hover-fill-color: #FFFFFF;\n",
              "      --disabled-bg-color: #3B4455;\n",
              "      --disabled-fill-color: #666;\n",
              "  }\n",
              "\n",
              "  .colab-df-quickchart {\n",
              "    background-color: var(--bg-color);\n",
              "    border: none;\n",
              "    border-radius: 50%;\n",
              "    cursor: pointer;\n",
              "    display: none;\n",
              "    fill: var(--fill-color);\n",
              "    height: 32px;\n",
              "    padding: 0;\n",
              "    width: 32px;\n",
              "  }\n",
              "\n",
              "  .colab-df-quickchart:hover {\n",
              "    background-color: var(--hover-bg-color);\n",
              "    box-shadow: 0 1px 2px rgba(60, 64, 67, 0.3), 0 1px 3px 1px rgba(60, 64, 67, 0.15);\n",
              "    fill: var(--button-hover-fill-color);\n",
              "  }\n",
              "\n",
              "  .colab-df-quickchart-complete:disabled,\n",
              "  .colab-df-quickchart-complete:disabled:hover {\n",
              "    background-color: var(--disabled-bg-color);\n",
              "    fill: var(--disabled-fill-color);\n",
              "    box-shadow: none;\n",
              "  }\n",
              "\n",
              "  .colab-df-spinner {\n",
              "    border: 2px solid var(--fill-color);\n",
              "    border-color: transparent;\n",
              "    border-bottom-color: var(--fill-color);\n",
              "    animation:\n",
              "      spin 1s steps(1) infinite;\n",
              "  }\n",
              "\n",
              "  @keyframes spin {\n",
              "    0% {\n",
              "      border-color: transparent;\n",
              "      border-bottom-color: var(--fill-color);\n",
              "      border-left-color: var(--fill-color);\n",
              "    }\n",
              "    20% {\n",
              "      border-color: transparent;\n",
              "      border-left-color: var(--fill-color);\n",
              "      border-top-color: var(--fill-color);\n",
              "    }\n",
              "    30% {\n",
              "      border-color: transparent;\n",
              "      border-left-color: var(--fill-color);\n",
              "      border-top-color: var(--fill-color);\n",
              "      border-right-color: var(--fill-color);\n",
              "    }\n",
              "    40% {\n",
              "      border-color: transparent;\n",
              "      border-right-color: var(--fill-color);\n",
              "      border-top-color: var(--fill-color);\n",
              "    }\n",
              "    60% {\n",
              "      border-color: transparent;\n",
              "      border-right-color: var(--fill-color);\n",
              "    }\n",
              "    80% {\n",
              "      border-color: transparent;\n",
              "      border-right-color: var(--fill-color);\n",
              "      border-bottom-color: var(--fill-color);\n",
              "    }\n",
              "    90% {\n",
              "      border-color: transparent;\n",
              "      border-bottom-color: var(--fill-color);\n",
              "    }\n",
              "  }\n",
              "</style>\n",
              "\n",
              "      <script>\n",
              "        async function quickchart(key) {\n",
              "          const quickchartButtonEl =\n",
              "            document.querySelector('#' + key + ' button');\n",
              "          quickchartButtonEl.disabled = true;  // To prevent multiple clicks.\n",
              "          quickchartButtonEl.classList.add('colab-df-spinner');\n",
              "          try {\n",
              "            const charts = await google.colab.kernel.invokeFunction(\n",
              "                'suggestCharts', [key], {});\n",
              "          } catch (error) {\n",
              "            console.error('Error during call to suggestCharts:', error);\n",
              "          }\n",
              "          quickchartButtonEl.classList.remove('colab-df-spinner');\n",
              "          quickchartButtonEl.classList.add('colab-df-quickchart-complete');\n",
              "        }\n",
              "        (() => {\n",
              "          let quickchartButtonEl =\n",
              "            document.querySelector('#df-fe85ca83-bd49-4cf0-bed6-401026df4c6b button');\n",
              "          quickchartButtonEl.style.display =\n",
              "            google.colab.kernel.accessAllowed ? 'block' : 'none';\n",
              "        })();\n",
              "      </script>\n",
              "    </div>\n",
              "\n",
              "    </div>\n",
              "  </div>\n"
            ],
            "application/vnd.google.colaboratory.intrinsic+json": {
              "type": "dataframe",
              "summary": "{\n  \"name\": \"facility\",\n  \"rows\": 5,\n  \"fields\": [\n    {\n      \"column\": \"Department\",\n      \"properties\": {\n        \"dtype\": \"string\",\n        \"num_unique_values\": 4,\n        \"samples\": [\n          \"Obstetrics and Gynecology\",\n          \"\",\n          \"Pediatrics\"\n        ],\n        \"semantic_type\": \"\",\n        \"description\": \"\"\n      }\n    },\n    {\n      \"column\": \"BuildingID\",\n      \"properties\": {\n        \"dtype\": \"category\",\n        \"num_unique_values\": 2,\n        \"samples\": [\n          \"\",\n          \"B0004 \"\n        ],\n        \"semantic_type\": \"\",\n        \"description\": \"\"\n      }\n    },\n    {\n      \"column\": \"BuildingName\",\n      \"properties\": {\n        \"dtype\": \"category\",\n        \"num_unique_values\": 2,\n        \"samples\": [\n          \"\",\n          \"Emergency 2\"\n        ],\n        \"semantic_type\": \"\",\n        \"description\": \"\"\n      }\n    },\n    {\n      \"column\": \"RoomID\",\n      \"properties\": {\n        \"dtype\": \"string\",\n        \"num_unique_values\": 5,\n        \"samples\": [\n          \" R0202\",\n          \"\"\n        ],\n        \"semantic_type\": \"\",\n        \"description\": \"\"\n      }\n    },\n    {\n      \"column\": \"Purpose\",\n      \"properties\": {\n        \"dtype\": \"string\",\n        \"num_unique_values\": 4,\n        \"samples\": [\n          \"Consultation Room\",\n          \"\"\n        ],\n        \"semantic_type\": \"\",\n        \"description\": \"\"\n      }\n    }\n  ]\n}"
            }
          },
          "metadata": {},
          "execution_count": 22
        }
      ]
    },
    {
      "cell_type": "markdown",
      "source": [
        "The last row contains only empty values in all columns, so we will remove it from the dataset."
      ],
      "metadata": {
        "id": "N3o-FOyrPGKp"
      },
      "id": "N3o-FOyrPGKp"
    },
    {
      "cell_type": "code",
      "source": [
        "facility = facility.iloc[:-1]"
      ],
      "metadata": {
        "id": "r_fY8OscPNhG"
      },
      "id": "r_fY8OscPNhG",
      "execution_count": 23,
      "outputs": []
    },
    {
      "cell_type": "markdown",
      "source": [
        "Let's check if this row has been removed."
      ],
      "metadata": {
        "id": "1LNnnZsCYDy9"
      },
      "id": "1LNnnZsCYDy9"
    },
    {
      "cell_type": "code",
      "source": [
        "print(\"Unique Values in Each Column\")\n",
        "\n",
        "for column in facility.columns:\n",
        "    print(f\"\\n Column: '{column}'\")\n",
        "\n",
        "    # Get and print the unique values\n",
        "    unique_values = facility[column].unique()\n",
        "    print(unique_values)"
      ],
      "metadata": {
        "colab": {
          "base_uri": "https://localhost:8080/"
        },
        "id": "FZOUTOf0YGlg",
        "outputId": "6965110d-485b-4941-b73b-8dc27c3d9a35"
      },
      "id": "FZOUTOf0YGlg",
      "execution_count": 29,
      "outputs": [
        {
          "output_type": "stream",
          "name": "stdout",
          "text": [
            "Unique Values in Each Column\n",
            "\n",
            " Column: 'Department'\n",
            "['Emergency' 'Cardiology' 'Pediatrics' 'Orthopedics'\n",
            " 'Obstetrics and Gynecology' 'Surgery' 'Neurology' 'Oncology' 'Radiology'\n",
            " 'Intensive Care Unit']\n",
            "\n",
            " Column: 'BuildingID'\n",
            "['B0001' 'B0002' 'B0003' 'B0004']\n",
            "\n",
            " Column: 'BuildingName'\n",
            "['Emergency 1' 'Central Tower' 'ICU Tower' 'Emergency 2']\n",
            "\n",
            " Column: 'RoomID'\n",
            "['R0101' 'R0102' 'R0103' 'R0104' 'R0201' 'R0202' 'R0203' 'R0204' 'R0301'\n",
            " 'R0302' 'R0303' 'R0304' 'R0401' 'R0402' 'R0403' 'R0404']\n",
            "\n",
            " Column: 'Purpose'\n",
            "['Consultation Room' 'Emergency Room' 'Pharmacy' 'Laboratory' 'X-ray Room'\n",
            " 'Operating Room' 'Treatment Room' 'Critical Care Room'\n",
            " 'Isolation ICU Room' 'MRI Room']\n"
          ]
        }
      ]
    },
    {
      "cell_type": "markdown",
      "source": [
        "## Checking for White spaces"
      ],
      "metadata": {
        "id": "8cqTn4sCVzUm"
      },
      "id": "8cqTn4sCVzUm"
    },
    {
      "cell_type": "code",
      "source": [
        "# Check for leading/trailing whitespace in each string column\n",
        "for column in facility.columns:\n",
        "    if facility[column].dtype == 'object':\n",
        "        has_whitespace = facility[column].astype(str) != facility[column].astype(str).str.strip()\n",
        "        result = \"Yes\" if has_whitespace.any() else \"No\"\n",
        "        print(f\"Column '{column}': {result}\")\n",
        "\n"
      ],
      "metadata": {
        "colab": {
          "base_uri": "https://localhost:8080/"
        },
        "id": "VXFHIIK0WMYP",
        "outputId": "4e7464fa-c5a1-4e46-f22c-b41ea05cbc2e"
      },
      "id": "VXFHIIK0WMYP",
      "execution_count": 28,
      "outputs": [
        {
          "output_type": "stream",
          "name": "stdout",
          "text": [
            "Column 'Department': No\n",
            "Column 'BuildingID': No\n",
            "Column 'BuildingName': No\n",
            "Column 'RoomID': No\n",
            "Column 'Purpose': No\n"
          ]
        }
      ]
    },
    {
      "cell_type": "markdown",
      "source": [
        "Since two columns contain whitespace characters, we will remove the whitespace from these columns to ensure data consistency."
      ],
      "metadata": {
        "id": "KzX4NJt6W9_-"
      },
      "id": "KzX4NJt6W9_-"
    },
    {
      "cell_type": "code",
      "source": [
        "# Clean leading/trailing whitespaces and count affected rows\n",
        "columns_to_clean = ['BuildingID', 'RoomID']\n",
        "\n",
        "for col in columns_to_clean:\n",
        "    # Count rows with whitespace before cleaning\n",
        "    before_clean = facility[col].astype(str)\n",
        "    has_whitespace = before_clean != before_clean.str.strip()\n",
        "    affected_rows = has_whitespace.sum()\n",
        "\n",
        "    # Clean the column\n",
        "    facility[col] = before_clean.str.strip()\n",
        "\n",
        "    print(f\"Whitespace removed from column '{col}': {affected_rows} row(s) affected.\")\n"
      ],
      "metadata": {
        "colab": {
          "base_uri": "https://localhost:8080/"
        },
        "id": "bHryAfdeXt6L",
        "outputId": "645a6e9b-91b4-465e-ae02-6c27af3989df"
      },
      "id": "bHryAfdeXt6L",
      "execution_count": 27,
      "outputs": [
        {
          "output_type": "stream",
          "name": "stdout",
          "text": [
            "Whitespace removed from column 'BuildingID': 48 row(s) affected.\n",
            "Whitespace removed from column 'RoomID': 48 row(s) affected.\n"
          ]
        }
      ]
    },
    {
      "cell_type": "markdown",
      "id": "b59dd89e",
      "metadata": {
        "id": "b59dd89e"
      },
      "source": [
        "# Appointment Data Analysis and Cleaning\n",
        "---"
      ]
    },
    {
      "cell_type": "code",
      "source": [
        "appointment.head()"
      ],
      "metadata": {
        "colab": {
          "base_uri": "https://localhost:8080/",
          "height": 400
        },
        "id": "2IR9I0Zi3vUV",
        "outputId": "43b37407-9911-44a4-b74f-29f9b9d1ac62"
      },
      "id": "2IR9I0Zi3vUV",
      "execution_count": 30,
      "outputs": [
        {
          "output_type": "execute_result",
          "data": {
            "text/plain": [
              "  PatientID DoctorID BuildingID RoomID      ScheduledStart  \\\n",
              "0     P0191    E0066      B0001  R0402 2024-01-05 14:00:00   \n",
              "1     P0776    E0065      B0004  R0104 2024-02-27 14:00:00   \n",
              "2     P0157    E0051      B0001  R0301 2022-12-28 09:00:00   \n",
              "3     P0593    E0044      B0004  R0101 2023-01-04 15:00:00   \n",
              "4     P0434    E0074      B0002  R0203 2020-04-14 09:00:00   \n",
              "\n",
              "         ScheduledEnd             Arrival         ActualStart  \\\n",
              "0 2024-01-05 15:00:00 2024-01-05 14:35:00 2024-01-05 14:35:00   \n",
              "1 2024-02-27 15:00:00 2024-02-27 14:59:00 2024-02-27 14:59:00   \n",
              "2 2022-12-28 10:00:00                 NaT                 NaT   \n",
              "3 2023-01-04 16:00:00 2023-01-04 15:48:00 2023-01-04 15:48:00   \n",
              "4 2020-04-14 10:00:00 2020-04-14 09:39:00 2020-04-14 09:39:00   \n",
              "\n",
              "             ActualEnd  Weight(kg)  Temperature(celcius)  \\\n",
              "0  2024-01-05 15:11:00        49.5                  37.2   \n",
              "1  2024-02-27 16:03:00        55.5                  37.1   \n",
              "2                  NaN         NaN                   NaN   \n",
              "3  2023-01-04 16:22:00        50.5                  36.8   \n",
              "4  2020-04-14 10:07:00        49.5                  38.1   \n",
              "\n",
              "                         Comment  \n",
              "0        Orientation comfortably  \n",
              "1  Imaging has improved slightly  \n",
              "2                            NaN  \n",
              "3            Rash reported today  \n",
              "4   Continue observed on forearm  "
            ],
            "text/html": [
              "\n",
              "  <div id=\"df-77997759-49c1-4b28-93d5-054b26ae7730\" class=\"colab-df-container\">\n",
              "    <div>\n",
              "<style scoped>\n",
              "    .dataframe tbody tr th:only-of-type {\n",
              "        vertical-align: middle;\n",
              "    }\n",
              "\n",
              "    .dataframe tbody tr th {\n",
              "        vertical-align: top;\n",
              "    }\n",
              "\n",
              "    .dataframe thead th {\n",
              "        text-align: right;\n",
              "    }\n",
              "</style>\n",
              "<table border=\"1\" class=\"dataframe\">\n",
              "  <thead>\n",
              "    <tr style=\"text-align: right;\">\n",
              "      <th></th>\n",
              "      <th>PatientID</th>\n",
              "      <th>DoctorID</th>\n",
              "      <th>BuildingID</th>\n",
              "      <th>RoomID</th>\n",
              "      <th>ScheduledStart</th>\n",
              "      <th>ScheduledEnd</th>\n",
              "      <th>Arrival</th>\n",
              "      <th>ActualStart</th>\n",
              "      <th>ActualEnd</th>\n",
              "      <th>Weight(kg)</th>\n",
              "      <th>Temperature(celcius)</th>\n",
              "      <th>Comment</th>\n",
              "    </tr>\n",
              "  </thead>\n",
              "  <tbody>\n",
              "    <tr>\n",
              "      <th>0</th>\n",
              "      <td>P0191</td>\n",
              "      <td>E0066</td>\n",
              "      <td>B0001</td>\n",
              "      <td>R0402</td>\n",
              "      <td>2024-01-05 14:00:00</td>\n",
              "      <td>2024-01-05 15:00:00</td>\n",
              "      <td>2024-01-05 14:35:00</td>\n",
              "      <td>2024-01-05 14:35:00</td>\n",
              "      <td>2024-01-05 15:11:00</td>\n",
              "      <td>49.5</td>\n",
              "      <td>37.2</td>\n",
              "      <td>Orientation comfortably</td>\n",
              "    </tr>\n",
              "    <tr>\n",
              "      <th>1</th>\n",
              "      <td>P0776</td>\n",
              "      <td>E0065</td>\n",
              "      <td>B0004</td>\n",
              "      <td>R0104</td>\n",
              "      <td>2024-02-27 14:00:00</td>\n",
              "      <td>2024-02-27 15:00:00</td>\n",
              "      <td>2024-02-27 14:59:00</td>\n",
              "      <td>2024-02-27 14:59:00</td>\n",
              "      <td>2024-02-27 16:03:00</td>\n",
              "      <td>55.5</td>\n",
              "      <td>37.1</td>\n",
              "      <td>Imaging has improved slightly</td>\n",
              "    </tr>\n",
              "    <tr>\n",
              "      <th>2</th>\n",
              "      <td>P0157</td>\n",
              "      <td>E0051</td>\n",
              "      <td>B0001</td>\n",
              "      <td>R0301</td>\n",
              "      <td>2022-12-28 09:00:00</td>\n",
              "      <td>2022-12-28 10:00:00</td>\n",
              "      <td>NaT</td>\n",
              "      <td>NaT</td>\n",
              "      <td>NaN</td>\n",
              "      <td>NaN</td>\n",
              "      <td>NaN</td>\n",
              "      <td>NaN</td>\n",
              "    </tr>\n",
              "    <tr>\n",
              "      <th>3</th>\n",
              "      <td>P0593</td>\n",
              "      <td>E0044</td>\n",
              "      <td>B0004</td>\n",
              "      <td>R0101</td>\n",
              "      <td>2023-01-04 15:00:00</td>\n",
              "      <td>2023-01-04 16:00:00</td>\n",
              "      <td>2023-01-04 15:48:00</td>\n",
              "      <td>2023-01-04 15:48:00</td>\n",
              "      <td>2023-01-04 16:22:00</td>\n",
              "      <td>50.5</td>\n",
              "      <td>36.8</td>\n",
              "      <td>Rash reported today</td>\n",
              "    </tr>\n",
              "    <tr>\n",
              "      <th>4</th>\n",
              "      <td>P0434</td>\n",
              "      <td>E0074</td>\n",
              "      <td>B0002</td>\n",
              "      <td>R0203</td>\n",
              "      <td>2020-04-14 09:00:00</td>\n",
              "      <td>2020-04-14 10:00:00</td>\n",
              "      <td>2020-04-14 09:39:00</td>\n",
              "      <td>2020-04-14 09:39:00</td>\n",
              "      <td>2020-04-14 10:07:00</td>\n",
              "      <td>49.5</td>\n",
              "      <td>38.1</td>\n",
              "      <td>Continue observed on forearm</td>\n",
              "    </tr>\n",
              "  </tbody>\n",
              "</table>\n",
              "</div>\n",
              "    <div class=\"colab-df-buttons\">\n",
              "\n",
              "  <div class=\"colab-df-container\">\n",
              "    <button class=\"colab-df-convert\" onclick=\"convertToInteractive('df-77997759-49c1-4b28-93d5-054b26ae7730')\"\n",
              "            title=\"Convert this dataframe to an interactive table.\"\n",
              "            style=\"display:none;\">\n",
              "\n",
              "  <svg xmlns=\"http://www.w3.org/2000/svg\" height=\"24px\" viewBox=\"0 -960 960 960\">\n",
              "    <path d=\"M120-120v-720h720v720H120Zm60-500h600v-160H180v160Zm220 220h160v-160H400v160Zm0 220h160v-160H400v160ZM180-400h160v-160H180v160Zm440 0h160v-160H620v160ZM180-180h160v-160H180v160Zm440 0h160v-160H620v160Z\"/>\n",
              "  </svg>\n",
              "    </button>\n",
              "\n",
              "  <style>\n",
              "    .colab-df-container {\n",
              "      display:flex;\n",
              "      gap: 12px;\n",
              "    }\n",
              "\n",
              "    .colab-df-convert {\n",
              "      background-color: #E8F0FE;\n",
              "      border: none;\n",
              "      border-radius: 50%;\n",
              "      cursor: pointer;\n",
              "      display: none;\n",
              "      fill: #1967D2;\n",
              "      height: 32px;\n",
              "      padding: 0 0 0 0;\n",
              "      width: 32px;\n",
              "    }\n",
              "\n",
              "    .colab-df-convert:hover {\n",
              "      background-color: #E2EBFA;\n",
              "      box-shadow: 0px 1px 2px rgba(60, 64, 67, 0.3), 0px 1px 3px 1px rgba(60, 64, 67, 0.15);\n",
              "      fill: #174EA6;\n",
              "    }\n",
              "\n",
              "    .colab-df-buttons div {\n",
              "      margin-bottom: 4px;\n",
              "    }\n",
              "\n",
              "    [theme=dark] .colab-df-convert {\n",
              "      background-color: #3B4455;\n",
              "      fill: #D2E3FC;\n",
              "    }\n",
              "\n",
              "    [theme=dark] .colab-df-convert:hover {\n",
              "      background-color: #434B5C;\n",
              "      box-shadow: 0px 1px 3px 1px rgba(0, 0, 0, 0.15);\n",
              "      filter: drop-shadow(0px 1px 2px rgba(0, 0, 0, 0.3));\n",
              "      fill: #FFFFFF;\n",
              "    }\n",
              "  </style>\n",
              "\n",
              "    <script>\n",
              "      const buttonEl =\n",
              "        document.querySelector('#df-77997759-49c1-4b28-93d5-054b26ae7730 button.colab-df-convert');\n",
              "      buttonEl.style.display =\n",
              "        google.colab.kernel.accessAllowed ? 'block' : 'none';\n",
              "\n",
              "      async function convertToInteractive(key) {\n",
              "        const element = document.querySelector('#df-77997759-49c1-4b28-93d5-054b26ae7730');\n",
              "        const dataTable =\n",
              "          await google.colab.kernel.invokeFunction('convertToInteractive',\n",
              "                                                    [key], {});\n",
              "        if (!dataTable) return;\n",
              "\n",
              "        const docLinkHtml = 'Like what you see? Visit the ' +\n",
              "          '<a target=\"_blank\" href=https://colab.research.google.com/notebooks/data_table.ipynb>data table notebook</a>'\n",
              "          + ' to learn more about interactive tables.';\n",
              "        element.innerHTML = '';\n",
              "        dataTable['output_type'] = 'display_data';\n",
              "        await google.colab.output.renderOutput(dataTable, element);\n",
              "        const docLink = document.createElement('div');\n",
              "        docLink.innerHTML = docLinkHtml;\n",
              "        element.appendChild(docLink);\n",
              "      }\n",
              "    </script>\n",
              "  </div>\n",
              "\n",
              "\n",
              "    <div id=\"df-eb89add2-8a8d-4032-be83-1a0f245d370a\">\n",
              "      <button class=\"colab-df-quickchart\" onclick=\"quickchart('df-eb89add2-8a8d-4032-be83-1a0f245d370a')\"\n",
              "                title=\"Suggest charts\"\n",
              "                style=\"display:none;\">\n",
              "\n",
              "<svg xmlns=\"http://www.w3.org/2000/svg\" height=\"24px\"viewBox=\"0 0 24 24\"\n",
              "     width=\"24px\">\n",
              "    <g>\n",
              "        <path d=\"M19 3H5c-1.1 0-2 .9-2 2v14c0 1.1.9 2 2 2h14c1.1 0 2-.9 2-2V5c0-1.1-.9-2-2-2zM9 17H7v-7h2v7zm4 0h-2V7h2v10zm4 0h-2v-4h2v4z\"/>\n",
              "    </g>\n",
              "</svg>\n",
              "      </button>\n",
              "\n",
              "<style>\n",
              "  .colab-df-quickchart {\n",
              "      --bg-color: #E8F0FE;\n",
              "      --fill-color: #1967D2;\n",
              "      --hover-bg-color: #E2EBFA;\n",
              "      --hover-fill-color: #174EA6;\n",
              "      --disabled-fill-color: #AAA;\n",
              "      --disabled-bg-color: #DDD;\n",
              "  }\n",
              "\n",
              "  [theme=dark] .colab-df-quickchart {\n",
              "      --bg-color: #3B4455;\n",
              "      --fill-color: #D2E3FC;\n",
              "      --hover-bg-color: #434B5C;\n",
              "      --hover-fill-color: #FFFFFF;\n",
              "      --disabled-bg-color: #3B4455;\n",
              "      --disabled-fill-color: #666;\n",
              "  }\n",
              "\n",
              "  .colab-df-quickchart {\n",
              "    background-color: var(--bg-color);\n",
              "    border: none;\n",
              "    border-radius: 50%;\n",
              "    cursor: pointer;\n",
              "    display: none;\n",
              "    fill: var(--fill-color);\n",
              "    height: 32px;\n",
              "    padding: 0;\n",
              "    width: 32px;\n",
              "  }\n",
              "\n",
              "  .colab-df-quickchart:hover {\n",
              "    background-color: var(--hover-bg-color);\n",
              "    box-shadow: 0 1px 2px rgba(60, 64, 67, 0.3), 0 1px 3px 1px rgba(60, 64, 67, 0.15);\n",
              "    fill: var(--button-hover-fill-color);\n",
              "  }\n",
              "\n",
              "  .colab-df-quickchart-complete:disabled,\n",
              "  .colab-df-quickchart-complete:disabled:hover {\n",
              "    background-color: var(--disabled-bg-color);\n",
              "    fill: var(--disabled-fill-color);\n",
              "    box-shadow: none;\n",
              "  }\n",
              "\n",
              "  .colab-df-spinner {\n",
              "    border: 2px solid var(--fill-color);\n",
              "    border-color: transparent;\n",
              "    border-bottom-color: var(--fill-color);\n",
              "    animation:\n",
              "      spin 1s steps(1) infinite;\n",
              "  }\n",
              "\n",
              "  @keyframes spin {\n",
              "    0% {\n",
              "      border-color: transparent;\n",
              "      border-bottom-color: var(--fill-color);\n",
              "      border-left-color: var(--fill-color);\n",
              "    }\n",
              "    20% {\n",
              "      border-color: transparent;\n",
              "      border-left-color: var(--fill-color);\n",
              "      border-top-color: var(--fill-color);\n",
              "    }\n",
              "    30% {\n",
              "      border-color: transparent;\n",
              "      border-left-color: var(--fill-color);\n",
              "      border-top-color: var(--fill-color);\n",
              "      border-right-color: var(--fill-color);\n",
              "    }\n",
              "    40% {\n",
              "      border-color: transparent;\n",
              "      border-right-color: var(--fill-color);\n",
              "      border-top-color: var(--fill-color);\n",
              "    }\n",
              "    60% {\n",
              "      border-color: transparent;\n",
              "      border-right-color: var(--fill-color);\n",
              "    }\n",
              "    80% {\n",
              "      border-color: transparent;\n",
              "      border-right-color: var(--fill-color);\n",
              "      border-bottom-color: var(--fill-color);\n",
              "    }\n",
              "    90% {\n",
              "      border-color: transparent;\n",
              "      border-bottom-color: var(--fill-color);\n",
              "    }\n",
              "  }\n",
              "</style>\n",
              "\n",
              "      <script>\n",
              "        async function quickchart(key) {\n",
              "          const quickchartButtonEl =\n",
              "            document.querySelector('#' + key + ' button');\n",
              "          quickchartButtonEl.disabled = true;  // To prevent multiple clicks.\n",
              "          quickchartButtonEl.classList.add('colab-df-spinner');\n",
              "          try {\n",
              "            const charts = await google.colab.kernel.invokeFunction(\n",
              "                'suggestCharts', [key], {});\n",
              "          } catch (error) {\n",
              "            console.error('Error during call to suggestCharts:', error);\n",
              "          }\n",
              "          quickchartButtonEl.classList.remove('colab-df-spinner');\n",
              "          quickchartButtonEl.classList.add('colab-df-quickchart-complete');\n",
              "        }\n",
              "        (() => {\n",
              "          let quickchartButtonEl =\n",
              "            document.querySelector('#df-eb89add2-8a8d-4032-be83-1a0f245d370a button');\n",
              "          quickchartButtonEl.style.display =\n",
              "            google.colab.kernel.accessAllowed ? 'block' : 'none';\n",
              "        })();\n",
              "      </script>\n",
              "    </div>\n",
              "\n",
              "    </div>\n",
              "  </div>\n"
            ],
            "application/vnd.google.colaboratory.intrinsic+json": {
              "type": "dataframe",
              "variable_name": "appointment"
            }
          },
          "metadata": {},
          "execution_count": 30
        }
      ]
    },
    {
      "cell_type": "code",
      "source": [
        "appointment.info()"
      ],
      "metadata": {
        "colab": {
          "base_uri": "https://localhost:8080/"
        },
        "id": "hUyew6BAkIog",
        "outputId": "720f749f-e212-49bf-8e79-5cd4e13a4df1"
      },
      "id": "hUyew6BAkIog",
      "execution_count": 37,
      "outputs": [
        {
          "output_type": "stream",
          "name": "stdout",
          "text": [
            "<class 'pandas.core.frame.DataFrame'>\n",
            "Index: 100000 entries, 0 to 99999\n",
            "Data columns (total 12 columns):\n",
            " #   Column                Non-Null Count   Dtype         \n",
            "---  ------                --------------   -----         \n",
            " 0   PatientID             100000 non-null  object        \n",
            " 1   DoctorID              100000 non-null  object        \n",
            " 2   BuildingID            100000 non-null  object        \n",
            " 3   RoomID                100000 non-null  object        \n",
            " 4   ScheduledStart        100000 non-null  datetime64[ns]\n",
            " 5   ScheduledEnd          100000 non-null  datetime64[ns]\n",
            " 6   Arrival               97952 non-null   datetime64[ns]\n",
            " 7   ActualStart           97952 non-null   datetime64[ns]\n",
            " 8   ActualEnd             97952 non-null   object        \n",
            " 9   Weight(kg)            97952 non-null   float64       \n",
            " 10  Temperature(celcius)  97952 non-null   float64       \n",
            " 11  Comment               97952 non-null   object        \n",
            "dtypes: datetime64[ns](4), float64(2), object(6)\n",
            "memory usage: 9.9+ MB\n"
          ]
        }
      ]
    },
    {
      "cell_type": "markdown",
      "source": [
        "Data types are correct, but there are null values."
      ],
      "metadata": {
        "id": "AtcK_PUhmJwN"
      },
      "id": "AtcK_PUhmJwN"
    },
    {
      "cell_type": "markdown",
      "source": [
        "## Checking for Duplicate Rows"
      ],
      "metadata": {
        "id": "7VYHvH9vx_fi"
      },
      "id": "7VYHvH9vx_fi"
    },
    {
      "cell_type": "code",
      "source": [
        "duplicate_rows = appointment.duplicated()\n",
        "num_duplicates = duplicate_rows.sum()\n",
        "\n",
        "print(f\"\\nNumber of duplicate rows found: {num_duplicates}\")\n",
        "\n",
        "# If duplicates exist, display them\n",
        "if num_duplicates > 0:\n",
        "    print(\"\\nHere are the duplicate rows:\")\n",
        "    # The 'keep=False' argument shows all occurrences of duplicates\n",
        "    print(appointment[appointment.duplicated(keep=False)])\n",
        "else:\n",
        "    print(\"There are no duplicate rows in the dataset.\")"
      ],
      "metadata": {
        "colab": {
          "base_uri": "https://localhost:8080/"
        },
        "id": "v6OlEIujyIvo",
        "outputId": "a5e17ea1-6c64-438a-b548-90008c33e4e2"
      },
      "id": "v6OlEIujyIvo",
      "execution_count": 104,
      "outputs": [
        {
          "output_type": "stream",
          "name": "stdout",
          "text": [
            "\n",
            "Number of duplicate rows found: 0\n",
            "There are no duplicate rows in the dataset.\n"
          ]
        }
      ]
    },
    {
      "cell_type": "markdown",
      "source": [
        "## Checking for Nulls\n"
      ],
      "metadata": {
        "id": "9F_piwXYtieX"
      },
      "id": "9F_piwXYtieX"
    },
    {
      "cell_type": "code",
      "source": [
        "# Check for null values in each column of the appointment DataFrame\n",
        "null_counts = appointment.isnull().sum()\n",
        "\n",
        "# Display columns with at least one null value\n",
        "null_counts = null_counts[null_counts > 0]\n",
        "\n",
        "print(\"Columns with null values in 'appointment':\")\n",
        "if not null_counts.empty:\n",
        "    print(null_counts)\n",
        "else:\n",
        "    print(\"No null values found in 'appointment'.\")\n"
      ],
      "metadata": {
        "colab": {
          "base_uri": "https://localhost:8080/"
        },
        "id": "nYFQ-FPTcvtn",
        "outputId": "047763ae-811f-4b98-a6b1-56504fafa603"
      },
      "id": "nYFQ-FPTcvtn",
      "execution_count": 68,
      "outputs": [
        {
          "output_type": "stream",
          "name": "stdout",
          "text": [
            "Columns with null values in 'appointment':\n",
            "PatientID                  1\n",
            "DoctorID                   1\n",
            "BuildingID                 1\n",
            "RoomID                     1\n",
            "ScheduledStart             1\n",
            "ScheduledEnd               1\n",
            "Arrival                 2049\n",
            "ActualStart             2049\n",
            "ActualEnd               2048\n",
            "Weight(kg)              2048\n",
            "Temperature(celcius)    2048\n",
            "Comment                 2049\n",
            "dtype: int64\n"
          ]
        }
      ]
    },
    {
      "cell_type": "markdown",
      "source": [
        "\n",
        "\n",
        "1. Business Scenario\n",
        "\n",
        "- **No-show patients**: For patients who booked an appointment but never arrived, it is expected that all columns from **\"Arrival\"** onwards (e.g., `Arrival`, `ActualStart`, `ActualEnd`, etc.) will be **NULL**.\n",
        "- **Scheduled appointment fields**: The following columns should **never be NULL** for any appointment record:\n",
        "  - `PatientID`\n",
        "  - `DoctorID`\n",
        "  - `BuildingID`\n",
        "  - `RoomID`\n",
        "  - `ScheduledStart`\n",
        "  - `ScheduledEnd`\n",
        "\n",
        "---\n",
        "\n",
        "2. Anomaly Detected\n",
        "\n",
        "- There is **one row** found where all of the critical scheduling fields (`PatientID`, `DoctorID`, `BuildingID`, `RoomID`, `ScheduledStart`, `ScheduledEnd`) are **NULL**.\n",
        "  - **Expected behavior:** These fields should always have values, as they are required to define any appointment.\n",
        "  - **Action Item:** We have to investigate the source of this row.\n",
        "\n",
        "---\n",
        "\n",
        "3. Inconsistent NULL Counts\n",
        "\n",
        "- **Observation:** The number of NULL values for columns starting from **\"Arrival\"** onwards are **not equal**.\n",
        "  - **Expected behavior:** For every no-show patient, all columns from \"Arrival\" onwards should be NULL, resulting in matching NULL counts across these columns.\n",
        "  - **Issue:** Mismatched NULL counts suggest data inconsistency, which we have to examine further.\n",
        "\n",
        "---\n",
        "\n",
        "4. Summary Table\n",
        "\n",
        "| Column                 | Can be NULL for No-Shows? |\n",
        "|------------------------|:------------------------:|\n",
        "| PatientID              |            No            |\n",
        "| DoctorID               |            No            |\n",
        "| BuildingID             |            No            |\n",
        "| RoomID                 |            No            |\n",
        "| ScheduledStart         |            No            |\n",
        "| ScheduledEnd           |            No            |\n",
        "| Arrival                |           Yes            |\n",
        "| ActualStart            |           Yes            |\n",
        "| ActualEnd              |           Yes            |\n",
        "| Weight (kg)            |           Yes            |\n",
        "| Temperature (celsius)  |           Yes            |\n",
        "| Comment                |           Yes            |\n",
        "\n",
        "\n",
        "---\n",
        "\n",
        "\n"
      ],
      "metadata": {
        "id": "PDF51CcxtnRP"
      },
      "id": "PDF51CcxtnRP"
    },
    {
      "cell_type": "code",
      "source": [
        "# Define the columns to check\n",
        "cols = ['Arrival', 'ActualStart', 'ActualEnd', 'Weight(kg)', 'Temperature(celcius)', 'Comment']\n",
        "\n",
        "# Rows where all of these columns have values (completely filled)\n",
        "not_null_rows = appointment[appointment[cols].notnull().all(axis=1)]\n",
        "print(\"Rows where all specified columns have values:\", len(not_null_rows))\n",
        "\n",
        "# Rows where all of these columns are completely empty (null)\n",
        "selected_rows_null_rows = appointment[appointment[cols].isnull().all(axis=1)]\n",
        "print(\"Rows where all specified columns are missing (null):\", len(selected_rows_null_rows))\n",
        "\n",
        "# Rows where some columns are filled and some are missing (partially filled)\n",
        "mixed_rows = appointment[\n",
        "    ~(appointment[cols].isnull().all(axis=1)) &\n",
        "    ~(appointment[cols].notnull().all(axis=1))\n",
        "]\n",
        "print(\"Rows where some of the specified columns are filled and some are missing:\", len(mixed_rows))\n",
        "\n",
        "# Show those mixed rows\n",
        "appointment[appointment.index.isin(mixed_rows.index)]\n"
      ],
      "metadata": {
        "colab": {
          "base_uri": "https://localhost:8080/",
          "height": 154
        },
        "id": "IWRe20eth08n",
        "outputId": "cce63689-a2d9-42a4-ca7f-49e34998d1b5"
      },
      "id": "IWRe20eth08n",
      "execution_count": 69,
      "outputs": [
        {
          "output_type": "stream",
          "name": "stdout",
          "text": [
            "Rows where all specified columns have values: 97952\n",
            "Rows where all specified columns are missing (null): 2048\n",
            "Rows where some of the specified columns are filled and some are missing: 1\n"
          ]
        },
        {
          "output_type": "execute_result",
          "data": {
            "text/plain": [
              "       PatientID DoctorID BuildingID RoomID ScheduledStart ScheduledEnd  \\\n",
              "100000       NaN      NaN        NaN    NaN            NaT          NaT   \n",
              "\n",
              "       Arrival ActualStart ActualEnd  Weight(kg)  Temperature(celcius) Comment  \n",
              "100000     NaT         NaT   average   51.497356             37.140657     NaN  "
            ],
            "text/html": [
              "\n",
              "  <div id=\"df-0fc58d22-f2b7-4063-b243-fcd3179e2ff6\" class=\"colab-df-container\">\n",
              "    <div>\n",
              "<style scoped>\n",
              "    .dataframe tbody tr th:only-of-type {\n",
              "        vertical-align: middle;\n",
              "    }\n",
              "\n",
              "    .dataframe tbody tr th {\n",
              "        vertical-align: top;\n",
              "    }\n",
              "\n",
              "    .dataframe thead th {\n",
              "        text-align: right;\n",
              "    }\n",
              "</style>\n",
              "<table border=\"1\" class=\"dataframe\">\n",
              "  <thead>\n",
              "    <tr style=\"text-align: right;\">\n",
              "      <th></th>\n",
              "      <th>PatientID</th>\n",
              "      <th>DoctorID</th>\n",
              "      <th>BuildingID</th>\n",
              "      <th>RoomID</th>\n",
              "      <th>ScheduledStart</th>\n",
              "      <th>ScheduledEnd</th>\n",
              "      <th>Arrival</th>\n",
              "      <th>ActualStart</th>\n",
              "      <th>ActualEnd</th>\n",
              "      <th>Weight(kg)</th>\n",
              "      <th>Temperature(celcius)</th>\n",
              "      <th>Comment</th>\n",
              "    </tr>\n",
              "  </thead>\n",
              "  <tbody>\n",
              "    <tr>\n",
              "      <th>100000</th>\n",
              "      <td>NaN</td>\n",
              "      <td>NaN</td>\n",
              "      <td>NaN</td>\n",
              "      <td>NaN</td>\n",
              "      <td>NaT</td>\n",
              "      <td>NaT</td>\n",
              "      <td>NaT</td>\n",
              "      <td>NaT</td>\n",
              "      <td>average</td>\n",
              "      <td>51.497356</td>\n",
              "      <td>37.140657</td>\n",
              "      <td>NaN</td>\n",
              "    </tr>\n",
              "  </tbody>\n",
              "</table>\n",
              "</div>\n",
              "    <div class=\"colab-df-buttons\">\n",
              "\n",
              "  <div class=\"colab-df-container\">\n",
              "    <button class=\"colab-df-convert\" onclick=\"convertToInteractive('df-0fc58d22-f2b7-4063-b243-fcd3179e2ff6')\"\n",
              "            title=\"Convert this dataframe to an interactive table.\"\n",
              "            style=\"display:none;\">\n",
              "\n",
              "  <svg xmlns=\"http://www.w3.org/2000/svg\" height=\"24px\" viewBox=\"0 -960 960 960\">\n",
              "    <path d=\"M120-120v-720h720v720H120Zm60-500h600v-160H180v160Zm220 220h160v-160H400v160Zm0 220h160v-160H400v160ZM180-400h160v-160H180v160Zm440 0h160v-160H620v160ZM180-180h160v-160H180v160Zm440 0h160v-160H620v160Z\"/>\n",
              "  </svg>\n",
              "    </button>\n",
              "\n",
              "  <style>\n",
              "    .colab-df-container {\n",
              "      display:flex;\n",
              "      gap: 12px;\n",
              "    }\n",
              "\n",
              "    .colab-df-convert {\n",
              "      background-color: #E8F0FE;\n",
              "      border: none;\n",
              "      border-radius: 50%;\n",
              "      cursor: pointer;\n",
              "      display: none;\n",
              "      fill: #1967D2;\n",
              "      height: 32px;\n",
              "      padding: 0 0 0 0;\n",
              "      width: 32px;\n",
              "    }\n",
              "\n",
              "    .colab-df-convert:hover {\n",
              "      background-color: #E2EBFA;\n",
              "      box-shadow: 0px 1px 2px rgba(60, 64, 67, 0.3), 0px 1px 3px 1px rgba(60, 64, 67, 0.15);\n",
              "      fill: #174EA6;\n",
              "    }\n",
              "\n",
              "    .colab-df-buttons div {\n",
              "      margin-bottom: 4px;\n",
              "    }\n",
              "\n",
              "    [theme=dark] .colab-df-convert {\n",
              "      background-color: #3B4455;\n",
              "      fill: #D2E3FC;\n",
              "    }\n",
              "\n",
              "    [theme=dark] .colab-df-convert:hover {\n",
              "      background-color: #434B5C;\n",
              "      box-shadow: 0px 1px 3px 1px rgba(0, 0, 0, 0.15);\n",
              "      filter: drop-shadow(0px 1px 2px rgba(0, 0, 0, 0.3));\n",
              "      fill: #FFFFFF;\n",
              "    }\n",
              "  </style>\n",
              "\n",
              "    <script>\n",
              "      const buttonEl =\n",
              "        document.querySelector('#df-0fc58d22-f2b7-4063-b243-fcd3179e2ff6 button.colab-df-convert');\n",
              "      buttonEl.style.display =\n",
              "        google.colab.kernel.accessAllowed ? 'block' : 'none';\n",
              "\n",
              "      async function convertToInteractive(key) {\n",
              "        const element = document.querySelector('#df-0fc58d22-f2b7-4063-b243-fcd3179e2ff6');\n",
              "        const dataTable =\n",
              "          await google.colab.kernel.invokeFunction('convertToInteractive',\n",
              "                                                    [key], {});\n",
              "        if (!dataTable) return;\n",
              "\n",
              "        const docLinkHtml = 'Like what you see? Visit the ' +\n",
              "          '<a target=\"_blank\" href=https://colab.research.google.com/notebooks/data_table.ipynb>data table notebook</a>'\n",
              "          + ' to learn more about interactive tables.';\n",
              "        element.innerHTML = '';\n",
              "        dataTable['output_type'] = 'display_data';\n",
              "        await google.colab.output.renderOutput(dataTable, element);\n",
              "        const docLink = document.createElement('div');\n",
              "        docLink.innerHTML = docLinkHtml;\n",
              "        element.appendChild(docLink);\n",
              "      }\n",
              "    </script>\n",
              "  </div>\n",
              "\n",
              "\n",
              "    </div>\n",
              "  </div>\n"
            ],
            "application/vnd.google.colaboratory.intrinsic+json": {
              "type": "dataframe",
              "repr_error": "0"
            }
          },
          "metadata": {},
          "execution_count": 69
        }
      ]
    },
    {
      "cell_type": "markdown",
      "source": [
        "From the analysis above, we observed there is a row with missing data for columns that should never be NULL (such as `PatientID`, `DoctorID`, `BuildingID`, `RoomID`, `ScheduledStart`, and `ScheduledEnd`). This row also contains nulls for some of the specified rows and non-null values for some. Since this row does not conform to the expected data structure and cannot be interpreted meaningfully, **we will remove this anomalous row from the data set** to maintain data quality and integrity.\n"
      ],
      "metadata": {
        "id": "EL07H3jutt8-"
      },
      "id": "EL07H3jutt8-"
    },
    {
      "cell_type": "code",
      "source": [
        "# remove rows where index is in mixed_rows\n",
        "appointment = appointment[~appointment.index.isin(mixed_rows.index)]\n"
      ],
      "metadata": {
        "id": "xrGha_C4tvcS"
      },
      "id": "xrGha_C4tvcS",
      "execution_count": 70,
      "outputs": []
    },
    {
      "cell_type": "markdown",
      "source": [
        "Let us check nulls again."
      ],
      "metadata": {
        "id": "71TJxZyDjoVJ"
      },
      "id": "71TJxZyDjoVJ"
    },
    {
      "cell_type": "code",
      "source": [
        "# Check for null values in each column of the appointment DataFrame\n",
        "null_counts = appointment.isnull().sum()\n",
        "\n",
        "# Display columns with at least one null value\n",
        "null_counts = null_counts[null_counts > 0]\n",
        "\n",
        "print(\"Columns with null values in 'appointment':\")\n",
        "if not null_counts.empty:\n",
        "    print(null_counts)\n",
        "else:\n",
        "    print(\"No null values found in 'appointment'.\")"
      ],
      "metadata": {
        "colab": {
          "base_uri": "https://localhost:8080/"
        },
        "id": "EHb9mlLPjquS",
        "outputId": "45702a33-de19-472f-f4aa-abc501af612a"
      },
      "id": "EHb9mlLPjquS",
      "execution_count": 71,
      "outputs": [
        {
          "output_type": "stream",
          "name": "stdout",
          "text": [
            "Columns with null values in 'appointment':\n",
            "Arrival                 2048\n",
            "ActualStart             2048\n",
            "ActualEnd               2048\n",
            "Weight(kg)              2048\n",
            "Temperature(celcius)    2048\n",
            "Comment                 2048\n",
            "dtype: int64\n"
          ]
        }
      ]
    },
    {
      "cell_type": "markdown",
      "source": [
        "We have successfully removed the row."
      ],
      "metadata": {
        "id": "Ud_qjQOsjsub"
      },
      "id": "Ud_qjQOsjsub"
    },
    {
      "cell_type": "markdown",
      "source": [
        "## Checking for White spaces"
      ],
      "metadata": {
        "id": "gQoni2wZjy5e"
      },
      "id": "gQoni2wZjy5e"
    },
    {
      "cell_type": "code",
      "source": [
        "# Check for leading/trailing whitespace in each string column of the appointment DataFrame\n",
        "for column in appointment.columns:\n",
        "    if appointment[column].dtype == 'object':\n",
        "        has_whitespace = appointment[column].astype(str) != appointment[column].astype(str).str.strip()\n",
        "        result = \"Yes\" if has_whitespace.any() else \"No\"\n",
        "        print(f\"Column '{column}': {result}\")\n"
      ],
      "metadata": {
        "colab": {
          "base_uri": "https://localhost:8080/"
        },
        "id": "iDlHEi8-j2xK",
        "outputId": "4f6c48e9-e6f9-4b4d-89fa-9c5a51515e52"
      },
      "id": "iDlHEi8-j2xK",
      "execution_count": 72,
      "outputs": [
        {
          "output_type": "stream",
          "name": "stdout",
          "text": [
            "Column 'PatientID': No\n",
            "Column 'DoctorID': No\n",
            "Column 'BuildingID': No\n",
            "Column 'RoomID': No\n",
            "Column 'ActualEnd': No\n",
            "Column 'Comment': No\n"
          ]
        }
      ]
    },
    {
      "cell_type": "markdown",
      "source": [
        "## Checking with other datasets\n",
        "---\n"
      ],
      "metadata": {
        "id": "NWr4Sdygtwlw"
      },
      "id": "NWr4Sdygtwlw"
    },
    {
      "cell_type": "markdown",
      "source": [
        "We will clean the white spaces first before comparing."
      ],
      "metadata": {
        "id": "XVrIWxC8Sq1f"
      },
      "id": "XVrIWxC8Sq1f"
    },
    {
      "cell_type": "code",
      "source": [
        "# --- Forward Checks ---\n",
        "print(\"=== Forward Checks (Appointment -> Supporting Datasets) ===\")\n",
        "\n",
        "# Check if PatientID in appointment exists in patient\n",
        "patient_id_check = appointment['PatientID'].isin(patient['PatientID']).all()\n",
        "print(f\"All PatientIDs in appointment are in patient dataset: {patient_id_check}\")\n",
        "\n",
        "# Check if DoctorID in appointment exists in staff\n",
        "doctor_id_check = appointment['DoctorID'].isin(staff['DoctorID']).all()\n",
        "print(f\"All DoctorIDs in appointment are in staff dataset: {doctor_id_check}\")\n",
        "\n",
        "# Check if BuildingID in appointment exists in facility\n",
        "building_id_check = appointment['BuildingID'].isin(facility['BuildingID']).all()\n",
        "print(f\"All BuildingIDs in appointment are in facility dataset: {building_id_check}\")\n",
        "\n",
        "# Check if RoomID in appointment exists in facility\n",
        "room_id_check = appointment['RoomID'].isin(facility['RoomID']).all()\n",
        "print(f\"All RoomIDs in appointment are in facility dataset: {room_id_check}\")\n",
        "\n",
        "# Check if the combined BuildingID and RoomID from appointment exist in facility\n",
        "appointment['BuildingRoom'] = appointment['BuildingID'] + appointment['RoomID']\n",
        "facility['BuildingRoom'] = facility['BuildingID'] + facility['RoomID']\n",
        "building_room_check = appointment['BuildingRoom'].isin(facility['BuildingRoom']).all()\n",
        "print(f\"All BuildingID and RoomID combinations in appointment are in facility: {building_room_check}\")\n",
        "\n",
        "# --- Reverse Checks ---\n",
        "print(\"\\n=== Reverse Checks (Supporting Datasets -> Appointment) ===\")\n",
        "\n",
        "# Check if all PatientIDs in patient are used in appointment\n",
        "patient_id_reverse_check = patient['PatientID'].isin(appointment['PatientID']).all()\n",
        "print(f\"All PatientIDs in patient dataset are used in appointment: {patient_id_reverse_check}\")\n",
        "\n",
        "# Check if all DoctorIDs in staff are used in appointment\n",
        "doctor_id_reverse_check = staff['DoctorID'].isin(appointment['DoctorID']).all()\n",
        "print(f\"All DoctorIDs in staff dataset are used in appointment: {doctor_id_reverse_check}\")\n",
        "\n",
        "# Check if all BuildingIDs in facility are used in appointment\n",
        "building_id_reverse_check = facility['BuildingID'].isin(appointment['BuildingID']).all()\n",
        "print(f\"All BuildingIDs in facility are used in appointment: {building_id_reverse_check}\")\n",
        "\n",
        "# Check if all RoomIDs in facility are used in appointment\n",
        "room_id_reverse_check = facility['RoomID'].isin(appointment['RoomID']).all()\n",
        "print(f\"All RoomIDs in facility are used in appointment: {room_id_reverse_check}\")\n",
        "\n",
        "# Check if all BuildingRoom combinations in facility are used in appointment\n",
        "building_room_reverse_check = facility['BuildingRoom'].isin(appointment['BuildingRoom']).all()\n",
        "print(f\"All BuildingID and RoomID combinations in facility are used in appointment: {building_room_reverse_check}\")\n",
        "\n",
        "# Drop the temporary combined columns\n",
        "appointment.drop(columns=['BuildingRoom'], inplace=True)\n",
        "facility.drop(columns=['BuildingRoom'], inplace=True)\n"
      ],
      "metadata": {
        "id": "PQAa9QEttxpV",
        "colab": {
          "base_uri": "https://localhost:8080/"
        },
        "outputId": "39a49556-f2a7-4dc2-c76b-72d08a9fda04"
      },
      "id": "PQAa9QEttxpV",
      "execution_count": 96,
      "outputs": [
        {
          "output_type": "stream",
          "name": "stdout",
          "text": [
            "=== Forward Checks (Appointment -> Supporting Datasets) ===\n",
            "All PatientIDs in appointment are in patient dataset: True\n",
            "All DoctorIDs in appointment are in staff dataset: True\n",
            "All BuildingIDs in appointment are in facility dataset: False\n",
            "All RoomIDs in appointment are in facility dataset: True\n",
            "All BuildingID and RoomID combinations in appointment are in facility: False\n",
            "\n",
            "=== Reverse Checks (Supporting Datasets -> Appointment) ===\n",
            "All PatientIDs in patient dataset are used in appointment: True\n",
            "All DoctorIDs in staff dataset are used in appointment: False\n",
            "All BuildingIDs in facility are used in appointment: False\n",
            "All RoomIDs in facility are used in appointment: False\n",
            "All BuildingID and RoomID combinations in facility are used in appointment: False\n"
          ]
        }
      ]
    },
    {
      "cell_type": "markdown",
      "source": [
        "Based on our referential integrity checks, we found mismatches between datasets — for example, some DoctorID, BuildingID, and RoomID values are not consistently present across all datasets.\n",
        "To retain as much data as possible, we might need to combine records from both sides rather than strictly filtering based on one primary dataset.\n",
        "\n",
        "While the appointment dataset has the largest number of rows (100,000), our goal is to maximize usable records by merging intelligently and keeping entries that have valid references in either direction wherever appropriate.\n",
        "\n",
        "\n",
        "* **DoctorID** → Use `staff` dataset\n",
        "* **PatientID** → Can use either `appointment` or `patient` datasets\n",
        "* **BuildingID** → Further examination needed\n",
        "* **RoomID** → Use `facility` dataset\n"
      ],
      "metadata": {
        "id": "gBUU70pkdtcC"
      },
      "id": "gBUU70pkdtcC"
    },
    {
      "cell_type": "code",
      "source": [
        "# Filter rows where BuildingID in appointment is NOT in facility\n",
        "building_id_only_in_appointment = appointment[~appointment['BuildingID'].isin(facility['BuildingID'])]\n",
        "\n",
        "# Display full rows\n",
        "print(\"\\nBuildingIDs found only in appointment, not in facility:\")\n",
        "print(building_id_only_in_appointment)\n",
        "\n"
      ],
      "metadata": {
        "colab": {
          "base_uri": "https://localhost:8080/"
        },
        "id": "zTRuNDhyNZyV",
        "outputId": "646c63ca-8d68-4129-ad8e-45b5fd8880c4"
      },
      "id": "zTRuNDhyNZyV",
      "execution_count": 93,
      "outputs": [
        {
          "output_type": "stream",
          "name": "stdout",
          "text": [
            "\n",
            "BuildingIDs found only in appointment, not in facility:\n",
            "      PatientID DoctorID BuildingID RoomID      ScheduledStart  \\\n",
            "44299     P0029    E0015      BB002  R0203 2020-09-13 09:00:00   \n",
            "\n",
            "             ScheduledEnd             Arrival         ActualStart  \\\n",
            "44299 2020-09-13 10:00:00 2020-09-13 09:16:00 2020-09-13 09:16:00   \n",
            "\n",
            "                 ActualEnd  Weight(kg)  Temperature(celcius)  \\\n",
            "44299  2020-09-13 09:38:00        50.5                  38.6   \n",
            "\n",
            "                           Comment  \n",
            "44299  Mobility shows no discharge  \n"
          ]
        }
      ]
    },
    {
      "cell_type": "markdown",
      "source": [
        "This is most likely be inconsistent data. We believe that BB002 should be B0002, but we will examine further."
      ],
      "metadata": {
        "id": "PwWUI64wOVdi"
      },
      "id": "PwWUI64wOVdi"
    },
    {
      "cell_type": "code",
      "source": [
        "# Create combined key for checking\n",
        "appointment['BuildingRoom'] = appointment['BuildingID'] + appointment['RoomID']\n",
        "facility['BuildingRoom'] = facility['BuildingID'] + facility['RoomID']\n",
        "\n",
        "# Check: appointment → facility\n",
        "missing_in_facility = appointment[~appointment['BuildingRoom'].isin(facility['BuildingRoom'])]\n",
        "print(\"Rows in 'appointment' where BuildingID + RoomID is not found in 'facility':\")\n",
        "print(missing_in_facility)\n",
        "\n",
        "# Drop temporary columns\n",
        "appointment.drop(columns=['BuildingRoom'], inplace=True)\n",
        "facility.drop(columns=['BuildingRoom'], inplace=True)\n",
        "\n"
      ],
      "metadata": {
        "colab": {
          "base_uri": "https://localhost:8080/"
        },
        "id": "UmbDV55Fvx8E",
        "outputId": "894d293f-23fb-4af6-eb40-fea5490c6a03"
      },
      "id": "UmbDV55Fvx8E",
      "execution_count": 98,
      "outputs": [
        {
          "output_type": "stream",
          "name": "stdout",
          "text": [
            "Rows in 'appointment' where BuildingID + RoomID is not found in 'facility':\n",
            "      PatientID DoctorID BuildingID RoomID      ScheduledStart  \\\n",
            "44299     P0029    E0015      BB002  R0203 2020-09-13 09:00:00   \n",
            "\n",
            "             ScheduledEnd             Arrival         ActualStart  \\\n",
            "44299 2020-09-13 10:00:00 2020-09-13 09:16:00 2020-09-13 09:16:00   \n",
            "\n",
            "                 ActualEnd  Weight(kg)  Temperature(celcius)  \\\n",
            "44299  2020-09-13 09:38:00        50.5                  38.6   \n",
            "\n",
            "                           Comment BuildingRoom  \n",
            "44299  Mobility shows no discharge   BB002R0203  \n"
          ]
        }
      ]
    },
    {
      "cell_type": "markdown",
      "source": [
        "Now we know the reason why\n",
        "- All BuildingIDs in appointment are in facility dataset: False\n",
        "- All BuildingID and RoomID combinations in appointment are in facility: False"
      ],
      "metadata": {
        "id": "Ra_9xmzwwDP6"
      },
      "id": "Ra_9xmzwwDP6"
    },
    {
      "cell_type": "markdown",
      "source": [
        "- It seems it is beacuse of spelling error where `BBOO2` was inserted instead of `B0002`.\n",
        "- Therefore, we will change it."
      ],
      "metadata": {
        "id": "HU-Vv8oCwad5"
      },
      "id": "HU-Vv8oCwad5"
    },
    {
      "cell_type": "code",
      "source": [
        "# Correct the BuildingID for the specific row\n",
        "appointment.loc[44299, 'BuildingID'] = 'B0002'\n"
      ],
      "metadata": {
        "id": "mqmKh3ImwNWz"
      },
      "id": "mqmKh3ImwNWz",
      "execution_count": 100,
      "outputs": []
    },
    {
      "cell_type": "code",
      "source": [
        "# Check if BuildingID in appointment exists in facility\n",
        "building_id_check = appointment['BuildingID'].isin(facility['BuildingID']).all()\n",
        "print(f\"All BuildingIDs in appointment are in facility dataset: {building_id_check}\")\n",
        "\n",
        "# Check if combined BuildingID + RoomID exists in facility\n",
        "appointment['BuildingRoom'] = appointment['BuildingID'] + appointment['RoomID']\n",
        "facility['BuildingRoom'] = facility['BuildingID'] + facility['RoomID']\n",
        "\n",
        "building_room_check = appointment['BuildingRoom'].isin(facility['BuildingRoom']).all()\n",
        "print(f\"All BuildingID and RoomID combinations in appointment are in facility: {building_room_check}\")\n",
        "\n",
        "# Drop temporary columns\n",
        "appointment.drop(columns=['BuildingRoom'], inplace=True)\n",
        "facility.drop(columns=['BuildingRoom'], inplace=True)\n"
      ],
      "metadata": {
        "colab": {
          "base_uri": "https://localhost:8080/"
        },
        "id": "4mLWnwBZwZBu",
        "outputId": "01057dd3-7032-4271-86d3-5dd911869c03"
      },
      "id": "4mLWnwBZwZBu",
      "execution_count": 101,
      "outputs": [
        {
          "output_type": "stream",
          "name": "stdout",
          "text": [
            "All BuildingIDs in appointment are in facility dataset: True\n",
            "All BuildingID and RoomID combinations in appointment are in facility: True\n"
          ]
        }
      ]
    },
    {
      "cell_type": "markdown",
      "source": [
        "Now, we have verified that facility dataset contains all the buildingId and all the combinations of building id and room id."
      ],
      "metadata": {
        "id": "D_2qrTrewfUQ"
      },
      "id": "D_2qrTrewfUQ"
    },
    {
      "cell_type": "markdown",
      "source": [
        "## Checking for date/time columns\n",
        "---"
      ],
      "metadata": {
        "id": "Yr3TVaX2pFd7"
      },
      "id": "Yr3TVaX2pFd7"
    },
    {
      "cell_type": "code",
      "source": [
        "# Convert 'ActualEnd' to datetime, coercing errors\n",
        "appointment['ActualEnd'] = pd.to_datetime(appointment['ActualEnd'], errors='coerce')\n",
        "\n",
        "\n",
        "# Check for dates outside a reasonable range\n",
        "# Determine a reasonable date range based on ScheduledStart and ScheduledEnd\n",
        "min_scheduled_date = appointment['ScheduledStart'].min()\n",
        "max_scheduled_date = appointment['ScheduledEnd'].max()\n",
        "\n",
        "print(f\"Earliest Scheduled Start Date: {min_scheduled_date}\")\n",
        "print(f\"Latest Scheduled End Date: {max_scheduled_date}\")\n",
        "\n",
        "# Define a buffer period (e.g., 1 year before the earliest scheduled start and 1 year after the latest scheduled end)\n",
        "date_buffer = pd.DateOffset(years=1)\n",
        "earliest_reasonable_date = min_scheduled_date - date_buffer\n",
        "latest_reasonable_date = max_scheduled_date + date_buffer\n",
        "\n",
        "date_columns = ['ScheduledStart', 'ScheduledEnd', 'Arrival', 'ActualStart', 'ActualEnd']\n",
        "\n",
        "for col in date_columns:\n",
        "    # Check for dates before the earliest reasonable date\n",
        "    invalid_earlier_dates = appointment[appointment[col] < earliest_reasonable_date]\n",
        "    if not invalid_earlier_dates.empty:\n",
        "        print(f\"\\nRows with {col} before {earliest_reasonable_date.date()}:\")\n",
        "        display(invalid_earlier_dates)\n",
        "\n",
        "    # Check for dates after the latest reasonable date\n",
        "    invalid_later_dates = appointment[appointment[col] > latest_reasonable_date]\n",
        "    if not invalid_later_dates.empty:\n",
        "        print(f\"\\nRows with {col} after {latest_reasonable_date.date()}:\")\n",
        "        display(invalid_later_dates)\n",
        "\n",
        "    # Check for NaT values (already done by .info(), but can explicitly check if needed)\n",
        "    nat_count = appointment[col].isnull().sum()\n",
        "    if nat_count > 0:\n",
        "        print(f\"\\nNumber of NaT values in {col}: {nat_count}\")\n",
        "\n",
        "# Check if ScheduledEnd is before ScheduledStart\n",
        "invalid_scheduled_times = appointment[appointment['ScheduledEnd'] < appointment['ScheduledStart']]\n",
        "if not invalid_scheduled_times.empty:\n",
        "    print(\"\\nRows where ScheduledEnd is before ScheduledStart:\")\n",
        "    display(invalid_scheduled_times)\n",
        "else:\n",
        "    print(\"\\nAll ScheduledEnd dates are after ScheduledStart dates.\")\n",
        "\n",
        "# Check if ActualStart is before Arrival\n",
        "invalid_arrival_times = appointment[appointment['ActualStart'] < appointment['Arrival']]\n",
        "if not invalid_arrival_times.empty:\n",
        "    print(\"\\nRows where ActualStart is before Arrival:\")\n",
        "    display(invalid_arrival_times)\n",
        "else:\n",
        "    print(\"\\nAll ActualStart dates are after Arrival dates.\")\n",
        "\n",
        "\n",
        "# Check if ActualEnd is before ActualStart (invalid)\n",
        "invalid_actual_times = appointment[appointment['ActualEnd'] < appointment['ActualStart']]\n",
        "if not invalid_actual_times.empty:\n",
        "    print(\"\\nRows where ActualEnd is before ActualStart:\")\n",
        "    display(invalid_actual_times)\n",
        "else:\n",
        "    print(\"\\nAll ActualEnd dates are after ActualStart dates.\")"
      ],
      "metadata": {
        "colab": {
          "base_uri": "https://localhost:8080/"
        },
        "id": "gFcJNyKIpNWE",
        "outputId": "5bfdfe99-2b25-4503-89a1-3ffee82785b2"
      },
      "id": "gFcJNyKIpNWE",
      "execution_count": 102,
      "outputs": [
        {
          "output_type": "stream",
          "name": "stdout",
          "text": [
            "Earliest Scheduled Start Date: 2020-01-01 09:00:00\n",
            "Latest Scheduled End Date: 2024-12-31 17:00:00\n",
            "\n",
            "Number of NaT values in Arrival: 2048\n",
            "\n",
            "Number of NaT values in ActualStart: 2048\n",
            "\n",
            "Number of NaT values in ActualEnd: 2048\n",
            "\n",
            "All ScheduledEnd dates are after ScheduledStart dates.\n",
            "\n",
            "All ActualStart dates are after Arrival dates.\n",
            "\n",
            "All ActualEnd dates are after ActualStart dates.\n"
          ]
        }
      ]
    },
    {
      "cell_type": "markdown",
      "source": [
        "## Checking for numerical columns\n",
        "---"
      ],
      "metadata": {
        "id": "jdNweHnwXiO_"
      },
      "id": "jdNweHnwXiO_"
    },
    {
      "cell_type": "code",
      "source": [
        "# Check data types for Weight(kg) and Temperature(celcius)\n",
        "print(\"Data types:\")\n",
        "print(appointment[['Weight(kg)', 'Temperature(celcius)']].dtypes)\n",
        "\n",
        "\n",
        "\n",
        "# Check for viable weight range (e.g., > 0 and within a reasonable upper limit)\n",
        "# Define a reasonable range (these are examples and might need adjustment based on context)\n",
        "min_weight = 0\n",
        "max_weight = 500 # Assuming weight is in kg, 500 kg is a generous upper limit\n",
        "\n",
        "invalid_weight = appointment[(appointment['Weight(kg)'] <= min_weight) | (appointment['Weight(kg)'] > max_weight)]\n",
        "if not invalid_weight.empty:\n",
        "    print(f\"\\nRows with Weight(kg) outside the range ({min_weight}kg - {max_weight}kg):\")\n",
        "    display(invalid_weight)\n",
        "else:\n",
        "    print(f\"\\nAll Weight(kg) values are within the viable range ({min_weight}kg - {max_weight}kg).\")\n",
        "\n",
        "# Check for viable temperature range (e.g., typically human body temperature range)\n",
        "# Define a reasonable range in Celsius\n",
        "min_temp = 30 # Assuming a very low body temperature\n",
        "max_temp = 45 # Assuming a very high fever\n",
        "\n",
        "invalid_temp = appointment[(appointment['Temperature(celcius)'] < min_temp) | (appointment['Temperature(celcius)'] > max_temp)]\n",
        "if not invalid_temp.empty:\n",
        "    print(f\"\\nRows with Temperature(celcius) outside the range ({min_temp}°C - {max_temp}°C):\")\n",
        "    display(invalid_temp)\n",
        "else:\n",
        "    print(f\"\\nAll Temperature(celcius) values are within the viable range ({min_temp}°C - {max_temp}°C).\")\n",
        "\n",
        "# Check for nulls in these columns (already done by .info(), but good to reiterate)\n",
        "print(\"\\nNull counts for Weight(kg) and Temperature(celcius):\")\n",
        "print(appointment[['Weight(kg)', 'Temperature(celcius)']].isnull().sum())"
      ],
      "metadata": {
        "colab": {
          "base_uri": "https://localhost:8080/"
        },
        "id": "TYBllMSXXiv5",
        "outputId": "8dfcd539-f137-4578-a1b5-1b45ffb536f7"
      },
      "id": "TYBllMSXXiv5",
      "execution_count": 103,
      "outputs": [
        {
          "output_type": "stream",
          "name": "stdout",
          "text": [
            "Data types:\n",
            "Weight(kg)              float64\n",
            "Temperature(celcius)    float64\n",
            "dtype: object\n",
            "\n",
            "All Weight(kg) values are within the viable range (0kg - 500kg).\n",
            "\n",
            "All Temperature(celcius) values are within the viable range (30°C - 45°C).\n",
            "\n",
            "Null counts for Weight(kg) and Temperature(celcius):\n",
            "Weight(kg)              2048\n",
            "Temperature(celcius)    2048\n",
            "dtype: int64\n"
          ]
        }
      ]
    },
    {
      "cell_type": "markdown",
      "source": [
        "## Checking for \"Comment\" column\n",
        "---"
      ],
      "metadata": {
        "id": "C6jsDmdkXkEA"
      },
      "id": "C6jsDmdkXkEA"
    },
    {
      "cell_type": "code",
      "source": [
        "# Check data type of the 'Comment' column\n",
        "print(\"Data type of 'Comment' column:\")\n",
        "display(appointment['Comment'].dtype)\n",
        "\n",
        "# Check for null values in 'Comment'\n",
        "null_comments_count = appointment['Comment'].isnull().sum()\n",
        "print(f\"\\nNumber of null comments: {null_comments_count}\")\n",
        "\n",
        "# Check for non-string data types in 'Comment' (if the dtype is object)\n",
        "if appointment['Comment'].dtype == 'object':\n",
        "    non_string_comments = appointment[appointment['Comment'].apply(lambda x: not isinstance(x, str) and pd.notna(x))]\n",
        "    if not non_string_comments.empty:\n",
        "        print(\"\\nRows with non-string comments:\")\n",
        "        display(non_string_comments)\n",
        "    else:\n",
        "        print(\"\\nAll non-null comments are strings.\")"
      ],
      "metadata": {
        "colab": {
          "base_uri": "https://localhost:8080/",
          "height": 124
        },
        "id": "LG29bpqDXljp",
        "outputId": "d45d422b-c99f-4e50-a8bf-dfd4b115e4d5"
      },
      "id": "LG29bpqDXljp",
      "execution_count": null,
      "outputs": [
        {
          "output_type": "stream",
          "name": "stdout",
          "text": [
            "Data type of 'Comment' column:\n"
          ]
        },
        {
          "output_type": "display_data",
          "data": {
            "text/plain": [
              "dtype('O')"
            ]
          },
          "metadata": {}
        },
        {
          "output_type": "stream",
          "name": "stdout",
          "text": [
            "\n",
            "Number of null comments: 2048\n",
            "\n",
            "All non-null comments are strings.\n"
          ]
        }
      ]
    },
    {
      "cell_type": "markdown",
      "id": "e75346dc",
      "metadata": {
        "id": "e75346dc"
      },
      "source": [
        "# Patient Data Analysis and Cleaning\n",
        "---"
      ]
    },
    {
      "cell_type": "code",
      "source": [
        "patient.head()"
      ],
      "metadata": {
        "colab": {
          "base_uri": "https://localhost:8080/",
          "height": 293
        },
        "id": "XNOyGXevT575",
        "outputId": "6c3f2bd1-db74-4247-80f1-1f1985c82ba6"
      },
      "id": "XNOyGXevT575",
      "execution_count": 84,
      "outputs": [
        {
          "output_type": "execute_result",
          "data": {
            "text/plain": [
              "  PatientID            Name     Sex   Contact                        email  \\\n",
              "0     P0001    Kelsey Moore  female  39472495       kelsey.moore@gmail.com   \n",
              "1     P0002   William Perry    male  15351117    william.perry@hotmail.com   \n",
              "2     P0003  Nicholas Jones    male  56648257     nicholas.jones@yahoo.com   \n",
              "3     P0004   Theresa Smith  female  45807263    theresa.smith@outlook.com   \n",
              "4     P0005    Tara Kennedy  female  84234563  tara.kennedy@protonmail.com   \n",
              "\n",
              "                                             Address        DOB  \n",
              "0  34892 Christopher Crossing, South Brooke, NH 1... 1997-05-05  \n",
              "1  94501 Bell Islands Suite 485, New Jessica, NJ ... 2007-06-06  \n",
              "2  8841 Lewis Parkways Apt. 040, South Kristen, I... 1975-12-04  \n",
              "3          271 Jeffrey Freeway, Willisbury, ME 39487 1997-09-14  \n",
              "4    64128 Rick Coves Apt. 284, Lake James, NJ 51964 2011-02-22  "
            ],
            "text/html": [
              "\n",
              "  <div id=\"df-d8e2474c-5b76-45b0-bd6d-598210075954\" class=\"colab-df-container\">\n",
              "    <div>\n",
              "<style scoped>\n",
              "    .dataframe tbody tr th:only-of-type {\n",
              "        vertical-align: middle;\n",
              "    }\n",
              "\n",
              "    .dataframe tbody tr th {\n",
              "        vertical-align: top;\n",
              "    }\n",
              "\n",
              "    .dataframe thead th {\n",
              "        text-align: right;\n",
              "    }\n",
              "</style>\n",
              "<table border=\"1\" class=\"dataframe\">\n",
              "  <thead>\n",
              "    <tr style=\"text-align: right;\">\n",
              "      <th></th>\n",
              "      <th>PatientID</th>\n",
              "      <th>Name</th>\n",
              "      <th>Sex</th>\n",
              "      <th>Contact</th>\n",
              "      <th>email</th>\n",
              "      <th>Address</th>\n",
              "      <th>DOB</th>\n",
              "    </tr>\n",
              "  </thead>\n",
              "  <tbody>\n",
              "    <tr>\n",
              "      <th>0</th>\n",
              "      <td>P0001</td>\n",
              "      <td>Kelsey Moore</td>\n",
              "      <td>female</td>\n",
              "      <td>39472495</td>\n",
              "      <td>kelsey.moore@gmail.com</td>\n",
              "      <td>34892 Christopher Crossing, South Brooke, NH 1...</td>\n",
              "      <td>1997-05-05</td>\n",
              "    </tr>\n",
              "    <tr>\n",
              "      <th>1</th>\n",
              "      <td>P0002</td>\n",
              "      <td>William Perry</td>\n",
              "      <td>male</td>\n",
              "      <td>15351117</td>\n",
              "      <td>william.perry@hotmail.com</td>\n",
              "      <td>94501 Bell Islands Suite 485, New Jessica, NJ ...</td>\n",
              "      <td>2007-06-06</td>\n",
              "    </tr>\n",
              "    <tr>\n",
              "      <th>2</th>\n",
              "      <td>P0003</td>\n",
              "      <td>Nicholas Jones</td>\n",
              "      <td>male</td>\n",
              "      <td>56648257</td>\n",
              "      <td>nicholas.jones@yahoo.com</td>\n",
              "      <td>8841 Lewis Parkways Apt. 040, South Kristen, I...</td>\n",
              "      <td>1975-12-04</td>\n",
              "    </tr>\n",
              "    <tr>\n",
              "      <th>3</th>\n",
              "      <td>P0004</td>\n",
              "      <td>Theresa Smith</td>\n",
              "      <td>female</td>\n",
              "      <td>45807263</td>\n",
              "      <td>theresa.smith@outlook.com</td>\n",
              "      <td>271 Jeffrey Freeway, Willisbury, ME 39487</td>\n",
              "      <td>1997-09-14</td>\n",
              "    </tr>\n",
              "    <tr>\n",
              "      <th>4</th>\n",
              "      <td>P0005</td>\n",
              "      <td>Tara Kennedy</td>\n",
              "      <td>female</td>\n",
              "      <td>84234563</td>\n",
              "      <td>tara.kennedy@protonmail.com</td>\n",
              "      <td>64128 Rick Coves Apt. 284, Lake James, NJ 51964</td>\n",
              "      <td>2011-02-22</td>\n",
              "    </tr>\n",
              "  </tbody>\n",
              "</table>\n",
              "</div>\n",
              "    <div class=\"colab-df-buttons\">\n",
              "\n",
              "  <div class=\"colab-df-container\">\n",
              "    <button class=\"colab-df-convert\" onclick=\"convertToInteractive('df-d8e2474c-5b76-45b0-bd6d-598210075954')\"\n",
              "            title=\"Convert this dataframe to an interactive table.\"\n",
              "            style=\"display:none;\">\n",
              "\n",
              "  <svg xmlns=\"http://www.w3.org/2000/svg\" height=\"24px\" viewBox=\"0 -960 960 960\">\n",
              "    <path d=\"M120-120v-720h720v720H120Zm60-500h600v-160H180v160Zm220 220h160v-160H400v160Zm0 220h160v-160H400v160ZM180-400h160v-160H180v160Zm440 0h160v-160H620v160ZM180-180h160v-160H180v160Zm440 0h160v-160H620v160Z\"/>\n",
              "  </svg>\n",
              "    </button>\n",
              "\n",
              "  <style>\n",
              "    .colab-df-container {\n",
              "      display:flex;\n",
              "      gap: 12px;\n",
              "    }\n",
              "\n",
              "    .colab-df-convert {\n",
              "      background-color: #E8F0FE;\n",
              "      border: none;\n",
              "      border-radius: 50%;\n",
              "      cursor: pointer;\n",
              "      display: none;\n",
              "      fill: #1967D2;\n",
              "      height: 32px;\n",
              "      padding: 0 0 0 0;\n",
              "      width: 32px;\n",
              "    }\n",
              "\n",
              "    .colab-df-convert:hover {\n",
              "      background-color: #E2EBFA;\n",
              "      box-shadow: 0px 1px 2px rgba(60, 64, 67, 0.3), 0px 1px 3px 1px rgba(60, 64, 67, 0.15);\n",
              "      fill: #174EA6;\n",
              "    }\n",
              "\n",
              "    .colab-df-buttons div {\n",
              "      margin-bottom: 4px;\n",
              "    }\n",
              "\n",
              "    [theme=dark] .colab-df-convert {\n",
              "      background-color: #3B4455;\n",
              "      fill: #D2E3FC;\n",
              "    }\n",
              "\n",
              "    [theme=dark] .colab-df-convert:hover {\n",
              "      background-color: #434B5C;\n",
              "      box-shadow: 0px 1px 3px 1px rgba(0, 0, 0, 0.15);\n",
              "      filter: drop-shadow(0px 1px 2px rgba(0, 0, 0, 0.3));\n",
              "      fill: #FFFFFF;\n",
              "    }\n",
              "  </style>\n",
              "\n",
              "    <script>\n",
              "      const buttonEl =\n",
              "        document.querySelector('#df-d8e2474c-5b76-45b0-bd6d-598210075954 button.colab-df-convert');\n",
              "      buttonEl.style.display =\n",
              "        google.colab.kernel.accessAllowed ? 'block' : 'none';\n",
              "\n",
              "      async function convertToInteractive(key) {\n",
              "        const element = document.querySelector('#df-d8e2474c-5b76-45b0-bd6d-598210075954');\n",
              "        const dataTable =\n",
              "          await google.colab.kernel.invokeFunction('convertToInteractive',\n",
              "                                                    [key], {});\n",
              "        if (!dataTable) return;\n",
              "\n",
              "        const docLinkHtml = 'Like what you see? Visit the ' +\n",
              "          '<a target=\"_blank\" href=https://colab.research.google.com/notebooks/data_table.ipynb>data table notebook</a>'\n",
              "          + ' to learn more about interactive tables.';\n",
              "        element.innerHTML = '';\n",
              "        dataTable['output_type'] = 'display_data';\n",
              "        await google.colab.output.renderOutput(dataTable, element);\n",
              "        const docLink = document.createElement('div');\n",
              "        docLink.innerHTML = docLinkHtml;\n",
              "        element.appendChild(docLink);\n",
              "      }\n",
              "    </script>\n",
              "  </div>\n",
              "\n",
              "\n",
              "    <div id=\"df-2d086475-654f-4301-972b-21061eb27344\">\n",
              "      <button class=\"colab-df-quickchart\" onclick=\"quickchart('df-2d086475-654f-4301-972b-21061eb27344')\"\n",
              "                title=\"Suggest charts\"\n",
              "                style=\"display:none;\">\n",
              "\n",
              "<svg xmlns=\"http://www.w3.org/2000/svg\" height=\"24px\"viewBox=\"0 0 24 24\"\n",
              "     width=\"24px\">\n",
              "    <g>\n",
              "        <path d=\"M19 3H5c-1.1 0-2 .9-2 2v14c0 1.1.9 2 2 2h14c1.1 0 2-.9 2-2V5c0-1.1-.9-2-2-2zM9 17H7v-7h2v7zm4 0h-2V7h2v10zm4 0h-2v-4h2v4z\"/>\n",
              "    </g>\n",
              "</svg>\n",
              "      </button>\n",
              "\n",
              "<style>\n",
              "  .colab-df-quickchart {\n",
              "      --bg-color: #E8F0FE;\n",
              "      --fill-color: #1967D2;\n",
              "      --hover-bg-color: #E2EBFA;\n",
              "      --hover-fill-color: #174EA6;\n",
              "      --disabled-fill-color: #AAA;\n",
              "      --disabled-bg-color: #DDD;\n",
              "  }\n",
              "\n",
              "  [theme=dark] .colab-df-quickchart {\n",
              "      --bg-color: #3B4455;\n",
              "      --fill-color: #D2E3FC;\n",
              "      --hover-bg-color: #434B5C;\n",
              "      --hover-fill-color: #FFFFFF;\n",
              "      --disabled-bg-color: #3B4455;\n",
              "      --disabled-fill-color: #666;\n",
              "  }\n",
              "\n",
              "  .colab-df-quickchart {\n",
              "    background-color: var(--bg-color);\n",
              "    border: none;\n",
              "    border-radius: 50%;\n",
              "    cursor: pointer;\n",
              "    display: none;\n",
              "    fill: var(--fill-color);\n",
              "    height: 32px;\n",
              "    padding: 0;\n",
              "    width: 32px;\n",
              "  }\n",
              "\n",
              "  .colab-df-quickchart:hover {\n",
              "    background-color: var(--hover-bg-color);\n",
              "    box-shadow: 0 1px 2px rgba(60, 64, 67, 0.3), 0 1px 3px 1px rgba(60, 64, 67, 0.15);\n",
              "    fill: var(--button-hover-fill-color);\n",
              "  }\n",
              "\n",
              "  .colab-df-quickchart-complete:disabled,\n",
              "  .colab-df-quickchart-complete:disabled:hover {\n",
              "    background-color: var(--disabled-bg-color);\n",
              "    fill: var(--disabled-fill-color);\n",
              "    box-shadow: none;\n",
              "  }\n",
              "\n",
              "  .colab-df-spinner {\n",
              "    border: 2px solid var(--fill-color);\n",
              "    border-color: transparent;\n",
              "    border-bottom-color: var(--fill-color);\n",
              "    animation:\n",
              "      spin 1s steps(1) infinite;\n",
              "  }\n",
              "\n",
              "  @keyframes spin {\n",
              "    0% {\n",
              "      border-color: transparent;\n",
              "      border-bottom-color: var(--fill-color);\n",
              "      border-left-color: var(--fill-color);\n",
              "    }\n",
              "    20% {\n",
              "      border-color: transparent;\n",
              "      border-left-color: var(--fill-color);\n",
              "      border-top-color: var(--fill-color);\n",
              "    }\n",
              "    30% {\n",
              "      border-color: transparent;\n",
              "      border-left-color: var(--fill-color);\n",
              "      border-top-color: var(--fill-color);\n",
              "      border-right-color: var(--fill-color);\n",
              "    }\n",
              "    40% {\n",
              "      border-color: transparent;\n",
              "      border-right-color: var(--fill-color);\n",
              "      border-top-color: var(--fill-color);\n",
              "    }\n",
              "    60% {\n",
              "      border-color: transparent;\n",
              "      border-right-color: var(--fill-color);\n",
              "    }\n",
              "    80% {\n",
              "      border-color: transparent;\n",
              "      border-right-color: var(--fill-color);\n",
              "      border-bottom-color: var(--fill-color);\n",
              "    }\n",
              "    90% {\n",
              "      border-color: transparent;\n",
              "      border-bottom-color: var(--fill-color);\n",
              "    }\n",
              "  }\n",
              "</style>\n",
              "\n",
              "      <script>\n",
              "        async function quickchart(key) {\n",
              "          const quickchartButtonEl =\n",
              "            document.querySelector('#' + key + ' button');\n",
              "          quickchartButtonEl.disabled = true;  // To prevent multiple clicks.\n",
              "          quickchartButtonEl.classList.add('colab-df-spinner');\n",
              "          try {\n",
              "            const charts = await google.colab.kernel.invokeFunction(\n",
              "                'suggestCharts', [key], {});\n",
              "          } catch (error) {\n",
              "            console.error('Error during call to suggestCharts:', error);\n",
              "          }\n",
              "          quickchartButtonEl.classList.remove('colab-df-spinner');\n",
              "          quickchartButtonEl.classList.add('colab-df-quickchart-complete');\n",
              "        }\n",
              "        (() => {\n",
              "          let quickchartButtonEl =\n",
              "            document.querySelector('#df-2d086475-654f-4301-972b-21061eb27344 button');\n",
              "          quickchartButtonEl.style.display =\n",
              "            google.colab.kernel.accessAllowed ? 'block' : 'none';\n",
              "        })();\n",
              "      </script>\n",
              "    </div>\n",
              "\n",
              "    </div>\n",
              "  </div>\n"
            ],
            "application/vnd.google.colaboratory.intrinsic+json": {
              "type": "dataframe",
              "variable_name": "patient",
              "summary": "{\n  \"name\": \"patient\",\n  \"rows\": 1000,\n  \"fields\": [\n    {\n      \"column\": \"PatientID\",\n      \"properties\": {\n        \"dtype\": \"string\",\n        \"num_unique_values\": 1000,\n        \"samples\": [\n          \"P0522\",\n          \"P0738\",\n          \"P0741\"\n        ],\n        \"semantic_type\": \"\",\n        \"description\": \"\"\n      }\n    },\n    {\n      \"column\": \"Name\",\n      \"properties\": {\n        \"dtype\": \"string\",\n        \"num_unique_values\": 990,\n        \"samples\": [\n          \"Laura Chambers\",\n          \"Timothy Wilkerson\",\n          \"Lynn Garza\"\n        ],\n        \"semantic_type\": \"\",\n        \"description\": \"\"\n      }\n    },\n    {\n      \"column\": \"Sex\",\n      \"properties\": {\n        \"dtype\": \"category\",\n        \"num_unique_values\": 2,\n        \"samples\": [\n          \"male\",\n          \"female\"\n        ],\n        \"semantic_type\": \"\",\n        \"description\": \"\"\n      }\n    },\n    {\n      \"column\": \"Contact\",\n      \"properties\": {\n        \"dtype\": \"number\",\n        \"std\": 25671336,\n        \"min\": 10035298,\n        \"max\": 99993941,\n        \"num_unique_values\": 1000,\n        \"samples\": [\n          22317387,\n          38839992\n        ],\n        \"semantic_type\": \"\",\n        \"description\": \"\"\n      }\n    },\n    {\n      \"column\": \"email\",\n      \"properties\": {\n        \"dtype\": \"string\",\n        \"num_unique_values\": 1000,\n        \"samples\": [\n          \"john.white@hotmail.com\",\n          \"wendy.jennings@outlook.com\"\n        ],\n        \"semantic_type\": \"\",\n        \"description\": \"\"\n      }\n    },\n    {\n      \"column\": \"Address\",\n      \"properties\": {\n        \"dtype\": \"string\",\n        \"num_unique_values\": 1000,\n        \"samples\": [\n          \"7735 Smith Cliffs Suite 247, New Stephanieview, PA 03542\",\n          \"64064 Gregory Extension Suite 041, Lake Christopher, LA 61604\"\n        ],\n        \"semantic_type\": \"\",\n        \"description\": \"\"\n      }\n    },\n    {\n      \"column\": \"DOB\",\n      \"properties\": {\n        \"dtype\": \"date\",\n        \"min\": \"1944-06-01 00:00:00\",\n        \"max\": \"2019-03-30 00:00:00\",\n        \"num_unique_values\": 971,\n        \"samples\": [\n          \"1960-04-29 00:00:00\",\n          \"2007-12-25 00:00:00\"\n        ],\n        \"semantic_type\": \"\",\n        \"description\": \"\"\n      }\n    }\n  ]\n}"
            }
          },
          "metadata": {},
          "execution_count": 84
        }
      ]
    },
    {
      "cell_type": "code",
      "source": [
        "patient.info()"
      ],
      "metadata": {
        "colab": {
          "base_uri": "https://localhost:8080/"
        },
        "id": "9UKsTJfQssyL",
        "outputId": "ae19d7e3-d1f8-43ec-cde2-f8b320e0296a"
      },
      "id": "9UKsTJfQssyL",
      "execution_count": 85,
      "outputs": [
        {
          "output_type": "stream",
          "name": "stdout",
          "text": [
            "<class 'pandas.core.frame.DataFrame'>\n",
            "RangeIndex: 1000 entries, 0 to 999\n",
            "Data columns (total 7 columns):\n",
            " #   Column     Non-Null Count  Dtype         \n",
            "---  ------     --------------  -----         \n",
            " 0   PatientID  1000 non-null   object        \n",
            " 1   Name       1000 non-null   object        \n",
            " 2   Sex        1000 non-null   object        \n",
            " 3   Contact    1000 non-null   int64         \n",
            " 4   email      1000 non-null   object        \n",
            " 5   Address    1000 non-null   object        \n",
            " 6   DOB        1000 non-null   datetime64[ns]\n",
            "dtypes: datetime64[ns](1), int64(1), object(5)\n",
            "memory usage: 54.8+ KB\n"
          ]
        }
      ]
    },
    {
      "cell_type": "markdown",
      "source": [
        "It seems all the columns are of correct data types and free of null values."
      ],
      "metadata": {
        "id": "G3g3txhVsx73"
      },
      "id": "G3g3txhVsx73"
    },
    {
      "cell_type": "markdown",
      "source": [
        "## Checking for Duplicate Rows"
      ],
      "metadata": {
        "id": "v_GOUPZYszBZ"
      },
      "id": "v_GOUPZYszBZ"
    },
    {
      "cell_type": "code",
      "source": [
        "# # Check for fully duplicate rows in the staff DataFrame\n",
        "duplicate_rows = patient.duplicated()\n",
        "num_duplicates = duplicate_rows.sum()\n",
        "\n",
        "print(f\"\\nNumber of duplicate rows found in 'patient': {num_duplicates}\")\n",
        "\n",
        "# If duplicates exist, display them\n",
        "if num_duplicates > 0:\n",
        "    print(\"\\nHere are the duplicate rows:\")\n",
        "    # Show all occurrences of the duplicates\n",
        "    print(patient[patient.duplicated(keep=False)])\n",
        "else:\n",
        "    print(\"There are no duplicate rows in the 'patient' dataset.\")"
      ],
      "metadata": {
        "colab": {
          "base_uri": "https://localhost:8080/"
        },
        "id": "q8NwPIrKT-2Q",
        "outputId": "8beb36a4-ff91-429e-a59d-4663fe60d2b3"
      },
      "id": "q8NwPIrKT-2Q",
      "execution_count": 87,
      "outputs": [
        {
          "output_type": "stream",
          "name": "stdout",
          "text": [
            "\n",
            "Number of duplicate rows found in 'patient': 0\n",
            "There are no duplicate rows in the 'patient' dataset.\n"
          ]
        }
      ]
    },
    {
      "cell_type": "markdown",
      "source": [
        "## Checking for Nulls"
      ],
      "metadata": {
        "id": "cz-uLKPvtJq7"
      },
      "id": "cz-uLKPvtJq7"
    },
    {
      "cell_type": "code",
      "source": [
        "# Check for null values in each column\n",
        "null_counts = patient.isnull().sum()\n",
        "\n",
        "# Display columns with at least one null value\n",
        "null_counts = null_counts[null_counts > 0]\n",
        "\n",
        "print(\"Columns with null values:\")\n",
        "if not null_counts.empty:\n",
        "    print(null_counts)\n",
        "else:\n",
        "    print(\"No null values found.\")"
      ],
      "metadata": {
        "colab": {
          "base_uri": "https://localhost:8080/"
        },
        "id": "mYaT11b_tHTe",
        "outputId": "41a750af-9a13-4147-a87e-1dba4d97e984"
      },
      "id": "mYaT11b_tHTe",
      "execution_count": 88,
      "outputs": [
        {
          "output_type": "stream",
          "name": "stdout",
          "text": [
            "Columns with null values:\n",
            "No null values found.\n"
          ]
        }
      ]
    },
    {
      "cell_type": "markdown",
      "source": [
        "## Checking for White spaces"
      ],
      "metadata": {
        "id": "EO-2vS59tQRm"
      },
      "id": "EO-2vS59tQRm"
    },
    {
      "cell_type": "code",
      "source": [
        "# Check for leading/trailing whitespace in each string column\n",
        "for column in patient.columns:\n",
        "    if patient[column].dtype == 'object':\n",
        "        has_whitespace = patient[column].astype(str) != patient[column].astype(str).str.strip()\n",
        "        result = \"Yes\" if has_whitespace.any() else \"No\"\n",
        "        print(f\"Column '{column}': {result}\")"
      ],
      "metadata": {
        "colab": {
          "base_uri": "https://localhost:8080/"
        },
        "id": "-hIwS3P6tP1Q",
        "outputId": "a847d20d-ffd0-4ccb-ad84-cddc3c8e0806"
      },
      "id": "-hIwS3P6tP1Q",
      "execution_count": 89,
      "outputs": [
        {
          "output_type": "stream",
          "name": "stdout",
          "text": [
            "Column 'PatientID': No\n",
            "Column 'Name': No\n",
            "Column 'Sex': No\n",
            "Column 'email': No\n",
            "Column 'Address': No\n"
          ]
        }
      ]
    },
    {
      "cell_type": "markdown",
      "source": [
        "All the entries do not contain extra white spaces."
      ],
      "metadata": {
        "id": "Kin9RaDEtYgN"
      },
      "id": "Kin9RaDEtYgN"
    },
    {
      "cell_type": "markdown",
      "source": [
        "## Checking for Categorical Columns"
      ],
      "metadata": {
        "id": "RM7gGc4QteGz"
      },
      "id": "RM7gGc4QteGz"
    },
    {
      "cell_type": "code",
      "source": [
        "print(\"Count of Unique Values in Each Column:\")\n",
        "\n",
        "for column in patient.columns:\n",
        "    unique_count = patient[column].nunique()\n",
        "    print(f\"Column: '{column}' → {unique_count} unique value(s)\")"
      ],
      "metadata": {
        "colab": {
          "base_uri": "https://localhost:8080/"
        },
        "id": "QHB_1D-AtlWb",
        "outputId": "d7c05998-0354-4504-d8b0-ad7ed5116794"
      },
      "id": "QHB_1D-AtlWb",
      "execution_count": 90,
      "outputs": [
        {
          "output_type": "stream",
          "name": "stdout",
          "text": [
            "Count of Unique Values in Each Column:\n",
            "Column: 'PatientID' → 1000 unique value(s)\n",
            "Column: 'Name' → 990 unique value(s)\n",
            "Column: 'Sex' → 2 unique value(s)\n",
            "Column: 'Contact' → 1000 unique value(s)\n",
            "Column: 'email' → 1000 unique value(s)\n",
            "Column: 'Address' → 1000 unique value(s)\n",
            "Column: 'DOB' → 971 unique value(s)\n"
          ]
        }
      ]
    },
    {
      "cell_type": "markdown",
      "source": [
        "The result makes sense, since `PatientID` has 1000 unique values."
      ],
      "metadata": {
        "id": "Dmq4uHk7tqM0"
      },
      "id": "Dmq4uHk7tqM0"
    },
    {
      "cell_type": "markdown",
      "source": [
        "Let us examine some of the columns further."
      ],
      "metadata": {
        "id": "ToyFtTkEt1dZ"
      },
      "id": "ToyFtTkEt1dZ"
    },
    {
      "cell_type": "code",
      "source": [
        "# Check unique values in the 'Sex' column of the patient DataFrame\n",
        "unique_sex_values = patient['Sex'].unique()\n",
        "\n",
        "print(\"Unique values in the 'Sex' column of the patient DataFrame:\")\n",
        "print(unique_sex_values)"
      ],
      "metadata": {
        "colab": {
          "base_uri": "https://localhost:8080/"
        },
        "id": "566v64EuUXH8",
        "outputId": "bd9f8d70-a20e-4dcf-f0c6-813c3176dbb4"
      },
      "id": "566v64EuUXH8",
      "execution_count": 91,
      "outputs": [
        {
          "output_type": "stream",
          "name": "stdout",
          "text": [
            "Unique values in the 'Sex' column of the patient DataFrame:\n",
            "['female' 'male']\n"
          ]
        }
      ]
    },
    {
      "cell_type": "markdown",
      "source": [
        "Based on the OLTP given statements, we will change \"male\" to \"m\" and \"female\" to \"f\"."
      ],
      "metadata": {
        "id": "YdpWu4U6rd7q"
      },
      "id": "YdpWu4U6rd7q"
    },
    {
      "cell_type": "code",
      "source": [
        "patient['Sex'] = patient['Sex'].replace({'male': 'm', 'female': 'f'})\n",
        "display(patient.head())"
      ],
      "metadata": {
        "id": "BNjx0qOyep-v",
        "colab": {
          "base_uri": "https://localhost:8080/",
          "height": 293
        },
        "outputId": "5ea7fa84-32e3-4e4f-a699-4a70b61d95e3"
      },
      "id": "BNjx0qOyep-v",
      "execution_count": 92,
      "outputs": [
        {
          "output_type": "display_data",
          "data": {
            "text/plain": [
              "  PatientID            Name Sex   Contact                        email  \\\n",
              "0     P0001    Kelsey Moore   f  39472495       kelsey.moore@gmail.com   \n",
              "1     P0002   William Perry   m  15351117    william.perry@hotmail.com   \n",
              "2     P0003  Nicholas Jones   m  56648257     nicholas.jones@yahoo.com   \n",
              "3     P0004   Theresa Smith   f  45807263    theresa.smith@outlook.com   \n",
              "4     P0005    Tara Kennedy   f  84234563  tara.kennedy@protonmail.com   \n",
              "\n",
              "                                             Address        DOB  \n",
              "0  34892 Christopher Crossing, South Brooke, NH 1... 1997-05-05  \n",
              "1  94501 Bell Islands Suite 485, New Jessica, NJ ... 2007-06-06  \n",
              "2  8841 Lewis Parkways Apt. 040, South Kristen, I... 1975-12-04  \n",
              "3          271 Jeffrey Freeway, Willisbury, ME 39487 1997-09-14  \n",
              "4    64128 Rick Coves Apt. 284, Lake James, NJ 51964 2011-02-22  "
            ],
            "text/html": [
              "\n",
              "  <div id=\"df-aef7a741-baa1-4b4b-8670-2d1ba4944d73\" class=\"colab-df-container\">\n",
              "    <div>\n",
              "<style scoped>\n",
              "    .dataframe tbody tr th:only-of-type {\n",
              "        vertical-align: middle;\n",
              "    }\n",
              "\n",
              "    .dataframe tbody tr th {\n",
              "        vertical-align: top;\n",
              "    }\n",
              "\n",
              "    .dataframe thead th {\n",
              "        text-align: right;\n",
              "    }\n",
              "</style>\n",
              "<table border=\"1\" class=\"dataframe\">\n",
              "  <thead>\n",
              "    <tr style=\"text-align: right;\">\n",
              "      <th></th>\n",
              "      <th>PatientID</th>\n",
              "      <th>Name</th>\n",
              "      <th>Sex</th>\n",
              "      <th>Contact</th>\n",
              "      <th>email</th>\n",
              "      <th>Address</th>\n",
              "      <th>DOB</th>\n",
              "    </tr>\n",
              "  </thead>\n",
              "  <tbody>\n",
              "    <tr>\n",
              "      <th>0</th>\n",
              "      <td>P0001</td>\n",
              "      <td>Kelsey Moore</td>\n",
              "      <td>f</td>\n",
              "      <td>39472495</td>\n",
              "      <td>kelsey.moore@gmail.com</td>\n",
              "      <td>34892 Christopher Crossing, South Brooke, NH 1...</td>\n",
              "      <td>1997-05-05</td>\n",
              "    </tr>\n",
              "    <tr>\n",
              "      <th>1</th>\n",
              "      <td>P0002</td>\n",
              "      <td>William Perry</td>\n",
              "      <td>m</td>\n",
              "      <td>15351117</td>\n",
              "      <td>william.perry@hotmail.com</td>\n",
              "      <td>94501 Bell Islands Suite 485, New Jessica, NJ ...</td>\n",
              "      <td>2007-06-06</td>\n",
              "    </tr>\n",
              "    <tr>\n",
              "      <th>2</th>\n",
              "      <td>P0003</td>\n",
              "      <td>Nicholas Jones</td>\n",
              "      <td>m</td>\n",
              "      <td>56648257</td>\n",
              "      <td>nicholas.jones@yahoo.com</td>\n",
              "      <td>8841 Lewis Parkways Apt. 040, South Kristen, I...</td>\n",
              "      <td>1975-12-04</td>\n",
              "    </tr>\n",
              "    <tr>\n",
              "      <th>3</th>\n",
              "      <td>P0004</td>\n",
              "      <td>Theresa Smith</td>\n",
              "      <td>f</td>\n",
              "      <td>45807263</td>\n",
              "      <td>theresa.smith@outlook.com</td>\n",
              "      <td>271 Jeffrey Freeway, Willisbury, ME 39487</td>\n",
              "      <td>1997-09-14</td>\n",
              "    </tr>\n",
              "    <tr>\n",
              "      <th>4</th>\n",
              "      <td>P0005</td>\n",
              "      <td>Tara Kennedy</td>\n",
              "      <td>f</td>\n",
              "      <td>84234563</td>\n",
              "      <td>tara.kennedy@protonmail.com</td>\n",
              "      <td>64128 Rick Coves Apt. 284, Lake James, NJ 51964</td>\n",
              "      <td>2011-02-22</td>\n",
              "    </tr>\n",
              "  </tbody>\n",
              "</table>\n",
              "</div>\n",
              "    <div class=\"colab-df-buttons\">\n",
              "\n",
              "  <div class=\"colab-df-container\">\n",
              "    <button class=\"colab-df-convert\" onclick=\"convertToInteractive('df-aef7a741-baa1-4b4b-8670-2d1ba4944d73')\"\n",
              "            title=\"Convert this dataframe to an interactive table.\"\n",
              "            style=\"display:none;\">\n",
              "\n",
              "  <svg xmlns=\"http://www.w3.org/2000/svg\" height=\"24px\" viewBox=\"0 -960 960 960\">\n",
              "    <path d=\"M120-120v-720h720v720H120Zm60-500h600v-160H180v160Zm220 220h160v-160H400v160Zm0 220h160v-160H400v160ZM180-400h160v-160H180v160Zm440 0h160v-160H620v160ZM180-180h160v-160H180v160Zm440 0h160v-160H620v160Z\"/>\n",
              "  </svg>\n",
              "    </button>\n",
              "\n",
              "  <style>\n",
              "    .colab-df-container {\n",
              "      display:flex;\n",
              "      gap: 12px;\n",
              "    }\n",
              "\n",
              "    .colab-df-convert {\n",
              "      background-color: #E8F0FE;\n",
              "      border: none;\n",
              "      border-radius: 50%;\n",
              "      cursor: pointer;\n",
              "      display: none;\n",
              "      fill: #1967D2;\n",
              "      height: 32px;\n",
              "      padding: 0 0 0 0;\n",
              "      width: 32px;\n",
              "    }\n",
              "\n",
              "    .colab-df-convert:hover {\n",
              "      background-color: #E2EBFA;\n",
              "      box-shadow: 0px 1px 2px rgba(60, 64, 67, 0.3), 0px 1px 3px 1px rgba(60, 64, 67, 0.15);\n",
              "      fill: #174EA6;\n",
              "    }\n",
              "\n",
              "    .colab-df-buttons div {\n",
              "      margin-bottom: 4px;\n",
              "    }\n",
              "\n",
              "    [theme=dark] .colab-df-convert {\n",
              "      background-color: #3B4455;\n",
              "      fill: #D2E3FC;\n",
              "    }\n",
              "\n",
              "    [theme=dark] .colab-df-convert:hover {\n",
              "      background-color: #434B5C;\n",
              "      box-shadow: 0px 1px 3px 1px rgba(0, 0, 0, 0.15);\n",
              "      filter: drop-shadow(0px 1px 2px rgba(0, 0, 0, 0.3));\n",
              "      fill: #FFFFFF;\n",
              "    }\n",
              "  </style>\n",
              "\n",
              "    <script>\n",
              "      const buttonEl =\n",
              "        document.querySelector('#df-aef7a741-baa1-4b4b-8670-2d1ba4944d73 button.colab-df-convert');\n",
              "      buttonEl.style.display =\n",
              "        google.colab.kernel.accessAllowed ? 'block' : 'none';\n",
              "\n",
              "      async function convertToInteractive(key) {\n",
              "        const element = document.querySelector('#df-aef7a741-baa1-4b4b-8670-2d1ba4944d73');\n",
              "        const dataTable =\n",
              "          await google.colab.kernel.invokeFunction('convertToInteractive',\n",
              "                                                    [key], {});\n",
              "        if (!dataTable) return;\n",
              "\n",
              "        const docLinkHtml = 'Like what you see? Visit the ' +\n",
              "          '<a target=\"_blank\" href=https://colab.research.google.com/notebooks/data_table.ipynb>data table notebook</a>'\n",
              "          + ' to learn more about interactive tables.';\n",
              "        element.innerHTML = '';\n",
              "        dataTable['output_type'] = 'display_data';\n",
              "        await google.colab.output.renderOutput(dataTable, element);\n",
              "        const docLink = document.createElement('div');\n",
              "        docLink.innerHTML = docLinkHtml;\n",
              "        element.appendChild(docLink);\n",
              "      }\n",
              "    </script>\n",
              "  </div>\n",
              "\n",
              "\n",
              "    <div id=\"df-58994da1-2e66-49dc-b7a4-2b2f46d8a383\">\n",
              "      <button class=\"colab-df-quickchart\" onclick=\"quickchart('df-58994da1-2e66-49dc-b7a4-2b2f46d8a383')\"\n",
              "                title=\"Suggest charts\"\n",
              "                style=\"display:none;\">\n",
              "\n",
              "<svg xmlns=\"http://www.w3.org/2000/svg\" height=\"24px\"viewBox=\"0 0 24 24\"\n",
              "     width=\"24px\">\n",
              "    <g>\n",
              "        <path d=\"M19 3H5c-1.1 0-2 .9-2 2v14c0 1.1.9 2 2 2h14c1.1 0 2-.9 2-2V5c0-1.1-.9-2-2-2zM9 17H7v-7h2v7zm4 0h-2V7h2v10zm4 0h-2v-4h2v4z\"/>\n",
              "    </g>\n",
              "</svg>\n",
              "      </button>\n",
              "\n",
              "<style>\n",
              "  .colab-df-quickchart {\n",
              "      --bg-color: #E8F0FE;\n",
              "      --fill-color: #1967D2;\n",
              "      --hover-bg-color: #E2EBFA;\n",
              "      --hover-fill-color: #174EA6;\n",
              "      --disabled-fill-color: #AAA;\n",
              "      --disabled-bg-color: #DDD;\n",
              "  }\n",
              "\n",
              "  [theme=dark] .colab-df-quickchart {\n",
              "      --bg-color: #3B4455;\n",
              "      --fill-color: #D2E3FC;\n",
              "      --hover-bg-color: #434B5C;\n",
              "      --hover-fill-color: #FFFFFF;\n",
              "      --disabled-bg-color: #3B4455;\n",
              "      --disabled-fill-color: #666;\n",
              "  }\n",
              "\n",
              "  .colab-df-quickchart {\n",
              "    background-color: var(--bg-color);\n",
              "    border: none;\n",
              "    border-radius: 50%;\n",
              "    cursor: pointer;\n",
              "    display: none;\n",
              "    fill: var(--fill-color);\n",
              "    height: 32px;\n",
              "    padding: 0;\n",
              "    width: 32px;\n",
              "  }\n",
              "\n",
              "  .colab-df-quickchart:hover {\n",
              "    background-color: var(--hover-bg-color);\n",
              "    box-shadow: 0 1px 2px rgba(60, 64, 67, 0.3), 0 1px 3px 1px rgba(60, 64, 67, 0.15);\n",
              "    fill: var(--button-hover-fill-color);\n",
              "  }\n",
              "\n",
              "  .colab-df-quickchart-complete:disabled,\n",
              "  .colab-df-quickchart-complete:disabled:hover {\n",
              "    background-color: var(--disabled-bg-color);\n",
              "    fill: var(--disabled-fill-color);\n",
              "    box-shadow: none;\n",
              "  }\n",
              "\n",
              "  .colab-df-spinner {\n",
              "    border: 2px solid var(--fill-color);\n",
              "    border-color: transparent;\n",
              "    border-bottom-color: var(--fill-color);\n",
              "    animation:\n",
              "      spin 1s steps(1) infinite;\n",
              "  }\n",
              "\n",
              "  @keyframes spin {\n",
              "    0% {\n",
              "      border-color: transparent;\n",
              "      border-bottom-color: var(--fill-color);\n",
              "      border-left-color: var(--fill-color);\n",
              "    }\n",
              "    20% {\n",
              "      border-color: transparent;\n",
              "      border-left-color: var(--fill-color);\n",
              "      border-top-color: var(--fill-color);\n",
              "    }\n",
              "    30% {\n",
              "      border-color: transparent;\n",
              "      border-left-color: var(--fill-color);\n",
              "      border-top-color: var(--fill-color);\n",
              "      border-right-color: var(--fill-color);\n",
              "    }\n",
              "    40% {\n",
              "      border-color: transparent;\n",
              "      border-right-color: var(--fill-color);\n",
              "      border-top-color: var(--fill-color);\n",
              "    }\n",
              "    60% {\n",
              "      border-color: transparent;\n",
              "      border-right-color: var(--fill-color);\n",
              "    }\n",
              "    80% {\n",
              "      border-color: transparent;\n",
              "      border-right-color: var(--fill-color);\n",
              "      border-bottom-color: var(--fill-color);\n",
              "    }\n",
              "    90% {\n",
              "      border-color: transparent;\n",
              "      border-bottom-color: var(--fill-color);\n",
              "    }\n",
              "  }\n",
              "</style>\n",
              "\n",
              "      <script>\n",
              "        async function quickchart(key) {\n",
              "          const quickchartButtonEl =\n",
              "            document.querySelector('#' + key + ' button');\n",
              "          quickchartButtonEl.disabled = true;  // To prevent multiple clicks.\n",
              "          quickchartButtonEl.classList.add('colab-df-spinner');\n",
              "          try {\n",
              "            const charts = await google.colab.kernel.invokeFunction(\n",
              "                'suggestCharts', [key], {});\n",
              "          } catch (error) {\n",
              "            console.error('Error during call to suggestCharts:', error);\n",
              "          }\n",
              "          quickchartButtonEl.classList.remove('colab-df-spinner');\n",
              "          quickchartButtonEl.classList.add('colab-df-quickchart-complete');\n",
              "        }\n",
              "        (() => {\n",
              "          let quickchartButtonEl =\n",
              "            document.querySelector('#df-58994da1-2e66-49dc-b7a4-2b2f46d8a383 button');\n",
              "          quickchartButtonEl.style.display =\n",
              "            google.colab.kernel.accessAllowed ? 'block' : 'none';\n",
              "        })();\n",
              "      </script>\n",
              "    </div>\n",
              "\n",
              "    </div>\n",
              "  </div>\n"
            ],
            "application/vnd.google.colaboratory.intrinsic+json": {
              "type": "dataframe",
              "summary": "{\n  \"name\": \"display(patient\",\n  \"rows\": 5,\n  \"fields\": [\n    {\n      \"column\": \"PatientID\",\n      \"properties\": {\n        \"dtype\": \"string\",\n        \"num_unique_values\": 5,\n        \"samples\": [\n          \"P0002\",\n          \"P0005\",\n          \"P0003\"\n        ],\n        \"semantic_type\": \"\",\n        \"description\": \"\"\n      }\n    },\n    {\n      \"column\": \"Name\",\n      \"properties\": {\n        \"dtype\": \"string\",\n        \"num_unique_values\": 5,\n        \"samples\": [\n          \"William Perry\",\n          \"Tara Kennedy\",\n          \"Nicholas Jones\"\n        ],\n        \"semantic_type\": \"\",\n        \"description\": \"\"\n      }\n    },\n    {\n      \"column\": \"Sex\",\n      \"properties\": {\n        \"dtype\": \"category\",\n        \"num_unique_values\": 2,\n        \"samples\": [\n          \"m\",\n          \"f\"\n        ],\n        \"semantic_type\": \"\",\n        \"description\": \"\"\n      }\n    },\n    {\n      \"column\": \"Contact\",\n      \"properties\": {\n        \"dtype\": \"number\",\n        \"std\": 25153298,\n        \"min\": 15351117,\n        \"max\": 84234563,\n        \"num_unique_values\": 5,\n        \"samples\": [\n          15351117,\n          84234563\n        ],\n        \"semantic_type\": \"\",\n        \"description\": \"\"\n      }\n    },\n    {\n      \"column\": \"email\",\n      \"properties\": {\n        \"dtype\": \"string\",\n        \"num_unique_values\": 5,\n        \"samples\": [\n          \"william.perry@hotmail.com\",\n          \"tara.kennedy@protonmail.com\"\n        ],\n        \"semantic_type\": \"\",\n        \"description\": \"\"\n      }\n    },\n    {\n      \"column\": \"Address\",\n      \"properties\": {\n        \"dtype\": \"string\",\n        \"num_unique_values\": 5,\n        \"samples\": [\n          \"94501 Bell Islands Suite 485, New Jessica, NJ 36060\",\n          \"64128 Rick Coves Apt. 284, Lake James, NJ 51964\"\n        ],\n        \"semantic_type\": \"\",\n        \"description\": \"\"\n      }\n    },\n    {\n      \"column\": \"DOB\",\n      \"properties\": {\n        \"dtype\": \"date\",\n        \"min\": \"1975-12-04 00:00:00\",\n        \"max\": \"2011-02-22 00:00:00\",\n        \"num_unique_values\": 5,\n        \"samples\": [\n          \"2007-06-06 00:00:00\",\n          \"2011-02-22 00:00:00\"\n        ],\n        \"semantic_type\": \"\",\n        \"description\": \"\"\n      }\n    }\n  ]\n}"
            }
          },
          "metadata": {}
        }
      ]
    },
    {
      "cell_type": "code",
      "source": [
        "# Check for hyphens or dashes in the 'Contact' column\n",
        "contact_contains_punctuation = patient['Contact'].astype(str).str.contains(r'[-–—]', regex=True)\n",
        "\n",
        "if contact_contains_punctuation.any():\n",
        "    print(\"\\nRows in 'Contact' column containing hyphens or dashes:\")\n",
        "    # Display rows where punctuation is found\n",
        "    display(patient[contact_contains_punctuation])\n",
        "else:\n",
        "    print(\"\\n'Contact' column does not contain hyphens or dashes.\")"
      ],
      "metadata": {
        "colab": {
          "base_uri": "https://localhost:8080/"
        },
        "id": "AZgKo1cNV2R3",
        "outputId": "a6863a9f-a2e6-4be0-d02b-90ca84d99aba"
      },
      "id": "AZgKo1cNV2R3",
      "execution_count": null,
      "outputs": [
        {
          "output_type": "stream",
          "name": "stdout",
          "text": [
            "\n",
            "'Contact' column does not contain hyphens or dashes.\n"
          ]
        }
      ]
    },
    {
      "cell_type": "code",
      "source": [
        "# Check if the 'email' column contains '@'\n",
        "email_contains_at = patient['email'].str.contains('@', na=False)\n",
        "\n",
        "if email_contains_at.all():\n",
        "    print(\"All email addresses in the 'email' column contain '@'.\")\n",
        "else:\n",
        "    print(\"Some email addresses in the 'email' column do not contain '@'.\")\n"
      ],
      "metadata": {
        "colab": {
          "base_uri": "https://localhost:8080/"
        },
        "id": "j4HGptoQV5hZ",
        "outputId": "1f954d53-3075-4460-e6d6-1a06e8d0a6a3"
      },
      "id": "j4HGptoQV5hZ",
      "execution_count": null,
      "outputs": [
        {
          "output_type": "stream",
          "name": "stdout",
          "text": [
            "All email addresses in the 'email' column contain '@'.\n"
          ]
        }
      ]
    },
    {
      "cell_type": "markdown",
      "id": "0efb746f",
      "metadata": {
        "id": "0efb746f"
      },
      "source": [
        "# Staff Data Analysis and Cleaning\n",
        "---"
      ]
    },
    {
      "cell_type": "code",
      "execution_count": 45,
      "id": "5cbbf673",
      "metadata": {
        "id": "5cbbf673",
        "colab": {
          "base_uri": "https://localhost:8080/",
          "height": 206
        },
        "outputId": "f4b1ed47-87c7-4ffe-ecc8-b994c1ee6a36"
      },
      "outputs": [
        {
          "output_type": "execute_result",
          "data": {
            "text/plain": [
              "  DoctorID            Name   Contact                            Email  \\\n",
              "0    E0001      Grace Chen  78901234       grace.chen@abchospital.com   \n",
              "1    E0002     Henry Adams  75678901      henry.adams@abchospital.com   \n",
              "2    E0003      Maya Patel  44567890       maya.patel@abchospital.com   \n",
              "3    E0004  Sean Underwood  84345678   sean.underwood@abchospital.com   \n",
              "4    E0005      Amy Bryant  72123456       amy.bryant@abchospital.com   \n",
              "\n",
              "  DepartmentID           Department  \n",
              "0        D0005           Pediatrics  \n",
              "1        D0002  Intensive Care Unit  \n",
              "2        D0008              Surgery  \n",
              "3        D0001            Emergency  \n",
              "4        D0009            Neurology  "
            ],
            "text/html": [
              "\n",
              "  <div id=\"df-8fece0e5-d57e-4612-aa16-e4d67723b768\" class=\"colab-df-container\">\n",
              "    <div>\n",
              "<style scoped>\n",
              "    .dataframe tbody tr th:only-of-type {\n",
              "        vertical-align: middle;\n",
              "    }\n",
              "\n",
              "    .dataframe tbody tr th {\n",
              "        vertical-align: top;\n",
              "    }\n",
              "\n",
              "    .dataframe thead th {\n",
              "        text-align: right;\n",
              "    }\n",
              "</style>\n",
              "<table border=\"1\" class=\"dataframe\">\n",
              "  <thead>\n",
              "    <tr style=\"text-align: right;\">\n",
              "      <th></th>\n",
              "      <th>DoctorID</th>\n",
              "      <th>Name</th>\n",
              "      <th>Contact</th>\n",
              "      <th>Email</th>\n",
              "      <th>DepartmentID</th>\n",
              "      <th>Department</th>\n",
              "    </tr>\n",
              "  </thead>\n",
              "  <tbody>\n",
              "    <tr>\n",
              "      <th>0</th>\n",
              "      <td>E0001</td>\n",
              "      <td>Grace Chen</td>\n",
              "      <td>78901234</td>\n",
              "      <td>grace.chen@abchospital.com</td>\n",
              "      <td>D0005</td>\n",
              "      <td>Pediatrics</td>\n",
              "    </tr>\n",
              "    <tr>\n",
              "      <th>1</th>\n",
              "      <td>E0002</td>\n",
              "      <td>Henry Adams</td>\n",
              "      <td>75678901</td>\n",
              "      <td>henry.adams@abchospital.com</td>\n",
              "      <td>D0002</td>\n",
              "      <td>Intensive Care Unit</td>\n",
              "    </tr>\n",
              "    <tr>\n",
              "      <th>2</th>\n",
              "      <td>E0003</td>\n",
              "      <td>Maya Patel</td>\n",
              "      <td>44567890</td>\n",
              "      <td>maya.patel@abchospital.com</td>\n",
              "      <td>D0008</td>\n",
              "      <td>Surgery</td>\n",
              "    </tr>\n",
              "    <tr>\n",
              "      <th>3</th>\n",
              "      <td>E0004</td>\n",
              "      <td>Sean Underwood</td>\n",
              "      <td>84345678</td>\n",
              "      <td>sean.underwood@abchospital.com</td>\n",
              "      <td>D0001</td>\n",
              "      <td>Emergency</td>\n",
              "    </tr>\n",
              "    <tr>\n",
              "      <th>4</th>\n",
              "      <td>E0005</td>\n",
              "      <td>Amy Bryant</td>\n",
              "      <td>72123456</td>\n",
              "      <td>amy.bryant@abchospital.com</td>\n",
              "      <td>D0009</td>\n",
              "      <td>Neurology</td>\n",
              "    </tr>\n",
              "  </tbody>\n",
              "</table>\n",
              "</div>\n",
              "    <div class=\"colab-df-buttons\">\n",
              "\n",
              "  <div class=\"colab-df-container\">\n",
              "    <button class=\"colab-df-convert\" onclick=\"convertToInteractive('df-8fece0e5-d57e-4612-aa16-e4d67723b768')\"\n",
              "            title=\"Convert this dataframe to an interactive table.\"\n",
              "            style=\"display:none;\">\n",
              "\n",
              "  <svg xmlns=\"http://www.w3.org/2000/svg\" height=\"24px\" viewBox=\"0 -960 960 960\">\n",
              "    <path d=\"M120-120v-720h720v720H120Zm60-500h600v-160H180v160Zm220 220h160v-160H400v160Zm0 220h160v-160H400v160ZM180-400h160v-160H180v160Zm440 0h160v-160H620v160ZM180-180h160v-160H180v160Zm440 0h160v-160H620v160Z\"/>\n",
              "  </svg>\n",
              "    </button>\n",
              "\n",
              "  <style>\n",
              "    .colab-df-container {\n",
              "      display:flex;\n",
              "      gap: 12px;\n",
              "    }\n",
              "\n",
              "    .colab-df-convert {\n",
              "      background-color: #E8F0FE;\n",
              "      border: none;\n",
              "      border-radius: 50%;\n",
              "      cursor: pointer;\n",
              "      display: none;\n",
              "      fill: #1967D2;\n",
              "      height: 32px;\n",
              "      padding: 0 0 0 0;\n",
              "      width: 32px;\n",
              "    }\n",
              "\n",
              "    .colab-df-convert:hover {\n",
              "      background-color: #E2EBFA;\n",
              "      box-shadow: 0px 1px 2px rgba(60, 64, 67, 0.3), 0px 1px 3px 1px rgba(60, 64, 67, 0.15);\n",
              "      fill: #174EA6;\n",
              "    }\n",
              "\n",
              "    .colab-df-buttons div {\n",
              "      margin-bottom: 4px;\n",
              "    }\n",
              "\n",
              "    [theme=dark] .colab-df-convert {\n",
              "      background-color: #3B4455;\n",
              "      fill: #D2E3FC;\n",
              "    }\n",
              "\n",
              "    [theme=dark] .colab-df-convert:hover {\n",
              "      background-color: #434B5C;\n",
              "      box-shadow: 0px 1px 3px 1px rgba(0, 0, 0, 0.15);\n",
              "      filter: drop-shadow(0px 1px 2px rgba(0, 0, 0, 0.3));\n",
              "      fill: #FFFFFF;\n",
              "    }\n",
              "  </style>\n",
              "\n",
              "    <script>\n",
              "      const buttonEl =\n",
              "        document.querySelector('#df-8fece0e5-d57e-4612-aa16-e4d67723b768 button.colab-df-convert');\n",
              "      buttonEl.style.display =\n",
              "        google.colab.kernel.accessAllowed ? 'block' : 'none';\n",
              "\n",
              "      async function convertToInteractive(key) {\n",
              "        const element = document.querySelector('#df-8fece0e5-d57e-4612-aa16-e4d67723b768');\n",
              "        const dataTable =\n",
              "          await google.colab.kernel.invokeFunction('convertToInteractive',\n",
              "                                                    [key], {});\n",
              "        if (!dataTable) return;\n",
              "\n",
              "        const docLinkHtml = 'Like what you see? Visit the ' +\n",
              "          '<a target=\"_blank\" href=https://colab.research.google.com/notebooks/data_table.ipynb>data table notebook</a>'\n",
              "          + ' to learn more about interactive tables.';\n",
              "        element.innerHTML = '';\n",
              "        dataTable['output_type'] = 'display_data';\n",
              "        await google.colab.output.renderOutput(dataTable, element);\n",
              "        const docLink = document.createElement('div');\n",
              "        docLink.innerHTML = docLinkHtml;\n",
              "        element.appendChild(docLink);\n",
              "      }\n",
              "    </script>\n",
              "  </div>\n",
              "\n",
              "\n",
              "    <div id=\"df-4781a065-4818-41ca-ba96-366a901bb700\">\n",
              "      <button class=\"colab-df-quickchart\" onclick=\"quickchart('df-4781a065-4818-41ca-ba96-366a901bb700')\"\n",
              "                title=\"Suggest charts\"\n",
              "                style=\"display:none;\">\n",
              "\n",
              "<svg xmlns=\"http://www.w3.org/2000/svg\" height=\"24px\"viewBox=\"0 0 24 24\"\n",
              "     width=\"24px\">\n",
              "    <g>\n",
              "        <path d=\"M19 3H5c-1.1 0-2 .9-2 2v14c0 1.1.9 2 2 2h14c1.1 0 2-.9 2-2V5c0-1.1-.9-2-2-2zM9 17H7v-7h2v7zm4 0h-2V7h2v10zm4 0h-2v-4h2v4z\"/>\n",
              "    </g>\n",
              "</svg>\n",
              "      </button>\n",
              "\n",
              "<style>\n",
              "  .colab-df-quickchart {\n",
              "      --bg-color: #E8F0FE;\n",
              "      --fill-color: #1967D2;\n",
              "      --hover-bg-color: #E2EBFA;\n",
              "      --hover-fill-color: #174EA6;\n",
              "      --disabled-fill-color: #AAA;\n",
              "      --disabled-bg-color: #DDD;\n",
              "  }\n",
              "\n",
              "  [theme=dark] .colab-df-quickchart {\n",
              "      --bg-color: #3B4455;\n",
              "      --fill-color: #D2E3FC;\n",
              "      --hover-bg-color: #434B5C;\n",
              "      --hover-fill-color: #FFFFFF;\n",
              "      --disabled-bg-color: #3B4455;\n",
              "      --disabled-fill-color: #666;\n",
              "  }\n",
              "\n",
              "  .colab-df-quickchart {\n",
              "    background-color: var(--bg-color);\n",
              "    border: none;\n",
              "    border-radius: 50%;\n",
              "    cursor: pointer;\n",
              "    display: none;\n",
              "    fill: var(--fill-color);\n",
              "    height: 32px;\n",
              "    padding: 0;\n",
              "    width: 32px;\n",
              "  }\n",
              "\n",
              "  .colab-df-quickchart:hover {\n",
              "    background-color: var(--hover-bg-color);\n",
              "    box-shadow: 0 1px 2px rgba(60, 64, 67, 0.3), 0 1px 3px 1px rgba(60, 64, 67, 0.15);\n",
              "    fill: var(--button-hover-fill-color);\n",
              "  }\n",
              "\n",
              "  .colab-df-quickchart-complete:disabled,\n",
              "  .colab-df-quickchart-complete:disabled:hover {\n",
              "    background-color: var(--disabled-bg-color);\n",
              "    fill: var(--disabled-fill-color);\n",
              "    box-shadow: none;\n",
              "  }\n",
              "\n",
              "  .colab-df-spinner {\n",
              "    border: 2px solid var(--fill-color);\n",
              "    border-color: transparent;\n",
              "    border-bottom-color: var(--fill-color);\n",
              "    animation:\n",
              "      spin 1s steps(1) infinite;\n",
              "  }\n",
              "\n",
              "  @keyframes spin {\n",
              "    0% {\n",
              "      border-color: transparent;\n",
              "      border-bottom-color: var(--fill-color);\n",
              "      border-left-color: var(--fill-color);\n",
              "    }\n",
              "    20% {\n",
              "      border-color: transparent;\n",
              "      border-left-color: var(--fill-color);\n",
              "      border-top-color: var(--fill-color);\n",
              "    }\n",
              "    30% {\n",
              "      border-color: transparent;\n",
              "      border-left-color: var(--fill-color);\n",
              "      border-top-color: var(--fill-color);\n",
              "      border-right-color: var(--fill-color);\n",
              "    }\n",
              "    40% {\n",
              "      border-color: transparent;\n",
              "      border-right-color: var(--fill-color);\n",
              "      border-top-color: var(--fill-color);\n",
              "    }\n",
              "    60% {\n",
              "      border-color: transparent;\n",
              "      border-right-color: var(--fill-color);\n",
              "    }\n",
              "    80% {\n",
              "      border-color: transparent;\n",
              "      border-right-color: var(--fill-color);\n",
              "      border-bottom-color: var(--fill-color);\n",
              "    }\n",
              "    90% {\n",
              "      border-color: transparent;\n",
              "      border-bottom-color: var(--fill-color);\n",
              "    }\n",
              "  }\n",
              "</style>\n",
              "\n",
              "      <script>\n",
              "        async function quickchart(key) {\n",
              "          const quickchartButtonEl =\n",
              "            document.querySelector('#' + key + ' button');\n",
              "          quickchartButtonEl.disabled = true;  // To prevent multiple clicks.\n",
              "          quickchartButtonEl.classList.add('colab-df-spinner');\n",
              "          try {\n",
              "            const charts = await google.colab.kernel.invokeFunction(\n",
              "                'suggestCharts', [key], {});\n",
              "          } catch (error) {\n",
              "            console.error('Error during call to suggestCharts:', error);\n",
              "          }\n",
              "          quickchartButtonEl.classList.remove('colab-df-spinner');\n",
              "          quickchartButtonEl.classList.add('colab-df-quickchart-complete');\n",
              "        }\n",
              "        (() => {\n",
              "          let quickchartButtonEl =\n",
              "            document.querySelector('#df-4781a065-4818-41ca-ba96-366a901bb700 button');\n",
              "          quickchartButtonEl.style.display =\n",
              "            google.colab.kernel.accessAllowed ? 'block' : 'none';\n",
              "        })();\n",
              "      </script>\n",
              "    </div>\n",
              "\n",
              "    </div>\n",
              "  </div>\n"
            ],
            "application/vnd.google.colaboratory.intrinsic+json": {
              "type": "dataframe",
              "variable_name": "staff",
              "summary": "{\n  \"name\": \"staff\",\n  \"rows\": 100,\n  \"fields\": [\n    {\n      \"column\": \"DoctorID\",\n      \"properties\": {\n        \"dtype\": \"string\",\n        \"num_unique_values\": 100,\n        \"samples\": [\n          \"E0084\",\n          \"E0054\",\n          \"E0071\"\n        ],\n        \"semantic_type\": \"\",\n        \"description\": \"\"\n      }\n    },\n    {\n      \"column\": \"Name\",\n      \"properties\": {\n        \"dtype\": \"string\",\n        \"num_unique_values\": 100,\n        \"samples\": [\n          \"Victoria Lee\",\n          \"Cheryl Fields\",\n          \"Benjamin Clark\"\n        ],\n        \"semantic_type\": \"\",\n        \"description\": \"\"\n      }\n    },\n    {\n      \"column\": \"Contact\",\n      \"properties\": {\n        \"dtype\": \"number\",\n        \"std\": 27932934,\n        \"min\": 10901234,\n        \"max\": 98572415,\n        \"num_unique_values\": 100,\n        \"samples\": [\n          24666442,\n          23456789,\n          29384756\n        ],\n        \"semantic_type\": \"\",\n        \"description\": \"\"\n      }\n    },\n    {\n      \"column\": \"Email\",\n      \"properties\": {\n        \"dtype\": \"string\",\n        \"num_unique_values\": 100,\n        \"samples\": [\n          \" victoria.lee@abchospital.com\",\n          \" cheryl.fields@abchospital.com\",\n          \" benjamin.clark@abchospital.com\"\n        ],\n        \"semantic_type\": \"\",\n        \"description\": \"\"\n      }\n    },\n    {\n      \"column\": \"DepartmentID\",\n      \"properties\": {\n        \"dtype\": \"category\",\n        \"num_unique_values\": 10,\n        \"samples\": [\n          \"D0006\",\n          \"D0002\",\n          \"D0004\"\n        ],\n        \"semantic_type\": \"\",\n        \"description\": \"\"\n      }\n    },\n    {\n      \"column\": \"Department\",\n      \"properties\": {\n        \"dtype\": \"category\",\n        \"num_unique_values\": 11,\n        \"samples\": [\n          \"Cardiology\",\n          \"Pediatrics\",\n          \"Radiology\"\n        ],\n        \"semantic_type\": \"\",\n        \"description\": \"\"\n      }\n    }\n  ]\n}"
            }
          },
          "metadata": {},
          "execution_count": 45
        }
      ],
      "source": [
        "staff.head()"
      ]
    },
    {
      "cell_type": "code",
      "source": [
        "staff.info()"
      ],
      "metadata": {
        "colab": {
          "base_uri": "https://localhost:8080/"
        },
        "id": "jTWNvXsKmESv",
        "outputId": "c529985c-bbdd-4ed2-f309-89cfe757d5d3"
      },
      "id": "jTWNvXsKmESv",
      "execution_count": 46,
      "outputs": [
        {
          "output_type": "stream",
          "name": "stdout",
          "text": [
            "<class 'pandas.core.frame.DataFrame'>\n",
            "RangeIndex: 100 entries, 0 to 99\n",
            "Data columns (total 6 columns):\n",
            " #   Column        Non-Null Count  Dtype \n",
            "---  ------        --------------  ----- \n",
            " 0   DoctorID      100 non-null    object\n",
            " 1   Name          100 non-null    object\n",
            " 2   Contact       100 non-null    int64 \n",
            " 3   Email         100 non-null    object\n",
            " 4   DepartmentID  100 non-null    object\n",
            " 5   Department    100 non-null    object\n",
            "dtypes: int64(1), object(5)\n",
            "memory usage: 4.8+ KB\n"
          ]
        }
      ]
    },
    {
      "cell_type": "markdown",
      "source": [
        "It seems all the columns are of correct data types and free of null values."
      ],
      "metadata": {
        "id": "MjF4uZePmFsa"
      },
      "id": "MjF4uZePmFsa"
    },
    {
      "cell_type": "markdown",
      "source": [
        "## Checking for Duplicate Rows"
      ],
      "metadata": {
        "id": "7oMafs3qmgI3"
      },
      "id": "7oMafs3qmgI3"
    },
    {
      "cell_type": "code",
      "source": [
        "# # Check for fully duplicate rows in the staff DataFrame\n",
        "duplicate_rows = staff.duplicated()\n",
        "num_duplicates = duplicate_rows.sum()\n",
        "\n",
        "print(f\"\\nNumber of duplicate rows found in 'staff': {num_duplicates}\")\n",
        "\n",
        "# If duplicates exist, display them\n",
        "if num_duplicates > 0:\n",
        "    print(\"\\nHere are the duplicate rows:\")\n",
        "    # Show all occurrences of the duplicates\n",
        "    print(staff[staff.duplicated(keep=False)])\n",
        "else:\n",
        "    print(\"There are no duplicate rows in the 'staff' dataset.\")\n"
      ],
      "metadata": {
        "colab": {
          "base_uri": "https://localhost:8080/"
        },
        "id": "Or2kVNzCS3OM",
        "outputId": "999b9fa2-bb33-4b8c-bcdf-6303ebba759a"
      },
      "id": "Or2kVNzCS3OM",
      "execution_count": 63,
      "outputs": [
        {
          "output_type": "stream",
          "name": "stdout",
          "text": [
            "\n",
            "Number of duplicate rows found in 'staff': 0\n",
            "There are no duplicate rows in the 'staff' dataset.\n"
          ]
        }
      ]
    },
    {
      "cell_type": "markdown",
      "source": [
        "We have verified that this dataset does not contain any duplicate entries."
      ],
      "metadata": {
        "id": "QSO4lM0NTLHC"
      },
      "id": "QSO4lM0NTLHC"
    },
    {
      "cell_type": "markdown",
      "source": [
        "## Checking for Nulls"
      ],
      "metadata": {
        "id": "L6EDVfPonNLF"
      },
      "id": "L6EDVfPonNLF"
    },
    {
      "cell_type": "code",
      "source": [
        "# Check for null values in each column\n",
        "null_counts = staff.isnull().sum()\n",
        "\n",
        "# Display columns with at least one null value\n",
        "null_counts = null_counts[null_counts > 0]\n",
        "\n",
        "print(\"Columns with null values:\")\n",
        "if not null_counts.empty:\n",
        "    print(null_counts)\n",
        "else:\n",
        "    print(\"No null values found.\")"
      ],
      "metadata": {
        "colab": {
          "base_uri": "https://localhost:8080/"
        },
        "id": "r4vaVo2JnOuC",
        "outputId": "62dcbada-eb46-411a-b3cb-2e0e61805c6c"
      },
      "id": "r4vaVo2JnOuC",
      "execution_count": 64,
      "outputs": [
        {
          "output_type": "stream",
          "name": "stdout",
          "text": [
            "Columns with null values:\n",
            "No null values found.\n"
          ]
        }
      ]
    },
    {
      "cell_type": "markdown",
      "source": [
        "There are no null values."
      ],
      "metadata": {
        "id": "A-GTWgOOnSLZ"
      },
      "id": "A-GTWgOOnSLZ"
    },
    {
      "cell_type": "markdown",
      "source": [
        "## Checking for White spaces"
      ],
      "metadata": {
        "id": "XG2WIcKconvo"
      },
      "id": "XG2WIcKconvo"
    },
    {
      "cell_type": "code",
      "source": [
        "# Check for leading/trailing whitespace in each string column\n",
        "for column in staff.columns:\n",
        "    if staff[column].dtype == 'object':\n",
        "        has_whitespace = staff[column].astype(str) != staff[column].astype(str).str.strip()\n",
        "        result = \"Yes\" if has_whitespace.any() else \"No\"\n",
        "        print(f\"Column '{column}': {result}\")"
      ],
      "metadata": {
        "colab": {
          "base_uri": "https://localhost:8080/"
        },
        "id": "PgkVt55loqR0",
        "outputId": "9db2fa7b-a2f9-4fd6-a4e9-c95629ccd5d4"
      },
      "id": "PgkVt55loqR0",
      "execution_count": 65,
      "outputs": [
        {
          "output_type": "stream",
          "name": "stdout",
          "text": [
            "Column 'DoctorID': Yes\n",
            "Column 'Name': No\n",
            "Column 'Email': Yes\n",
            "Column 'DepartmentID': No\n",
            "Column 'Department': No\n"
          ]
        }
      ]
    },
    {
      "cell_type": "markdown",
      "source": [
        "We will remove the existing white spaces."
      ],
      "metadata": {
        "id": "votYUOtMoy_Z"
      },
      "id": "votYUOtMoy_Z"
    },
    {
      "cell_type": "code",
      "source": [
        "# Clean leading/trailing whitespaces and count affected rows\n",
        "columns_to_clean = ['DoctorID', 'Email']\n",
        "\n",
        "for col in columns_to_clean:\n",
        "    # Count rows with whitespace before cleaning\n",
        "    before_clean = staff[col].astype(str)\n",
        "    has_whitespace = before_clean != before_clean.str.strip()\n",
        "    affected_rows = has_whitespace.sum()\n",
        "\n",
        "    # Clean the column\n",
        "    staff[col] = before_clean.str.strip()\n",
        "\n",
        "    print(f\"Whitespace removed from column '{col}': {affected_rows} row(s) affected.\")"
      ],
      "metadata": {
        "colab": {
          "base_uri": "https://localhost:8080/"
        },
        "id": "UL5WpQjlo1oK",
        "outputId": "f61fceb2-b592-4415-e1c9-a40134df43c1"
      },
      "id": "UL5WpQjlo1oK",
      "execution_count": 66,
      "outputs": [
        {
          "output_type": "stream",
          "name": "stdout",
          "text": [
            "Whitespace removed from column 'DoctorID': 3 row(s) affected.\n",
            "Whitespace removed from column 'Email': 99 row(s) affected.\n"
          ]
        }
      ]
    },
    {
      "cell_type": "markdown",
      "source": [
        "## Checking for Categorical Columns"
      ],
      "metadata": {
        "id": "8q7BW8OhnW2a"
      },
      "id": "8q7BW8OhnW2a"
    },
    {
      "cell_type": "code",
      "source": [
        "print(\"Count of Unique Values in Each Column:\")\n",
        "\n",
        "for column in staff.columns:\n",
        "    unique_count = staff[column].nunique()\n",
        "    print(f\"Column: '{column}' → {unique_count} unique value(s)\")\n"
      ],
      "metadata": {
        "colab": {
          "base_uri": "https://localhost:8080/"
        },
        "id": "2ZHQQqr8nd03",
        "outputId": "ca68928d-0773-453b-b46d-8370739a7774"
      },
      "id": "2ZHQQqr8nd03",
      "execution_count": 67,
      "outputs": [
        {
          "output_type": "stream",
          "name": "stdout",
          "text": [
            "Count of Unique Values in Each Column:\n",
            "Column: 'DoctorID' → 100 unique value(s)\n",
            "Column: 'Name' → 100 unique value(s)\n",
            "Column: 'Contact' → 100 unique value(s)\n",
            "Column: 'Email' → 100 unique value(s)\n",
            "Column: 'DepartmentID' → 10 unique value(s)\n",
            "Column: 'Department' → 11 unique value(s)\n"
          ]
        }
      ]
    },
    {
      "cell_type": "markdown",
      "source": [
        "- There are 100 rows, each for a different doctor.\n",
        "- We will check how many unique `DepartmentID` and `Department` values there are."
      ],
      "metadata": {
        "id": "6Yd-MTWxn2qx"
      },
      "id": "6Yd-MTWxn2qx"
    },
    {
      "cell_type": "code",
      "source": [
        "# Print unique value counts for DepartmentID and Department columns\n",
        "columns_to_check = ['DepartmentID', 'Department']\n",
        "\n",
        "for column in columns_to_check:\n",
        "    print(f\"\\nUnique value counts in column '{column}':\")\n",
        "    value_counts = staff[column].value_counts()\n",
        "    print(value_counts.to_string(header=False))\n",
        "\n",
        "\n"
      ],
      "metadata": {
        "colab": {
          "base_uri": "https://localhost:8080/"
        },
        "id": "ei3pgYbtTGpq",
        "outputId": "dbda9893-a788-4330-e88f-db62c432500d"
      },
      "id": "ei3pgYbtTGpq",
      "execution_count": 55,
      "outputs": [
        {
          "output_type": "stream",
          "name": "stdout",
          "text": [
            "\n",
            "Unique value counts in column 'DepartmentID':\n",
            "D0004    15\n",
            "D0009    12\n",
            "D0007    12\n",
            "D0005    11\n",
            "D0010    10\n",
            "D0001    10\n",
            "D0006     9\n",
            "D0002     8\n",
            "D0003     7\n",
            "D0008     6\n",
            "\n",
            "Unique value counts in column 'Department':\n",
            "Cardiology                   15\n",
            "Neurology                    12\n",
            "Obstetrics and Gynecology    12\n",
            "Pediatrics                   11\n",
            "Oncology                     10\n",
            "Emergency                     9\n",
            "Orthopedics                   9\n",
            "Intensive Care Unit           8\n",
            "Radiology                     7\n",
            "Surgery                       6\n",
            "Emmergency                    1\n"
          ]
        }
      ]
    },
    {
      "cell_type": "markdown",
      "source": [
        "- The counts must match across DepartmentID and Department columns, since they are related; one DepartmentID relates to one Department.\n",
        "- There is one error in the `Department` column: the value \"Emmergency\" (which we assume should be \"Emergency\"). We will examine this further."
      ],
      "metadata": {
        "id": "m6r64NtzTt5J"
      },
      "id": "m6r64NtzTt5J"
    },
    {
      "cell_type": "code",
      "source": [
        "# Filter staff dataframe for 'Emergency' and 'Emmergency' departments\n",
        "emergency_departments = staff[staff['Department'].isin(['Emergency', 'Emmergency'])]\n",
        "\n",
        "# Display the Department and DepartmentID for these rows\n",
        "print(\"Department and DepartmentID for 'Emergency' and 'Emmergency' in Staff dataset:\")\n",
        "display(emergency_departments[['Department', 'DepartmentID']])"
      ],
      "metadata": {
        "colab": {
          "base_uri": "https://localhost:8080/",
          "height": 381
        },
        "id": "wbKmkGubq_Eh",
        "outputId": "5808620f-695e-4f4e-8c9f-557f882c8c0c"
      },
      "id": "wbKmkGubq_Eh",
      "execution_count": 74,
      "outputs": [
        {
          "output_type": "stream",
          "name": "stdout",
          "text": [
            "Department and DepartmentID for 'Emergency' and 'Emmergency' in Staff dataset:\n"
          ]
        },
        {
          "output_type": "display_data",
          "data": {
            "text/plain": [
              "    Department DepartmentID\n",
              "3    Emergency        D0001\n",
              "10   Emergency        D0001\n",
              "27   Emergency        D0001\n",
              "32   Emergency        D0001\n",
              "40   Emergency        D0001\n",
              "52   Emergency        D0001\n",
              "63   Emergency        D0001\n",
              "73   Emergency        D0001\n",
              "83  Emmergency        D0001\n",
              "91   Emergency        D0001"
            ],
            "text/html": [
              "\n",
              "  <div id=\"df-b4ce8091-789a-4bc0-8bf2-20cad4394d40\" class=\"colab-df-container\">\n",
              "    <div>\n",
              "<style scoped>\n",
              "    .dataframe tbody tr th:only-of-type {\n",
              "        vertical-align: middle;\n",
              "    }\n",
              "\n",
              "    .dataframe tbody tr th {\n",
              "        vertical-align: top;\n",
              "    }\n",
              "\n",
              "    .dataframe thead th {\n",
              "        text-align: right;\n",
              "    }\n",
              "</style>\n",
              "<table border=\"1\" class=\"dataframe\">\n",
              "  <thead>\n",
              "    <tr style=\"text-align: right;\">\n",
              "      <th></th>\n",
              "      <th>Department</th>\n",
              "      <th>DepartmentID</th>\n",
              "    </tr>\n",
              "  </thead>\n",
              "  <tbody>\n",
              "    <tr>\n",
              "      <th>3</th>\n",
              "      <td>Emergency</td>\n",
              "      <td>D0001</td>\n",
              "    </tr>\n",
              "    <tr>\n",
              "      <th>10</th>\n",
              "      <td>Emergency</td>\n",
              "      <td>D0001</td>\n",
              "    </tr>\n",
              "    <tr>\n",
              "      <th>27</th>\n",
              "      <td>Emergency</td>\n",
              "      <td>D0001</td>\n",
              "    </tr>\n",
              "    <tr>\n",
              "      <th>32</th>\n",
              "      <td>Emergency</td>\n",
              "      <td>D0001</td>\n",
              "    </tr>\n",
              "    <tr>\n",
              "      <th>40</th>\n",
              "      <td>Emergency</td>\n",
              "      <td>D0001</td>\n",
              "    </tr>\n",
              "    <tr>\n",
              "      <th>52</th>\n",
              "      <td>Emergency</td>\n",
              "      <td>D0001</td>\n",
              "    </tr>\n",
              "    <tr>\n",
              "      <th>63</th>\n",
              "      <td>Emergency</td>\n",
              "      <td>D0001</td>\n",
              "    </tr>\n",
              "    <tr>\n",
              "      <th>73</th>\n",
              "      <td>Emergency</td>\n",
              "      <td>D0001</td>\n",
              "    </tr>\n",
              "    <tr>\n",
              "      <th>83</th>\n",
              "      <td>Emmergency</td>\n",
              "      <td>D0001</td>\n",
              "    </tr>\n",
              "    <tr>\n",
              "      <th>91</th>\n",
              "      <td>Emergency</td>\n",
              "      <td>D0001</td>\n",
              "    </tr>\n",
              "  </tbody>\n",
              "</table>\n",
              "</div>\n",
              "    <div class=\"colab-df-buttons\">\n",
              "\n",
              "  <div class=\"colab-df-container\">\n",
              "    <button class=\"colab-df-convert\" onclick=\"convertToInteractive('df-b4ce8091-789a-4bc0-8bf2-20cad4394d40')\"\n",
              "            title=\"Convert this dataframe to an interactive table.\"\n",
              "            style=\"display:none;\">\n",
              "\n",
              "  <svg xmlns=\"http://www.w3.org/2000/svg\" height=\"24px\" viewBox=\"0 -960 960 960\">\n",
              "    <path d=\"M120-120v-720h720v720H120Zm60-500h600v-160H180v160Zm220 220h160v-160H400v160Zm0 220h160v-160H400v160ZM180-400h160v-160H180v160Zm440 0h160v-160H620v160ZM180-180h160v-160H180v160Zm440 0h160v-160H620v160Z\"/>\n",
              "  </svg>\n",
              "    </button>\n",
              "\n",
              "  <style>\n",
              "    .colab-df-container {\n",
              "      display:flex;\n",
              "      gap: 12px;\n",
              "    }\n",
              "\n",
              "    .colab-df-convert {\n",
              "      background-color: #E8F0FE;\n",
              "      border: none;\n",
              "      border-radius: 50%;\n",
              "      cursor: pointer;\n",
              "      display: none;\n",
              "      fill: #1967D2;\n",
              "      height: 32px;\n",
              "      padding: 0 0 0 0;\n",
              "      width: 32px;\n",
              "    }\n",
              "\n",
              "    .colab-df-convert:hover {\n",
              "      background-color: #E2EBFA;\n",
              "      box-shadow: 0px 1px 2px rgba(60, 64, 67, 0.3), 0px 1px 3px 1px rgba(60, 64, 67, 0.15);\n",
              "      fill: #174EA6;\n",
              "    }\n",
              "\n",
              "    .colab-df-buttons div {\n",
              "      margin-bottom: 4px;\n",
              "    }\n",
              "\n",
              "    [theme=dark] .colab-df-convert {\n",
              "      background-color: #3B4455;\n",
              "      fill: #D2E3FC;\n",
              "    }\n",
              "\n",
              "    [theme=dark] .colab-df-convert:hover {\n",
              "      background-color: #434B5C;\n",
              "      box-shadow: 0px 1px 3px 1px rgba(0, 0, 0, 0.15);\n",
              "      filter: drop-shadow(0px 1px 2px rgba(0, 0, 0, 0.3));\n",
              "      fill: #FFFFFF;\n",
              "    }\n",
              "  </style>\n",
              "\n",
              "    <script>\n",
              "      const buttonEl =\n",
              "        document.querySelector('#df-b4ce8091-789a-4bc0-8bf2-20cad4394d40 button.colab-df-convert');\n",
              "      buttonEl.style.display =\n",
              "        google.colab.kernel.accessAllowed ? 'block' : 'none';\n",
              "\n",
              "      async function convertToInteractive(key) {\n",
              "        const element = document.querySelector('#df-b4ce8091-789a-4bc0-8bf2-20cad4394d40');\n",
              "        const dataTable =\n",
              "          await google.colab.kernel.invokeFunction('convertToInteractive',\n",
              "                                                    [key], {});\n",
              "        if (!dataTable) return;\n",
              "\n",
              "        const docLinkHtml = 'Like what you see? Visit the ' +\n",
              "          '<a target=\"_blank\" href=https://colab.research.google.com/notebooks/data_table.ipynb>data table notebook</a>'\n",
              "          + ' to learn more about interactive tables.';\n",
              "        element.innerHTML = '';\n",
              "        dataTable['output_type'] = 'display_data';\n",
              "        await google.colab.output.renderOutput(dataTable, element);\n",
              "        const docLink = document.createElement('div');\n",
              "        docLink.innerHTML = docLinkHtml;\n",
              "        element.appendChild(docLink);\n",
              "      }\n",
              "    </script>\n",
              "  </div>\n",
              "\n",
              "\n",
              "    <div id=\"df-b6bcf039-a23e-4293-b441-e7ec2d9d97d2\">\n",
              "      <button class=\"colab-df-quickchart\" onclick=\"quickchart('df-b6bcf039-a23e-4293-b441-e7ec2d9d97d2')\"\n",
              "                title=\"Suggest charts\"\n",
              "                style=\"display:none;\">\n",
              "\n",
              "<svg xmlns=\"http://www.w3.org/2000/svg\" height=\"24px\"viewBox=\"0 0 24 24\"\n",
              "     width=\"24px\">\n",
              "    <g>\n",
              "        <path d=\"M19 3H5c-1.1 0-2 .9-2 2v14c0 1.1.9 2 2 2h14c1.1 0 2-.9 2-2V5c0-1.1-.9-2-2-2zM9 17H7v-7h2v7zm4 0h-2V7h2v10zm4 0h-2v-4h2v4z\"/>\n",
              "    </g>\n",
              "</svg>\n",
              "      </button>\n",
              "\n",
              "<style>\n",
              "  .colab-df-quickchart {\n",
              "      --bg-color: #E8F0FE;\n",
              "      --fill-color: #1967D2;\n",
              "      --hover-bg-color: #E2EBFA;\n",
              "      --hover-fill-color: #174EA6;\n",
              "      --disabled-fill-color: #AAA;\n",
              "      --disabled-bg-color: #DDD;\n",
              "  }\n",
              "\n",
              "  [theme=dark] .colab-df-quickchart {\n",
              "      --bg-color: #3B4455;\n",
              "      --fill-color: #D2E3FC;\n",
              "      --hover-bg-color: #434B5C;\n",
              "      --hover-fill-color: #FFFFFF;\n",
              "      --disabled-bg-color: #3B4455;\n",
              "      --disabled-fill-color: #666;\n",
              "  }\n",
              "\n",
              "  .colab-df-quickchart {\n",
              "    background-color: var(--bg-color);\n",
              "    border: none;\n",
              "    border-radius: 50%;\n",
              "    cursor: pointer;\n",
              "    display: none;\n",
              "    fill: var(--fill-color);\n",
              "    height: 32px;\n",
              "    padding: 0;\n",
              "    width: 32px;\n",
              "  }\n",
              "\n",
              "  .colab-df-quickchart:hover {\n",
              "    background-color: var(--hover-bg-color);\n",
              "    box-shadow: 0 1px 2px rgba(60, 64, 67, 0.3), 0 1px 3px 1px rgba(60, 64, 67, 0.15);\n",
              "    fill: var(--button-hover-fill-color);\n",
              "  }\n",
              "\n",
              "  .colab-df-quickchart-complete:disabled,\n",
              "  .colab-df-quickchart-complete:disabled:hover {\n",
              "    background-color: var(--disabled-bg-color);\n",
              "    fill: var(--disabled-fill-color);\n",
              "    box-shadow: none;\n",
              "  }\n",
              "\n",
              "  .colab-df-spinner {\n",
              "    border: 2px solid var(--fill-color);\n",
              "    border-color: transparent;\n",
              "    border-bottom-color: var(--fill-color);\n",
              "    animation:\n",
              "      spin 1s steps(1) infinite;\n",
              "  }\n",
              "\n",
              "  @keyframes spin {\n",
              "    0% {\n",
              "      border-color: transparent;\n",
              "      border-bottom-color: var(--fill-color);\n",
              "      border-left-color: var(--fill-color);\n",
              "    }\n",
              "    20% {\n",
              "      border-color: transparent;\n",
              "      border-left-color: var(--fill-color);\n",
              "      border-top-color: var(--fill-color);\n",
              "    }\n",
              "    30% {\n",
              "      border-color: transparent;\n",
              "      border-left-color: var(--fill-color);\n",
              "      border-top-color: var(--fill-color);\n",
              "      border-right-color: var(--fill-color);\n",
              "    }\n",
              "    40% {\n",
              "      border-color: transparent;\n",
              "      border-right-color: var(--fill-color);\n",
              "      border-top-color: var(--fill-color);\n",
              "    }\n",
              "    60% {\n",
              "      border-color: transparent;\n",
              "      border-right-color: var(--fill-color);\n",
              "    }\n",
              "    80% {\n",
              "      border-color: transparent;\n",
              "      border-right-color: var(--fill-color);\n",
              "      border-bottom-color: var(--fill-color);\n",
              "    }\n",
              "    90% {\n",
              "      border-color: transparent;\n",
              "      border-bottom-color: var(--fill-color);\n",
              "    }\n",
              "  }\n",
              "</style>\n",
              "\n",
              "      <script>\n",
              "        async function quickchart(key) {\n",
              "          const quickchartButtonEl =\n",
              "            document.querySelector('#' + key + ' button');\n",
              "          quickchartButtonEl.disabled = true;  // To prevent multiple clicks.\n",
              "          quickchartButtonEl.classList.add('colab-df-spinner');\n",
              "          try {\n",
              "            const charts = await google.colab.kernel.invokeFunction(\n",
              "                'suggestCharts', [key], {});\n",
              "          } catch (error) {\n",
              "            console.error('Error during call to suggestCharts:', error);\n",
              "          }\n",
              "          quickchartButtonEl.classList.remove('colab-df-spinner');\n",
              "          quickchartButtonEl.classList.add('colab-df-quickchart-complete');\n",
              "        }\n",
              "        (() => {\n",
              "          let quickchartButtonEl =\n",
              "            document.querySelector('#df-b6bcf039-a23e-4293-b441-e7ec2d9d97d2 button');\n",
              "          quickchartButtonEl.style.display =\n",
              "            google.colab.kernel.accessAllowed ? 'block' : 'none';\n",
              "        })();\n",
              "      </script>\n",
              "    </div>\n",
              "\n",
              "    </div>\n",
              "  </div>\n"
            ],
            "application/vnd.google.colaboratory.intrinsic+json": {
              "type": "dataframe",
              "summary": "{\n  \"name\": \"display(emergency_departments[['Department', 'DepartmentID']])\",\n  \"rows\": 10,\n  \"fields\": [\n    {\n      \"column\": \"Department\",\n      \"properties\": {\n        \"dtype\": \"category\",\n        \"num_unique_values\": 2,\n        \"samples\": [\n          \"Emmergency\",\n          \"Emergency\"\n        ],\n        \"semantic_type\": \"\",\n        \"description\": \"\"\n      }\n    },\n    {\n      \"column\": \"DepartmentID\",\n      \"properties\": {\n        \"dtype\": \"category\",\n        \"num_unique_values\": 1,\n        \"samples\": [\n          \"D0001\"\n        ],\n        \"semantic_type\": \"\",\n        \"description\": \"\"\n      }\n    }\n  ]\n}"
            }
          },
          "metadata": {}
        }
      ]
    },
    {
      "cell_type": "markdown",
      "source": [
        "Since both \"Emmergency\" and \"Emergency\" have the same exact entry in the column `DepartmentID`, we can confirm that this is inconsistent data, which we have to change."
      ],
      "metadata": {
        "id": "jnoMoKfErAw7"
      },
      "id": "jnoMoKfErAw7"
    },
    {
      "cell_type": "code",
      "source": [
        "# Replace 'Emmergency' with 'Emergency' in the 'Department' column of the staff DataFrame\n",
        "staff['Department'] = staff['Department'].replace('Emmergency', 'Emergency')\n"
      ],
      "metadata": {
        "id": "dtMwXxL2rSUC"
      },
      "id": "dtMwXxL2rSUC",
      "execution_count": 79,
      "outputs": []
    },
    {
      "cell_type": "markdown",
      "source": [
        "Let us check."
      ],
      "metadata": {
        "id": "PL26xEflrjMm"
      },
      "id": "PL26xEflrjMm"
    },
    {
      "cell_type": "code",
      "source": [
        "# Group by Department and check if the number of unique DepartmentIDs is 1 for each group\n",
        "department_id_consistency = staff.groupby('Department')['DepartmentID'].nunique()\n",
        "\n",
        "print(\"Number of unique DepartmentIDs per Department:\")\n",
        "display(department_id_consistency)\n",
        "\n",
        "# Check if all departments have only one unique DepartmentID\n",
        "all_consistent = (department_id_consistency == 1).all()\n",
        "\n",
        "if all_consistent:\n",
        "    print(\"\\nDepartmentIDs are consistent for each Department name.\")\n",
        "else:\n",
        "    print(\"\\nInconsistency found: Some Departments have multiple DepartmentIDs.\")\n",
        "    # Optionally, display the departments with inconsistencies\n",
        "    inconsistent_departments = department_id_consistency[department_id_consistency > 1]\n",
        "    print(\"\\nDepartments with inconsistent DepartmentIDs:\")\n",
        "    display(inconsistent_departments)"
      ],
      "metadata": {
        "colab": {
          "base_uri": "https://localhost:8080/",
          "height": 483
        },
        "id": "06EpC4rPrSSE",
        "outputId": "82020044-caa8-400c-d435-0f93e733e7b6"
      },
      "id": "06EpC4rPrSSE",
      "execution_count": 82,
      "outputs": [
        {
          "output_type": "stream",
          "name": "stdout",
          "text": [
            "Number of unique DepartmentIDs per Department:\n"
          ]
        },
        {
          "output_type": "display_data",
          "data": {
            "text/plain": [
              "Department\n",
              "Cardiology                   1\n",
              "Emergency                    1\n",
              "Intensive Care Unit          1\n",
              "Neurology                    1\n",
              "Obstetrics and Gynecology    1\n",
              "Oncology                     1\n",
              "Orthopedics                  1\n",
              "Pediatrics                   1\n",
              "Radiology                    1\n",
              "Surgery                      1\n",
              "Name: DepartmentID, dtype: int64"
            ],
            "text/html": [
              "<div>\n",
              "<style scoped>\n",
              "    .dataframe tbody tr th:only-of-type {\n",
              "        vertical-align: middle;\n",
              "    }\n",
              "\n",
              "    .dataframe tbody tr th {\n",
              "        vertical-align: top;\n",
              "    }\n",
              "\n",
              "    .dataframe thead th {\n",
              "        text-align: right;\n",
              "    }\n",
              "</style>\n",
              "<table border=\"1\" class=\"dataframe\">\n",
              "  <thead>\n",
              "    <tr style=\"text-align: right;\">\n",
              "      <th></th>\n",
              "      <th>DepartmentID</th>\n",
              "    </tr>\n",
              "    <tr>\n",
              "      <th>Department</th>\n",
              "      <th></th>\n",
              "    </tr>\n",
              "  </thead>\n",
              "  <tbody>\n",
              "    <tr>\n",
              "      <th>Cardiology</th>\n",
              "      <td>1</td>\n",
              "    </tr>\n",
              "    <tr>\n",
              "      <th>Emergency</th>\n",
              "      <td>1</td>\n",
              "    </tr>\n",
              "    <tr>\n",
              "      <th>Intensive Care Unit</th>\n",
              "      <td>1</td>\n",
              "    </tr>\n",
              "    <tr>\n",
              "      <th>Neurology</th>\n",
              "      <td>1</td>\n",
              "    </tr>\n",
              "    <tr>\n",
              "      <th>Obstetrics and Gynecology</th>\n",
              "      <td>1</td>\n",
              "    </tr>\n",
              "    <tr>\n",
              "      <th>Oncology</th>\n",
              "      <td>1</td>\n",
              "    </tr>\n",
              "    <tr>\n",
              "      <th>Orthopedics</th>\n",
              "      <td>1</td>\n",
              "    </tr>\n",
              "    <tr>\n",
              "      <th>Pediatrics</th>\n",
              "      <td>1</td>\n",
              "    </tr>\n",
              "    <tr>\n",
              "      <th>Radiology</th>\n",
              "      <td>1</td>\n",
              "    </tr>\n",
              "    <tr>\n",
              "      <th>Surgery</th>\n",
              "      <td>1</td>\n",
              "    </tr>\n",
              "  </tbody>\n",
              "</table>\n",
              "</div><br><label><b>dtype:</b> int64</label>"
            ]
          },
          "metadata": {}
        },
        {
          "output_type": "stream",
          "name": "stdout",
          "text": [
            "\n",
            "DepartmentIDs are consistent for each Department name.\n"
          ]
        }
      ]
    },
    {
      "cell_type": "markdown",
      "source": [
        "## Checking matches against facility dataset"
      ],
      "metadata": {
        "id": "_DNlzUmJTgGH"
      },
      "id": "_DNlzUmJTgGH"
    },
    {
      "cell_type": "code",
      "source": [
        "# --- Department Consistency Check ---\n",
        "print(\"\\nDepartment Consistency Check (Facility vs Staff)\")\n",
        "\n",
        "# Get unique department names from both dataframes\n",
        "unique_departments_facility = facility['Department'].unique()\n",
        "unique_departments_staff = staff['Department'].unique()\n",
        "\n",
        "# Check if the sets of unique department names are the same\n",
        "departments_match = set(unique_departments_facility) == set(unique_departments_staff)\n",
        "\n",
        "print(f\"Do the unique department names in facility and staff match? {departments_match}\")\n",
        "\n",
        "if not departments_match:\n",
        "    # Find departments only in facility\n",
        "    departments_only_in_facility = set(unique_departments_facility) - set(unique_departments_staff)\n",
        "    if departments_only_in_facility:\n",
        "        print(\"\\nDepartments found only in facility:\")\n",
        "        print(departments_only_in_facility)\n",
        "\n",
        "    # Find departments only in staff\n",
        "    departments_only_in_staff = set(unique_departments_staff) - set(unique_departments_facility)\n",
        "    if departments_only_in_staff:\n",
        "        print(\"\\nDepartments found only in staff:\")\n",
        "        print(departments_only_in_staff)"
      ],
      "metadata": {
        "colab": {
          "base_uri": "https://localhost:8080/"
        },
        "id": "QAJO5THDUTse",
        "outputId": "86f00bc8-6db9-4446-892e-8e3d975f17be"
      },
      "id": "QAJO5THDUTse",
      "execution_count": 81,
      "outputs": [
        {
          "output_type": "stream",
          "name": "stdout",
          "text": [
            "\n",
            "=== Department Consistency Check (Facility vs Staff) ===\n",
            "Do the unique department names in facility and staff match? True\n"
          ]
        }
      ]
    },
    {
      "cell_type": "markdown",
      "source": [
        "# Importing cleaned csv\n"
      ],
      "metadata": {
        "id": "4zs7CCDvQjgi"
      },
      "id": "4zs7CCDvQjgi"
    },
    {
      "cell_type": "markdown",
      "source": [
        "* **DoctorID** → Use `staff` dataset\n",
        "* **PatientID** → Can use either `appointment` or `patient` datasets\n",
        "* **BuildingID** → Use `facility` dataset\n",
        "* **RoomID** → Use `facility` dataset"
      ],
      "metadata": {
        "id": "h3PD3NFSwr-f"
      },
      "id": "h3PD3NFSwr-f"
    },
    {
      "cell_type": "markdown",
      "source": [
        "For `Room` dataset, we need to merge two dataset. So, we will check first."
      ],
      "metadata": {
        "id": "KNQgCsi60m6A"
      },
      "id": "KNQgCsi60m6A"
    },
    {
      "cell_type": "code",
      "source": [
        "# Get unique values from both columns\n",
        "facility_departments = set(facility['Department'].unique())\n",
        "staff_departments = set(staff['Department'].unique())\n",
        "\n",
        "# Check if they're the same\n",
        "are_same = facility_departments == staff_departments\n",
        "print(f\"Are the unique values the same? {are_same}\")"
      ],
      "metadata": {
        "id": "Nb6JZBJI0mTs",
        "outputId": "03a935fd-2e36-45d5-9e1f-0fb3889898db",
        "colab": {
          "base_uri": "https://localhost:8080/"
        }
      },
      "id": "Nb6JZBJI0mTs",
      "execution_count": 105,
      "outputs": [
        {
          "output_type": "stream",
          "name": "stdout",
          "text": [
            "Are the unique values the same? True\n"
          ]
        }
      ]
    },
    {
      "cell_type": "code",
      "source": [
        "# Create department mapping from staff dataset\n",
        "dept_mapping = staff[['Department', 'DepartmentID']].drop_duplicates()\n",
        "dept_mapping = dict(zip(dept_mapping['Department'], dept_mapping['DepartmentID']))\n",
        "\n",
        "# Add DepartmentID to facility dataset\n",
        "facility['DepartmentID'] = facility['Department'].map(dept_mapping)\n",
        "\n",
        "# Create room_cleaned dataset\n",
        "room_cleaned = facility[['BuildingID', 'RoomID', 'Purpose', 'DepartmentID']].copy()\n"
      ],
      "metadata": {
        "id": "KGJ6h4GODEXa"
      },
      "id": "KGJ6h4GODEXa",
      "execution_count": null,
      "outputs": []
    },
    {
      "cell_type": "code",
      "source": [
        "# Rename columns to match SQL table structure\n",
        "appointment_cleaned = appointment.rename(columns={\n",
        "   'ScheduledEnd': 'ScheduledEND',\n",
        "   'Arrival': 'ArrivalTime',\n",
        "   'ActualStart': 'StartTime',\n",
        "   'ActualEnd': 'FinishTime',\n",
        "   'Weight(kg)': 'Weight',\n",
        "   'Temperature(celcius)': 'Temperature',\n",
        "   'Comment': 'DoctorComment'\n",
        "}).copy()\n",
        "\n",
        "# Select columns in the correct order for the SQL table\n",
        "appointment_cleaned = appointment_cleaned[['PatientID', 'DoctorID', 'BuildingID', 'RoomID', 'ScheduledStart', 'ScheduledEND', 'ArrivalTime', 'StartTime', 'FinishTime', 'Weight', 'Temperature', 'DoctorComment']]\n",
        "\n",
        "print(\"Appointment dataset cleaned and ready\")"
      ],
      "metadata": {
        "id": "aqJTnWGXD2Es",
        "outputId": "b3ef29a5-36b6-4c47-971f-c8475000f3c6",
        "colab": {
          "base_uri": "https://localhost:8080/"
        }
      },
      "id": "aqJTnWGXD2Es",
      "execution_count": null,
      "outputs": [
        {
          "output_type": "stream",
          "name": "stdout",
          "text": [
            "Appointment dataset cleaned and ready\n"
          ]
        }
      ]
    },
    {
      "cell_type": "code",
      "source": [
        "# Patient Table\n",
        "patient.rename(columns={\n",
        "    'Name': 'PatientName',\n",
        "    'email': 'Email'\n",
        "}, inplace=True)\n",
        "\n",
        "# Convert Contact to string to match VARCHAR(10) in SQL\n",
        "patient['Contact'] = patient['Contact'].astype(str)\n",
        "\n",
        "# Doctor Table\n",
        "# Rename Name to DoctorName\n",
        "doctor = staff.copy()\n",
        "doctor.rename(columns={'Name': 'DoctorName'}, inplace=True)\n",
        "\n",
        "# Convert Contact to string to match VARCHAR(10)\n",
        "doctor['Contact'] = doctor['Contact'].astype(str)\n",
        "\n",
        "# Drop the extra Department column since it's not in the SQL table\n",
        "if 'Department' in doctor.columns:\n",
        "  doctor.drop(columns=['Department'], inplace=True)\n",
        "\n",
        "if 'DepartmentName' in doctor.columns:\n",
        "  doctor.drop(columns=['DepartmentName'], inplace=True)\n",
        "\n",
        "\n",
        "# Building Table\n",
        "# Assuming your DataFrame is named `building`\n",
        "\n",
        "# Rename typo column 'BuldingID' to 'BuildingID'\n",
        "facility.rename(columns={'BuldingID': 'BuildingID'}, inplace=True)\n",
        "\n",
        "# Keep only required columns for SQL table\n",
        "building = facility[['BuildingID', 'BuildingName']]\n",
        "building = building.drop_duplicates()\n",
        "\n",
        "# Department Table\n",
        "# Rename 'Department' column to 'DepartmentName'\n",
        "staff.rename(columns={'Department': 'DepartmentName'}, inplace=True)\n",
        "\n",
        "# Keep only DepartmentID and DepartmentName\n",
        "department = staff[['DepartmentID', 'DepartmentName']]\n",
        "department = department.drop_duplicates()"
      ],
      "metadata": {
        "id": "5MdD3x0qTzn2"
      },
      "id": "5MdD3x0qTzn2",
      "execution_count": null,
      "outputs": []
    },
    {
      "cell_type": "markdown",
      "source": [
        "Downloading files all dataset is cleaned"
      ],
      "metadata": {
        "id": "SE8IizFPYZel"
      },
      "id": "SE8IizFPYZel"
    },
    {
      "cell_type": "code",
      "source": [
        "# Define path to save the new CSV (Downloads folder)\n",
        "# download_path = os.path.expanduser('~/Downloads/patient.csv')\n",
        "\n",
        "# file path\n",
        "patient_file = \"cleaned_patient.csv\"\n",
        "doctor_file = \"cleaned_doctor.csv\"\n",
        "building_file = \"cleaned_building.csv\"\n",
        "department_file = \"cleaned_department.csv\"\n",
        "room_file = \"cleaned_room.csv\"\n",
        "appointment_file = \"cleaned_appointment.csv\"\n",
        "\n",
        "# Save the updated DataFrame to CSV without the index column\n",
        "patient.to_csv(patient_file, index=False)\n",
        "doctor.to_csv(doctor_file, index=False)\n",
        "building.to_csv(building_file, index=False)\n",
        "department.to_csv(department_file, index=False)\n",
        "room_cleaned.to_csv(room_file, index=False)\n",
        "appointment_cleaned.to_csv(appointment_file, index=False)\n",
        "\n",
        "print(f\"Modified patient.csv saved to: \\n-{patient_file} \\n-{doctor_file} \\n-{building_file} \\n-{department_file} \\n-{room_file} \\n-{appointment_file}\")\n",
        "try:\n",
        "    from google.colab import files\n",
        "    print(\"\\nClick the links below to download the files (Google Colab):\")\n",
        "    # These might not work if the files are very large or in a complex directory structure\n",
        "    # You might need to manually download from the file explorer in Colab\n",
        "    files.download(patient_file)\n",
        "    files.download(doctor_file)\n",
        "    files.download(building_file)\n",
        "    files.download(department_file)\n",
        "    files.download(room_file)\n",
        "    files.download(appointment_file)\n",
        "except ImportError:\n",
        "    print(\"\\nRunning in a local environment (likely VS Code). Files saved to the current directory.\")\n",
        "    print(\"You can find the files in your file explorer.\")"
      ],
      "metadata": {
        "colab": {
          "base_uri": "https://localhost:8080/",
          "height": 178
        },
        "id": "TqtLMWmXYnt4",
        "outputId": "d3f8288b-6a09-4697-8edb-34e18620ef70"
      },
      "id": "TqtLMWmXYnt4",
      "execution_count": null,
      "outputs": [
        {
          "output_type": "stream",
          "name": "stdout",
          "text": [
            "Modified patient.csv saved to: \n",
            "-cleaned_patient.csv \n",
            "-cleaned_doctor.csv \n",
            "-cleaned_building.csv \n",
            "-cleaned_department.csv \n",
            "-cleaned_room.csv \n",
            "-cleaned_appointment.csv\n",
            "\n",
            "Click the links below to download the files (Google Colab):\n"
          ]
        },
        {
          "output_type": "display_data",
          "data": {
            "text/plain": [
              "<IPython.core.display.Javascript object>"
            ],
            "application/javascript": [
              "\n",
              "    async function download(id, filename, size) {\n",
              "      if (!google.colab.kernel.accessAllowed) {\n",
              "        return;\n",
              "      }\n",
              "      const div = document.createElement('div');\n",
              "      const label = document.createElement('label');\n",
              "      label.textContent = `Downloading \"${filename}\": `;\n",
              "      div.appendChild(label);\n",
              "      const progress = document.createElement('progress');\n",
              "      progress.max = size;\n",
              "      div.appendChild(progress);\n",
              "      document.body.appendChild(div);\n",
              "\n",
              "      const buffers = [];\n",
              "      let downloaded = 0;\n",
              "\n",
              "      const channel = await google.colab.kernel.comms.open(id);\n",
              "      // Send a message to notify the kernel that we're ready.\n",
              "      channel.send({})\n",
              "\n",
              "      for await (const message of channel.messages) {\n",
              "        // Send a message to notify the kernel that we're ready.\n",
              "        channel.send({})\n",
              "        if (message.buffers) {\n",
              "          for (const buffer of message.buffers) {\n",
              "            buffers.push(buffer);\n",
              "            downloaded += buffer.byteLength;\n",
              "            progress.value = downloaded;\n",
              "          }\n",
              "        }\n",
              "      }\n",
              "      const blob = new Blob(buffers, {type: 'application/binary'});\n",
              "      const a = document.createElement('a');\n",
              "      a.href = window.URL.createObjectURL(blob);\n",
              "      a.download = filename;\n",
              "      div.appendChild(a);\n",
              "      a.click();\n",
              "      div.remove();\n",
              "    }\n",
              "  "
            ]
          },
          "metadata": {}
        },
        {
          "output_type": "display_data",
          "data": {
            "text/plain": [
              "<IPython.core.display.Javascript object>"
            ],
            "application/javascript": [
              "download(\"download_8c5bd4c7-bf06-46a4-9de8-53c22ff62bcc\", \"cleaned_patient.csv\", 116089)"
            ]
          },
          "metadata": {}
        },
        {
          "output_type": "display_data",
          "data": {
            "text/plain": [
              "<IPython.core.display.Javascript object>"
            ],
            "application/javascript": [
              "\n",
              "    async function download(id, filename, size) {\n",
              "      if (!google.colab.kernel.accessAllowed) {\n",
              "        return;\n",
              "      }\n",
              "      const div = document.createElement('div');\n",
              "      const label = document.createElement('label');\n",
              "      label.textContent = `Downloading \"${filename}\": `;\n",
              "      div.appendChild(label);\n",
              "      const progress = document.createElement('progress');\n",
              "      progress.max = size;\n",
              "      div.appendChild(progress);\n",
              "      document.body.appendChild(div);\n",
              "\n",
              "      const buffers = [];\n",
              "      let downloaded = 0;\n",
              "\n",
              "      const channel = await google.colab.kernel.comms.open(id);\n",
              "      // Send a message to notify the kernel that we're ready.\n",
              "      channel.send({})\n",
              "\n",
              "      for await (const message of channel.messages) {\n",
              "        // Send a message to notify the kernel that we're ready.\n",
              "        channel.send({})\n",
              "        if (message.buffers) {\n",
              "          for (const buffer of message.buffers) {\n",
              "            buffers.push(buffer);\n",
              "            downloaded += buffer.byteLength;\n",
              "            progress.value = downloaded;\n",
              "          }\n",
              "        }\n",
              "      }\n",
              "      const blob = new Blob(buffers, {type: 'application/binary'});\n",
              "      const a = document.createElement('a');\n",
              "      a.href = window.URL.createObjectURL(blob);\n",
              "      a.download = filename;\n",
              "      div.appendChild(a);\n",
              "      a.click();\n",
              "      div.remove();\n",
              "    }\n",
              "  "
            ]
          },
          "metadata": {}
        },
        {
          "output_type": "display_data",
          "data": {
            "text/plain": [
              "<IPython.core.display.Javascript object>"
            ],
            "application/javascript": [
              "download(\"download_da30e037-e4b9-444f-bbcf-4b4241688036\", \"cleaned_doctor.csv\", 6319)"
            ]
          },
          "metadata": {}
        },
        {
          "output_type": "display_data",
          "data": {
            "text/plain": [
              "<IPython.core.display.Javascript object>"
            ],
            "application/javascript": [
              "\n",
              "    async function download(id, filename, size) {\n",
              "      if (!google.colab.kernel.accessAllowed) {\n",
              "        return;\n",
              "      }\n",
              "      const div = document.createElement('div');\n",
              "      const label = document.createElement('label');\n",
              "      label.textContent = `Downloading \"${filename}\": `;\n",
              "      div.appendChild(label);\n",
              "      const progress = document.createElement('progress');\n",
              "      progress.max = size;\n",
              "      div.appendChild(progress);\n",
              "      document.body.appendChild(div);\n",
              "\n",
              "      const buffers = [];\n",
              "      let downloaded = 0;\n",
              "\n",
              "      const channel = await google.colab.kernel.comms.open(id);\n",
              "      // Send a message to notify the kernel that we're ready.\n",
              "      channel.send({})\n",
              "\n",
              "      for await (const message of channel.messages) {\n",
              "        // Send a message to notify the kernel that we're ready.\n",
              "        channel.send({})\n",
              "        if (message.buffers) {\n",
              "          for (const buffer of message.buffers) {\n",
              "            buffers.push(buffer);\n",
              "            downloaded += buffer.byteLength;\n",
              "            progress.value = downloaded;\n",
              "          }\n",
              "        }\n",
              "      }\n",
              "      const blob = new Blob(buffers, {type: 'application/binary'});\n",
              "      const a = document.createElement('a');\n",
              "      a.href = window.URL.createObjectURL(blob);\n",
              "      a.download = filename;\n",
              "      div.appendChild(a);\n",
              "      a.click();\n",
              "      div.remove();\n",
              "    }\n",
              "  "
            ]
          },
          "metadata": {}
        },
        {
          "output_type": "display_data",
          "data": {
            "text/plain": [
              "<IPython.core.display.Javascript object>"
            ],
            "application/javascript": [
              "download(\"download_e5d392e4-02de-4076-bfd3-aab6261c0f3a\", \"cleaned_building.csv\", 96)"
            ]
          },
          "metadata": {}
        },
        {
          "output_type": "display_data",
          "data": {
            "text/plain": [
              "<IPython.core.display.Javascript object>"
            ],
            "application/javascript": [
              "\n",
              "    async function download(id, filename, size) {\n",
              "      if (!google.colab.kernel.accessAllowed) {\n",
              "        return;\n",
              "      }\n",
              "      const div = document.createElement('div');\n",
              "      const label = document.createElement('label');\n",
              "      label.textContent = `Downloading \"${filename}\": `;\n",
              "      div.appendChild(label);\n",
              "      const progress = document.createElement('progress');\n",
              "      progress.max = size;\n",
              "      div.appendChild(progress);\n",
              "      document.body.appendChild(div);\n",
              "\n",
              "      const buffers = [];\n",
              "      let downloaded = 0;\n",
              "\n",
              "      const channel = await google.colab.kernel.comms.open(id);\n",
              "      // Send a message to notify the kernel that we're ready.\n",
              "      channel.send({})\n",
              "\n",
              "      for await (const message of channel.messages) {\n",
              "        // Send a message to notify the kernel that we're ready.\n",
              "        channel.send({})\n",
              "        if (message.buffers) {\n",
              "          for (const buffer of message.buffers) {\n",
              "            buffers.push(buffer);\n",
              "            downloaded += buffer.byteLength;\n",
              "            progress.value = downloaded;\n",
              "          }\n",
              "        }\n",
              "      }\n",
              "      const blob = new Blob(buffers, {type: 'application/binary'});\n",
              "      const a = document.createElement('a');\n",
              "      a.href = window.URL.createObjectURL(blob);\n",
              "      a.download = filename;\n",
              "      div.appendChild(a);\n",
              "      a.click();\n",
              "      div.remove();\n",
              "    }\n",
              "  "
            ]
          },
          "metadata": {}
        },
        {
          "output_type": "display_data",
          "data": {
            "text/plain": [
              "<IPython.core.display.Javascript object>"
            ],
            "application/javascript": [
              "download(\"download_7cd459f9-be68-488f-9ef6-cbb00c9912df\", \"cleaned_department.csv\", 215)"
            ]
          },
          "metadata": {}
        },
        {
          "output_type": "display_data",
          "data": {
            "text/plain": [
              "<IPython.core.display.Javascript object>"
            ],
            "application/javascript": [
              "\n",
              "    async function download(id, filename, size) {\n",
              "      if (!google.colab.kernel.accessAllowed) {\n",
              "        return;\n",
              "      }\n",
              "      const div = document.createElement('div');\n",
              "      const label = document.createElement('label');\n",
              "      label.textContent = `Downloading \"${filename}\": `;\n",
              "      div.appendChild(label);\n",
              "      const progress = document.createElement('progress');\n",
              "      progress.max = size;\n",
              "      div.appendChild(progress);\n",
              "      document.body.appendChild(div);\n",
              "\n",
              "      const buffers = [];\n",
              "      let downloaded = 0;\n",
              "\n",
              "      const channel = await google.colab.kernel.comms.open(id);\n",
              "      // Send a message to notify the kernel that we're ready.\n",
              "      channel.send({})\n",
              "\n",
              "      for await (const message of channel.messages) {\n",
              "        // Send a message to notify the kernel that we're ready.\n",
              "        channel.send({})\n",
              "        if (message.buffers) {\n",
              "          for (const buffer of message.buffers) {\n",
              "            buffers.push(buffer);\n",
              "            downloaded += buffer.byteLength;\n",
              "            progress.value = downloaded;\n",
              "          }\n",
              "        }\n",
              "      }\n",
              "      const blob = new Blob(buffers, {type: 'application/binary'});\n",
              "      const a = document.createElement('a');\n",
              "      a.href = window.URL.createObjectURL(blob);\n",
              "      a.download = filename;\n",
              "      div.appendChild(a);\n",
              "      a.click();\n",
              "      div.remove();\n",
              "    }\n",
              "  "
            ]
          },
          "metadata": {}
        },
        {
          "output_type": "display_data",
          "data": {
            "text/plain": [
              "<IPython.core.display.Javascript object>"
            ],
            "application/javascript": [
              "download(\"download_48c53e5e-bdbb-4207-88e1-49ef94a14919\", \"cleaned_room.csv\", 1655)"
            ]
          },
          "metadata": {}
        },
        {
          "output_type": "display_data",
          "data": {
            "text/plain": [
              "<IPython.core.display.Javascript object>"
            ],
            "application/javascript": [
              "\n",
              "    async function download(id, filename, size) {\n",
              "      if (!google.colab.kernel.accessAllowed) {\n",
              "        return;\n",
              "      }\n",
              "      const div = document.createElement('div');\n",
              "      const label = document.createElement('label');\n",
              "      label.textContent = `Downloading \"${filename}\": `;\n",
              "      div.appendChild(label);\n",
              "      const progress = document.createElement('progress');\n",
              "      progress.max = size;\n",
              "      div.appendChild(progress);\n",
              "      document.body.appendChild(div);\n",
              "\n",
              "      const buffers = [];\n",
              "      let downloaded = 0;\n",
              "\n",
              "      const channel = await google.colab.kernel.comms.open(id);\n",
              "      // Send a message to notify the kernel that we're ready.\n",
              "      channel.send({})\n",
              "\n",
              "      for await (const message of channel.messages) {\n",
              "        // Send a message to notify the kernel that we're ready.\n",
              "        channel.send({})\n",
              "        if (message.buffers) {\n",
              "          for (const buffer of message.buffers) {\n",
              "            buffers.push(buffer);\n",
              "            downloaded += buffer.byteLength;\n",
              "            progress.value = downloaded;\n",
              "          }\n",
              "        }\n",
              "      }\n",
              "      const blob = new Blob(buffers, {type: 'application/binary'});\n",
              "      const a = document.createElement('a');\n",
              "      a.href = window.URL.createObjectURL(blob);\n",
              "      a.download = filename;\n",
              "      div.appendChild(a);\n",
              "      a.click();\n",
              "      div.remove();\n",
              "    }\n",
              "  "
            ]
          },
          "metadata": {}
        },
        {
          "output_type": "display_data",
          "data": {
            "text/plain": [
              "<IPython.core.display.Javascript object>"
            ],
            "application/javascript": [
              "download(\"download_b7698b62-1c86-47eb-bb92-df4b714ec84a\", \"cleaned_appointment.csv\", 15906689)"
            ]
          },
          "metadata": {}
        }
      ]
    }
  ],
  "metadata": {
    "kernelspec": {
      "display_name": "Python 3",
      "language": "python",
      "name": "python3"
    },
    "language_info": {
      "codemirror_mode": {
        "name": "ipython",
        "version": 3
      },
      "file_extension": ".py",
      "mimetype": "text/x-python",
      "name": "python",
      "nbconvert_exporter": "python",
      "pygments_lexer": "ipython3",
      "version": "3.12.10"
    },
    "colab": {
      "provenance": [],
      "toc_visible": true,
      "include_colab_link": true
    }
  },
  "nbformat": 4,
  "nbformat_minor": 5
}